{
 "metadata": {
  "name": "",
  "signature": "sha256:1b6a098072c6f8fccd0ff456f6b97a40bb87114996aa4d3062fea2b8a0ad63c3"
 },
 "nbformat": 3,
 "nbformat_minor": 0,
 "worksheets": [
  {
   "cells": [
    {
     "cell_type": "code",
     "collapsed": false,
     "input": [
      "!cat a.json"
     ],
     "language": "python",
     "metadata": {},
     "outputs": [
      {
       "output_type": "stream",
       "stream": "stdout",
       "text": [
        "[[[{\"sc_lable_name\": \"\", \"sc_num_plays\": 1311, \"sc_description\": \"\", \"sc_track_id\": 8656672, \"sc_user_url\": \"http://soundcloud.com/axelbartsch\", \"sc_genre\": \"\", \"sc_embeddable_by\": \"all\"},\r\n",
        "{\"sc_lable_name\": \"\", \"sc_num_plays\": 1650, \"sc_description\": \"Man mu\\u00df sich vor dem Neide h\\u00fcten \\nEr ist ein schlimmes Perspectiv \\nDas Fremde scheint dir gro\\u00df und herrlich,\\nDas Eig'ne winzig klein und schief.\\nUnd von dem hei\\u00dfen gierigen Schauen\\nSchw\\u00e4cht sich dein Auge mit der Zeit:\\nDein sch\\u00f6nstes Gl\\u00fcck zerrinnt im Nebel\\nGeh\\u00e4ssiger Unzufriedenheit.\\nSpread Love !\\n\\nVinyl only.\", \"sc_track_id\": 141605921, \"sc_user_url\": \"http://soundcloud.com/ollider-twist\", \"sc_genre\": \"menschen\", \"sc_embeddable_by\": \"all\"},\r\n",
        "{\"sc_lable_name\": \"\", \"sc_num_plays\": 201, \"sc_description\": \" sylvie aka carlisle mcqueen live in 05 playing actual vinyl records! it's a little messy, but jacking as hell.  kerri chandler, nick chacona, dotbleep, fingerlickin, morris audio, soma, hardkiss, cybotron, plastique de r\\u00eave, solid groove and a bunch of other jams-- totally can't remember all the tracks and artists.  if you can name that tune, get at me! \\r\\n\", \"sc_track_id\": 832325, \"sc_user_url\": \"http://soundcloud.com/sylvie-foret\", \"sc_genre\": \"\", \"sc_embeddable_by\": \"all\"},\r\n",
        "{\"sc_lable_name\": \"\", \"sc_num_plays\": 1648, \"sc_description\": \"1) Los Hombres - Let It All Hang Out\\r\\n2) Spanky Wilson - Sunshine Of Your Love\\r\\n3) The Phenomenal Handclap Band - You'll Disappear \\r\\n4) Gwen McCrae - All This Love That I'm Giving\\r\\n5) Family Tree - Family Tree\\r\\n6) Teena Marie - Behind The Groove\\r\\n7) Curtis Mayfield - Future Shock\\r\\n8) Margaret Singana - Why Did You Do It\\r\\n9) George McCrae - I Get Lifted\\r\\n10) Jean-Jacques Perrey - E.V.A.\\r\\n11) Grandmaster Flash - The Message\\r\\n12) King Biscuit Time - I Walk the Earth\\r\\n13) Jimmy Spicer - Adventures Of Super Rhymes\\r\\n14) My Morning Jacket - Holdin On to Black Metal\\r\\n15) Skeewiff - Dave Allen Theme\\r\\n16) Act 1 - Tom The Peeper\\r\\n17) The Fatback Band - Wicky Wacky\\r\\n18) Joubert Singers - Stand On the Word (Larry Levan Mix)\\r\\n19) Chris Montez - The More I See You\\r\\n\", \"sc_track_id\": 30498623, \"sc_user_url\": \"http://soundcloud.com/dj-danny-russell\", \"sc_genre\": \"Electro Funk\", \"sc_embeddable_by\": \"all\"},\r\n",
        "{\"sc_lable_name\": \"\", \"sc_num_plays\": 491, \"sc_description\": \"(Etichetta Nera) Follie Digitali V.A.\", \"sc_track_id\": 12308392, \"sc_user_url\": \"http://soundcloud.com/luca-albano\", \"sc_genre\": \"House Techno Minimal\", \"sc_embeddable_by\": \"all\"}]"
       ]
      }
     ],
     "prompt_number": 7
    },
    {
     "cell_type": "code",
     "collapsed": false,
     "input": [
      "!python -m json.tool a.json"
     ],
     "language": "python",
     "metadata": {},
     "outputs": [
      {
       "output_type": "stream",
       "stream": "stdout",
       "text": [
        "Expecting object: line 5 column 242 (char 2544)\r\n"
       ]
      }
     ],
     "prompt_number": 6
    },
    {
     "cell_type": "code",
     "collapsed": false,
     "input": [
      "%%writefile sc/items.py\n",
      "\n",
      "import scrapy\n",
      "\n",
      "class Track(scrapy.Item):\n",
      "    sc_track_id = scrapy.Field()\n",
      "    sc_track_url = scrapy.Field()\n",
      "    sc_name = scrapy.Field()\n",
      "    sc_user_url = scrapy.Field()\n",
      "    sc_num_plays = scrapy.Field()\n",
      "    sc_description = scrapy.Field()\n",
      "    sc_genre = scrapy.Field()\n",
      "    sc_embeddable_by = scrapy.Field()\n",
      "    sc_streamable = scrapy.Field()\n",
      "    sc_license = scrapy.Field()\n",
      "    sc_lable_name = scrapy.Field()\n",
      "    sc_last_modiefied = scrapy.Field()\n",
      "\n",
      "class TrackCollection(scrapy.Item):\n",
      "    sc_user_url = scrapy.Field()\n",
      "    tracks = scrapy.Field()"
     ],
     "language": "python",
     "metadata": {},
     "outputs": [
      {
       "output_type": "stream",
       "stream": "stdout",
       "text": [
        "Overwriting sc/items.py\n"
       ]
      }
     ],
     "prompt_number": 21
    },
    {
     "cell_type": "code",
     "collapsed": false,
     "input": [
      "%%writefile sc/spiders/track_spider.py\n",
      "from sc.items import Track, TrackCollection\n",
      "from collections import defaultdict\n",
      "from scrapy.contrib.spiders import CrawlSpider, Rule\n",
      "import urllib\n",
      "import scrapy\n",
      "import json\n",
      "\n",
      "class TrackSpider(CrawlSpider):\n",
      "    name = 'track_spider'\n",
      "    allowed_domains = ['api.soundcloud.com']\n",
      "\n",
      "    def __init__(self):\n",
      "        with open('sc_cl_id.txt', 'r') as f:\n",
      "            SC_CLIENT_ID = f.read().rstrip()\n",
      "            sc_client_id = urllib.urlencode({'client_id': SC_CLIENT_ID})\n",
      "        TRACKS_URL = 'http://api.soundcloud.com/users/%s/tracks.json?' + sc_client_id\n",
      "        \n",
      "        SC_ID = 2\n",
      "        user_names = self.get_users_without_tracks(SC_ID)\n",
      "               \n",
      "        self.start_urls = [(TRACKS_URL % user) for user in user_names]\n",
      "\n",
      "    def parse(self, response):\n",
      "        tracks_response = json.loads(response.body)\n",
      "        if tracks_response is not None and len(tracks_response) > 0:\n",
      "\n",
      "            tracks_item = TrackCollection()\n",
      "            tracks_item['sc_user_url'] = tracks_response[0]['user']['permalink_url']\n",
      "            tracks_item['tracks'] = []\n",
      "\n",
      "            for track_dict in tracks_response:\n",
      "\n",
      "                track_dict = defaultdict(lambda: None, track_dict) # some track miss fields\n",
      "                track = Track()\n",
      "                track['sc_user_url'] = track_dict['user']['permalink_url']\n",
      "                track['sc_track_url'] = track_dict['permalink_url']\n",
      "                track['sc_name'] = track_dict['title']\n",
      "                track['sc_track_id'] = track_dict['id']\n",
      "                track['sc_num_plays'] = track_dict['playback_count']\n",
      "                track['sc_description'] = track_dict['description']\n",
      "                track['sc_genre'] = track_dict['genre']\n",
      "                track['sc_embeddable_by'] = track_dict['embeddable_by']\n",
      "                track['sc_streamable'] = track_dict['streamable']\n",
      "                track['sc_license'] = track_dict['license']\n",
      "                track['sc_lable_name'] = track_dict['label_name']\n",
      "\n",
      "                tracks_item['tracks'].append(track)\n",
      "\n",
      "            yield tracks_item\n",
      "\n",
      "            \n",
      "    def get_users_without_tracks(self, tp_id):\n",
      "                \n",
      "        def _extract_username(sc_url):\n",
      "            return sc_url.split('/')[-1]\n",
      "        \n",
      "        def _tp_url(pages_df):\n",
      "\n",
      "                if len(pages_df) > 0 and 'third_party_id' in pages_df:\n",
      "                    try:\n",
      "                        url = list(pages_df.query('third_party_id == %s' % tp_id)['url'])[0]\n",
      "\n",
      "                    except IndexError, KeyError:\n",
      "                        url = False\n",
      "\n",
      "                else:\n",
      "                    url = False\n",
      "\n",
      "                return url\n",
      "        \n",
      "        def _check_for_samples(artist_df_in):\n",
      "    \n",
      "            # we copy so our changes dont persist\n",
      "            artist_df = artist_df_in.copy()        \n",
      "\n",
      "            if len(artist_df) > 0:\n",
      "                pages = artist_df['pages']\n",
      "                artist_df['tp_url'] = pages.apply(_tp_url)\n",
      "                artist_df['has_tp'] = artist_df['tp_url'].apply(lambda x: not x == False)\n",
      "\n",
      "                samples = artist_df['samples']\n",
      "                artist_df['sample_url'] = samples.apply(_tp_url)\n",
      "                artist_df['has_sample'] = artist_df['sample_url'].apply(lambda x: not x == False)\n",
      "\n",
      "\n",
      "                artists_missing_sample = artist_df[artist_df['has_tp'] & ~(artist_df['has_sample'])]\n",
      "\n",
      "                return artists_missing_sample\n",
      "            \n",
      "        from hinterteil import Hinterteil\n",
      "        db = Hinterteil('http://localhost:5000/api/')\n",
      "        artists_df = db.get_df('artist')\n",
      "        \n",
      "        sc_urls_no_samples = list(_check_for_samples(artists_df)['tp_url'])\n",
      "        users_no_samples = [_extract_username(url) for url in sc_urls_no_samples]\n",
      "        return users_no_samples"
     ],
     "language": "python",
     "metadata": {},
     "outputs": [
      {
       "output_type": "stream",
       "stream": "stdout",
       "text": [
        "Overwriting sc/spiders/track_spider.py\n"
       ]
      }
     ],
     "prompt_number": 20
    },
    {
     "cell_type": "code",
     "collapsed": false,
     "input": [],
     "language": "python",
     "metadata": {},
     "outputs": [],
     "prompt_number": 87
    },
    {
     "cell_type": "code",
     "collapsed": false,
     "input": [],
     "language": "python",
     "metadata": {},
     "outputs": [],
     "prompt_number": 88
    },
    {
     "cell_type": "code",
     "collapsed": false,
     "input": [
      "sc_urls_no_samples = list(check_for_samples(artists, SC_ID)['tp_url'])"
     ],
     "language": "python",
     "metadata": {},
     "outputs": [],
     "prompt_number": 89
    },
    {
     "cell_type": "code",
     "collapsed": false,
     "input": [],
     "language": "python",
     "metadata": {},
     "outputs": [],
     "prompt_number": 91
    },
    {
     "cell_type": "code",
     "collapsed": false,
     "input": [
      "users_no_samples = [extract_username(url) for url in missing_samples]"
     ],
     "language": "python",
     "metadata": {},
     "outputs": [],
     "prompt_number": 94
    },
    {
     "cell_type": "code",
     "collapsed": false,
     "input": [
      "from scrapy.selector import Selector\n",
      "from scrapy.http import HtmlResponse, Response\n",
      "from requests import get\n",
      "import urllib\n",
      "#url = 'http://www.residentadvisor.net/event.aspx?638376'\n",
      "#url = \"http://www.residentadvisor.net/dj/patrickpoitz\"\n",
      "with open('sc_cl_id.txt') as f:\n",
      "    client_id = f.read().rstrip()\n",
      "url = \"http://api.soundcloud.com/users/axelbartsch/tracks.json?client_id=\"+client_id\n",
      "req = get(url)\n",
      "body = get(url).text\n",
      "\n",
      "m = HtmlResponse(url=url, body=body, encoding='utf8')\n",
      "\n",
      "import json\n",
      "res = json.loads(m.body)"
     ],
     "language": "python",
     "metadata": {},
     "outputs": [],
     "prompt_number": 8
    },
    {
     "cell_type": "code",
     "collapsed": false,
     "input": [
      "client_id"
     ],
     "language": "python",
     "metadata": {},
     "outputs": [
      {
       "metadata": {},
       "output_type": "pyout",
       "prompt_number": 44,
       "text": [
        "'d1c9c9869e1df58cfe5258a84e26f08b'"
       ]
      }
     ],
     "prompt_number": 44
    },
    {
     "cell_type": "code",
     "collapsed": false,
     "input": [
      "artist_sample = {\n",
      "'url': res[0]['permalink_url'],\n",
      "'artist_id': 5,\n",
      "'third_party_id': 2,\n",
      "'resource_id': res[0]['id']\n",
      "}"
     ],
     "language": "python",
     "metadata": {},
     "outputs": [],
     "prompt_number": 50
    },
    {
     "cell_type": "code",
     "collapsed": false,
     "input": [
      "a.insert_dict('artist_sample', artist_sample)"
     ],
     "language": "python",
     "metadata": {},
     "outputs": [
      {
       "metadata": {},
       "output_type": "pyout",
       "prompt_number": 51,
       "text": [
        "{u'artist': {u'description': None,\n",
        "  u'id': 5,\n",
        "  u'last_modified': u'2014-10-30T15:30:43.105959',\n",
        "  u'name': u'Walker Barnard',\n",
        "  u'source_id': 1},\n",
        " u'artist_id': 5,\n",
        " u'description': None,\n",
        " u'genre_string': None,\n",
        " u'id': 2,\n",
        " u'name': None,\n",
        " u'resource_id': u'143980675',\n",
        " u'third_party': {u'id': 2,\n",
        "  u'name': u'SoundCloud',\n",
        "  u'url': u'https://soundcloud.com/'},\n",
        " u'third_party_id': 2,\n",
        " u'url': u'http://soundcloud.com/walker_/george-harrison-ford-shuggie'}"
       ]
      }
     ],
     "prompt_number": 51
    },
    {
     "cell_type": "code",
     "collapsed": false,
     "input": [
      "res[0]"
     ],
     "language": "python",
     "metadata": {},
     "outputs": [
      {
       "metadata": {},
       "output_type": "pyout",
       "prompt_number": 9,
       "text": [
        "{u'artwork_url': u'https://i1.sndcdn.com/artworks-000075557766-5gunkn-large.jpg',\n",
        " u'attachments_uri': u'https://api.soundcloud.com/tracks/143036609/attachments',\n",
        " u'bpm': None,\n",
        " u'comment_count': 2,\n",
        " u'commentable': True,\n",
        " u'created_at': u'2014/04/04 13:51:51 +0000',\n",
        " u'description': u'',\n",
        " u'download_count': 0,\n",
        " u'downloadable': False,\n",
        " u'duration': 472259,\n",
        " u'embeddable_by': u'all',\n",
        " u'favoritings_count': 54,\n",
        " u'genre': u'Tech House',\n",
        " u'id': 143036609,\n",
        " u'isrc': None,\n",
        " u'key_signature': None,\n",
        " u'kind': u'track',\n",
        " u'label_id': None,\n",
        " u'label_name': None,\n",
        " u'last_modified': u'2014/04/04 13:51:59 +0000',\n",
        " u'license': u'all-rights-reserved',\n",
        " u'original_content_size': 83291376,\n",
        " u'original_format': u'aiff',\n",
        " u'permalink': u'freedom',\n",
        " u'permalink_url': u'http://soundcloud.com/axelbartsch/freedom',\n",
        " u'playback_count': 1538,\n",
        " u'policy': u'ALLOW',\n",
        " u'purchase_title': None,\n",
        " u'purchase_url': None,\n",
        " u'release': None,\n",
        " u'release_day': None,\n",
        " u'release_month': None,\n",
        " u'release_year': None,\n",
        " u'sharing': u'public',\n",
        " u'state': u'finished',\n",
        " u'stream_url': u'https://api.soundcloud.com/tracks/143036609/stream',\n",
        " u'streamable': True,\n",
        " u'tag_list': u'',\n",
        " u'title': u'Freedom',\n",
        " u'track_type': None,\n",
        " u'uri': u'https://api.soundcloud.com/tracks/143036609',\n",
        " u'user': {u'avatar_url': u'https://i1.sndcdn.com/avatars-000000811803-1ayj0z-large.jpg',\n",
        "  u'id': 58183,\n",
        "  u'kind': u'user',\n",
        "  u'last_modified': u'2014/04/10 13:28:26 +0000',\n",
        "  u'permalink': u'axelbartsch',\n",
        "  u'permalink_url': u'http://soundcloud.com/axelbartsch',\n",
        "  u'uri': u'https://api.soundcloud.com/users/58183',\n",
        "  u'username': u'axelbartsch'},\n",
        " u'user_id': 58183,\n",
        " u'video_url': None,\n",
        " u'waveform_url': u'https://w1.sndcdn.com/QqM01Tk0qth7_m.png'}"
       ]
      }
     ],
     "prompt_number": 9
    },
    {
     "cell_type": "code",
     "collapsed": false,
     "input": [],
     "language": "python",
     "metadata": {},
     "outputs": []
    }
   ],
   "metadata": {}
  }
 ]
}