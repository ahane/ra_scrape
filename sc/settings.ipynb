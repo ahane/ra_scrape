{
 "metadata": {
  "name": "",
  "signature": "sha256:a72cacd718641c4c0253eb8b5cf6ffcca829f1e7d88fa6db15a5d67be99fc1c5"
 },
 "nbformat": 3,
 "nbformat_minor": 0,
 "worksheets": [
  {
   "cells": [
    {
     "cell_type": "code",
     "collapsed": false,
     "input": [
      "%%writefile sc/settings.py\n",
      "# -*- coding: utf-8 -*-\n",
      "\n",
      "# Scrapy settings for sc project\n",
      "#\n",
      "# For simplicity, this file contains only the most important settings by\n",
      "# default. All the other settings are documented here:\n",
      "#\n",
      "#     http://doc.scrapy.org/en/latest/topics/settings.html\n",
      "#\n",
      "\n",
      "BOT_NAME = 'sc'\n",
      "\n",
      "SPIDER_MODULES = ['sc.spiders']\n",
      "NEWSPIDER_MODULE = 'sc.spiders'\n",
      "\n",
      "DATABASE_URL = 'http://localhost:5000/api/'\n",
      "ITEM_PIPELINES = {'sc.pipelines.TrackCollectionPipeline': 100,\n",
      "                  'sc.pipelines.TrackPipeline': 200}\n",
      "\n",
      "# Crawl responsibly by identifying yourself (and your website) on the user-agent\n",
      "#USER_AGENT = 'sc (+http://www.yourdomain.com)'"
     ],
     "language": "python",
     "metadata": {},
     "outputs": [
      {
       "output_type": "stream",
       "stream": "stdout",
       "text": [
        "Overwriting sc/settings.py\n"
       ]
      }
     ],
     "prompt_number": 3
    },
    {
     "cell_type": "code",
     "collapsed": false,
     "input": [],
     "language": "python",
     "metadata": {},
     "outputs": []
    }
   ],
   "metadata": {}
  }
 ]
}