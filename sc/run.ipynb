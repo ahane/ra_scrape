{
 "metadata": {
  "name": "",
  "signature": "sha256:dd760a873c822bed6516307c1cd399e9f9c954bffb00febb52b4e041ae0a6fbd"
 },
 "nbformat": 3,
 "nbformat_minor": 0,
 "worksheets": [
  {
   "cells": [
    {
     "cell_type": "code",
     "collapsed": false,
     "input": [
      "!scrapy crawl track_spider"
     ],
     "language": "python",
     "metadata": {},
     "outputs": [
      {
       "output_type": "stream",
       "stream": "stdout",
       "text": [
        "2014-11-04 18:32:39+0100 [scrapy] INFO: Scrapy 0.24.4 started (bot: sc)\r\n",
        "2014-11-04 18:32:39+0100 [scrapy] INFO: Optional features available: ssl, http11, boto\r\n",
        "2014-11-04 18:32:39+0100 [scrapy] INFO: Overridden settings: {'NEWSPIDER_MODULE': 'sc.spiders', 'SPIDER_MODULES': ['sc.spiders'], 'BOT_NAME': 'sc'}\r\n"
       ]
      },
      {
       "output_type": "stream",
       "stream": "stdout",
       "text": [
        "2014-11-04 18:32:39+0100 [scrapy] INFO: Enabled extensions: LogStats, TelnetConsole, CloseSpider, WebService, CoreStats, SpiderState\r\n"
       ]
      },
      {
       "output_type": "stream",
       "stream": "stdout",
       "text": [
        "2014-11-04 18:32:40+0100 [scrapy] INFO: Enabled downloader middlewares: HttpAuthMiddleware, DownloadTimeoutMiddleware, UserAgentMiddleware, RetryMiddleware, DefaultHeadersMiddleware, MetaRefreshMiddleware, HttpCompressionMiddleware, RedirectMiddleware, CookiesMiddleware, ChunkedTransferMiddleware, DownloaderStats\r\n",
        "2014-11-04 18:32:40+0100 [scrapy] INFO: Enabled spider middlewares: HttpErrorMiddleware, OffsiteMiddleware, RefererMiddleware, UrlLengthMiddleware, DepthMiddleware\r\n"
       ]
      },
      {
       "output_type": "stream",
       "stream": "stdout",
       "text": [
        "2014-11-04 18:32:40+0100 [scrapy] INFO: Enabled item pipelines: TrackCollectionPipeline, TrackPipeline\r\n",
        "2014-11-04 18:32:40+0100 [scrapy] INFO: Enabled item pipelines: TrackCollectionPipeline, TrackPipeline\r\n",
        "2014-11-04 18:32:40+0100 [track_spider] INFO: Spider opened\r\n",
        "2014-11-04 18:32:40+0100 [track_spider] INFO: Spider opened\r\n",
        "2014-11-04 18:32:40+0100 [track_spider] INFO: Crawled 0 pages (at 0 pages/min), scraped 0 items (at 0 items/min)\r\n",
        "2014-11-04 18:32:40+0100 [track_spider] INFO: Crawled 0 pages (at 0 pages/min), scraped 0 items (at 0 items/min)\r\n",
        "2014-11-04 18:32:40+0100 [scrapy] DEBUG: Telnet console listening on 127.0.0.1:6023\r\n",
        "2014-11-04 18:32:40+0100 [scrapy] DEBUG: Web service listening on 127.0.0.1:6080\r\n"
       ]
      },
      {
       "output_type": "stream",
       "stream": "stdout",
       "text": [
        "2014-11-04 18:32:40+0100 [track_spider] DEBUG: Crawled (200) <GET http://api.soundcloud.com/users/axelbartsch/tracks.json?client_id=d1c9c9869e1df58cfe5258a84e26f08b> (referer: None)\r\n",
        "2014-11-04 18:32:40+0100 [scrapy] INFO: Inserting:\r\n",
        "2014-11-04 18:32:40+0100 [scrapy] INFO: Inserting:\r\n",
        "2014-11-04 18:32:40+0100 [scrapy] INFO: {'name': u'Katerholzig Daytime DJ Action', 'genre_string': u'', 'url': u'http://soundcloud.com/axelbartsch/katerholzig-daytime-dj-action', 'resource_id': 45827736, 'third_party_id': 2, 'artist_id': 1}\r\n",
        "2014-11-04 18:32:40+0100 [scrapy] INFO: {'name': u'Katerholzig Daytime DJ Action', 'genre_string': u'', 'url': u'http://soundcloud.com/axelbartsch/katerholzig-daytime-dj-action', 'resource_id': 45827736, 'third_party_id': 2, 'artist_id': 1}\r\n",
        "2014-11-04 18:32:40+0100 [scrapy] INFO: --\r\n",
        "2014-11-04 18:32:40+0100 [scrapy] INFO: --\r\n"
       ]
      },
      {
       "output_type": "stream",
       "stream": "stdout",
       "text": [
        "2014-11-04 18:32:40+0100 [track_spider] DEBUG: Scraped from <200 http://api.soundcloud.com/users/axelbartsch/tracks.json?client_id=d1c9c9869e1df58cfe5258a84e26f08b>\r\n",
        "\t{'sc_description': u'marbert rocel - cause of loving\\r\\nbeatamines & david jach - how ever (gordian glees rmx)\\r\\nsoul button - talking ft. partook\\r\\nhere is why - mittens (daniel bortz rmx)\\r\\naxel bartsch - in love\\r\\ntom fly - truth hurts\\r\\nnicone & braemer - lonely\\r\\naffkt feat. sutja gutierrez - nuvol (douglas greed rmx)\\r\\nphilip bader - good for nothing\\r\\nrobosonic - worst love (doctor dru rmx)\\r\\nkris & nuernberg - daze without you (chopstick & johnjon rmx)\\r\\njamie jones&art department - our time in liberty\\r\\natapy - move baby (sash bbc & casper rmx)\\r\\njordan peak - move with it dub\\r\\ntelonius - out (Ramon Tapia & Nico Purmann rmx)\\r\\njohanna knutson - groove support\\r\\ndaniel kilian - telling you baby (toky rmx)\\r\\npilocka krach - discolight (acid pauli rmx)\\r\\npleasurekraft & belocca - murdered out (tube & berger rmx)\\r\\nsamuel fach - hello berlin\\r\\nbeatamines & david jack - something soul\\r\\nmosca - accidently dub\\r\\nhousewives - hot stuff\\r\\nandri - just take it\\r\\nsante - whispering\\r\\nalecs marta - yes sir\\r\\nbart skilz - observer\\r\\nalex tepper - got that\\r\\ndenis hornet - face it\\r\\njulien piacentino - carlito (ronan portela rmx)\\r\\nmarckus & rue d\\xe1lex - need to know\\r\\npupkulies & rebecca - la vie est belle (marek hemmann rmx)',\r\n",
        "\t 'sc_embeddable_by': u'all',\r\n",
        "\t 'sc_genre': u'',\r\n",
        "\t 'sc_lable_name': u'',\r\n",
        "\t 'sc_license': u'all-rights-reserved',\r\n",
        "\t 'sc_name': u'Katerholzig Daytime DJ Action',\r\n",
        "\t 'sc_num_plays': 10116,\r\n",
        "\t 'sc_streamable': True,\r\n",
        "\t 'sc_track_id': 45827736,\r\n",
        "\t 'sc_track_url': u'http://soundcloud.com/axelbartsch/katerholzig-daytime-dj-action',\r\n",
        "\t 'sc_user_url': u'http://soundcloud.com/axelbartsch'}\r\n",
        "2014-11-04 18:32:40+0100 [track_spider] DEBUG: Crawled (200) <GET http://api.soundcloud.com/users/walker_/tracks.json?client_id=d1c9c9869e1df58cfe5258a84e26f08b> (ref"
       ]
      },
      {
       "output_type": "stream",
       "stream": "stdout",
       "text": [
        "erer: None)\r\n",
        "2014-11-04 18:32:40+0100 [track_spider] DEBUG: Crawled (200) <GET http://api.soundcloud.com/users/ollider-twist/tracks.json?client_id=d1c9c9869e1df58cfe5258a84e26f08b> (referer: None)\r\n",
        "2014-11-04 18:32:40+0100 [track_spider] DEBUG: Crawled (200) <GET http://api.soundcloud.com/users/luca-albano/tracks.json?client_id=d1c9c9869e1df58cfe5258a84e26f08b> (referer: None)\r\n",
        "2014-11-04 18:32:40+0100 [track_spider] DEBUG: Crawled (200) <GET http://api.soundcloud.com/users/gunnar-stiller/tracks.json?client_id=d1c9c9869e1df58cfe5258a84e26f08b> (referer: None)\r\n",
        "2014-11-04 18:32:40+0100 [track_spider] DEBUG: Crawled (200) <GET http://api.soundcloud.com/users/sylvie-foret/tracks.json?client_id=d1c9c9869e1df58cfe5258a84e26f08b> (referer: None)\r\n",
        "2014-11-04 18:32:40+0100 [track_spider] DEBUG: Crawled (200) <GET http://api.soundcloud.com/users/sloan22/tracks.json?client_id=d1c9c9869e1df58cfe5258a84e26f08b> (referer: None)\r\n"
       ]
      },
      {
       "output_type": "stream",
       "stream": "stdout",
       "text": [
        "2014-11-04 18:32:40+0100 [scrapy] INFO: Inserting:\r\n",
        "2014-11-04 18:32:40+0100 [scrapy] INFO: Inserting:\r\n",
        "2014-11-04 18:32:40+0100 [scrapy] INFO: {'name': u'Walker Barnard@MariaMagdelena 26-03-11', 'genre_string': u'House', 'url': u'http://soundcloud.com/walker_/walker-barnard-mariamagdelena', 'resource_id': 12712822, 'third_party_id': 2, 'artist_id': 7}\r\n",
        "2014-11-04 18:32:40+0100 [scrapy] INFO: {'name': u'Walker Barnard@MariaMagdelena 26-03-11', 'genre_string': u'House', 'url': u'http://soundcloud.com/walker_/walker-barnard-mariamagdelena', 'resource_id': 12712822, 'third_party_id': 2, 'artist_id': 7}\r\n",
        "2014-11-04 18:32:40+0100 [scrapy] INFO: --\r\n",
        "2014-11-04 18:32:40+0100 [scrapy] INFO: --\r\n"
       ]
      },
      {
       "output_type": "stream",
       "stream": "stdout",
       "text": [
        "2014-11-04 18:32:40+0100 [track_spider] DEBUG: Scraped from <200 http://api.soundcloud.com/users/walker_/tracks.json?client_id=d1c9c9869e1df58cfe5258a84e26f08b>\r\n",
        "\t{'sc_description': u'two and a half hour dj set from a magical night at maria magdelena in seminyak, bali..\\r\\na family affair fo sho....\\r\\nmany favorite tunes from the last few years..',\r\n",
        "\t 'sc_embeddable_by': u'all',\r\n",
        "\t 'sc_genre': u'House',\r\n",
        "\t 'sc_lable_name': u'',\r\n",
        "\t 'sc_license': u'all-rights-reserved',\r\n",
        "\t 'sc_name': u'Walker Barnard@MariaMagdelena 26-03-11',\r\n",
        "\t 'sc_num_plays': 1169,\r\n",
        "\t 'sc_streamable': True,\r\n",
        "\t 'sc_track_id': 12712822,\r\n",
        "\t 'sc_track_url': u'http://soundcloud.com/walker_/walker-barnard-mariamagdelena',\r\n",
        "\t 'sc_user_url': u'http://soundcloud.com/walker_'}\r\n",
        "2014-11-04 18:32:40+0100 [track_spider] ERROR: Error processing {'sc_user_url': u'http://soundcloud.com/ollider-twist',\r\n",
        "\t 'tracks': [{'sc_description': u'happening says:  take 31 cards.\\n2x noch aussetzten dann hat der Bube wieder das Herz voll. \\nWill die Karre eh nich den ganzen tag ziehen m\\xfcssen. \\nPast is passed sagt alt Willy und l\\xe4sst die Mistelzweige Frohsinn kommen.',\r\n",
        "\t 'sc_embeddable_by': u'all',\r\n",
        "\t 'sc_genre': u'Techno',\r\n",
        "\t 'sc_lable_name': None,\r\n",
        "\t 'sc_license': u'all-rights-reserved',\r\n",
        "\t 'sc_name': u'Past ist Passed , passt',\r\n",
        "\t 'sc_num_plays': 294,\r\n",
        "\t 'sc_streamable': True,\r\n",
        "\t 'sc_track_id': 172902244,\r\n",
        "\t 'sc_track_url': u'http://soundcloud.com/ollider-twist/past-ist-passed-passt',\r\n",
        "\t 'sc_user_url': u'http://soundcloud.com/ollider-twist'},\r\n",
        "\t            {'sc_description': u'long time no see.\\n\\n\\n \\nSeptember 14. ',\r\n",
        "\t 'sc_embeddable_by': u'all',\r\n",
        "\t 'sc_genre': u'Techno',\r\n",
        "\t 'sc_lable_name': None,\r\n",
        "\t 'sc_license': u'all-rights-reserved',\r\n",
        "\t 'sc_name': u'Halbacht in Wedding',\r\n",
        "\t 'sc_num_plays': 475,\r\n",
        "\t 'sc_streamable': True,\r\n",
        "\t 'sc_track_id': 169611154,\r\n",
        "\t 'sc_track_url': u'http://soundcloud.com/ollider-twist/halbacht-in-wedding',\r\n",
        "\t 'sc_user_url': u'http://soundcloud.com/ollider-twist'},\r\n",
        "\t            {'sc_description': u\"Man mu\\xdf sich vor dem Neide h\\xfcten \\nEr ist ein schlimmes Perspectiv \\nDas Fremde scheint dir gro\\xdf und herrlich,\\nDas Eig'ne winzig klein und schief.\\nUnd von dem hei\\xdfen gierigen Schauen\\nSchw\\xe4cht sich dein Auge mit der Zeit:\\nDein sch\\xf6nstes Gl\\xfcck zerrinnt im Nebel\\nGeh\\xe4ssiger Unzufriedenheit.\\nSpread Love !\\n\\nVinyl only.\",\r\n",
        "\t 'sc_embeddable_by': u'all',\r\n",
        "\t 'sc_genre': u'menschen',\r\n",
        "\t 'sc_lable_name': u'',\r\n",
        "\t 'sc_license': u'all-rights-reserved',\r\n",
        "\t 'sc_name': u'Ick hau van jau',\r\n",
        "\t 'sc_num_plays': 1650,\r\n",
        "\t 'sc_streamable': True,\r\n",
        "\t 'sc_track_id': 141605921,\r\n",
        "\t 'sc_track_url': u'http://soundcloud.com/ollider-twist/ick-hau-van-jau',\r\n",
        "\t 'sc_user_url': u'http://soundcloud.com/ollider-twist'}]}\r\n",
        "\tTraceback (most recent call last):\r\n",
        "\t  File \"/home/alec/anaconda/lib/python2.7/site-packages/scrapy/middleware.py\", line 62, in _process_chain\r\n",
        "\t    return process_chain(self.methods[methodname], obj, *args)\r\n",
        "\t  File \"/home/alec/anaconda/lib/python2.7/site-packages/scrapy/utils/defer.py\", line 65, in process_chain\r\n",
        "\t    d.callback(input)\r\n",
        "\t  File \"/home/alec/anaconda/lib/python2.7/site-packages/twisted/internet/defer.py\", line 382, in callback\r\n",
        "\t    self._startRunCallbacks(result)\r\n",
        "\t  File \"/home/alec/anaconda/lib/python2.7/site-packages/twisted/internet/defer.py\", line 490, in _startRunCallbacks\r\n",
        "\t    self._runCallbacks()\r\n",
        "\t--- <exception caught here> ---\r\n",
        "\t  File \"/home/alec/anaconda/lib/python2.7/site-packages/twisted/internet/defer.py\", line 577, in _runCallbacks\r\n",
        "\t    current.result = callback(current.result, *args, **kw)\r\n",
        "\t  File \"/home/alec/workspace/cm/ra_scrape/sc/sc/pipelines.py\", line 53, in process_item\r\n",
        "\t    db_artist = db.get_single('artist_page', user_url, 'url')['artist']\r\n",
        "\t  File \"/home/alec/workspace/cm/adaptor-hinterteil/hinterteil/hinterteil.py\", line 70, in get_single\r\n",
        "\t    raise IOError(r.status_code)\r\n",
        "\texceptions.IOError: 404\r\n",
        "\t\r\n",
        "2014-11-04 18:32:40+0100 [track_spider] ERROR: Error processing {'sc_user_url': u'http://soundcloud.com/ollider-twist',\r\n",
        "\t 'tracks': [{'sc_description': u'happening says:  take 31 cards.\\n2x noch aussetzten dann hat der Bube wieder das Herz voll. \\nWill die Karre eh nich den ganzen tag ziehen m\\xfcssen. \\nPast is passed sagt alt Willy und l\\xe4sst die Mistelzweige Frohsinn kommen.',\r\n",
        "\t 'sc_embeddable_by': u'all',\r\n",
        "\t 'sc_genre': u'Techno',\r\n",
        "\t 'sc_lable_name': None,\r\n",
        "\t 'sc_license': u'all-rights-reserved',\r\n",
        "\t 'sc_name': u'Past ist Passed , passt',\r\n",
        "\t 'sc_num_plays': 294,\r\n",
        "\t 'sc_streamable': True,\r\n",
        "\t 'sc_track_id': 172902244,\r\n",
        "\t 'sc_track_url': u'http://soundcloud.com/ollider-twist/past-ist-passed-passt',\r\n",
        "\t 'sc_user_url': u'http://soundcloud.com/ollider-twist'},\r\n",
        "\t            {'sc_description': u'long time no see.\\n\\n\\n \\nSeptember 14. ',\r\n",
        "\t 'sc_embeddable_by': u'all',\r\n",
        "\t 'sc_genre': u'Techno',\r\n",
        "\t 'sc_lable_name': None,\r\n",
        "\t 'sc_license': u'all-rights-reserved',\r\n",
        "\t 'sc_name': u'Halbacht in Wedding',\r\n",
        "\t 'sc_num_plays': 475,\r\n",
        "\t 'sc_streamable': True,\r\n",
        "\t 'sc_track_id': 169611154,\r\n",
        "\t 'sc_track_url': u'http://soundcloud.com/ollider-twist/halbacht-in-wedding',\r\n",
        "\t 'sc_user_url': u'http://soundcloud.com/ollider-twist'},\r\n",
        "\t            {'sc_description': u\"Man mu\\xdf sich vor dem Neide h\\xfcten \\nEr ist ein schlimmes Perspectiv \\nDas Fremde scheint dir gro\\xdf und herrlich,\\nDas Eig'ne winzig klein und schief.\\nUnd von dem hei\\xdfen gierigen Schauen\\nSchw\\xe4cht sich dein Auge mit der Zeit:\\nDein sch\\xf6nstes Gl\\xfcck zerrinnt im Nebel\\nGeh\\xe4ssiger Unzufriedenheit.\\nSpread Love !\\n\\nVinyl only.\",\r\n",
        "\t 'sc_embeddable_by': u'all',\r\n",
        "\t 'sc_genre': u'menschen',\r\n",
        "\t 'sc_lable_name': u'',\r\n",
        "\t 'sc_license': u'all-rights-reserved',\r\n",
        "\t 'sc_name': u'Ick hau van jau',\r\n",
        "\t 'sc_num_plays': 1650,\r\n",
        "\t 'sc_streamable': True,\r\n",
        "\t 'sc_track_id': 141605921,\r\n",
        "\t 'sc_track_url': u'http://soundcloud.com/ollider-twist/ick-hau-van-jau',\r\n",
        "\t 'sc_user_url': u'http://soundcloud.com/ollider-twist'}]}\r\n",
        "\tTraceback (most recent call last):\r\n",
        "\t  File \"/home/alec/anaconda/lib/python2.7/site-packages/scrapy/middleware.py\", line 62, in _process_chain\r\n",
        "\t    return process_chain(self.methods[methodname], obj, *args)\r\n",
        "\t  File \"/home/alec/anaconda/lib/python2.7/site-packages/scrapy/utils/defer.py\", line 65, in process_chain\r\n",
        "\t    d.callback(input)\r\n",
        "\t  File \"/home/alec/anaconda/lib/python2.7/site-packages/twisted/internet/defer.py\", line 382, in callback\r\n",
        "\t    self._startRunCallbacks(result)\r\n",
        "\t  File \"/home/alec/anaconda/lib/python2.7/site-packages/twisted/internet/defer.py\", line 490, in _startRunCallbacks\r\n",
        "\t    self._runCallbacks()\r\n",
        "\t--- <exception caught here> ---\r\n",
        "\t  File \"/home/alec/anaconda/lib/python2.7/site-packages/twisted/internet/defer.py\", line 577, in _runCallbacks\r\n",
        "\t    current.result = callback(current.result, *args, **kw)\r\n",
        "\t  File \"/home/alec/workspace/cm/ra_scrape/sc/sc/pipelines.py\", line 53, in process_item\r\n",
        "\t    db_artist = db.get_single('artist_page', user_url, 'url')['artist']\r\n",
        "\t  File \"/home/alec/workspace/cm/adaptor-hinterteil/hinterteil/hinterteil.py\", line 70, in get_single\r\n",
        "\t    raise IOError(r.status_code)\r\n",
        "\texceptions.IOError: 404\r\n",
        "\t\r\n"
       ]
      },
      {
       "output_type": "stream",
       "stream": "stdout",
       "text": [
        "2014-11-04 18:32:40+0100 [scrapy] INFO: Inserting:\r\n",
        "2014-11-04 18:32:40+0100 [scrapy] INFO: Inserting:\r\n",
        "2014-11-04 18:32:40+0100 [scrapy] INFO: {'name': u'Luca Albano & Flora P\\xe4\\xe4r - Raya (Original Mix) Escapism Musique', 'genre_string': u'Deep Electronic Techno', 'url': u'http://soundcloud.com/luca-albano/luca-albano-flora-p-r-raya-1', 'resource_id': 68848449, 'third_party_id': 2, 'artist_id': 9}\r\n",
        "2014-11-04 18:32:40+0100 [scrapy] INFO: {'name': u'Luca Albano & Flora P\\xe4\\xe4r - Raya (Original Mix) Escapism Musique', 'genre_string': u'Deep Electronic Techno', 'url': u'http://soundcloud.com/luca-albano/luca-albano-flora-p-r-raya-1', 'resource_id': 68848449, 'third_party_id': 2, 'artist_id': 9}\r\n",
        "2014-11-04 18:32:40+0100 [scrapy] INFO: --\r\n",
        "2014-11-04 18:32:40+0100 [scrapy] INFO: --\r\n"
       ]
      },
      {
       "output_type": "stream",
       "stream": "stdout",
       "text": [
        "2014-11-04 18:32:41+0100 [track_spider] DEBUG: Scraped from <200 http://api.soundcloud.com/users/luca-albano/tracks.json?client_id=d1c9c9869e1df58cfe5258a84e26f08b>\r\n",
        "\t{'sc_description': u'Luca Albano & Flora P\\xe4\\xe4r - Raya (Original Mix) Escapism Musique',\r\n",
        "\t 'sc_embeddable_by': u'all',\r\n",
        "\t 'sc_genre': u'Deep Electronic Techno',\r\n",
        "\t 'sc_lable_name': u'Escapism Musique',\r\n",
        "\t 'sc_license': u'all-rights-reserved',\r\n",
        "\t 'sc_name': u'Luca Albano & Flora P\\xe4\\xe4r - Raya (Original Mix) Escapism Musique',\r\n",
        "\t 'sc_num_plays': 2101,\r\n",
        "\t 'sc_streamable': True,\r\n",
        "\t 'sc_track_id': 68848449,\r\n",
        "\t 'sc_track_url': u'http://soundcloud.com/luca-albano/luca-albano-flora-p-r-raya-1',\r\n",
        "\t 'sc_user_url': u'http://soundcloud.com/luca-albano'}\r\n"
       ]
      },
      {
       "output_type": "stream",
       "stream": "stdout",
       "text": [
        "2014-11-04 18:32:41+0100 [scrapy] INFO: Inserting:\r\n",
        "2014-11-04 18:32:41+0100 [scrapy] INFO: Inserting:\r\n",
        "2014-11-04 18:32:41+0100 [scrapy] INFO: {'name': u'Gunnar Stiller & Fabiano @ Panorama Bar [Upon.You Night_2011-10-23]', 'genre_string': u'Techhouse', 'url': u'http://soundcloud.com/gunnar-stiller/panoramabar_2011-10-23', 'resource_id': 27539554, 'third_party_id': 2, 'artist_id': 2}\r\n",
        "2014-11-04 18:32:41+0100 [scrapy] INFO: {'name': u'Gunnar Stiller & Fabiano @ Panorama Bar [Upon.You Night_2011-10-23]', 'genre_string': u'Techhouse', 'url': u'http://soundcloud.com/gunnar-stiller/panoramabar_2011-10-23', 'resource_id': 27539554, 'third_party_id': 2, 'artist_id': 2}\r\n",
        "2014-11-04 18:32:41+0100 [scrapy] INFO: --\r\n",
        "2014-11-04 18:32:41+0100 [scrapy] INFO: --\r\n"
       ]
      },
      {
       "output_type": "stream",
       "stream": "stdout",
       "text": [
        "2014-11-04 18:32:41+0100 [track_spider] DEBUG: Scraped from <200 http://api.soundcloud.com/users/gunnar-stiller/tracks.json?client_id=d1c9c9869e1df58cfe5258a84e26f08b>\r\n",
        "\t{'sc_description': u'',\r\n",
        "\t 'sc_embeddable_by': u'all',\r\n",
        "\t 'sc_genre': u'Techhouse',\r\n",
        "\t 'sc_lable_name': u'',\r\n",
        "\t 'sc_license': u'all-rights-reserved',\r\n",
        "\t 'sc_name': u'Gunnar Stiller & Fabiano @ Panorama Bar [Upon.You Night_2011-10-23]',\r\n",
        "\t 'sc_num_plays': 9444,\r\n",
        "\t 'sc_streamable': True,\r\n",
        "\t 'sc_track_id': 27539554,\r\n",
        "\t 'sc_track_url': u'http://soundcloud.com/gunnar-stiller/panoramabar_2011-10-23',\r\n",
        "\t 'sc_user_url': u'http://soundcloud.com/gunnar-stiller'}\r\n"
       ]
      },
      {
       "output_type": "stream",
       "stream": "stdout",
       "text": [
        "2014-11-04 18:32:41+0100 [scrapy] INFO: Inserting:\r\n",
        "2014-11-04 18:32:41+0100 [scrapy] INFO: Inserting:\r\n",
        "2014-11-04 18:32:41+0100 [scrapy] INFO: {'name': u'The Drama For Mama Mixtape', 'genre_string': u'HOUSE', 'url': u'http://soundcloud.com/sylvie-foret/drama-for-mama', 'resource_id': 7129304, 'third_party_id': 2, 'artist_id': 4}\r\n",
        "2014-11-04 18:32:41+0100 [scrapy] INFO: {'name': u'The Drama For Mama Mixtape', 'genre_string': u'HOUSE', 'url': u'http://soundcloud.com/sylvie-foret/drama-for-mama', 'resource_id': 7129304, 'third_party_id': 2, 'artist_id': 4}\r\n",
        "2014-11-04 18:32:41+0100 [scrapy] INFO: --\r\n",
        "2014-11-04 18:32:41+0100 [scrapy] INFO: --\r\n"
       ]
      },
      {
       "output_type": "stream",
       "stream": "stdout",
       "text": [
        "2014-11-04 18:32:41+0100 [track_spider] DEBUG: Scraped from <200 http://api.soundcloud.com/users/sylvie-foret/tracks.json?client_id=d1c9c9869e1df58cfe5258a84e26f08b>\r\n",
        "\t{'sc_description': u'',\r\n",
        "\t 'sc_embeddable_by': u'all',\r\n",
        "\t 'sc_genre': u'HOUSE',\r\n",
        "\t 'sc_lable_name': u'',\r\n",
        "\t 'sc_license': u'all-rights-reserved',\r\n",
        "\t 'sc_name': u'The Drama For Mama Mixtape',\r\n",
        "\t 'sc_num_plays': 1136,\r\n",
        "\t 'sc_streamable': True,\r\n",
        "\t 'sc_track_id': 7129304,\r\n",
        "\t 'sc_track_url': u'http://soundcloud.com/sylvie-foret/drama-for-mama',\r\n",
        "\t 'sc_user_url': u'http://soundcloud.com/sylvie-foret'}\r\n",
        "2014-11-04 18:32:41+0100 [track_spider] INFO: Closing spider (finished)\r\n",
        "2014-11-04 18:32:41+0100 [track_spider] INFO: Closing spider (finished)\r\n",
        "2014-11-04 18:32:41+0100 [track_spider] INFO: Dumping Scrapy stats:\r\n",
        "\t{'downloader/request_bytes': 2021,\r\n",
        "\t 'downloader/request_count': 7,\r\n",
        "\t 'downloader/request_method_count/GET': 7,\r\n",
        "\t 'downloader/response_bytes': 48608,\r\n",
        "\t 'downloader/response_count': 7,\r\n",
        "\t 'downloader/response_status_count/200': 7,\r\n",
        "\t 'finish_reason': 'finished',\r\n",
        "\t 'finish_time': datetime.datetime(2014, 11, 4, 17, 32, 41, 428409),\r\n",
        "\t 'item_scraped_count': 5,\r\n",
        "\t 'log_count/DEBUG': 14,\r\n",
        "\t 'log_count/ERROR': 1,\r\n",
        "\t 'log_count/INFO': 22,\r\n",
        "\t 'response_received_count': 7,\r\n",
        "\t 'scheduler/dequeued': 7,\r\n",
        "\t 'scheduler/dequeued/memory': 7,\r\n",
        "\t 'scheduler/enqueued': 7,\r\n",
        "\t 'scheduler/enqueued/memory': 7,\r\n",
        "\t 'start_time': datetime.datetime(2014, 11, 4, 17, 32, 40, 276086)}\r\n",
        "2014-11-04 18:32:41+0100 [track_spider] INFO: Dumping Scrapy stats:\r\n",
        "\t{'downloader/request_bytes': 2021,\r\n",
        "\t 'downloader/request_count': 7,\r\n",
        "\t 'downloader/request_method_count/GET': 7,\r\n",
        "\t 'downloader/response_bytes': 48608,\r\n",
        "\t 'downloader/response_count': 7,\r\n",
        "\t 'downloader/response_status_count/200': 7,\r\n",
        "\t 'finish_reason': 'finished',\r\n",
        "\t 'finish_time': datetime.datetime(2014, 11, 4, 17, 32, 41, 428409),\r\n",
        "\t 'item_scraped_count': 5,\r\n",
        "\t 'log_count/DEBUG': 14,\r\n",
        "\t 'log_count/ERROR': 1,\r\n",
        "\t 'log_count/INFO': 22,\r\n",
        "\t 'response_received_count': 7,\r\n",
        "\t 'scheduler/dequeued': 7,\r\n",
        "\t 'scheduler/dequeued/memory': 7,\r\n",
        "\t 'scheduler/enqueued': 7,\r\n",
        "\t 'scheduler/enqueued/memory': 7,\r\n",
        "\t 'start_time': datetime.datetime(2014, 11, 4, 17, 32, 40, 276086)}\r\n",
        "2014-11-04 18:32:41+0100 [track_spider] INFO: Spider closed (finished)\r\n",
        "2014-11-04 18:32:41+0100 [track_spider] INFO: Spider closed (finished)\r\n"
       ]
      }
     ],
     "prompt_number": 37
    },
    {
     "cell_type": "code",
     "collapsed": false,
     "input": [
      "a =  {'name': u'The Drama For Mama Mixtape', 'genre_string': u'HOUSE', 'url': u'http://soundcloud.com/sylvie-foret/drama-for-mama', 'resource_id': 7129304, 'label': u'', 'third_party_id': 2, 'artist_id': 4}\n"
     ],
     "language": "python",
     "metadata": {},
     "outputs": [],
     "prompt_number": 34
    },
    {
     "cell_type": "code",
     "collapsed": false,
     "input": [
      "from hinterteil import Hinterteil\n",
      "db = Hinterteil('http://localhost:5000/api/')\n",
      "db.insert_dict('artist_sample', a)\n"
     ],
     "language": "python",
     "metadata": {},
     "outputs": [
      {
       "metadata": {},
       "output_type": "pyout",
       "prompt_number": 35,
       "text": [
        "{u'artist': {u'description': None,\n",
        "  u'id': 3,\n",
        "  u'last_modified': u'2014-11-04T18:21:14.481986',\n",
        "  u'name': u'DJ Danny Russell',\n",
        "  u'source_id': 1},\n",
        " u'artist_id': 3,\n",
        " u'description': None,\n",
        " u'genre_string': u'Electro Funk',\n",
        " u'id': 1,\n",
        " u'name': u'Electro Funk Roots Mix',\n",
        " u'resource_id': u'30498623',\n",
        " u'third_party': {u'id': 2,\n",
        "  u'name': u'SoundCloud',\n",
        "  u'url': u'https://soundcloud.com/'},\n",
        " u'third_party_id': 2,\n",
        " u'url': u'http://soundcloud.com/dj-danny-russell/electro-funk-roots-mix'}"
       ]
      }
     ],
     "prompt_number": 35
    },
    {
     "cell_type": "code",
     "collapsed": false,
     "input": [],
     "language": "python",
     "metadata": {},
     "outputs": []
    }
   ],
   "metadata": {}
  }
 ]
}