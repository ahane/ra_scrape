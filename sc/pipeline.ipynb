{
 "metadata": {
  "name": "",
  "signature": "sha256:70218bc865635c383141491189ddb74e591bb0f579a5e80ce4ae58bee3c149d2"
 },
 "nbformat": 3,
 "nbformat_minor": 0,
 "worksheets": [
  {
   "cells": [
    {
     "cell_type": "code",
     "collapsed": false,
     "input": [
      "%%writefile sc/pipelines.py\n",
      "# Define your item pipelines here\n",
      "#\n",
      "# Don't forget to add your pipeline to the ITEM_PIPELINES setting\n",
      "# See: http://doc.scrapy.org/en/latest/topics/item-pipeline.html\n",
      "from scrapy import log\n",
      "from datetime import datetime\n",
      "from scrapy.exceptions import DropItem\n",
      "from hinterteil import Hinterteil\n",
      "import settings\n",
      "\n",
      "db = Hinterteil(settings.DATABASE_URL)\n",
      "\n",
      "try:\n",
      "    sc = db.get_single('third_party', 'SoundCloud', 'name')\n",
      "    \n",
      "except IOError:\n",
      "    sc = db.insert_dict('third_party', {'name': 'SoundCloud', 'url': 'https://soundcloud.com/'})\n",
      "\n",
      "log.start()    \n",
      "class TrackCollectionPipeline(object):\n",
      "    \n",
      "    def __init__(self):\n",
      "        pass\n",
      "    \n",
      "    def process_item(self, item, spider):\n",
      "        \n",
      "        tracks = item['tracks']\n",
      "        embeddable_tracks = [t for t in tracks if t['sc_embeddable_by'] == 'all' and t['sc_streamable']]\n",
      "        embeddable_tracks.sort(key=lambda x: x['sc_num_plays'])\n",
      "        \n",
      "        most_played_track = embeddable_tracks[-1]\n",
      "        \n",
      "        return most_played_track\n",
      "\n",
      "class TrackPipeline(object):\n",
      "    \n",
      "    '''\n",
      "    track['sc_user_url']\n",
      "    track['sc_name']\n",
      "    track['sc_track_id']\n",
      "    track['sc_num_plays']\n",
      "    track['sc_description']\n",
      "    track['sc_genre']\n",
      "    track['sc_embeddable_by']\n",
      "    track['sc_streamable']\n",
      "    track['sc_license']\n",
      "    track['sc_lable_name']\n",
      "    '''\n",
      "    def process_item(self, item, spider):\n",
      "        track_item = item\n",
      "        user_url = track_item['sc_user_url']\n",
      "        try:\n",
      "            db_artist = db.get_single('artist_page', user_url, 'url')['artist']\n",
      "        \n",
      "            new_artist_sample = {\n",
      "                'url': track_item['sc_track_url'],\n",
      "                'resource_id': track_item['sc_track_id'],\n",
      "                'name': track_item['sc_name'],\n",
      "                #'description': track_item['sc_description'],\n",
      "                'genre_string': track_item['sc_genre'],\n",
      "                #'label': track_item['sc_lable_name'],\n",
      "                #'license': track_item['sc_license'],    \n",
      "                'artist_id': db_artist['id'],\n",
      "                'third_party_id': sc['id']}\n",
      "            \n",
      "            log.msg('Inserting:')\n",
      "            log.msg(str(new_artist_sample))\n",
      "            log.msg('--')\n",
      "            db.insert_dict('artist_sample', new_artist_sample)\n",
      "        \n",
      "        except IOError:\n",
      "            raise\n",
      "        return item"
     ],
     "language": "python",
     "metadata": {},
     "outputs": [
      {
       "output_type": "stream",
       "stream": "stdout",
       "text": [
        "Overwriting sc/pipelines.py\n"
       ]
      }
     ],
     "prompt_number": 34
    },
    {
     "cell_type": "code",
     "collapsed": false,
     "input": [
      "from collections import defaultdict"
     ],
     "language": "python",
     "metadata": {},
     "outputs": [],
     "prompt_number": 10
    },
    {
     "cell_type": "code",
     "collapsed": false,
     "input": [
      "a = defaultdict(lambda: None, {'a': 1})"
     ],
     "language": "python",
     "metadata": {},
     "outputs": [],
     "prompt_number": 16
    },
    {
     "cell_type": "code",
     "collapsed": false,
     "input": [
      "a['b']"
     ],
     "language": "python",
     "metadata": {},
     "outputs": [],
     "prompt_number": 17
    },
    {
     "cell_type": "code",
     "collapsed": false,
     "input": [
      "from hinterteil import Hinterteil\n",
      "Hinterteil.insert_dict()"
     ],
     "language": "python",
     "metadata": {},
     "outputs": [],
     "prompt_number": 9
    },
    {
     "cell_type": "code",
     "collapsed": false,
     "input": [
      "fields = '''track['sc_user_url'] = track_dict['user']['permalink_url']\n",
      "track['sc_track_id'] = track_dict['id']\n",
      "track['sc_num_plays'] = track_dict['playback_count']\n",
      "track['sc_description'] = track_dict['description']\n",
      "track['sc_genre'] = track_dict['genre']\n",
      "track['sc_embeddable_by'] = track_dict['embeddable_by']\n",
      "track['sc_streamable'] = track_dict['streamable']\n",
      "track['sc_license'] = track_dict['license']\n",
      "track['sc_lable_name'] = track_dict['label_name']'''\n",
      "fields = fields.split('\\n')\n",
      "fields = [f.split(' =')[0] for f in fields]\n",
      "for f in fields:\n",
      "    print f"
     ],
     "language": "python",
     "metadata": {},
     "outputs": [
      {
       "output_type": "stream",
       "stream": "stdout",
       "text": [
        "track['sc_user_url']\n",
        "track['sc_track_id']\n",
        "track['sc_num_plays']\n",
        "track['sc_description']\n",
        "track['sc_genre']\n",
        "track['sc_embeddable_by']\n",
        "track['sc_streamable']\n",
        "track['sc_license']\n",
        "track['sc_lable_name']\n"
       ]
      }
     ],
     "prompt_number": 8
    },
    {
     "cell_type": "code",
     "collapsed": false,
     "input": [
      "a = [1,3,2,6,4,5]"
     ],
     "language": "python",
     "metadata": {},
     "outputs": [],
     "prompt_number": 1
    },
    {
     "cell_type": "code",
     "collapsed": false,
     "input": [
      "a.sort()"
     ],
     "language": "python",
     "metadata": {},
     "outputs": [],
     "prompt_number": 2
    },
    {
     "cell_type": "code",
     "collapsed": false,
     "input": [
      "a"
     ],
     "language": "python",
     "metadata": {},
     "outputs": [
      {
       "metadata": {},
       "output_type": "pyout",
       "prompt_number": 3,
       "text": [
        "[1, 2, 3, 4, 5, 6]"
       ]
      }
     ],
     "prompt_number": 3
    },
    {
     "cell_type": "code",
     "collapsed": false,
     "input": [],
     "language": "python",
     "metadata": {},
     "outputs": []
    }
   ],
   "metadata": {}
  }
 ]
}