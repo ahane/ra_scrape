{
 "metadata": {
  "name": "",
  "signature": "sha256:af98b0c5a54e62c4c9ff5cf79c27cbb006cd0164056256a4feb2ddb12c059554"
 },
 "nbformat": 3,
 "nbformat_minor": 0,
 "worksheets": [
  {
   "cells": [
    {
     "cell_type": "code",
     "collapsed": false,
     "input": [
      "import datetime"
     ],
     "language": "python",
     "metadata": {},
     "outputs": [],
     "prompt_number": 1
    },
    {
     "cell_type": "code",
     "collapsed": false,
     "input": [
      "import scrapy"
     ],
     "language": "python",
     "metadata": {},
     "outputs": [],
     "prompt_number": 1
    },
    {
     "cell_type": "code",
     "collapsed": false,
     "input": [
      "%%writefile ra/items.py\n",
      "import scrapy\n",
      "\n",
      "class Event(scrapy.Item):\n",
      "    item_type = scrapy.Field(default='event')\n",
      "    ra_event_id = scrapy.Field()\n",
      "    url = scrapy.Field()\n",
      "    name = scrapy.Field()    \n",
      "    date = scrapy.Field()\n",
      "    ra_club_id = scrapy.Field()\n",
      "    \n",
      "    #these fields are for a document-like serving\n",
      "    club = scrapy.Field()\n",
      "    artists = scrapy.Field()\n",
      "    \n",
      "class Club(scrapy.Item):\n",
      "    item_type = scrapy.Field(default='club')\n",
      "    ra_club_id = scrapy.Field()\n",
      "    url = scrapy.Field()\n",
      "    name = scrapy.Field()\n",
      "    adress = scrapy.Field()\n",
      "    latlon = scrapy.Field()\n",
      "    ra_locale_id = scrapy.Field()\n",
      "\n",
      "class Performance(scrapy.Item):\n",
      "    item_type = scrapy.Field(default='performance')\n",
      "    ra_event_id = scrapy.Field()\n",
      "    sc_artist_id = scrapy.Field()\n",
      "    artist = scrapy.Field()\n",
      "    \n",
      "class Artist(scrapy.Item):\n",
      "    item_type = scrapy.Field(default='artist')\n",
      "    ra_artist_id = scrapy.Field()\n",
      "    url = scrapy.Field()\n",
      "    name = scrapy.Field()\n",
      "    sc_user = scrapy.Field()\n",
      "    sc_link = scrapy.Field()\n",
      "    sc_track_permalink = scrapy.Field()\n",
      "    sc_track_id = scrapy.Field()\n",
      "    sc_value = scrapy.Field() #arbitray number for rankin artists"
     ],
     "language": "python",
     "metadata": {},
     "outputs": [
      {
       "output_type": "stream",
       "stream": "stdout",
       "text": [
        "Overwriting ra/items.py\n"
       ]
      }
     ],
     "prompt_number": 10
    },
    {
     "cell_type": "code",
     "collapsed": false,
     "input": [
      "import urllib\n",
      "with open('sc_cl_id.txt', 'r') as f:\n",
      "    SC_CLIENT_ID = f.read().rstrip()\n",
      "    sc_client_id = urllib.urlencode({\"client_id\": SC_CLIENT_ID})\n"
     ],
     "language": "python",
     "metadata": {},
     "outputs": [],
     "prompt_number": 6
    },
    {
     "cell_type": "code",
     "collapsed": false,
     "input": [
      "import datetime"
     ],
     "language": "python",
     "metadata": {},
     "outputs": [],
     "prompt_number": 3
    },
    {
     "cell_type": "code",
     "collapsed": false,
     "input": [
      "datetime.date(2014, 9, 27)"
     ],
     "language": "python",
     "metadata": {},
     "outputs": [
      {
       "metadata": {},
       "output_type": "pyout",
       "prompt_number": 4,
       "text": [
        "datetime.date(2014, 9, 27)"
       ]
      }
     ],
     "prompt_number": 4
    },
    {
     "cell_type": "code",
     "collapsed": false,
     "input": [
      "%%writefile ra/spiders/event_spider.py\n",
      "import scrapy\n",
      "from scrapy.contrib.spiders import CrawlSpider, Rule\n",
      "from scrapy.contrib.linkextractors import LinkExtractor\n",
      "scrapy.contrib.linkextractors.lxmlhtml.LxmlLinkExtractor\n",
      "from ra.items import Event, Club, Performance, Artist\n",
      "import urllib\n",
      "import datetime\n",
      "import re\n",
      "import json\n",
      "import geocoder\n",
      "from collections import defaultdict\n",
      "BASE_URL = 'http://www.residentadvisor.net'\n",
      "LISTINGS_EXT = '/events.aspx?'\n",
      "BERLIN_AI = 34\n",
      "#TODAY = datetime.date.today()\n",
      "TODAY = datetime.date(2014, 9, 27)\n",
      "with open('sc_cl_id.txt', 'r') as f:\n",
      "    SC_CLIENT_ID = f.read().rstrip()\n",
      "    sc_client_id = urllib.urlencode({\"client_id\": SC_CLIENT_ID})\n",
      "listing_params = {'ai': BERLIN_AI,\n",
      "                  'v': 'day',\n",
      "                  'mn': TODAY.month,\n",
      "                  'yr': TODAY.year,\n",
      "                  'dy': TODAY.day}\n",
      "today_events_url = BASE_URL + LISTINGS_EXT + urllib.urlencode(listing_params)\n",
      "\n",
      "class RAEventSpider(CrawlSpider):\n",
      "    name = 'event_spider'\n",
      "    allowed_domains = [BASE_URL, 'www.residentadvisor.net', 'api.soundcloud.com']\n",
      "    start_urls = [today_events_url]\n",
      "    \n",
      "    rules = (\n",
      "        Rule(LinkExtractor(allow=(r'\\/event\\.aspx\\?',), canonicalize=False), callback='parse_event'),\n",
      "    )\n",
      "\n",
      "    extract_digits = re.compile(r'(\\d+)')\n",
      "    \n",
      "    def take_first(list_or_elem):\n",
      "        if hasattr(list_or_elem, '__iter__'):\n",
      "            return list_or_elemp[0]\n",
      "        else:\n",
      "            return list_or_elem\n",
      "    \n",
      "    def parse_event(self, response):\n",
      "        \n",
      "        #url \n",
      "        #ra_event_id \n",
      "        #name    \n",
      "        #date \n",
      "        #ra_club_id\n",
      "        event = Event()\n",
      "        event['url'] = response.url    \n",
      "        event['ra_event_id'] = self.extract_digits.search(event['url']).group(1)\n",
      "        event['name'] = response.xpath(\"//div[@id = 'sectionHead']/h1/text()\").extract()[0]\n",
      "        event['date'] = TODAY.isoformat()\n",
      "        event['artists'] = []\n",
      "        \n",
      "        \n",
      "        #ra_club_id \n",
      "        #url \n",
      "        #name \n",
      "        #adress \n",
      "        #ra_locale_id\n",
      "        club_link = response.xpath(\"//a[contains(@title, 'Club profile')]\")\n",
      "        if club_link:\n",
      "            club = Club()\n",
      "            club['url'] = BASE_URL + '/' + club_link.xpath(\"@href\").extract()[0]\n",
      "            club['name'] = club_link.xpath(\"text()\").extract()[0]\n",
      "            id_match = self.extract_digits.search(club['url'])\n",
      "            self.log(type(id_match))\n",
      "            club['ra_club_id'] = id_match.group(1)\n",
      "            club['adress'] = club_link.xpath(\"../text()\").extract()[0]\n",
      "            \n",
      "            geocode = geocoder.google(club['adress'])\n",
      "            if geocode.status_description == 'OK':\n",
      "                club['latlon'] = geocode.latlng\n",
      "            event['ra_club_id'] = club['ra_club_id']\n",
      "            event['club'] = club\n",
      "            \n",
      "        \n",
      "        lineup_selector = response.css(\".lineup\").xpath(\"a\")\n",
      "        if lineup_selector:\n",
      "            num_artists = len(lineup_selector)\n",
      "            for link_sel in lineup_selector:\n",
      "                artist = Artist()\n",
      "                url_ext = link_sel.xpath(\"@href\").extract()[0]\n",
      "                if url_ext[:4] == \"/dj/\":\n",
      "                    artist['url'] = BASE_URL + url_ext\n",
      "                    artist['name'] = link_sel.xpath(\"text()\").extract()[0]\n",
      "                    artist['ra_artist_id'] = url_ext.split(\"/\")[2]\n",
      "                    request = scrapy.Request(artist['url'], callback=self.parse_dj)\n",
      "                    request.meta['event'] = event\n",
      "                    request.meta['artist'] = artist\n",
      "                    request.meta['num_artists'] = num_artists\n",
      "                    yield request\n",
      "        #yield event\n",
      "    \n",
      "    def parse_dj(self, response):\n",
      "        #ra_artist_id *\n",
      "        #url *\n",
      "        #name *\n",
      "        #sc_user\n",
      "        #sc_link\n",
      "        #sc_track_permalink\n",
      "        #sc_value #arbitray number for ranking artists\n",
      "        \n",
      "        artist = response.meta['artist']\n",
      "        sc_link_sel = response.xpath(\"//a[contains(@href, 'http://www.soundcloud.com')][contains(text(), 'SoundCloud')]/@href\")\n",
      "        if sc_link_sel:\n",
      "            artist['sc_link'] = sc_link_sel.extract()[0]\n",
      "            artist['sc_user'] = artist['sc_link'].split('/')[-1]\n",
      "            \n",
      "            sc_tracks_url = \"http://api.soundcloud.com/users/\" + artist['sc_user'] + \"/tracks.json?\" + sc_client_id\n",
      "            request = scrapy.Request(sc_tracks_url, callback=self.parse_tracks)\n",
      "            request.meta['artist'] = artist\n",
      "            request.meta['event'] = response.meta['event']\n",
      "            request.meta['num_artists'] = response.meta['num_artists']\n",
      "            yield request\n",
      "    \n",
      "    def parse_tracks(self, response):\n",
      "        \n",
      "        artist = response.meta['artist']\n",
      "        event = response.meta['event']\n",
      "        tracks = json.loads(response.body)\n",
      "        if tracks:\n",
      "            tracks = [defaultdict(int, t) for t in tracks] #some tracks miss fields\n",
      "            permalinks_plays = [(t['id'], t['playback_count']) for t in tracks]\n",
      "            permalinks_plays.sort(key=lambda x: x[1], reverse=True)\n",
      "            \n",
      "            artist['sc_track_id'] = permalinks_plays[0][0]\n",
      "            artist\n",
      "            artist['sc_value'] = sum((p for l, p in permalinks_plays))\n",
      "            \n",
      "            event['artists'] = event['artists'] + [artist]\n",
      "            if len(event['artists']) == response.meta['num_artists']: #very hacky take this out!\n",
      "                yield event\n",
      "        #yield event\n",
      "#        yield club\n",
      "    #    yield performance"
     ],
     "language": "python",
     "metadata": {},
     "outputs": [
      {
       "output_type": "stream",
       "stream": "stdout",
       "text": [
        "Overwriting ra/spiders/event_spider.py\n"
       ]
      }
     ],
     "prompt_number": 13
    },
    {
     "cell_type": "code",
     "collapsed": false,
     "input": [
      "from scrapy.contrib.linkextractors import LinkExtractor\n",
      "from scrapy.utils import request\n",
      "from scrapy.http.response import text\n",
      "import scrapy\n",
      "import re"
     ],
     "language": "python",
     "metadata": {},
     "outputs": [],
     "prompt_number": 162
    },
    {
     "cell_type": "code",
     "collapsed": false,
     "input": [
      "r = scrapy.Request('http://www.residentadvisor.net/event.aspx?638376')"
     ],
     "language": "python",
     "metadata": {},
     "outputs": [],
     "prompt_number": 29
    },
    {
     "cell_type": "code",
     "collapsed": false,
     "input": [
      "from scrapy.selector import Selector\n",
      "from scrapy.http import HtmlResponse, Response\n",
      "from requests import get\n",
      "import urllib"
     ],
     "language": "python",
     "metadata": {},
     "outputs": [],
     "prompt_number": 18
    },
    {
     "cell_type": "code",
     "collapsed": false,
     "input": [
      "client_id = urllib.urlencode({\"client_id\": SC_CLIENT_ID})\n",
      "client_id"
     ],
     "language": "python",
     "metadata": {},
     "outputs": [
      {
       "metadata": {},
       "output_type": "pyout",
       "prompt_number": 13,
       "text": [
        "'client_id=d1c9c9869e1df58cfe5258a84e26f08b'"
       ]
      }
     ],
     "prompt_number": 13
    },
    {
     "cell_type": "code",
     "collapsed": false,
     "input": [
      "#url = 'http://www.residentadvisor.net/event.aspx?638376'\n",
      "#url = \"http://www.residentadvisor.net/dj/patrickpoitz\"\n",
      "url = \"http://api.soundcloud.com/users/agnes/tracks.json?\"+client_id\n",
      "req = get(url)\n",
      "body = get(url).text\n",
      "\n",
      "m = HtmlResponse(url=url, body=body, encoding='utf8')\n",
      "\n"
     ],
     "language": "python",
     "metadata": {},
     "outputs": [],
     "prompt_number": 40
    },
    {
     "cell_type": "code",
     "collapsed": false,
     "input": [
      "m.body"
     ],
     "language": "python",
     "metadata": {},
     "outputs": [
      {
       "metadata": {},
       "output_type": "pyout",
       "prompt_number": 41,
       "text": [
        "'[{\"kind\":\"track\",\"id\":165741779,\"created_at\":\"2014/09/01 15:23:52 +0000\",\"user_id\":584,\"duration\":127045,\"commentable\":true,\"state\":\"finished\",\"original_content_size\":5081446,\"sharing\":\"public\",\"tag_list\":\"\",\"permalink\":\"agd-001\",\"streamable\":true,\"embeddable_by\":\"all\",\"downloadable\":false,\"purchase_url\":null,\"label_id\":null,\"purchase_title\":null,\"genre\":\"Maison & Accent Grave\",\"title\":\"Accent Grave Disques 001\",\"description\":\"Accent Grave Disques - AGD 001 will be pressed and released on vinyls soon...\",\"label_name\":\"Accent Grave Disques\",\"release\":null,\"track_type\":null,\"key_signature\":null,\"isrc\":null,\"video_url\":null,\"bpm\":null,\"release_year\":null,\"release_month\":null,\"release_day\":null,\"original_format\":\"mp3\",\"license\":\"all-rights-reserved\",\"uri\":\"https://api.soundcloud.com/tracks/165741779\",\"user\":{\"id\":584,\"kind\":\"user\",\"permalink\":\"agnes\",\"username\":\"agnes\",\"uri\":\"https://api.soundcloud.com/users/584\",\"permalink_url\":\"http://soundcloud.com/agnes\",\"avatar_url\":\"https://i1.sndcdn.com/avatars-000103666774-j76ien-large.jpg?debc7fd\"},\"permalink_url\":\"http://soundcloud.com/agnes/agd-001\",\"artwork_url\":\"https://i1.sndcdn.com/artworks-000089752194-mckpni-large.jpg?debc7fd\",\"waveform_url\":\"https://w1.sndcdn.com/yyMkqgGj0MaT_m.png\",\"stream_url\":\"https://api.soundcloud.com/tracks/165741779/stream\",\"playback_count\":2740,\"download_count\":0,\"favoritings_count\":242,\"comment_count\":31,\"attachments_uri\":\"https://api.soundcloud.com/tracks/165741779/attachments\",\"policy\":\"ALLOW\"},{\"kind\":\"track\",\"id\":96857269,\"created_at\":\"2013/06/14 12:32:38 +0000\",\"user_id\":584,\"duration\":136267,\"commentable\":true,\"state\":\"finished\",\"original_content_size\":5450295,\"sharing\":\"public\",\"tag_list\":\"Hudd Traxx Agn\\xc3\\xa8s Question Rh\\xc3\\xa9torique HUDD042 this summer Rick Wade Eddie Leader Sek Garage Maison House Music\",\"permalink\":\"agnes-qr\",\"streamable\":false,\"embeddable_by\":\"none\",\"downloadable\":false,\"purchase_url\":null,\"label_id\":null,\"purchase_title\":null,\"genre\":\"Garage & Maison Sale\",\"title\":\"Agn\\xc3\\xa8s - Question Rh\\xc3\\xa9torique (Hudd Traxx 042)\",\"description\":\"Soon to pop out on 12\\\\\" vinyl\\'s...\\\\r\\\\nHudd042 Summer Sampler with Eddie Leader, Rick Wade & Sek .\\\\r\\\\n \",\"label_name\":\"\",\"release\":\"\",\"track_type\":\"\",\"key_signature\":\"\",\"isrc\":\"\",\"video_url\":null,\"bpm\":null,\"release_year\":null,\"release_month\":null,\"release_day\":null,\"original_format\":\"mp3\",\"license\":\"all-rights-reserved\",\"uri\":\"https://api.soundcloud.com/tracks/96857269\",\"user\":{\"id\":584,\"kind\":\"user\",\"permalink\":\"agnes\",\"username\":\"agnes\",\"uri\":\"https://api.soundcloud.com/users/584\",\"permalink_url\":\"http://soundcloud.com/agnes\",\"avatar_url\":\"https://i1.sndcdn.com/avatars-000103666774-j76ien-large.jpg?debc7fd\"},\"permalink_url\":\"http://soundcloud.com/agnes/agnes-qr\",\"artwork_url\":null,\"waveform_url\":\"https://w1.sndcdn.com/z0VQELvEk0Hd_m.png\",\"playback_count\":11822,\"download_count\":0,\"favoritings_count\":549,\"comment_count\":70,\"attachments_uri\":\"https://api.soundcloud.com/tracks/96857269/attachments\",\"policy\":\"ALLOW\"},{\"kind\":\"track\",\"id\":95060141,\"created_at\":\"2013/06/02 10:31:02 +0000\",\"user_id\":584,\"duration\":338238,\"commentable\":true,\"state\":\"finished\",\"original_content_size\":13527248,\"sharing\":\"public\",\"tag_list\":\"Real Soon Records Paticles 2008\",\"permalink\":\"particles\",\"streamable\":false,\"embeddable_by\":\"none\",\"downloadable\":false,\"purchase_url\":null,\"label_id\":1036546,\"purchase_title\":null,\"genre\":\"Real Soon House\",\"title\":\"Particles\",\"description\":\"A track which has been released a few years ago on Real Soon Records.. I still like that one.\\\\r\\\\nhttp://www.discogs.com/Ray-Valioso-Particles-EP/release/1436125\",\"label_name\":\"Real Soon\",\"release\":\"RS-017\",\"track_type\":\"\",\"key_signature\":\"\",\"isrc\":\"\",\"video_url\":null,\"bpm\":null,\"release_year\":null,\"release_month\":null,\"release_day\":null,\"original_format\":\"mp3\",\"license\":\"all-rights-reserved\",\"uri\":\"https://api.soundcloud.com/tracks/95060141\",\"user\":{\"id\":584,\"kind\":\"user\",\"permalink\":\"agnes\",\"username\":\"agnes\",\"uri\":\"https://api.soundcloud.com/users/584\",\"permalink_url\":\"http://soundcloud.com/agnes\",\"avatar_url\":\"https://i1.sndcdn.com/avatars-000103666774-j76ien-large.jpg?debc7fd\"},\"label\":{\"id\":1036546,\"kind\":\"user\",\"permalink\":\"real-soon\",\"username\":\"Real Soon\",\"uri\":\"https://api.soundcloud.com/users/1036546\",\"permalink_url\":\"http://soundcloud.com/real-soon\",\"avatar_url\":\"https://i1.sndcdn.com/avatars-000050710679-62xz4h-large.jpg?debc7fd\"},\"permalink_url\":\"http://soundcloud.com/agnes/particles\",\"artwork_url\":\"https://i1.sndcdn.com/artworks-000049574367-4p4r00-large.jpg?debc7fd\",\"waveform_url\":\"https://w1.sndcdn.com/Es6GarBQZnRx_m.png\",\"playback_count\":5888,\"download_count\":0,\"favoritings_count\":116,\"comment_count\":21,\"attachments_uri\":\"https://api.soundcloud.com/tracks/95060141/attachments\",\"policy\":\"ALLOW\"},{\"kind\":\"track\",\"id\":83189747,\"created_at\":\"2013/03/14 09:00:21 +0000\",\"user_id\":584,\"duration\":573362,\"commentable\":true,\"state\":\"finished\",\"original_content_size\":22931329,\"sharing\":\"public\",\"tag_list\":\"Porchevalerie EP Agn\\xc3\\xa8s Torpedoman 2013 Dance Music Maison Kyle FG Intergroove\",\"permalink\":\"agn-s-torpedoman-porchevalerie\",\"streamable\":false,\"embeddable_by\":\"none\",\"downloadable\":false,\"purchase_url\":\"http://www.juno.co.uk/products/491100-01.htm\",\"label_id\":null,\"purchase_title\":\"Buy Waxx\",\"genre\":\"Horse House\",\"title\":\"Agn\\xc3\\xa8s & Torpedoman - Porchevalerie EP\",\"description\":\"A1 - Agn\\xc3\\xa8s - Porcheval\\\\r\\\\nA2 - Agn\\xc3\\xa8s - Souffl\\xc3\\xa9 (Accent Grave Mixx)\\\\r\\\\nB1 - Torpedoman - $ Throats (Deep Garage Mixx)\\\\r\\\\nB2 - Torpedoman - Wanname\\\\r\\\\n\\\\r\\\\nAll tracks W&P by Agn\\xc3\\xa8s - SAEP030 - Sthlmaudio Recordings 2013\\\\r\\\\nto be released on 12\\\\\" vinyls soon, distribution through Intergroove\",\"label_name\":\"\",\"release\":\"\",\"track_type\":\"\",\"key_signature\":\"\",\"isrc\":\"\",\"video_url\":null,\"bpm\":null,\"release_year\":null,\"release_month\":null,\"release_day\":null,\"original_format\":\"mp3\",\"license\":\"all-rights-reserved\",\"uri\":\"https://api.soundcloud.com/tracks/83189747\",\"user\":{\"id\":584,\"kind\":\"user\",\"permalink\":\"agnes\",\"username\":\"agnes\",\"uri\":\"https://api.soundcloud.com/users/584\",\"permalink_url\":\"http://soundcloud.com/agnes\",\"avatar_url\":\"https://i1.sndcdn.com/avatars-000103666774-j76ien-large.jpg?debc7fd\"},\"permalink_url\":\"http://soundcloud.com/agnes/agn-s-torpedoman-porchevalerie\",\"artwork_url\":\"https://i1.sndcdn.com/artworks-000050014923-dtyjnh-large.jpg?debc7fd\",\"waveform_url\":\"https://w1.sndcdn.com/VqAlGwiHrLmC_m.png\",\"playback_count\":16368,\"download_count\":0,\"favoritings_count\":545,\"comment_count\":119,\"attachments_uri\":\"https://api.soundcloud.com/tracks/83189747/attachments\",\"policy\":\"ALLOW\"},{\"kind\":\"track\",\"id\":75078201,\"created_at\":\"2013/01/15 21:16:48 +0000\",\"user_id\":584,\"duration\":412668,\"commentable\":true,\"state\":\"finished\",\"original_content_size\":72777092,\"sharing\":\"public\",\"tag_list\":\"FREE WAV DOWNLOAD FULL REMIX Agn\\xc3\\xa8s Viscardi Cartman Pascal\",\"permalink\":\"pascal-viscardi-agnes-free\",\"streamable\":false,\"embeddable_by\":\"none\",\"downloadable\":true,\"purchase_url\":null,\"label_id\":null,\"purchase_title\":null,\"genre\":\"House\",\"title\":\"Pascal Viscardi - Hardcore (Agn\\xc3\\xa8s Timeproof Remix) - WAV MASTER (free download)\",\"description\":\"As i (nor did my buddy Pascal) haven\\'t received any copies of the final vinyl records from the label (i\\'ve been asking for two for my personal archives) I\\'ve decided to be good with you my respectful and faithful believers. Grab it share it spread it, i respect you 1000 times more than them ! Bizz lesson 1; commit to the sounds of your mouth.\\\\r\\\\n\\\\r\\\\nIf you want Pascal\\'s A Side track its here:\\\\r\\\\nhttps://soundcloud.com/pascalviscardi/hardcore-alpha-dub-mix-free\\\\r\\\\n\\\\r\\\\nSo for the update, we went in the streets and shouted our claims really loudly Pascal and me naked, i think there are pictures, and we\\'ve made enough money (20 euros) to buy ourselves our own records... So we\\'ve got it! yeah we got copies of our own record ! Wicked\\\\r\\\\n\\\\r\\\\n\",\"label_name\":\"\",\"release\":\"\",\"track_type\":\"remix\",\"key_signature\":\"\",\"isrc\":\"\",\"video_url\":null,\"bpm\":null,\"release_year\":null,\"release_month\":null,\"release_day\":null,\"original_format\":\"wav\",\"license\":\"all-rights-reserved\",\"uri\":\"https://api.soundcloud.com/tracks/75078201\",\"user\":{\"id\":584,\"kind\":\"user\",\"permalink\":\"agnes\",\"username\":\"agnes\",\"uri\":\"https://api.soundcloud.com/users/584\",\"permalink_url\":\"http://soundcloud.com/agnes\",\"avatar_url\":\"https://i1.sndcdn.com/avatars-000103666774-j76ien-large.jpg?debc7fd\"},\"permalink_url\":\"http://soundcloud.com/agnes/pascal-viscardi-agnes-free\",\"artwork_url\":null,\"waveform_url\":\"https://w1.sndcdn.com/8m2XCrXWLgtK_m.png\",\"download_url\":\"https://api.soundcloud.com/tracks/75078201/download\",\"playback_count\":21412,\"download_count\":3507,\"favoritings_count\":697,\"comment_count\":111,\"attachments_uri\":\"https://api.soundcloud.com/tracks/75078201/attachments\",\"policy\":\"ALLOW\"},{\"kind\":\"track\",\"id\":70063102,\"created_at\":\"2012/12/05 11:29:24 +0000\",\"user_id\":584,\"duration\":731391,\"commentable\":true,\"state\":\"finished\",\"original_content_size\":29253070,\"sharing\":\"public\",\"tag_list\":\"Agn\\xc3\\xa8s Jedi House EP\",\"permalink\":\"jedi-house-ep\",\"streamable\":false,\"embeddable_by\":\"none\",\"downloadable\":false,\"purchase_url\":null,\"label_id\":null,\"purchase_title\":null,\"genre\":\"Jedi House\",\"title\":\"Agn\\xc3\\xa8s - Jedi House EP\",\"description\":\"12\\\\\" vinyls coming out end of January 2013 - early February 2013 on Vitalik Recordings.\\\\r\\\\n\\\\r\\\\nA1 - SILENCE & SNOW\\\\r\\\\nA2 - MAYBE HERE MAYBE NOT\\\\r\\\\nB1 - BOBA FATT\\\\r\\\\nB2 - ANCIENT METHODS\\\\r\\\\nB3 - CHEW REBELLION\\\\r\\\\n\",\"label_name\":\"\",\"release\":\"\",\"track_type\":\"\",\"key_signature\":\"\",\"isrc\":\"\",\"video_url\":null,\"bpm\":null,\"release_year\":null,\"release_month\":null,\"release_day\":null,\"original_format\":\"mp3\",\"license\":\"all-rights-reserved\",\"uri\":\"https://api.soundcloud.com/tracks/70063102\",\"user\":{\"id\":584,\"kind\":\"user\",\"permalink\":\"agnes\",\"username\":\"agnes\",\"uri\":\"https://api.soundcloud.com/users/584\",\"permalink_url\":\"http://soundcloud.com/agnes\",\"avatar_url\":\"https://i1.sndcdn.com/avatars-000103666774-j76ien-large.jpg?debc7fd\"},\"permalink_url\":\"http://soundcloud.com/agnes/jedi-house-ep\",\"artwork_url\":\"https://i1.sndcdn.com/artworks-000035546509-6mje9s-large.jpg?debc7fd\",\"waveform_url\":\"https://w1.sndcdn.com/Rd6I0dLsN2Mi_m.png\",\"playback_count\":11625,\"download_count\":1,\"favoritings_count\":460,\"comment_count\":100,\"attachments_uri\":\"https://api.soundcloud.com/tracks/70063102/attachments\",\"policy\":\"ALLOW\"},{\"kind\":\"track\",\"id\":45905442,\"created_at\":\"2012/05/10 06:02:30 +0000\",\"user_id\":584,\"duration\":7467908,\"commentable\":true,\"state\":\"finished\",\"original_content_size\":298602666,\"sharing\":\"public\",\"tag_list\":\"Agn\\xc3\\xa8s Cavalier Leuven Belgium Village of Sounds Montreal House Garage Torpedoman Dancing Deep Bassline Ripperton\",\"permalink\":\"agnes-village-of-sounds\",\"streamable\":false,\"embeddable_by\":\"none\",\"downloadable\":false,\"purchase_url\":null,\"label_id\":null,\"purchase_title\":null,\"genre\":\"Maison Sauvage\",\"title\":\"Agn\\xc3\\xa8s aka Cavalier @ Village of Sounds, Leuven 28.04.2012\",\"description\":\"Agn\\xc3\\xa8s recorded dj\\'ing @ Montreal Club in Leuven, Belgium for the Village of Sounds club night / crew.\\\\r\\\\nBooking Agn\\xc3\\xa8s is very easy and it goes this way // http://www.sweatlodgeagency.com/news/artists/agnes/agnes.html\\\\r\\\\n\\\\r\\\\nenjoy...\",\"label_name\":\"\",\"release\":\"\",\"track_type\":\"recording\",\"key_signature\":\"\",\"isrc\":\"\",\"video_url\":null,\"bpm\":null,\"release_year\":null,\"release_month\":null,\"release_day\":null,\"original_format\":\"mp3\",\"license\":\"all-rights-reserved\",\"uri\":\"https://api.soundcloud.com/tracks/45905442\",\"user\":{\"id\":584,\"kind\":\"user\",\"permalink\":\"agnes\",\"username\":\"agnes\",\"uri\":\"https://api.soundcloud.com/users/584\",\"permalink_url\":\"http://soundcloud.com/agnes\",\"avatar_url\":\"https://i1.sndcdn.com/avatars-000103666774-j76ien-large.jpg?debc7fd\"},\"permalink_url\":\"http://soundcloud.com/agnes/agnes-village-of-sounds\",\"artwork_url\":\"https://i1.sndcdn.com/artworks-000023089425-4it8mw-large.jpg?debc7fd\",\"waveform_url\":\"https://w1.sndcdn.com/p1pT84xK3DxT_m.png\",\"playback_count\":15623,\"download_count\":699,\"favoritings_count\":673,\"comment_count\":246,\"attachments_uri\":\"https://api.soundcloud.com/tracks/45905442/attachments\",\"policy\":\"ALLOW\"},{\"kind\":\"track\",\"id\":44344811,\"created_at\":\"2012/04/25 22:21:41 +0000\",\"user_id\":584,\"duration\":172735,\"commentable\":true,\"state\":\"finished\",\"original_content_size\":6905838,\"sharing\":\"public\",\"tag_list\":\"\",\"permalink\":\"booty-mixx\",\"streamable\":false,\"embeddable_by\":\"none\",\"downloadable\":false,\"purchase_url\":null,\"label_id\":null,\"purchase_title\":null,\"genre\":\"Booty Maison\",\"title\":\"Keep On Movin\\' (Agn\\xc3\\xa8s Booty Mixx) / Music With Content / MWC001\",\"description\":\"Coming soon on Music With Content MWC001 \\\\r\\\\n12\\\\\" vinyl stacked with two other mixes from Iron Curtis & Eddie Leader... Watch Out!\",\"label_name\":\"\",\"release\":\"\",\"track_type\":\"original\",\"key_signature\":\"\",\"isrc\":\"\",\"video_url\":null,\"bpm\":null,\"release_year\":null,\"release_month\":null,\"release_day\":null,\"original_format\":\"mp3\",\"license\":\"all-rights-reserved\",\"uri\":\"https://api.soundcloud.com/tracks/44344811\",\"user\":{\"id\":584,\"kind\":\"user\",\"permalink\":\"agnes\",\"username\":\"agnes\",\"uri\":\"https://api.soundcloud.com/users/584\",\"permalink_url\":\"http://soundcloud.com/agnes\",\"avatar_url\":\"https://i1.sndcdn.com/avatars-000103666774-j76ien-large.jpg?debc7fd\"},\"permalink_url\":\"http://soundcloud.com/agnes/booty-mixx\",\"artwork_url\":null,\"waveform_url\":\"https://w1.sndcdn.com/6oWL9A4lISo6_m.png\",\"playback_count\":8586,\"download_count\":0,\"favoritings_count\":390,\"comment_count\":74,\"attachments_uri\":\"https://api.soundcloud.com/tracks/44344811/attachments\",\"policy\":\"ALLOW\"}]'"
       ]
      }
     ],
     "prompt_number": 41
    },
    {
     "cell_type": "code",
     "collapsed": false,
     "input": [
      "import json\n",
      "res = json.loads(m.body)"
     ],
     "language": "python",
     "metadata": {},
     "outputs": [],
     "prompt_number": 59
    },
    {
     "cell_type": "code",
     "collapsed": false,
     "input": [
      "del res[0]['playback_count']"
     ],
     "language": "python",
     "metadata": {},
     "outputs": [],
     "prompt_number": 47
    },
    {
     "cell_type": "code",
     "collapsed": false,
     "input": [
      "import collections"
     ],
     "language": "python",
     "metadata": {},
     "outputs": [],
     "prompt_number": 50
    },
    {
     "cell_type": "code",
     "collapsed": false,
     "input": [
      "res[0] = collections.defaultdict(int, res[0])"
     ],
     "language": "python",
     "metadata": {},
     "outputs": [],
     "prompt_number": 61
    },
    {
     "cell_type": "code",
     "collapsed": false,
     "input": [
      "res[0]"
     ],
     "language": "python",
     "metadata": {},
     "outputs": [
      {
       "metadata": {},
       "output_type": "pyout",
       "prompt_number": 60,
       "text": [
        "{u'artwork_url': u'https://i1.sndcdn.com/artworks-000089752194-mckpni-large.jpg?debc7fd',\n",
        " u'attachments_uri': u'https://api.soundcloud.com/tracks/165741779/attachments',\n",
        " u'bpm': None,\n",
        " u'comment_count': 31,\n",
        " u'commentable': True,\n",
        " u'created_at': u'2014/09/01 15:23:52 +0000',\n",
        " u'description': u'Accent Grave Disques - AGD 001 will be pressed and released on vinyls soon...',\n",
        " u'download_count': 0,\n",
        " u'downloadable': False,\n",
        " u'duration': 127045,\n",
        " u'embeddable_by': u'all',\n",
        " u'favoritings_count': 242,\n",
        " u'genre': u'Maison & Accent Grave',\n",
        " u'id': 165741779,\n",
        " u'isrc': None,\n",
        " u'key_signature': None,\n",
        " u'kind': u'track',\n",
        " u'label_id': None,\n",
        " u'label_name': u'Accent Grave Disques',\n",
        " u'license': u'all-rights-reserved',\n",
        " u'original_content_size': 5081446,\n",
        " u'original_format': u'mp3',\n",
        " u'permalink': u'agd-001',\n",
        " u'permalink_url': u'http://soundcloud.com/agnes/agd-001',\n",
        " u'playback_count': 2740,\n",
        " u'policy': u'ALLOW',\n",
        " u'purchase_title': None,\n",
        " u'purchase_url': None,\n",
        " u'release': None,\n",
        " u'release_day': None,\n",
        " u'release_month': None,\n",
        " u'release_year': None,\n",
        " u'sharing': u'public',\n",
        " u'state': u'finished',\n",
        " u'stream_url': u'https://api.soundcloud.com/tracks/165741779/stream',\n",
        " u'streamable': True,\n",
        " u'tag_list': u'',\n",
        " u'title': u'Accent Grave Disques 001',\n",
        " u'track_type': None,\n",
        " u'uri': u'https://api.soundcloud.com/tracks/165741779',\n",
        " u'user': {u'avatar_url': u'https://i1.sndcdn.com/avatars-000103666774-j76ien-large.jpg?debc7fd',\n",
        "  u'id': 584,\n",
        "  u'kind': u'user',\n",
        "  u'permalink': u'agnes',\n",
        "  u'permalink_url': u'http://soundcloud.com/agnes',\n",
        "  u'uri': u'https://api.soundcloud.com/users/584',\n",
        "  u'username': u'agnes'},\n",
        " u'user_id': 584,\n",
        " u'video_url': None,\n",
        " u'waveform_url': u'https://w1.sndcdn.com/yyMkqgGj0MaT_m.png'}"
       ]
      }
     ],
     "prompt_number": 60
    },
    {
     "cell_type": "raw",
     "metadata": {},
     "source": []
    },
    {
     "cell_type": "code",
     "collapsed": false,
     "input": [
      "a = [(r['permalink_url'], r['playback_count']) for r in res]\n",
      "a.sort(key=lambda x: x[1], reverse=True)"
     ],
     "language": "python",
     "metadata": {},
     "outputs": [],
     "prompt_number": 71
    },
    {
     "cell_type": "code",
     "collapsed": false,
     "input": [
      "a"
     ],
     "language": "python",
     "metadata": {},
     "outputs": [
      {
       "metadata": {},
       "output_type": "pyout",
       "prompt_number": 72,
       "text": [
        "[(u'http://soundcloud.com/agnes/pascal-viscardi-agnes-free', 21412),\n",
        " (u'http://soundcloud.com/agnes/agn-s-torpedoman-porchevalerie', 16368),\n",
        " (u'http://soundcloud.com/agnes/agnes-village-of-sounds', 15623),\n",
        " (u'http://soundcloud.com/agnes/agnes-qr', 11822),\n",
        " (u'http://soundcloud.com/agnes/jedi-house-ep', 11625),\n",
        " (u'http://soundcloud.com/agnes/booty-mixx', 8586),\n",
        " (u'http://soundcloud.com/agnes/particles', 5888),\n",
        " (u'http://soundcloud.com/agnes/agd-001', 2740)]"
       ]
      }
     ],
     "prompt_number": 72
    },
    {
     "cell_type": "code",
     "collapsed": false,
     "input": [
      "sorted([(r['permalink_url'], r['playback_count']) for r in res], key=lambda x: x[1], reverse=True)"
     ],
     "language": "python",
     "metadata": {},
     "outputs": [
      {
       "metadata": {},
       "output_type": "pyout",
       "prompt_number": 67,
       "text": [
        "[(u'http://soundcloud.com/agnes/pascal-viscardi-agnes-free', 21412),\n",
        " (u'http://soundcloud.com/agnes/agn-s-torpedoman-porchevalerie', 16368),\n",
        " (u'http://soundcloud.com/agnes/agnes-village-of-sounds', 15623),\n",
        " (u'http://soundcloud.com/agnes/agnes-qr', 11822),\n",
        " (u'http://soundcloud.com/agnes/jedi-house-ep', 11625),\n",
        " (u'http://soundcloud.com/agnes/booty-mixx', 8586),\n",
        " (u'http://soundcloud.com/agnes/particles', 5888),\n",
        " (u'http://soundcloud.com/agnes/agd-001', 2740)]"
       ]
      }
     ],
     "prompt_number": 67
    },
    {
     "cell_type": "code",
     "collapsed": false,
     "input": [
      "res[0]['id']\n",
      "res[0]['user_id']"
     ],
     "language": "python",
     "metadata": {},
     "outputs": [
      {
       "metadata": {},
       "output_type": "pyout",
       "prompt_number": 34,
       "text": [
        "7394738"
       ]
      }
     ],
     "prompt_number": 34
    },
    {
     "cell_type": "code",
     "collapsed": false,
     "input": [
      "m.xpath(\"//a[contains(@href, 'http://www.soundcloud.com')][contains(text(), 'SoundCloud')]/@href\").extract()\n",
      "\n"
     ],
     "language": "python",
     "metadata": {},
     "outputs": [
      {
       "metadata": {},
       "output_type": "pyout",
       "prompt_number": 153,
       "text": [
        "[u'http://www.soundcloud.com/patrickpoitz']"
       ]
      }
     ],
     "prompt_number": 153
    },
    {
     "cell_type": "code",
     "collapsed": false,
     "input": [
      "#club url\n",
      "m.xpath(\"//a[contains(@title, 'Club profile')]/@href\").extract()"
     ],
     "language": "python",
     "metadata": {},
     "outputs": [
      {
       "metadata": {},
       "output_type": "pyout",
       "prompt_number": 129,
       "text": [
        "[u'club.aspx?id=9585']"
       ]
      }
     ],
     "prompt_number": 129
    },
    {
     "cell_type": "code",
     "collapsed": false,
     "input": [
      "#club name\n",
      "m.xpath(\"//a[contains(@title, 'Club profile')]/text()\").extract()"
     ],
     "language": "python",
     "metadata": {},
     "outputs": [
      {
       "metadata": {},
       "output_type": "pyout",
       "prompt_number": 103,
       "text": [
        "[]"
       ]
      }
     ],
     "prompt_number": 103
    },
    {
     "cell_type": "code",
     "collapsed": false,
     "input": [
      "\"/dj/bert\".split(\"/\")"
     ],
     "language": "python",
     "metadata": {},
     "outputs": [
      {
       "metadata": {},
       "output_type": "pyout",
       "prompt_number": 131,
       "text": [
        "['', 'dj', 'bert']"
       ]
      }
     ],
     "prompt_number": 131
    },
    {
     "cell_type": "code",
     "collapsed": false,
     "input": [
      "l = m.xpath(\"//a[contains(@title, 'Club profile')]\")"
     ],
     "language": "python",
     "metadata": {},
     "outputs": [],
     "prompt_number": 104
    },
    {
     "cell_type": "code",
     "collapsed": false,
     "input": [
      "lineup_links = m.css(\".lineup\")"
     ],
     "language": "python",
     "metadata": {},
     "outputs": [],
     "prompt_number": 112
    },
    {
     "cell_type": "code",
     "collapsed": false,
     "input": [
      "lineup_links"
     ],
     "language": "python",
     "metadata": {},
     "outputs": [
      {
       "metadata": {},
       "output_type": "pyout",
       "prompt_number": 113,
       "text": [
        "[<Selector xpath=u\"descendant-or-self::*[@class and contains(concat(' ', normalize-space(@class), ' '), ' lineup ')]\" data=u'<p class=\"lineup large\">12+, Schr\\xf6dinger'>]"
       ]
      }
     ],
     "prompt_number": 113
    },
    {
     "cell_type": "code",
     "collapsed": false,
     "input": [
      "l[0].xpath(\"@href[1]\").extract()"
     ],
     "language": "python",
     "metadata": {},
     "outputs": [
      {
       "metadata": {},
       "output_type": "pyout",
       "prompt_number": 99,
       "text": [
        "[u'club.aspx?id=9585']"
       ]
      }
     ],
     "prompt_number": 99
    },
    {
     "cell_type": "code",
     "collapsed": false,
     "input": [
      "#club adress\n",
      "l = m.xpath(\"//a[contains(@title, 'Club profile')]\")[0]\n",
      "l.xpath(\"../text()\").extract()"
     ],
     "language": "python",
     "metadata": {},
     "outputs": [
      {
       "metadata": {},
       "output_type": "pyout",
       "prompt_number": 138,
       "text": [
        "[u' Eichenstrasse 4; Treptow; 12435 Berlin;']"
       ]
      }
     ],
     "prompt_number": 138
    },
    {
     "cell_type": "code",
     "collapsed": false,
     "input": [
      "#party name\n",
      "m.xpath(\"//div[@id = 'sectionHead']/h1/text()\").extract()"
     ],
     "language": "python",
     "metadata": {},
     "outputs": [
      {
       "metadata": {},
       "output_type": "pyout",
       "prompt_number": 12,
       "text": [
        "[u'MY Sundays at Hoppetosse']"
       ]
      }
     ],
     "prompt_number": 12
    },
    {
     "cell_type": "code",
     "collapsed": false,
     "input": [
      "m.css(\".lineup\").xpath(\"a\")[0].xpath(\"@href\").extract()"
     ],
     "language": "python",
     "metadata": {},
     "outputs": [
      {
       "metadata": {},
       "output_type": "pyout",
       "prompt_number": 120,
       "text": [
        "[u'/dj/danicasarano']"
       ]
      }
     ],
     "prompt_number": 120
    },
    {
     "cell_type": "code",
     "collapsed": false,
     "input": [
      "m.css(\".lineup\").xpath(\"a/text()\").extract()"
     ],
     "language": "python",
     "metadata": {},
     "outputs": [
      {
       "metadata": {},
       "output_type": "pyout",
       "prompt_number": 20,
       "text": [
        "[u'Dani Casarano',\n",
        " u'Luc Ringeisen',\n",
        " u'Lorenzo Chiabotti',\n",
        " u'Yaya',\n",
        " u'Maki Polne']"
       ]
      }
     ],
     "prompt_number": 20
    },
    {
     "cell_type": "code",
     "collapsed": false,
     "input": [
      "m.xpath(\"//div[contains(@class, 'lineup')]\")"
     ],
     "language": "python",
     "metadata": {},
     "outputs": [
      {
       "metadata": {},
       "output_type": "pyout",
       "prompt_number": 17,
       "text": [
        "[]"
       ]
      }
     ],
     "prompt_number": 17
    },
    {
     "cell_type": "code",
     "collapsed": false,
     "input": [
      "m=id_extract.search(a)\n",
      "m.group(1)"
     ],
     "language": "python",
     "metadata": {},
     "outputs": [
      {
       "metadata": {},
       "output_type": "pyout",
       "prompt_number": 57,
       "text": [
        "'583826'"
       ]
      }
     ],
     "prompt_number": 57
    },
    {
     "cell_type": "code",
     "collapsed": false,
     "input": [
      "!rm ../../cm_naive/events/2014-09-27.json"
     ],
     "language": "python",
     "metadata": {},
     "outputs": [],
     "prompt_number": 12
    },
    {
     "cell_type": "code",
     "collapsed": false,
     "input": [
      "!scrapy crawl event_spider -o ../../cm_naive/events/2014-09-27.json"
     ],
     "language": "python",
     "metadata": {},
     "outputs": [
      {
       "output_type": "stream",
       "stream": "stdout",
       "text": [
        "/home/alec/anaconda/lib/python2.7/site-packages/twisted/internet/_sslverify.py:184: UserWarning: You do not have the service_identity module installed. Please install it from <https://pypi.python.org/pypi/service_identity>. Without the service_identity module and a recent enough pyOpenSSL tosupport it, Twisted can perform only rudimentary TLS client hostnameverification.  Many valid certificate/hostname mappings may be rejected.\r\n",
        "  verifyHostname, VerificationError = _selectVerifyImplementation()\r\n"
       ]
      },
      {
       "output_type": "stream",
       "stream": "stdout",
       "text": [
        "2014-09-29 21:27:39+0200 [scrapy] INFO: Scrapy 0.24.4 started (bot: ra)\r\n",
        "2014-09-29 21:27:39+0200 [scrapy] INFO: Optional features available: ssl, http11, boto\r\n",
        "2014-09-29 21:27:39+0200 [scrapy] INFO: Overridden settings: {'NEWSPIDER_MODULE': 'ra.spiders', 'FEED_FORMAT': 'json', 'SPIDER_MODULES': ['ra.spiders'], 'FEED_URI': '../../cm_naive/events/2014-09-27.json', 'BOT_NAME': 'ra'}\r\n"
       ]
      },
      {
       "output_type": "stream",
       "stream": "stdout",
       "text": [
        "2014-09-29 21:27:39+0200 [scrapy] INFO: Enabled extensions: FeedExporter, LogStats, TelnetConsole, CloseSpider, WebService, CoreStats, SpiderState\r\n"
       ]
      },
      {
       "output_type": "stream",
       "stream": "stdout",
       "text": [
        "2014-09-29 21:27:40+0200 [scrapy] INFO: Enabled downloader middlewares: HttpAuthMiddleware, DownloadTimeoutMiddleware, UserAgentMiddleware, RetryMiddleware, DefaultHeadersMiddleware, MetaRefreshMiddleware, HttpCompressionMiddleware, RedirectMiddleware, CookiesMiddleware, ChunkedTransferMiddleware, DownloaderStats\r\n",
        "2014-09-29 21:27:40+0200 [scrapy] INFO: Enabled spider middlewares: HttpErrorMiddleware, OffsiteMiddleware, RefererMiddleware, UrlLengthMiddleware, DepthMiddleware\r\n",
        "2014-09-29 21:27:40+0200 [scrapy] INFO: Enabled item pipelines: \r\n",
        "2014-09-29 21:27:40+0200 [event_spider] INFO: Spider opened\r\n",
        "2014-09-29 21:27:40+0200 [event_spider] INFO: Crawled 0 pages (at 0 pages/min), scraped 0 items (at 0 items/min)\r\n",
        "2014-09-29 21:27:40+0200 [scrapy] DEBUG: Telnet console listening on 127.0.0.1:6023\r\n"
       ]
      },
      {
       "output_type": "stream",
       "stream": "stdout",
       "text": [
        "2014-09-29 21:27:40+0200 [scrapy] DEBUG: Web service listening on 127.0.0.1:6080\r\n"
       ]
      },
      {
       "output_type": "stream",
       "stream": "stdout",
       "text": [
        "2014-09-29 21:27:40+0200 [event_spider] DEBUG: Crawled (200) <GET http://www.residentadvisor.net/events.aspx?ai=34&yr=2014&mn=9&dy=27&v=day> (referer: None)\r\n"
       ]
      },
      {
       "output_type": "stream",
       "stream": "stdout",
       "text": [
        "2014-09-29 21:27:41+0200 [event_spider] DEBUG: Crawled (200) <GET http://www.residentadvisor.net/event.aspx?619696> (referer: http://www.residentadvisor.net/events.aspx?ai=34&yr=2014&mn=9&dy=27&v=day)\r\n"
       ]
      },
      {
       "output_type": "stream",
       "stream": "stdout",
       "text": [
        "2014-09-29 21:27:42+0200 [event_spider] DEBUG: Crawled (200) <GET http://www.residentadvisor.net/event.aspx?639248> (referer: http://www.residentadvisor.net/events.aspx?ai=34&yr=2014&mn=9&dy=27&v=day)\r\n",
        "2014-09-29 21:27:42+0200 [event_spider] DEBUG: Filtered duplicate request: <GET http://www.residentadvisor.net/dj/benklock> - no more duplicates will be shown (see DUPEFILTER_DEBUG to show all duplicates)\r\n"
       ]
      },
      {
       "output_type": "stream",
       "stream": "stdout",
       "text": [
        "2014-09-29 21:27:43+0200 [event_spider] DEBUG: Crawled (200) <GET http://www.residentadvisor.net/event.aspx?607348> (referer: http://www.residentadvisor.net/events.aspx?ai=34&yr=2014&mn=9&dy=27&v=day)\r\n"
       ]
      },
      {
       "output_type": "stream",
       "stream": "stdout",
       "text": [
        "2014-09-29 21:27:43+0200 [event_spider] DEBUG: Crawled (200) <GET http://www.residentadvisor.net/event.aspx?635192> (referer: http://www.residentadvisor.net/events.aspx?ai=34&yr=2014&mn=9&dy=27&v=day)\r\n",
        "2014-09-29 21:27:43+0200 [event_spider] DEBUG: Crawled (200) <GET http://www.residentadvisor.net/event.aspx?629517> (referer: http://www.residentadvisor.net/events.aspx?ai=34&yr=2014&mn=9&dy=27&v=day)\r\n"
       ]
      },
      {
       "output_type": "stream",
       "stream": "stdout",
       "text": [
        "2014-09-29 21:27:44+0200 [event_spider] DEBUG: Crawled (200) <GET http://www.residentadvisor.net/event.aspx?639089> (referer: http://www.residentadvisor.net/events.aspx?ai=34&yr=2014&mn=9&dy=27&v=day)\r\n",
        "2014-09-29 21:27:44+0200 [event_spider] DEBUG: Crawled (200) <GET http://www.residentadvisor.net/event.aspx?630706> (referer: http://www.residentadvisor.net/events.aspx?ai=34&yr=2014&mn=9&dy=27&v=day)\r\n",
        "2014-09-29 21:27:44+0200 [event_spider] DEBUG: Crawled (200) <GET http://www.residentadvisor.net/event.aspx?635954> (referer: http://www.residentadvisor.net/events.aspx?ai=34&yr=2014&mn=9&dy=27&v=day)\r\n",
        "2014-09-29 21:27:44+0200 [event_spider] DEBUG: Crawled (200) <GET http://www.residentadvisor.net/event.aspx?638340> (referer: http://www.residentadvisor.net/events.aspx?ai=34&yr=2014&mn=9&dy=27&v=day)\r\n",
        "2014-09-29 21:27:44+0200 [event_spider] DEBUG: Crawled (200) <GET http://www.residentadvisor.net/event.aspx?639034> (referer: http://www.residentadvisor.net/events.aspx?ai=34&yr=2014&mn=9&dy=27&v=day)\r\n"
       ]
      },
      {
       "output_type": "stream",
       "stream": "stdout",
       "text": [
        "2014-09-29 21:27:46+0200 [event_spider] DEBUG: Crawled (200) <GET http://www.residentadvisor.net/event.aspx?630613> (referer: http://www.residentadvisor.net/events.aspx?ai=34&yr=2014&mn=9&dy=27&v=day)\r\n",
        "2014-09-29 21:27:46+0200 [event_spider] DEBUG: Crawled (200) <GET http://www.residentadvisor.net/dj/benklock> (referer: http://www.residentadvisor.net/event.aspx?619696)\r\n",
        "2014-09-29 21:27:46+0200 [event_spider] DEBUG: Crawled (200) <GET http://www.residentadvisor.net/event.aspx?639404> (referer: http://www.residentadvisor.net/events.aspx?ai=34&yr=2014&mn=9&dy=27&v=day)\r\n",
        "2014-09-29 21:27:46+0200 [event_spider] DEBUG: Crawled (200) <GET http://www.residentadvisor.net/event.aspx?634209> (referer: http://www.residentadvisor.net/events.aspx?ai=34&yr=2014&mn=9&dy=27&v=day)\r\n",
        "2014-09-29 21:27:46+0200 [event_spider] DEBUG: Crawled (200) <GET http://www.residentadvisor.net/event.aspx?634885> (referer: http://www.residentadvisor.net/events.aspx?ai=34&yr=2014&mn=9&dy=27&v=day)\r\n"
       ]
      },
      {
       "output_type": "stream",
       "stream": "stdout",
       "text": [
        "2014-09-29 21:27:47+0200 [event_spider] DEBUG: Crawled (200) <GET http://www.residentadvisor.net/event.aspx?639500> (referer: http://www.residentadvisor.net/events.aspx?ai=34&yr=2014&mn=9&dy=27&v=day)\r\n"
       ]
      },
      {
       "output_type": "stream",
       "stream": "stdout",
       "text": [
        "2014-09-29 21:27:54+0200 [event_spider] DEBUG: Crawled (200) <GET http://www.residentadvisor.net/dj/diogoaccioly> (referer: http://www.residentadvisor.net/event.aspx?619696)\r\n"
       ]
      },
      {
       "output_type": "stream",
       "stream": "stdout",
       "text": [
        "2014-09-29 21:27:54+0200 [event_spider] DEBUG: Crawled (200) <GET http://www.residentadvisor.net/event.aspx?627802> (referer: http://www.residentadvisor.net/events.aspx?ai=34&yr=2014&mn=9&dy=27&v=day)\r\n"
       ]
      },
      {
       "output_type": "stream",
       "stream": "stdout",
       "text": [
        "2014-09-29 21:28:01+0200 [event_spider] DEBUG: Crawled (200) <GET http://www.residentadvisor.net/dj/deego> (referer: http://www.residentadvisor.net/event.aspx?607348)\r\n"
       ]
      },
      {
       "output_type": "stream",
       "stream": "stdout",
       "text": [
        "2014-09-29 21:28:02+0200 [event_spider] DEBUG: Crawled (200) <GET http://www.residentadvisor.net/dj/shonky> (referer: http://www.residentadvisor.net/event.aspx?619696)\r\n"
       ]
      },
      {
       "output_type": "stream",
       "stream": "stdout",
       "text": [
        "2014-09-29 21:28:05+0200 [event_spider] DEBUG: Crawled (200) <GET http://www.residentadvisor.net/dj/jonattanlevingstone> (referer: http://www.residentadvisor.net/event.aspx?635954)\r\n"
       ]
      },
      {
       "output_type": "stream",
       "stream": "stdout",
       "text": [
        "2014-09-29 21:28:06+0200 [event_spider] DEBUG: Crawled (200) <GET http://www.residentadvisor.net/dj/sierra_sam> (referer: http://www.residentadvisor.net/event.aspx?630706)\r\n"
       ]
      },
      {
       "output_type": "stream",
       "stream": "stdout",
       "text": [
        "2014-09-29 21:28:06+0200 [event_spider] DEBUG: Crawled (200) <GET http://api.soundcloud.com/users/jonattan-levingstone/tracks.json?client_id=d1c9c9869e1df58cfe5258a84e26f08b> (referer: http://www.residentadvisor.net/dj/jonattanlevingstone)\r\n"
       ]
      },
      {
       "output_type": "stream",
       "stream": "stdout",
       "text": [
        "2014-09-29 21:28:13+0200 [event_spider] DEBUG: Crawled (200) <GET http://www.residentadvisor.net/dj/deepneue> (referer: http://www.residentadvisor.net/event.aspx?629517)\r\n"
       ]
      },
      {
       "output_type": "stream",
       "stream": "stdout",
       "text": [
        "2014-09-29 21:28:13+0200 [event_spider] DEBUG: Crawled (200) <GET http://www.residentadvisor.net/event.aspx?632904> (referer: http://www.residentadvisor.net/events.aspx?ai=34&yr=2014&mn=9&dy=27&v=day)\r\n"
       ]
      },
      {
       "output_type": "stream",
       "stream": "stdout",
       "text": [
        "2014-09-29 21:28:14+0200 [event_spider] DEBUG: Crawled (200) <GET http://api.soundcloud.com/users/Deepneue/tracks.json?client_id=d1c9c9869e1df58cfe5258a84e26f08b> (referer: http://www.residentadvisor.net/dj/deepneue)\r\n"
       ]
      },
      {
       "output_type": "stream",
       "stream": "stdout",
       "text": [
        "2014-09-29 21:28:21+0200 [event_spider] DEBUG: Crawled (200) <GET http://www.residentadvisor.net/dj/balthasar> (referer: http://www.residentadvisor.net/event.aspx?607348)\r\n"
       ]
      },
      {
       "output_type": "stream",
       "stream": "stdout",
       "text": [
        "2014-09-29 21:28:27+0200 [event_spider] DEBUG: Crawled (200) <GET http://www.residentadvisor.net/dj/geschwisterschumann> (referer: http://www.residentadvisor.net/event.aspx?607348)\r\n"
       ]
      },
      {
       "output_type": "stream",
       "stream": "stdout",
       "text": [
        "2014-09-29 21:28:27+0200 [event_spider] DEBUG: Crawled (200) <GET http://api.soundcloud.com/users/balthasar-berlin/tracks.json?client_id=d1c9c9869e1df58cfe5258a84e26f08b> (referer: http://www.residentadvisor.net/dj/balthasar)\r\n"
       ]
      },
      {
       "output_type": "stream",
       "stream": "stdout",
       "text": [
        "2014-09-29 21:28:28+0200 [event_spider] DEBUG: Crawled (200) <GET http://api.soundcloud.com/users/geschwister-schumann/tracks.json?client_id=d1c9c9869e1df58cfe5258a84e26f08b> (referer: http://www.residentadvisor.net/dj/geschwisterschumann)\r\n"
       ]
      },
      {
       "output_type": "stream",
       "stream": "stdout",
       "text": [
        "2014-09-29 21:28:34+0200 [event_spider] DEBUG: Crawled (200) <GET http://www.residentadvisor.net/dj/kaltmiete> (referer: http://www.residentadvisor.net/event.aspx?639500)\r\n"
       ]
      },
      {
       "output_type": "stream",
       "stream": "stdout",
       "text": [
        "2014-09-29 21:28:34+0200 [event_spider] DEBUG: Crawled (200) <GET http://www.residentadvisor.net/dj/marioncobretti> (referer: http://www.residentadvisor.net/event.aspx?629517)\r\n"
       ]
      },
      {
       "output_type": "stream",
       "stream": "stdout",
       "text": [
        "2014-09-29 21:28:40+0200 [event_spider] INFO: Crawled 33 pages (at 33 pages/min), scraped 0 items (at 0 items/min)\r\n"
       ]
      },
      {
       "output_type": "stream",
       "stream": "stdout",
       "text": [
        "2014-09-29 21:28:41+0200 [event_spider] DEBUG: Crawled (200) <GET http://www.residentadvisor.net/dj/billrobin> (referer: http://www.residentadvisor.net/event.aspx?639500)\r\n"
       ]
      },
      {
       "output_type": "stream",
       "stream": "stdout",
       "text": [
        "2014-09-29 21:28:42+0200 [event_spider] DEBUG: Crawled (200) <GET http://api.soundcloud.com/users/marion-cobretti/tracks.json?client_id=d1c9c9869e1df58cfe5258a84e26f08b> (referer: http://www.residentadvisor.net/dj/marioncobretti)\r\n"
       ]
      },
      {
       "output_type": "stream",
       "stream": "stdout",
       "text": [
        "2014-09-29 21:28:42+0200 [event_spider] DEBUG: Crawled (200) <GET http://www.residentadvisor.net/dj/phonique> (referer: http://www.residentadvisor.net/event.aspx?619696)\r\n"
       ]
      },
      {
       "output_type": "stream",
       "stream": "stdout",
       "text": [
        "2014-09-29 21:28:49+0200 [event_spider] DEBUG: Crawled (200) <GET http://www.residentadvisor.net/dj/minimallounge> (referer: http://www.residentadvisor.net/event.aspx?638340)\r\n"
       ]
      },
      {
       "output_type": "stream",
       "stream": "stdout",
       "text": [
        "2014-09-29 21:28:57+0200 [event_spider] DEBUG: Crawled (200) <GET http://www.residentadvisor.net/dj/julianganzer> (referer: http://www.residentadvisor.net/event.aspx?630706)\r\n"
       ]
      },
      {
       "output_type": "stream",
       "stream": "stdout",
       "text": [
        "2014-09-29 21:28:57+0200 [event_spider] DEBUG: Crawled (200) <GET http://api.soundcloud.com/users/minimal-lounge/tracks.json?client_id=d1c9c9869e1df58cfe5258a84e26f08b> (referer: http://www.residentadvisor.net/dj/minimallounge)\r\n",
        "2014-09-29 21:28:57+0200 [event_spider] DEBUG: Scraped from <200 http://api.soundcloud.com/users/minimal-lounge/tracks.json?client_id=d1c9c9869e1df58cfe5258a84e26f08b>\r\n",
        "\t{'artists': [{'name': u'Minimal Lounge',\r\n",
        "\t 'ra_artist_id': u'minimallounge',\r\n",
        "\t 'sc_link': u'http://www.soundcloud.com/minimal-lounge',\r\n",
        "\t 'sc_track_id': 62775456,\r\n",
        "\t 'sc_user': u'minimal-lounge',\r\n",
        "\t 'sc_value': 114994,\r\n",
        "\t 'url': u'http://www.residentadvisor.net/dj/minimallounge'}],\r\n",
        "\t 'club': {'adress': u' Revaler Strasse 99; 10245 Berlin-Friedrichshain; Berlin;',\r\n",
        "\t 'latlon': [52.5077138, 13.4542575],\r\n",
        "\t 'name': u'Crack Bellmer',\r\n",
        "\t 'ra_club_id': u'57853',\r\n",
        "\t 'url': u'http://www.residentadvisor.net/club.aspx?id=57853'},\r\n",
        "\t 'date': '2014-09-27',\r\n",
        "\t 'name': u'Houseschuppen at Crack Bellmer',\r\n",
        "\t 'ra_club_id': u'57853',\r\n",
        "\t 'ra_event_id': '638340',\r\n",
        "\t 'url': 'http://www.residentadvisor.net/event.aspx?638340'}\r\n"
       ]
      },
      {
       "output_type": "stream",
       "stream": "stdout",
       "text": [
        "2014-09-29 21:28:58+0200 [event_spider] DEBUG: Crawled (200) <GET http://api.soundcloud.com/users/julianganzer/tracks.json?client_id=d1c9c9869e1df58cfe5258a84e26f08b> (referer: http://www.residentadvisor.net/dj/julianganzer)\r\n"
       ]
      },
      {
       "output_type": "stream",
       "stream": "stdout",
       "text": [
        "2014-09-29 21:29:04+0200 [event_spider] DEBUG: Crawled (200) <GET http://www.residentadvisor.net/dj/rotarydisco76> (referer: http://www.residentadvisor.net/event.aspx?634209)\r\n"
       ]
      },
      {
       "output_type": "stream",
       "stream": "stdout",
       "text": [
        "2014-09-29 21:29:10+0200 [event_spider] DEBUG: Crawled (200) <GET http://www.residentadvisor.net/dj/swinka> (referer: http://www.residentadvisor.net/event.aspx?629517)\r\n"
       ]
      },
      {
       "output_type": "stream",
       "stream": "stdout",
       "text": [
        "2014-09-29 21:29:12+0200 [event_spider] DEBUG: Crawled (200) <GET http://www.residentadvisor.net/dj/eded> (referer: http://www.residentadvisor.net/event.aspx?630706)\r\n"
       ]
      },
      {
       "output_type": "stream",
       "stream": "stdout",
       "text": [
        "2014-09-29 21:29:16+0200 [event_spider] DEBUG: Crawled (200) <GET http://www.residentadvisor.net/dj/dilby> (referer: http://www.residentadvisor.net/event.aspx?629517)\r\n"
       ]
      },
      {
       "output_type": "stream",
       "stream": "stdout",
       "text": [
        "2014-09-29 21:29:16+0200 [event_spider] DEBUG: Crawled (200) <GET http://api.soundcloud.com/users/ededberlin/tracks.json?client_id=d1c9c9869e1df58cfe5258a84e26f08b> (referer: http://www.residentadvisor.net/dj/eded)\r\n"
       ]
      },
      {
       "output_type": "stream",
       "stream": "stdout",
       "text": [
        "2014-09-29 21:29:16+0200 [event_spider] DEBUG: Crawled (200) <GET http://api.soundcloud.com/users/dilbydj/tracks.json?client_id=d1c9c9869e1df58cfe5258a84e26f08b> (referer: http://www.residentadvisor.net/dj/dilby)\r\n"
       ]
      },
      {
       "output_type": "stream",
       "stream": "stdout",
       "text": [
        "2014-09-29 21:29:22+0200 [event_spider] DEBUG: Crawled (200) <GET http://www.residentadvisor.net/dj/andolecallas> (referer: http://www.residentadvisor.net/event.aspx?639500)\r\n"
       ]
      },
      {
       "output_type": "stream",
       "stream": "stdout",
       "text": [
        "2014-09-29 21:29:22+0200 [event_spider] DEBUG: Crawled (200) <GET http://www.residentadvisor.net/dj/ostrich> (referer: http://www.residentadvisor.net/event.aspx?619696)\r\n"
       ]
      },
      {
       "output_type": "stream",
       "stream": "stdout",
       "text": [
        "2014-09-29 21:29:22+0200 [event_spider] DEBUG: Crawled (200) <GET http://api.soundcloud.com/users/andole/tracks.json?client_id=d1c9c9869e1df58cfe5258a84e26f08b> (referer: http://www.residentadvisor.net/dj/andolecallas)\r\n"
       ]
      },
      {
       "output_type": "stream",
       "stream": "stdout",
       "text": [
        "2014-09-29 21:29:22+0200 [event_spider] DEBUG: Crawled (200) <GET http://www.residentadvisor.net/dj/hunee> (referer: http://www.residentadvisor.net/event.aspx?619696)\r\n",
        "2014-09-29 21:29:22+0200 [event_spider] DEBUG: Crawled (200) <GET http://api.soundcloud.com/users/ostr-ch/tracks.json?client_id=d1c9c9869e1df58cfe5258a84e26f08b> (referer: http://www.residentadvisor.net/dj/ostrich)\r\n"
       ]
      },
      {
       "output_type": "stream",
       "stream": "stdout",
       "text": [
        "2014-09-29 21:29:25+0200 [event_spider] DEBUG: Crawled (200) <GET http://www.residentadvisor.net/dj/josephinewedekind> (referer: http://www.residentadvisor.net/event.aspx?629517)\r\n"
       ]
      },
      {
       "output_type": "stream",
       "stream": "stdout",
       "text": [
        "2014-09-29 21:29:26+0200 [event_spider] DEBUG: Crawled (200) <GET http://www.residentadvisor.net/dj/artdepartment> (referer: http://www.residentadvisor.net/event.aspx?619696)\r\n"
       ]
      },
      {
       "output_type": "stream",
       "stream": "stdout",
       "text": [
        "2014-09-29 21:29:26+0200 [event_spider] DEBUG: Crawled (200) <GET http://api.soundcloud.com/users/josephine-wedekind/tracks.json?client_id=d1c9c9869e1df58cfe5258a84e26f08b> (referer: http://www.residentadvisor.net/dj/josephinewedekind)\r\n"
       ]
      },
      {
       "output_type": "stream",
       "stream": "stdout",
       "text": [
        "2014-09-29 21:29:26+0200 [event_spider] DEBUG: Crawled (200) <GET http://www.residentadvisor.net/dj/awanto3> (referer: http://www.residentadvisor.net/event.aspx?619696)\r\n"
       ]
      },
      {
       "output_type": "stream",
       "stream": "stdout",
       "text": [
        "2014-09-29 21:29:27+0200 [event_spider] DEBUG: Crawled (200) <GET http://www.residentadvisor.net/dj/antal> (referer: http://www.residentadvisor.net/event.aspx?619696)\r\n"
       ]
      },
      {
       "output_type": "stream",
       "stream": "stdout",
       "text": [
        "2014-09-29 21:29:27+0200 [event_spider] DEBUG: Crawled (200) <GET http://www.residentadvisor.net/dj/ryanelliott> (referer: http://www.residentadvisor.net/event.aspx?619696)\r\n"
       ]
      },
      {
       "output_type": "stream",
       "stream": "stdout",
       "text": [
        "2014-09-29 21:29:30+0200 [event_spider] DEBUG: Crawled (200) <GET http://www.residentadvisor.net/dj/basco> (referer: http://www.residentadvisor.net/event.aspx?634885)\r\n"
       ]
      },
      {
       "output_type": "stream",
       "stream": "stdout",
       "text": [
        "2014-09-29 21:29:30+0200 [event_spider] DEBUG: Crawled (200) <GET http://www.residentadvisor.net/dj/dvs1> (referer: http://www.residentadvisor.net/event.aspx?619696)\r\n",
        "2014-09-29 21:29:30+0200 [event_spider] DEBUG: Crawled (200) <GET http://api.soundcloud.com/users/ryan-elliott/tracks.json?client_id=d1c9c9869e1df58cfe5258a84e26f08b> (referer: http://www.residentadvisor.net/dj/ryanelliott)\r\n"
       ]
      },
      {
       "output_type": "stream",
       "stream": "stdout",
       "text": [
        "2014-09-29 21:29:30+0200 [event_spider] DEBUG: Crawled (200) <GET http://www.residentadvisor.net/dj/sterac> (referer: http://www.residentadvisor.net/event.aspx?619696)\r\n"
       ]
      },
      {
       "output_type": "stream",
       "stream": "stdout",
       "text": [
        "2014-09-29 21:29:30+0200 [event_spider] DEBUG: Crawled (200) <GET http://api.soundcloud.com/users/basco/tracks.json?client_id=d1c9c9869e1df58cfe5258a84e26f08b> (referer: http://www.residentadvisor.net/dj/basco)\r\n",
        "2014-09-29 21:29:30+0200 [event_spider] DEBUG: Scraped from <200 http://api.soundcloud.com/users/basco/tracks.json?client_id=d1c9c9869e1df58cfe5258a84e26f08b>\r\n",
        "\t{'artists': [{'name': u'Basco',\r\n",
        "\t 'ra_artist_id': u'basco',\r\n",
        "\t 'sc_link': u'http://www.soundcloud.com/basco',\r\n",
        "\t 'sc_track_id': 28116637,\r\n",
        "\t 'sc_user': u'basco',\r\n",
        "\t 'sc_value': 2327,\r\n",
        "\t 'url': u'http://www.residentadvisor.net/dj/basco'}],\r\n",
        "\t 'date': '2014-09-27',\r\n",
        "\t 'name': u'Brewed at Filterhouse',\r\n",
        "\t 'ra_event_id': '634885',\r\n",
        "\t 'url': 'http://www.residentadvisor.net/event.aspx?634885'}\r\n"
       ]
      },
      {
       "output_type": "stream",
       "stream": "stdout",
       "text": [
        "2014-09-29 21:29:34+0200 [event_spider] DEBUG: Crawled (200) <GET http://www.residentadvisor.net/dj/marlais> (referer: http://www.residentadvisor.net/event.aspx?607348)\r\n"
       ]
      },
      {
       "output_type": "stream",
       "stream": "stdout",
       "text": [
        "2014-09-29 21:29:34+0200 [event_spider] DEBUG: Crawled (200) <GET http://www.residentadvisor.net/dj/etappkyle> (referer: http://www.residentadvisor.net/event.aspx?619696)\r\n"
       ]
      },
      {
       "output_type": "stream",
       "stream": "stdout",
       "text": [
        "2014-09-29 21:29:34+0200 [event_spider] DEBUG: Crawled (200) <GET http://api.soundcloud.com/users/marlais/tracks.json?client_id=d1c9c9869e1df58cfe5258a84e26f08b> (referer: http://www.residentadvisor.net/dj/marlais)\r\n"
       ]
      },
      {
       "output_type": "stream",
       "stream": "stdout",
       "text": [
        "2014-09-29 21:29:34+0200 [event_spider] DEBUG: Crawled (200) <GET http://api.soundcloud.com/users/etappkyle/tracks.json?client_id=d1c9c9869e1df58cfe5258a84e26f08b> (referer: http://www.residentadvisor.net/dj/etappkyle)\r\n"
       ]
      },
      {
       "output_type": "stream",
       "stream": "stdout",
       "text": [
        "2014-09-29 21:29:40+0200 [event_spider] INFO: Crawled 66 pages (at 33 pages/min), scraped 2 items (at 2 items/min)\r\n"
       ]
      },
      {
       "output_type": "stream",
       "stream": "stdout",
       "text": [
        "2014-09-29 21:29:42+0200 [event_spider] DEBUG: Crawled (200) <GET http://www.residentadvisor.net/dj/figueroa> (referer: http://www.residentadvisor.net/event.aspx?635954)\r\n"
       ]
      },
      {
       "output_type": "stream",
       "stream": "stdout",
       "text": [
        "2014-09-29 21:29:42+0200 [event_spider] DEBUG: Crawled (200) <GET http://www.residentadvisor.net/event.aspx?633712> (referer: http://www.residentadvisor.net/events.aspx?ai=34&yr=2014&mn=9&dy=27&v=day)\r\n"
       ]
      },
      {
       "output_type": "stream",
       "stream": "stdout",
       "text": [
        "2014-09-29 21:29:43+0200 [event_spider] DEBUG: Crawled (200) <GET http://api.soundcloud.com/users/figueroa/tracks.json?client_id=d1c9c9869e1df58cfe5258a84e26f08b> (referer: http://www.residentadvisor.net/dj/figueroa)\r\n"
       ]
      },
      {
       "output_type": "stream",
       "stream": "stdout",
       "text": [
        "2014-09-29 21:29:48+0200 [event_spider] DEBUG: Crawled (200) <GET http://www.residentadvisor.net/dj/lafraicheur> (referer: http://www.residentadvisor.net/event.aspx?635954)\r\n"
       ]
      },
      {
       "output_type": "stream",
       "stream": "stdout",
       "text": [
        "2014-09-29 21:29:48+0200 [event_spider] DEBUG: Crawled (200) <GET http://www.residentadvisor.net/event.aspx?630590> (referer: http://www.residentadvisor.net/events.aspx?ai=34&yr=2014&mn=9&dy=27&v=day)\r\n"
       ]
      },
      {
       "output_type": "stream",
       "stream": "stdout",
       "text": [
        "2014-09-29 21:29:48+0200 [event_spider] DEBUG: Crawled (200) <GET http://api.soundcloud.com/users/la-fraicheur/tracks.json?client_id=d1c9c9869e1df58cfe5258a84e26f08b> (referer: http://www.residentadvisor.net/dj/lafraicheur)\r\n",
        "2014-09-29 21:29:48+0200 [event_spider] DEBUG: Scraped from <200 http://api.soundcloud.com/users/la-fraicheur/tracks.json?client_id=d1c9c9869e1df58cfe5258a84e26f08b>\r\n",
        "\t{'artists': [{'name': u'Jonattan Levingstone',\r\n",
        "\t 'ra_artist_id': u'jonattanlevingstone',\r\n",
        "\t 'sc_link': u'http://www.soundcloud.com/jonattan-levingstone',\r\n",
        "\t 'sc_track_id': 77672153,\r\n",
        "\t 'sc_user': u'jonattan-levingstone',\r\n",
        "\t 'sc_value': 675,\r\n",
        "\t 'url': u'http://www.residentadvisor.net/dj/jonattanlevingstone'},\r\n",
        "\t             {'name': u'Figueroa',\r\n",
        "\t 'ra_artist_id': u'figueroa',\r\n",
        "\t 'sc_link': u'http://www.soundcloud.com/figueroa',\r\n",
        "\t 'sc_track_id': 84160590,\r\n",
        "\t 'sc_user': u'figueroa',\r\n",
        "\t 'sc_value': 29082,\r\n",
        "\t 'url': u'http://www.residentadvisor.net/dj/figueroa'},\r\n",
        "\t             {'name': u'La Fraicheur',\r\n",
        "\t 'ra_artist_id': u'lafraicheur',\r\n",
        "\t 'sc_link': u'http://www.soundcloud.com/la-fraicheur',\r\n",
        "\t 'sc_track_id': 164707826,\r\n",
        "\t 'sc_user': u'la-fraicheur',\r\n",
        "\t 'sc_value': 4653,\r\n",
        "\t 'url': u'http://www.residentadvisor.net/dj/lafraicheur'}],\r\n",
        "\t 'club': {'adress': u' Revaler Str. 99, 10245 Berlin,',\r\n",
        "\t 'latlon': [52.5077138, 13.4542575],\r\n",
        "\t 'name': u'Urban Spree',\r\n",
        "\t 'ra_club_id': u'68748',\r\n",
        "\t 'url': u'http://www.residentadvisor.net/club.aspx?id=68748'},\r\n",
        "\t 'date': '2014-09-27',\r\n",
        "\t 'name': u\"Satisfactory Factory #5: Berlin's Rock n Roll / Art Collision at Urban Spree\",\r\n",
        "\t 'ra_club_id': u'68748',\r\n",
        "\t 'ra_event_id': '635954',\r\n",
        "\t 'url': 'http://www.residentadvisor.net/event.aspx?635954'}\r\n"
       ]
      },
      {
       "output_type": "stream",
       "stream": "stdout",
       "text": [
        "2014-09-29 21:29:49+0200 [event_spider] DEBUG: Crawled (200) <GET http://www.residentadvisor.net/dj/rickwilhite> (referer: http://www.residentadvisor.net/event.aspx?619696)\r\n"
       ]
      },
      {
       "output_type": "stream",
       "stream": "stdout",
       "text": [
        "2014-09-29 21:29:49+0200 [event_spider] DEBUG: Crawled (200) <GET http://www.residentadvisor.net/event.aspx?631474> (referer: http://www.residentadvisor.net/events.aspx?ai=34&yr=2014&mn=9&dy=27&v=day)\r\n"
       ]
      },
      {
       "output_type": "stream",
       "stream": "stdout",
       "text": [
        "2014-09-29 21:29:49+0200 [event_spider] DEBUG: Crawled (200) <GET http://www.residentadvisor.net/event.aspx?635887> (referer: http://www.residentadvisor.net/events.aspx?ai=34&yr=2014&mn=9&dy=27&v=day)\r\n"
       ]
      },
      {
       "output_type": "stream",
       "stream": "stdout",
       "text": [
        "2014-09-29 21:29:49+0200 [event_spider] DEBUG: Crawled (200) <GET http://www.residentadvisor.net/event.aspx?634571> (referer: http://www.residentadvisor.net/events.aspx?ai=34&yr=2014&mn=9&dy=27&v=day)\r\n"
       ]
      },
      {
       "output_type": "stream",
       "stream": "stdout",
       "text": [
        "2014-09-29 21:29:50+0200 [event_spider] DEBUG: Crawled (200) <GET http://www.residentadvisor.net/event.aspx?639465> (referer: http://www.residentadvisor.net/events.aspx?ai=34&yr=2014&mn=9&dy=27&v=day)\r\n",
        "2014-09-29 21:29:50+0200 [event_spider] DEBUG: Crawled (200) <GET http://www.residentadvisor.net/event.aspx?638510> (referer: http://www.residentadvisor.net/events.aspx?ai=34&yr=2014&mn=9&dy=27&v=day)\r\n"
       ]
      },
      {
       "output_type": "stream",
       "stream": "stdout",
       "text": [
        "2014-09-29 21:29:50+0200 [event_spider] DEBUG: Crawled (200) <GET http://www.residentadvisor.net/event.aspx?640033> (referer: http://www.residentadvisor.net/events.aspx?ai=34&yr=2014&mn=9&dy=27&v=day)\r\n"
       ]
      },
      {
       "output_type": "stream",
       "stream": "stdout",
       "text": [
        "2014-09-29 21:29:50+0200 [event_spider] DEBUG: Crawled (200) <GET http://www.residentadvisor.net/dj/steverachmad> (referer: http://www.residentadvisor.net/event.aspx?619696)\r\n"
       ]
      },
      {
       "output_type": "stream",
       "stream": "stdout",
       "text": [
        "2014-09-29 21:29:50+0200 [event_spider] DEBUG: Crawled (200) <GET http://www.residentadvisor.net/dj/heatsick> (referer: http://www.residentadvisor.net/event.aspx?633712)\r\n"
       ]
      },
      {
       "output_type": "stream",
       "stream": "stdout",
       "text": [
        "2014-09-29 21:29:51+0200 [event_spider] DEBUG: Crawled (200) <GET http://api.soundcloud.com/users/steverachmad/tracks.json?client_id=d1c9c9869e1df58cfe5258a84e26f08b> (referer: http://www.residentadvisor.net/dj/steverachmad)\r\n"
       ]
      },
      {
       "output_type": "stream",
       "stream": "stdout",
       "text": [
        "2014-09-29 21:29:56+0200 [event_spider] DEBUG: Crawled (200) <GET http://www.residentadvisor.net/dj/naks> (referer: http://www.residentadvisor.net/event.aspx?630590)\r\n"
       ]
      },
      {
       "output_type": "stream",
       "stream": "stdout",
       "text": [
        "2014-09-29 21:30:02+0200 [event_spider] DEBUG: Crawled (200) <GET http://www.residentadvisor.net/dj/albotron-de> (referer: http://www.residentadvisor.net/event.aspx?630590)\r\n"
       ]
      },
      {
       "output_type": "stream",
       "stream": "stdout",
       "text": [
        "2014-09-29 21:30:02+0200 [event_spider] DEBUG: Crawled (200) <GET http://www.residentadvisor.net/event.aspx?637268> (referer: http://www.residentadvisor.net/events.aspx?ai=34&yr=2014&mn=9&dy=27&v=day)\r\n"
       ]
      },
      {
       "output_type": "stream",
       "stream": "stdout",
       "text": [
        "2014-09-29 21:30:02+0200 [event_spider] DEBUG: Crawled (200) <GET http://api.soundcloud.com/users/albotron/tracks.json?client_id=d1c9c9869e1df58cfe5258a84e26f08b> (referer: http://www.residentadvisor.net/dj/albotron-de)\r\n",
        "2014-09-29 21:30:02+0200 [event_spider] DEBUG: Crawled (200) <GET http://api.soundcloud.com/users/naks/tracks.json?client_id=d1c9c9869e1df58cfe5258a84e26f08b> (referer: http://www.residentadvisor.net/dj/naks)\r\n"
       ]
      },
      {
       "output_type": "stream",
       "stream": "stdout",
       "text": [
        "2014-09-29 21:30:11+0200 [event_spider] DEBUG: Crawled (200) <GET http://www.residentadvisor.net/dj/moprobs> (referer: http://www.residentadvisor.net/event.aspx?633712)\r\n"
       ]
      },
      {
       "output_type": "stream",
       "stream": "stdout",
       "text": [
        "2014-09-29 21:30:11+0200 [event_spider] DEBUG: Crawled (200) <GET http://www.residentadvisor.net/dj/handmade> (referer: http://www.residentadvisor.net/event.aspx?634571)\r\n"
       ]
      },
      {
       "output_type": "stream",
       "stream": "stdout",
       "text": [
        "2014-09-29 21:30:12+0200 [event_spider] DEBUG: Crawled (200) <GET http://api.soundcloud.com/users/mo-probs/tracks.json?client_id=d1c9c9869e1df58cfe5258a84e26f08b> (referer: http://www.residentadvisor.net/dj/moprobs)\r\n"
       ]
      },
      {
       "output_type": "stream",
       "stream": "stdout",
       "text": [
        "2014-09-29 21:30:12+0200 [event_spider] DEBUG: Crawled (200) <GET http://api.soundcloud.com/users/handmadeberlin/tracks.json?client_id=d1c9c9869e1df58cfe5258a84e26f08b> (referer: http://www.residentadvisor.net/dj/handmade)\r\n"
       ]
      },
      {
       "output_type": "stream",
       "stream": "stdout",
       "text": [
        "2014-09-29 21:30:17+0200 [event_spider] DEBUG: Crawled (200) <GET http://www.residentadvisor.net/dj/gianmariacoccoluto> (referer: http://www.residentadvisor.net/event.aspx?635887)\r\n"
       ]
      },
      {
       "output_type": "stream",
       "stream": "stdout",
       "text": [
        "2014-09-29 21:30:18+0200 [event_spider] DEBUG: Crawled (200) <GET http://www.residentadvisor.net/event.aspx?633578> (referer: http://www.residentadvisor.net/events.aspx?ai=34&yr=2014&mn=9&dy=27&v=day)\r\n"
       ]
      },
      {
       "output_type": "stream",
       "stream": "stdout",
       "text": [
        "2014-09-29 21:30:18+0200 [event_spider] DEBUG: Crawled (200) <GET http://api.soundcloud.com/users/gianmaria-coccoluto/tracks.json?client_id=d1c9c9869e1df58cfe5258a84e26f08b> (referer: http://www.residentadvisor.net/dj/gianmariacoccoluto)\r\n"
       ]
      },
      {
       "output_type": "stream",
       "stream": "stdout",
       "text": [
        "2014-09-29 21:30:23+0200 [event_spider] DEBUG: Crawled (200) <GET http://www.residentadvisor.net/dj/thehycon> (referer: http://www.residentadvisor.net/event.aspx?630590)\r\n"
       ]
      },
      {
       "output_type": "stream",
       "stream": "stdout",
       "text": [
        "2014-09-29 21:30:24+0200 [event_spider] DEBUG: Crawled (200) <GET http://www.residentadvisor.net/dj/jeroensearch> (referer: http://www.residentadvisor.net/event.aspx?619696)\r\n"
       ]
      },
      {
       "output_type": "stream",
       "stream": "stdout",
       "text": [
        "2014-09-29 21:30:30+0200 [event_spider] DEBUG: Crawled (200) <GET http://www.residentadvisor.net/dj/niemandkeiner> (referer: http://www.residentadvisor.net/event.aspx?640033)\r\n"
       ]
      },
      {
       "output_type": "stream",
       "stream": "stdout",
       "text": [
        "2014-09-29 21:30:31+0200 [event_spider] DEBUG: Crawled (200) <GET http://www.residentadvisor.net/dj/exerciseone> (referer: http://www.residentadvisor.net/event.aspx?629517)\r\n"
       ]
      },
      {
       "output_type": "stream",
       "stream": "stdout",
       "text": [
        "2014-09-29 21:30:31+0200 [event_spider] DEBUG: Crawled (200) <GET http://api.soundcloud.com/users/niemandundkeiner/tracks.json?client_id=d1c9c9869e1df58cfe5258a84e26f08b> (referer: http://www.residentadvisor.net/dj/niemandkeiner)\r\n"
       ]
      },
      {
       "output_type": "stream",
       "stream": "stdout",
       "text": [
        "2014-09-29 21:30:36+0200 [event_spider] DEBUG: Crawled (200) <GET http://www.residentadvisor.net/dj/thechosentwo> (referer: http://www.residentadvisor.net/event.aspx?637268)\r\n"
       ]
      },
      {
       "output_type": "stream",
       "stream": "stdout",
       "text": [
        "2014-09-29 21:30:40+0200 [event_spider] INFO: Crawled 100 pages (at 34 pages/min), scraped 3 items (at 1 items/min)\r\n"
       ]
      },
      {
       "output_type": "stream",
       "stream": "stdout",
       "text": [
        "2014-09-29 21:30:41+0200 [event_spider] DEBUG: Crawled (200) <GET http://www.residentadvisor.net/dj/100tons> (referer: http://www.residentadvisor.net/event.aspx?637268)\r\n"
       ]
      },
      {
       "output_type": "stream",
       "stream": "stdout",
       "text": [
        "2014-09-29 21:30:42+0200 [event_spider] DEBUG: Crawled (200) <GET http://api.soundcloud.com/users/the-chosen-two/tracks.json?client_id=d1c9c9869e1df58cfe5258a84e26f08b> (referer: http://www.residentadvisor.net/dj/thechosentwo)\r\n"
       ]
      },
      {
       "output_type": "stream",
       "stream": "stdout",
       "text": [
        "2014-09-29 21:30:45+0200 [event_spider] DEBUG: Crawled (200) <GET http://www.residentadvisor.net/dj/valentino45> (referer: http://www.residentadvisor.net/event.aspx?631474)\r\n"
       ]
      },
      {
       "output_type": "stream",
       "stream": "stdout",
       "text": [
        "2014-09-29 21:30:56+0200 [event_spider] DEBUG: Crawled (200) <GET http://www.residentadvisor.net/dj/burnhard> (referer: http://www.residentadvisor.net/event.aspx?640033)\r\n"
       ]
      },
      {
       "output_type": "stream",
       "stream": "stdout",
       "text": [
        "2014-09-29 21:30:56+0200 [event_spider] DEBUG: Crawled (200) <GET http://api.soundcloud.com/users/valentinoo/tracks.json?client_id=d1c9c9869e1df58cfe5258a84e26f08b> (referer: http://www.residentadvisor.net/dj/valentino45)\r\n",
        "2014-09-29 21:30:56+0200 [event_spider] DEBUG: Scraped from <200 http://api.soundcloud.com/users/valentinoo/tracks.json?client_id=d1c9c9869e1df58cfe5258a84e26f08b>\r\n",
        "\t{'artists': [{'name': u'Valentino 45',\r\n",
        "\t 'ra_artist_id': u'valentino45',\r\n",
        "\t 'sc_link': u'http://www.soundcloud.com/valentinoo',\r\n",
        "\t 'sc_track_id': 39945801,\r\n",
        "\t 'sc_user': u'valentinoo',\r\n",
        "\t 'sc_value': 6715,\r\n",
        "\t 'url': u'http://www.residentadvisor.net/dj/valentino45'}],\r\n",
        "\t 'date': '2014-09-27',\r\n",
        "\t 'name': u'Mifras Concert (Modern Jazz / iL) - Rooftop Special +Rockdamost + Longplayer + Valentino45 at Klunkerkranich',\r\n",
        "\t 'ra_event_id': '631474',\r\n",
        "\t 'url': 'http://www.residentadvisor.net/event.aspx?631474'}\r\n"
       ]
      },
      {
       "output_type": "stream",
       "stream": "stdout",
       "text": [
        "2014-09-29 21:30:56+0200 [event_spider] DEBUG: Crawled (200) <GET http://api.soundcloud.com/users/burnhard-1/tracks.json?client_id=d1c9c9869e1df58cfe5258a84e26f08b> (referer: http://www.residentadvisor.net/dj/burnhard)\r\n"
       ]
      },
      {
       "output_type": "stream",
       "stream": "stdout",
       "text": [
        "2014-09-29 21:30:57+0200 [event_spider] DEBUG: Crawled (200) <GET http://www.residentadvisor.net/dj/danaruh> (referer: http://www.residentadvisor.net/event.aspx?638510)\r\n"
       ]
      },
      {
       "output_type": "stream",
       "stream": "stdout",
       "text": [
        "2014-09-29 21:30:57+0200 [event_spider] DEBUG: Crawled (200) <GET http://www.residentadvisor.net/event.aspx?633000> (referer: http://www.residentadvisor.net/events.aspx?ai=34&yr=2014&mn=9&dy=27&v=day)\r\n"
       ]
      },
      {
       "output_type": "stream",
       "stream": "stdout",
       "text": [
        "2014-09-29 21:30:57+0200 [event_spider] DEBUG: Crawled (200) <GET http://www.residentadvisor.net/dj/davidkeno> (referer: http://www.residentadvisor.net/event.aspx?633578)\r\n"
       ]
      },
      {
       "output_type": "stream",
       "stream": "stdout",
       "text": [
        "2014-09-29 21:30:58+0200 [event_spider] DEBUG: Crawled (200) <GET http://www.residentadvisor.net/dj/samuelfach> (referer: http://www.residentadvisor.net/event.aspx?640033)\r\n"
       ]
      },
      {
       "output_type": "stream",
       "stream": "stdout",
       "text": [
        "2014-09-29 21:30:58+0200 [event_spider] DEBUG: Crawled (200) <GET http://www.residentadvisor.net/dj/eliverveine> (referer: http://www.residentadvisor.net/event.aspx?638510)\r\n"
       ]
      },
      {
       "output_type": "stream",
       "stream": "stdout",
       "text": [
        "2014-09-29 21:30:59+0200 [event_spider] DEBUG: Crawled (200) <GET http://api.soundcloud.com/users/samuelfach/tracks.json?client_id=d1c9c9869e1df58cfe5258a84e26f08b> (referer: http://www.residentadvisor.net/dj/samuelfach)\r\n",
        "2014-09-29 21:30:59+0200 [event_spider] DEBUG: Scraped from <200 http://api.soundcloud.com/users/samuelfach/tracks.json?client_id=d1c9c9869e1df58cfe5258a84e26f08b>\r\n",
        "\t{'artists': [{'name': u'Niemand & Keiner',\r\n",
        "\t 'ra_artist_id': u'niemandkeiner',\r\n",
        "\t 'sc_link': u'http://www.soundcloud.com/niemandundkeiner',\r\n",
        "\t 'sc_track_id': 77249585,\r\n",
        "\t 'sc_user': u'niemandundkeiner',\r\n",
        "\t 'sc_value': 22758,\r\n",
        "\t 'url': u'http://www.residentadvisor.net/dj/niemandkeiner'},\r\n",
        "\t             {'name': u'Burnhard',\r\n",
        "\t 'ra_artist_id': u'burnhard',\r\n",
        "\t 'sc_link': u'http://www.soundcloud.com/burnhard-1',\r\n",
        "\t 'sc_track_id': 128471511,\r\n",
        "\t 'sc_user': u'burnhard-1',\r\n",
        "\t 'sc_value': 5221,\r\n",
        "\t 'url': u'http://www.residentadvisor.net/dj/burnhard'},\r\n",
        "\t             {'name': u'Samuel Fach',\r\n",
        "\t 'ra_artist_id': u'samuelfach',\r\n",
        "\t 'sc_link': u'http://www.soundcloud.com/samuelfach',\r\n",
        "\t 'sc_track_id': 94448219,\r\n",
        "\t 'sc_user': u'samuelfach',\r\n",
        "\t 'sc_value': 43436,\r\n",
        "\t 'url': u'http://www.residentadvisor.net/dj/samuelfach'}],\r\n",
        "\t 'date': '2014-09-27',\r\n",
        "\t 'name': u'Geschichten aus Untenwelt at KE//ER',\r\n",
        "\t 'ra_event_id': '640033',\r\n",
        "\t 'url': 'http://www.residentadvisor.net/event.aspx?640033'}\r\n"
       ]
      },
      {
       "output_type": "stream",
       "stream": "stdout",
       "text": [
        "2014-09-29 21:30:59+0200 [event_spider] DEBUG: Crawled (200) <GET http://api.soundcloud.com/users/eli-verveine/tracks.json?client_id=d1c9c9869e1df58cfe5258a84e26f08b> (referer: http://www.residentadvisor.net/dj/eliverveine)\r\n"
       ]
      },
      {
       "output_type": "stream",
       "stream": "stdout",
       "text": [
        "2014-09-29 21:31:02+0200 [event_spider] DEBUG: Crawled (200) <GET http://www.residentadvisor.net/dj/masakotsujii> (referer: http://www.residentadvisor.net/event.aspx?639465)\r\n"
       ]
      },
      {
       "output_type": "stream",
       "stream": "stdout",
       "text": [
        "2014-09-29 21:31:08+0200 [event_spider] DEBUG: Crawled (200) <GET http://www.residentadvisor.net/dj/czar> (referer: http://www.residentadvisor.net/event.aspx?639465)\r\n"
       ]
      },
      {
       "output_type": "stream",
       "stream": "stdout",
       "text": [
        "2014-09-29 21:31:08+0200 [event_spider] DEBUG: Crawled (200) <GET http://api.soundcloud.com/users/masaco/tracks.json?client_id=d1c9c9869e1df58cfe5258a84e26f08b> (referer: http://www.residentadvisor.net/dj/masakotsujii)\r\n"
       ]
      },
      {
       "output_type": "stream",
       "stream": "stdout",
       "text": [
        "2014-09-29 21:31:11+0200 [event_spider] DEBUG: Crawled (200) <GET http://www.residentadvisor.net/dj/alexkiefer> (referer: http://www.residentadvisor.net/event.aspx?633578)\r\n"
       ]
      },
      {
       "output_type": "stream",
       "stream": "stdout",
       "text": [
        "2014-09-29 21:31:15+0200 [event_spider] DEBUG: Crawled (200) <GET http://www.residentadvisor.net/dj/por.no> (referer: http://www.residentadvisor.net/event.aspx?633578)\r\n"
       ]
      },
      {
       "output_type": "stream",
       "stream": "stdout",
       "text": [
        "2014-09-29 21:31:20+0200 [event_spider] DEBUG: Crawled (200) <GET http://www.residentadvisor.net/dj/miropajic> (referer: http://www.residentadvisor.net/event.aspx?639465)\r\n"
       ]
      },
      {
       "output_type": "stream",
       "stream": "stdout",
       "text": [
        "2014-09-29 21:31:21+0200 [event_spider] DEBUG: Crawled (200) <GET http://api.soundcloud.com/users/por-no/tracks.json?client_id=d1c9c9869e1df58cfe5258a84e26f08b> (referer: http://www.residentadvisor.net/dj/por.no)\r\n"
       ]
      },
      {
       "output_type": "stream",
       "stream": "stdout",
       "text": [
        "2014-09-29 21:31:21+0200 [event_spider] DEBUG: Crawled (200) <GET http://www.residentadvisor.net/dj/danieldreier> (referer: http://www.residentadvisor.net/event.aspx?639465)\r\n"
       ]
      },
      {
       "output_type": "stream",
       "stream": "stdout",
       "text": [
        "2014-09-29 21:31:30+0200 [event_spider] DEBUG: Crawled (200) <GET http://www.residentadvisor.net/dj/cemorlow> (referer: http://www.residentadvisor.net/event.aspx?635887)\r\n"
       ]
      },
      {
       "output_type": "stream",
       "stream": "stdout",
       "text": [
        "2014-09-29 21:31:40+0200 [event_spider] INFO: Crawled 122 pages (at 22 pages/min), scraped 5 items (at 2 items/min)\r\n"
       ]
      },
      {
       "output_type": "stream",
       "stream": "stdout",
       "text": [
        "2014-09-29 21:31:41+0200 [event_spider] DEBUG: Crawled (200) <GET http://www.residentadvisor.net/dj/falseimage> (referer: http://www.residentadvisor.net/event.aspx?639465)\r\n"
       ]
      },
      {
       "output_type": "stream",
       "stream": "stdout",
       "text": [
        "2014-09-29 21:31:46+0200 [event_spider] DEBUG: Crawled (200) <GET http://www.residentadvisor.net/dj/juerga> (referer: http://www.residentadvisor.net/event.aspx?633000)\r\n"
       ]
      },
      {
       "output_type": "stream",
       "stream": "stdout",
       "text": [
        "2014-09-29 21:31:46+0200 [event_spider] DEBUG: Crawled (200) <GET http://api.soundcloud.com/users/falseimage/tracks.json?client_id=d1c9c9869e1df58cfe5258a84e26f08b> (referer: http://www.residentadvisor.net/dj/falseimage)\r\n"
       ]
      },
      {
       "output_type": "stream",
       "stream": "stdout",
       "text": [
        "2014-09-29 21:31:46+0200 [event_spider] DEBUG: Crawled (200) <GET http://www.residentadvisor.net/dj/anthea> (referer: http://www.residentadvisor.net/event.aspx?638510)\r\n"
       ]
      },
      {
       "output_type": "stream",
       "stream": "stdout",
       "text": [
        "2014-09-29 21:31:46+0200 [event_spider] DEBUG: Crawled (200) <GET http://api.soundcloud.com/users/juerga/tracks.json?client_id=d1c9c9869e1df58cfe5258a84e26f08b> (referer: http://www.residentadvisor.net/dj/juerga)\r\n",
        "2014-09-29 21:31:46+0200 [event_spider] DEBUG: Scraped from <200 http://api.soundcloud.com/users/juerga/tracks.json?client_id=d1c9c9869e1df58cfe5258a84e26f08b>\r\n",
        "\t{'artists': [{'name': u'Juerga',\r\n",
        "\t 'ra_artist_id': u'juerga',\r\n",
        "\t 'sc_link': u'http://www.soundcloud.com/juerga',\r\n",
        "\t 'sc_track_id': 78360353,\r\n",
        "\t 'sc_user': u'juerga',\r\n",
        "\t 'sc_value': 2226,\r\n",
        "\t 'url': u'http://www.residentadvisor.net/dj/juerga'}],\r\n",
        "\t 'club': {'adress': u' Schillerpromenade 11, 12049 Berlin',\r\n",
        "\t 'latlon': [52.475866, 13.4220073],\r\n",
        "\t 'name': u'Promenaden Eck',\r\n",
        "\t 'ra_club_id': u'88900',\r\n",
        "\t 'url': u'http://www.residentadvisor.net/club.aspx?id=88900'},\r\n",
        "\t 'date': '2014-09-27',\r\n",
        "\t 'name': u'Juerga & Funk Faz at Promenaden Eck',\r\n",
        "\t 'ra_club_id': u'88900',\r\n",
        "\t 'ra_event_id': '633000',\r\n",
        "\t 'url': 'http://www.residentadvisor.net/event.aspx?633000'}\r\n"
       ]
      },
      {
       "output_type": "stream",
       "stream": "stdout",
       "text": [
        "2014-09-29 21:31:46+0200 [event_spider] DEBUG: Crawled (200) <GET http://api.soundcloud.com/users/anthea-marie/tracks.json?client_id=d1c9c9869e1df58cfe5258a84e26f08b> (referer: http://www.residentadvisor.net/dj/anthea)\r\n"
       ]
      },
      {
       "output_type": "stream",
       "stream": "stdout",
       "text": [
        "2014-09-29 21:31:51+0200 [event_spider] DEBUG: Crawled (200) <GET http://www.residentadvisor.net/dj/tonithorn> (referer: http://www.residentadvisor.net/event.aspx?633578)\r\n"
       ]
      },
      {
       "output_type": "stream",
       "stream": "stdout",
       "text": [
        "2014-09-29 21:31:51+0200 [event_spider] DEBUG: Crawled (200) <GET http://www.residentadvisor.net/dj/danielsteinberg> (referer: http://www.residentadvisor.net/event.aspx?639465)\r\n"
       ]
      },
      {
       "output_type": "stream",
       "stream": "stdout",
       "text": [
        "2014-09-29 21:31:52+0200 [event_spider] DEBUG: Crawled (200) <GET http://api.soundcloud.com/users/tonithorn/tracks.json?client_id=d1c9c9869e1df58cfe5258a84e26f08b> (referer: http://www.residentadvisor.net/dj/tonithorn)\r\n"
       ]
      },
      {
       "output_type": "stream",
       "stream": "stdout",
       "text": [
        "2014-09-29 21:31:52+0200 [event_spider] DEBUG: Crawled (200) <GET http://www.residentadvisor.net/dj/renaissanceman> (referer: http://www.residentadvisor.net/event.aspx?633712)\r\n"
       ]
      },
      {
       "output_type": "stream",
       "stream": "stdout",
       "text": [
        "2014-09-29 21:31:52+0200 [event_spider] DEBUG: Crawled (200) <GET http://www.residentadvisor.net/event.aspx?637135> (referer: http://www.residentadvisor.net/events.aspx?ai=34&yr=2014&mn=9&dy=27&v=day)\r\n"
       ]
      },
      {
       "output_type": "stream",
       "stream": "stdout",
       "text": [
        "2014-09-29 21:31:52+0200 [event_spider] DEBUG: Crawled (200) <GET http://api.soundcloud.com/users/daniel-steinberg/tracks.json?client_id=d1c9c9869e1df58cfe5258a84e26f08b> (referer: http://www.residentadvisor.net/dj/danielsteinberg)\r\n"
       ]
      },
      {
       "output_type": "stream",
       "stream": "stdout",
       "text": [
        "2014-09-29 21:31:53+0200 [event_spider] DEBUG: Crawled (200) <GET http://api.soundcloud.com/users/renaissance-man/tracks.json?client_id=d1c9c9869e1df58cfe5258a84e26f08b> (referer: http://www.residentadvisor.net/dj/renaissanceman)\r\n"
       ]
      },
      {
       "output_type": "stream",
       "stream": "stdout",
       "text": [
        "2014-09-29 21:31:53+0200 [event_spider] DEBUG: Crawled (200) <GET http://www.residentadvisor.net/dj/missjools> (referer: http://www.residentadvisor.net/event.aspx?638510)\r\n"
       ]
      },
      {
       "output_type": "stream",
       "stream": "stdout",
       "text": [
        "2014-09-29 21:31:53+0200 [event_spider] DEBUG: Crawled (200) <GET http://www.residentadvisor.net/event.aspx?631948> (referer: http://www.residentadvisor.net/events.aspx?ai=34&yr=2014&mn=9&dy=27&v=day)\r\n"
       ]
      },
      {
       "output_type": "stream",
       "stream": "stdout",
       "text": [
        "2014-09-29 21:31:54+0200 [event_spider] DEBUG: Crawled (200) <GET http://www.residentadvisor.net/event.aspx?624601> (referer: http://www.residentadvisor.net/events.aspx?ai=34&yr=2014&mn=9&dy=27&v=day)\r\n",
        "2014-09-29 21:31:54+0200 [event_spider] DEBUG: Crawled (200) <GET http://api.soundcloud.com/users/missjools/tracks.json?client_id=d1c9c9869e1df58cfe5258a84e26f08b> (referer: http://www.residentadvisor.net/dj/missjools)\r\n"
       ]
      },
      {
       "output_type": "stream",
       "stream": "stdout",
       "text": [
        "2014-09-29 21:31:54+0200 [event_spider] DEBUG: Crawled (200) <GET http://www.residentadvisor.net/event.aspx?622893> (referer: http://www.residentadvisor.net/events.aspx?ai=34&yr=2014&mn=9&dy=27&v=day)\r\n"
       ]
      },
      {
       "output_type": "stream",
       "stream": "stdout",
       "text": [
        "2014-09-29 21:31:54+0200 [event_spider] DEBUG: Crawled (200) <GET http://www.residentadvisor.net/event.aspx?630054> (referer: http://www.residentadvisor.net/events.aspx?ai=34&yr=2014&mn=9&dy=27&v=day)\r\n"
       ]
      },
      {
       "output_type": "stream",
       "stream": "stdout",
       "text": [
        "2014-09-29 21:31:55+0200 [event_spider] DEBUG: Crawled (200) <GET http://www.residentadvisor.net/event.aspx?624959> (referer: http://www.residentadvisor.net/events.aspx?ai=34&yr=2014&mn=9&dy=27&v=day)\r\n",
        "2014-09-29 21:31:55+0200 [event_spider] DEBUG: Crawled (200) <GET http://www.residentadvisor.net/dj/noahpred> (referer: http://www.residentadvisor.net/event.aspx?639465)\r\n"
       ]
      },
      {
       "output_type": "stream",
       "stream": "stdout",
       "text": [
        "2014-09-29 21:31:55+0200 [event_spider] DEBUG: Crawled (200) <GET http://www.residentadvisor.net/event.aspx?637495> (referer: http://www.residentadvisor.net/events.aspx?ai=34&yr=2014&mn=9&dy=27&v=day)\r\n"
       ]
      },
      {
       "output_type": "stream",
       "stream": "stdout",
       "text": [
        "2014-09-29 21:31:56+0200 [event_spider] DEBUG: Crawled (200) <GET http://api.soundcloud.com/users/noahpred/tracks.json?client_id=d1c9c9869e1df58cfe5258a84e26f08b> (referer: http://www.residentadvisor.net/dj/noahpred)\r\n"
       ]
      },
      {
       "output_type": "stream",
       "stream": "stdout",
       "text": [
        "2014-09-29 21:31:56+0200 [event_spider] DEBUG: Crawled (200) <GET http://www.residentadvisor.net/event.aspx?625478> (referer: http://www.residentadvisor.net/events.aspx?ai=34&yr=2014&mn=9&dy=27&v=day)\r\n"
       ]
      },
      {
       "output_type": "stream",
       "stream": "stdout",
       "text": [
        "2014-09-29 21:31:56+0200 [event_spider] DEBUG: Crawled (200) <GET http://www.residentadvisor.net/dj/HGR> (referer: http://www.residentadvisor.net/event.aspx?634571)\r\n"
       ]
      },
      {
       "output_type": "stream",
       "stream": "stdout",
       "text": [
        "2014-09-29 21:31:57+0200 [event_spider] DEBUG: Crawled (200) <GET http://www.residentadvisor.net/event.aspx?627256> (referer: http://www.residentadvisor.net/events.aspx?ai=34&yr=2014&mn=9&dy=27&v=day)\r\n"
       ]
      },
      {
       "output_type": "stream",
       "stream": "stdout",
       "text": [
        "2014-09-29 21:31:57+0200 [event_spider] DEBUG: Crawled (200) <GET http://api.soundcloud.com/users/hintergrundrauschen/tracks.json?client_id=d1c9c9869e1df58cfe5258a84e26f08b> (referer: http://www.residentadvisor.net/dj/HGR)\r\n"
       ]
      },
      {
       "output_type": "stream",
       "stream": "stdout",
       "text": [
        "2014-09-29 21:31:57+0200 [event_spider] DEBUG: Crawled (200) <GET http://www.residentadvisor.net/event.aspx?622637> (referer: http://www.residentadvisor.net/events.aspx?ai=34&yr=2014&mn=9&dy=27&v=day)\r\n"
       ]
      },
      {
       "output_type": "stream",
       "stream": "stdout",
       "text": [
        "2014-09-29 21:32:01+0200 [event_spider] DEBUG: Crawled (200) <GET http://www.residentadvisor.net/dj/congonatty> (referer: http://www.residentadvisor.net/event.aspx?624601)\r\n"
       ]
      },
      {
       "output_type": "stream",
       "stream": "stdout",
       "text": [
        "2014-09-29 21:32:05+0200 [event_spider] DEBUG: Crawled (200) <GET http://www.residentadvisor.net/dj/joaxcol> (referer: http://www.residentadvisor.net/event.aspx?631948)\r\n"
       ]
      },
      {
       "output_type": "stream",
       "stream": "stdout",
       "text": [
        "2014-09-29 21:32:08+0200 [event_spider] DEBUG: Crawled (200) <GET http://www.residentadvisor.net/dj/u-more> (referer: http://www.residentadvisor.net/event.aspx?630054)\r\n"
       ]
      },
      {
       "output_type": "stream",
       "stream": "stdout",
       "text": [
        "2014-09-29 21:32:09+0200 [event_spider] DEBUG: Crawled (200) <GET http://www.residentadvisor.net/dj/roko> (referer: http://www.residentadvisor.net/event.aspx?637135)\r\n",
        "2014-09-29 21:32:09+0200 [event_spider] DEBUG: Crawled (200) <GET http://api.soundcloud.com/users/joaxcol/tracks.json?client_id=d1c9c9869e1df58cfe5258a84e26f08b> (referer: http://www.residentadvisor.net/dj/joaxcol)\r\n"
       ]
      },
      {
       "output_type": "stream",
       "stream": "stdout",
       "text": [
        "2014-09-29 21:32:09+0200 [event_spider] DEBUG: Crawled (200) <GET http://api.soundcloud.com/users/u-more/tracks.json?client_id=d1c9c9869e1df58cfe5258a84e26f08b> (referer: http://www.residentadvisor.net/dj/u-more)\r\n"
       ]
      },
      {
       "output_type": "stream",
       "stream": "stdout",
       "text": [
        "2014-09-29 21:32:09+0200 [event_spider] DEBUG: Crawled (200) <GET http://www.residentadvisor.net/dj/silverman> (referer: http://www.residentadvisor.net/event.aspx?637135)\r\n"
       ]
      },
      {
       "output_type": "stream",
       "stream": "stdout",
       "text": [
        "2014-09-29 21:32:09+0200 [event_spider] DEBUG: Crawled (200) <GET http://api.soundcloud.com/users/ROKO/tracks.json?client_id=d1c9c9869e1df58cfe5258a84e26f08b> (referer: http://www.residentadvisor.net/dj/roko)\r\n"
       ]
      },
      {
       "output_type": "stream",
       "stream": "stdout",
       "text": [
        "2014-09-29 21:32:09+0200 [event_spider] DEBUG: Crawled (200) <GET http://api.soundcloud.com/users/thesilverman/tracks.json?client_id=d1c9c9869e1df58cfe5258a84e26f08b> (referer: http://www.residentadvisor.net/dj/silverman)\r\n"
       ]
      },
      {
       "output_type": "stream",
       "stream": "stdout",
       "text": [
        "2014-09-29 21:32:09+0200 [event_spider] DEBUG: Crawled (200) <GET http://www.residentadvisor.net/dj/edoardo> (referer: http://www.residentadvisor.net/event.aspx?637495)\r\n"
       ]
      },
      {
       "output_type": "stream",
       "stream": "stdout",
       "text": [
        "2014-09-29 21:32:11+0200 [event_spider] DEBUG: Crawled (200) <GET http://www.residentadvisor.net/dj/sebok> (referer: http://www.residentadvisor.net/event.aspx?622893)\r\n"
       ]
      },
      {
       "output_type": "stream",
       "stream": "stdout",
       "text": [
        "2014-09-29 21:32:11+0200 [event_spider] DEBUG: Crawled (200) <GET http://api.soundcloud.com/users/Edoardo_Musik/tracks.json?client_id=d1c9c9869e1df58cfe5258a84e26f08b> (referer: http://www.residentadvisor.net/dj/edoardo)\r\n"
       ]
      },
      {
       "output_type": "stream",
       "stream": "stdout",
       "text": [
        "2014-09-29 21:32:12+0200 [event_spider] DEBUG: Crawled (200) <GET http://api.soundcloud.com/users/mobilee-records/tracks.json?client_id=d1c9c9869e1df58cfe5258a84e26f08b> (referer: http://www.residentadvisor.net/dj/sebok)\r\n"
       ]
      },
      {
       "output_type": "stream",
       "stream": "stdout",
       "text": [
        "2014-09-29 21:32:18+0200 [event_spider] DEBUG: Crawled (200) <GET http://www.residentadvisor.net/dj/steviet> (referer: http://www.residentadvisor.net/event.aspx?627256)\r\n"
       ]
      },
      {
       "output_type": "stream",
       "stream": "stdout",
       "text": [
        "2014-09-29 21:32:19+0200 [event_spider] DEBUG: Crawled (200) <GET http://www.residentadvisor.net/dj/oshana> (referer: http://www.residentadvisor.net/event.aspx?638510)\r\n",
        "2014-09-29 21:32:19+0200 [event_spider] DEBUG: Crawled (200) <GET http://www.residentadvisor.net/dj/loefah> (referer: http://www.residentadvisor.net/event.aspx?637135)\r\n"
       ]
      },
      {
       "output_type": "stream",
       "stream": "stdout",
       "text": [
        "2014-09-29 21:32:19+0200 [event_spider] DEBUG: Crawled (200) <GET http://api.soundcloud.com/users/oshana/tracks.json?client_id=d1c9c9869e1df58cfe5258a84e26f08b> (referer: http://www.residentadvisor.net/dj/oshana)\r\n"
       ]
      },
      {
       "output_type": "stream",
       "stream": "stdout",
       "text": [
        "2014-09-29 21:32:22+0200 [event_spider] DEBUG: Crawled (200) <GET http://www.residentadvisor.net/dj/carlosdebrito> (referer: http://www.residentadvisor.net/event.aspx?634571)\r\n"
       ]
      },
      {
       "output_type": "stream",
       "stream": "stdout",
       "text": [
        "2014-09-29 21:32:26+0200 [event_spider] DEBUG: Crawled (200) <GET http://www.residentadvisor.net/dj/monkeysafari> (referer: http://www.residentadvisor.net/event.aspx?625478)\r\n"
       ]
      },
      {
       "output_type": "stream",
       "stream": "stdout",
       "text": [
        "2014-09-29 21:32:27+0200 [event_spider] DEBUG: Crawled (200) <GET http://api.soundcloud.com/users/carlosdebrito/tracks.json?client_id=d1c9c9869e1df58cfe5258a84e26f08b> (referer: http://www.residentadvisor.net/dj/carlosdebrito)\r\n"
       ]
      },
      {
       "output_type": "stream",
       "stream": "stdout",
       "text": [
        "2014-09-29 21:32:27+0200 [event_spider] DEBUG: Crawled (200) <GET http://api.soundcloud.com/users/monkey-safari/tracks.json?client_id=d1c9c9869e1df58cfe5258a84e26f08b> (referer: http://www.residentadvisor.net/dj/monkeysafari)\r\n"
       ]
      },
      {
       "output_type": "stream",
       "stream": "stdout",
       "text": [
        "2014-09-29 21:32:32+0200 [event_spider] DEBUG: Crawled (200) <GET http://www.residentadvisor.net/dj/patrykmolinari> (referer: http://www.residentadvisor.net/event.aspx?622637)\r\n"
       ]
      },
      {
       "output_type": "stream",
       "stream": "stdout",
       "text": [
        "2014-09-29 21:32:37+0200 [event_spider] DEBUG: Crawled (200) <GET http://www.residentadvisor.net/dj/karlfriedrich> (referer: http://www.residentadvisor.net/event.aspx?625478)\r\n"
       ]
      },
      {
       "output_type": "stream",
       "stream": "stdout",
       "text": [
        "2014-09-29 21:32:38+0200 [event_spider] DEBUG: Crawled (200) <GET http://api.soundcloud.com/users/patrykmolinari/tracks.json?client_id=d1c9c9869e1df58cfe5258a84e26f08b> (referer: http://www.residentadvisor.net/dj/patrykmolinari)\r\n"
       ]
      },
      {
       "output_type": "stream",
       "stream": "stdout",
       "text": [
        "2014-09-29 21:32:38+0200 [event_spider] DEBUG: Crawled (200) <GET http://www.residentadvisor.net/dj/stephanbodzin> (referer: http://www.residentadvisor.net/event.aspx?625478)\r\n",
        "2014-09-29 21:32:38+0200 [event_spider] DEBUG: Crawled (200) <GET http://api.soundcloud.com/users/karlfr/tracks.json?client_id=d1c9c9869e1df58cfe5258a84e26f08b> (referer: http://www.residentadvisor.net/dj/karlfriedrich)\r\n"
       ]
      },
      {
       "output_type": "stream",
       "stream": "stdout",
       "text": [
        "2014-09-29 21:32:38+0200 [event_spider] DEBUG: Crawled (200) <GET http://api.soundcloud.com/users/stephanbodzin/tracks.json?client_id=d1c9c9869e1df58cfe5258a84e26f08b> (referer: http://www.residentadvisor.net/dj/stephanbodzin)\r\n"
       ]
      },
      {
       "output_type": "stream",
       "stream": "stdout",
       "text": [
        "2014-09-29 21:32:38+0200 [event_spider] DEBUG: Crawled (200) <GET http://www.residentadvisor.net/dj/superflu> (referer: http://www.residentadvisor.net/event.aspx?625478)\r\n"
       ]
      },
      {
       "output_type": "stream",
       "stream": "stdout",
       "text": [
        "2014-09-29 21:32:39+0200 [event_spider] DEBUG: Crawled (200) <GET http://www.residentadvisor.net/dj/anjazaube> (referer: http://www.residentadvisor.net/event.aspx?637495)\r\n"
       ]
      },
      {
       "output_type": "stream",
       "stream": "stdout",
       "text": [
        "2014-09-29 21:32:40+0200 [event_spider] INFO: Crawled 179 pages (at 57 pages/min), scraped 6 items (at 1 items/min)\r\n"
       ]
      },
      {
       "output_type": "stream",
       "stream": "stdout",
       "text": [
        "2014-09-29 21:32:44+0200 [event_spider] DEBUG: Crawled (200) <GET http://www.residentadvisor.net/dj/fryzeit> (referer: http://www.residentadvisor.net/event.aspx?622637)\r\n"
       ]
      },
      {
       "output_type": "stream",
       "stream": "stdout",
       "text": [
        "2014-09-29 21:32:45+0200 [event_spider] DEBUG: Crawled (200) <GET http://api.soundcloud.com/users/anja-zaube/tracks.json?client_id=d1c9c9869e1df58cfe5258a84e26f08b> (referer: http://www.residentadvisor.net/dj/anjazaube)\r\n"
       ]
      },
      {
       "output_type": "stream",
       "stream": "stdout",
       "text": [
        "2014-09-29 21:32:45+0200 [event_spider] DEBUG: Crawled (200) <GET http://api.soundcloud.com/users/fryzeit/tracks.json?client_id=d1c9c9869e1df58cfe5258a84e26f08b> (referer: http://www.residentadvisor.net/dj/fryzeit)\r\n"
       ]
      },
      {
       "output_type": "stream",
       "stream": "stdout",
       "text": [
        "2014-09-29 21:32:45+0200 [event_spider] DEBUG: Crawled (200) <GET http://www.residentadvisor.net/dj/pammin> (referer: http://www.residentadvisor.net/event.aspx?622637)\r\n"
       ]
      },
      {
       "output_type": "stream",
       "stream": "stdout",
       "text": [
        "2014-09-29 21:32:45+0200 [event_spider] DEBUG: Crawled (200) <GET http://www.residentadvisor.net/dj/dsb> (referer: http://www.residentadvisor.net/event.aspx?637495)\r\n"
       ]
      },
      {
       "output_type": "stream",
       "stream": "stdout",
       "text": [
        "2014-09-29 21:32:45+0200 [event_spider] DEBUG: Crawled (200) <GET http://www.residentadvisor.net/dj/gardland> (referer: http://www.residentadvisor.net/event.aspx?637495)\r\n"
       ]
      },
      {
       "output_type": "stream",
       "stream": "stdout",
       "text": [
        "2014-09-29 21:32:45+0200 [event_spider] DEBUG: Crawled (200) <GET http://api.soundcloud.com/users/pammin/tracks.json?client_id=d1c9c9869e1df58cfe5258a84e26f08b> (referer: http://www.residentadvisor.net/dj/pammin)\r\n"
       ]
      },
      {
       "output_type": "stream",
       "stream": "stdout",
       "text": [
        "2014-09-29 21:32:46+0200 [event_spider] DEBUG: Crawled (200) <GET http://api.soundcloud.com/users/dane-close/tracks.json?client_id=d1c9c9869e1df58cfe5258a84e26f08b> (referer: http://www.residentadvisor.net/dj/dsb)\r\n"
       ]
      },
      {
       "output_type": "stream",
       "stream": "stdout",
       "text": [
        "2014-09-29 21:32:46+0200 [event_spider] DEBUG: Crawled (200) <GET http://api.soundcloud.com/users/gardland/tracks.json?client_id=d1c9c9869e1df58cfe5258a84e26f08b> (referer: http://www.residentadvisor.net/dj/gardland)\r\n"
       ]
      },
      {
       "output_type": "stream",
       "stream": "stdout",
       "text": [
        "2014-09-29 21:32:49+0200 [event_spider] DEBUG: Crawled (200) <GET http://www.residentadvisor.net/dj/pedram> (referer: http://www.residentadvisor.net/event.aspx?637495)\r\n"
       ]
      },
      {
       "output_type": "stream",
       "stream": "stdout",
       "text": [
        "2014-09-29 21:32:52+0200 [event_spider] DEBUG: Crawled (200) <GET http://www.residentadvisor.net/dj/subkutan> (referer: http://www.residentadvisor.net/event.aspx?637495)\r\n"
       ]
      },
      {
       "output_type": "stream",
       "stream": "stdout",
       "text": [
        "2014-09-29 21:32:53+0200 [event_spider] DEBUG: Crawled (404) <GET http://api.soundcloud.com/users/pedram1986/tracks.json?client_id=d1c9c9869e1df58cfe5258a84e26f08b> (referer: http://www.residentadvisor.net/dj/pedram)\r\n",
        "2014-09-29 21:32:53+0200 [event_spider] DEBUG: Ignoring response <404 http://api.soundcloud.com/users/pedram1986/tracks.json?client_id=d1c9c9869e1df58cfe5258a84e26f08b>: HTTP status code is not handled or not allowed\r\n"
       ]
      },
      {
       "output_type": "stream",
       "stream": "stdout",
       "text": [
        "2014-09-29 21:32:53+0200 [event_spider] DEBUG: Crawled (200) <GET http://api.soundcloud.com/users/subktn/tracks.json?client_id=d1c9c9869e1df58cfe5258a84e26f08b> (referer: http://www.residentadvisor.net/dj/subkutan)\r\n"
       ]
      },
      {
       "output_type": "stream",
       "stream": "stdout",
       "text": [
        "2014-09-29 21:32:53+0200 [event_spider] DEBUG: Crawled (200) <GET http://www.residentadvisor.net/dj/sanktgoran> (referer: http://www.residentadvisor.net/event.aspx?637495)\r\n"
       ]
      },
      {
       "output_type": "stream",
       "stream": "stdout",
       "text": [
        "2014-09-29 21:33:00+0200 [event_spider] DEBUG: Crawled (200) <GET http://www.residentadvisor.net/dj/jamesdemon> (referer: http://www.residentadvisor.net/event.aspx?637495)\r\n"
       ]
      },
      {
       "output_type": "stream",
       "stream": "stdout",
       "text": [
        "2014-09-29 21:33:01+0200 [event_spider] DEBUG: Crawled (200) <GET http://api.soundcloud.com/users/sanktgoran/tracks.json?client_id=d1c9c9869e1df58cfe5258a84e26f08b> (referer: http://www.residentadvisor.net/dj/sanktgoran)\r\n"
       ]
      },
      {
       "output_type": "stream",
       "stream": "stdout",
       "text": [
        "2014-09-29 21:33:04+0200 [event_spider] DEBUG: Crawled (200) <GET http://www.residentadvisor.net/dj/artemis> (referer: http://www.residentadvisor.net/event.aspx?637495)\r\n"
       ]
      },
      {
       "output_type": "stream",
       "stream": "stdout",
       "text": [
        "2014-09-29 21:33:08+0200 [event_spider] DEBUG: Crawled (200) <GET http://www.residentadvisor.net/dj/sickgirls> (referer: http://www.residentadvisor.net/event.aspx?637135)\r\n"
       ]
      },
      {
       "output_type": "stream",
       "stream": "stdout",
       "text": [
        "2014-09-29 21:33:09+0200 [event_spider] DEBUG: Crawled (200) <GET http://www.residentadvisor.net/dj/dirtcrew> (referer: http://www.residentadvisor.net/event.aspx?624959)\r\n"
       ]
      },
      {
       "output_type": "stream",
       "stream": "stdout",
       "text": [
        "2014-09-29 21:33:09+0200 [event_spider] DEBUG: Crawled (200) <GET http://api.soundcloud.com/users/sick-girls/tracks.json?client_id=d1c9c9869e1df58cfe5258a84e26f08b> (referer: http://www.residentadvisor.net/dj/sickgirls)\r\n"
       ]
      },
      {
       "output_type": "stream",
       "stream": "stdout",
       "text": [
        "2014-09-29 21:33:13+0200 [event_spider] DEBUG: Crawled (200) <GET http://www.residentadvisor.net/dj/mutlu> (referer: http://www.residentadvisor.net/event.aspx?624959)\r\n"
       ]
      },
      {
       "output_type": "stream",
       "stream": "stdout",
       "text": [
        "2014-09-29 21:33:13+0200 [event_spider] DEBUG: Crawled (200) <GET http://www.residentadvisor.net/dj/chasingkurt> (referer: http://www.residentadvisor.net/event.aspx?625478)\r\n"
       ]
      },
      {
       "output_type": "stream",
       "stream": "stdout",
       "text": [
        "2014-09-29 21:33:13+0200 [event_spider] DEBUG: Crawled (200) <GET http://www.residentadvisor.net/dj/ladyblacktronika> (referer: http://www.residentadvisor.net/event.aspx?637495)\r\n"
       ]
      },
      {
       "output_type": "stream",
       "stream": "stdout",
       "text": [
        "2014-09-29 21:33:13+0200 [event_spider] DEBUG: Crawled (200) <GET http://api.soundcloud.com/users/mutlu/tracks.json?client_id=d1c9c9869e1df58cfe5258a84e26f08b> (referer: http://www.residentadvisor.net/dj/mutlu)\r\n"
       ]
      },
      {
       "output_type": "stream",
       "stream": "stdout",
       "text": [
        "2014-09-29 21:33:13+0200 [event_spider] DEBUG: Crawled (200) <GET http://www.residentadvisor.net/dj/shinedoe> (referer: http://www.residentadvisor.net/event.aspx?624959)\r\n"
       ]
      },
      {
       "output_type": "stream",
       "stream": "stdout",
       "text": [
        "2014-09-29 21:33:13+0200 [event_spider] DEBUG: Crawled (200) <GET http://api.soundcloud.com/users/msladyblacktronika/tracks.json?client_id=d1c9c9869e1df58cfe5258a84e26f08b> (referer: http://www.residentadvisor.net/dj/ladyblacktronika)\r\n"
       ]
      },
      {
       "output_type": "stream",
       "stream": "stdout",
       "text": [
        "2014-09-29 21:33:14+0200 [event_spider] DEBUG: Crawled (200) <GET http://api.soundcloud.com/users/Shinedoe/tracks.json?client_id=d1c9c9869e1df58cfe5258a84e26f08b> (referer: http://www.residentadvisor.net/dj/shinedoe)\r\n"
       ]
      },
      {
       "output_type": "stream",
       "stream": "stdout",
       "text": [
        "2014-09-29 21:33:19+0200 [event_spider] DEBUG: Crawled (200) <GET http://www.residentadvisor.net/dj/satoshiotsuki> (referer: http://www.residentadvisor.net/event.aspx?622893)\r\n"
       ]
      },
      {
       "output_type": "stream",
       "stream": "stdout",
       "text": [
        "2014-09-29 21:33:21+0200 [event_spider] DEBUG: Crawled (200) <GET http://www.residentadvisor.net/dj/pointg> (referer: http://www.residentadvisor.net/event.aspx?622893)\r\n"
       ]
      },
      {
       "output_type": "stream",
       "stream": "stdout",
       "text": [
        "2014-09-29 21:33:26+0200 [event_spider] DEBUG: Crawled (200) <GET http://www.residentadvisor.net/dj/yone-ko> (referer: http://www.residentadvisor.net/event.aspx?630054)\r\n"
       ]
      },
      {
       "output_type": "stream",
       "stream": "stdout",
       "text": [
        "2014-09-29 21:33:27+0200 [event_spider] DEBUG: Crawled (200) <GET http://www.residentadvisor.net/dj/atb> (referer: http://www.residentadvisor.net/event.aspx?624601)\r\n"
       ]
      },
      {
       "output_type": "stream",
       "stream": "stdout",
       "text": [
        "2014-09-29 21:33:27+0200 [event_spider] DEBUG: Crawled (200) <GET http://api.soundcloud.com/users/yone-ko/tracks.json?client_id=d1c9c9869e1df58cfe5258a84e26f08b> (referer: http://www.residentadvisor.net/dj/yone-ko)\r\n"
       ]
      },
      {
       "output_type": "stream",
       "stream": "stdout",
       "text": [
        "2014-09-29 21:33:33+0200 [event_spider] DEBUG: Crawled (200) <GET http://www.residentadvisor.net/dj/gustavoandres> (referer: http://www.residentadvisor.net/event.aspx?637495)\r\n"
       ]
      },
      {
       "output_type": "stream",
       "stream": "stdout",
       "text": [
        "2014-09-29 21:33:39+0200 [event_spider] DEBUG: Crawled (200) <GET http://www.residentadvisor.net/dj/diaz-soto> (referer: http://www.residentadvisor.net/event.aspx?624601)\r\n"
       ]
      },
      {
       "output_type": "stream",
       "stream": "stdout",
       "text": [
        "2014-09-29 21:33:40+0200 [event_spider] DEBUG: Crawled (200) <GET http://api.soundcloud.com/users/gusty/tracks.json?client_id=d1c9c9869e1df58cfe5258a84e26f08b> (referer: http://www.residentadvisor.net/dj/gustavoandres)\r\n"
       ]
      },
      {
       "output_type": "stream",
       "stream": "stdout",
       "text": [
        "2014-09-29 21:33:40+0200 [event_spider] INFO: Crawled 214 pages (at 35 pages/min), scraped 6 items (at 0 items/min)\r\n"
       ]
      },
      {
       "output_type": "stream",
       "stream": "stdout",
       "text": [
        "2014-09-29 21:33:40+0200 [event_spider] DEBUG: Crawled (200) <GET http://www.residentadvisor.net/dj/djqu> (referer: http://www.residentadvisor.net/event.aspx?622893)\r\n"
       ]
      },
      {
       "output_type": "stream",
       "stream": "stdout",
       "text": [
        "2014-09-29 21:33:41+0200 [event_spider] DEBUG: Crawled (200) <GET http://www.residentadvisor.net/dj/ronwilson> (referer: http://www.residentadvisor.net/event.aspx?622893)\r\n"
       ]
      },
      {
       "output_type": "stream",
       "stream": "stdout",
       "text": [
        "2014-09-29 21:33:41+0200 [event_spider] DEBUG: Crawled (200) <GET http://api.soundcloud.com/users/djqu-strength-music/tracks.json?client_id=d1c9c9869e1df58cfe5258a84e26f08b> (referer: http://www.residentadvisor.net/dj/djqu)\r\n"
       ]
      },
      {
       "output_type": "stream",
       "stream": "stdout",
       "text": [
        "2014-09-29 21:33:47+0200 [event_spider] DEBUG: Crawled (200) <GET http://www.residentadvisor.net/dj/tschoris> (referer: http://www.residentadvisor.net/event.aspx?631948)\r\n"
       ]
      },
      {
       "output_type": "stream",
       "stream": "stdout",
       "text": [
        "2014-09-29 21:33:47+0200 [event_spider] DEBUG: Crawled (200) <GET http://api.soundcloud.com/users/tschoris/tracks.json?client_id=d1c9c9869e1df58cfe5258a84e26f08b> (referer: http://www.residentadvisor.net/dj/tschoris)\r\n"
       ]
      },
      {
       "output_type": "stream",
       "stream": "stdout",
       "text": [
        "2014-09-29 21:33:48+0200 [event_spider] DEBUG: Crawled (200) <GET http://www.residentadvisor.net/event.aspx?637029> (referer: http://www.residentadvisor.net/events.aspx?ai=34&yr=2014&mn=9&dy=27&v=day)\r\n"
       ]
      },
      {
       "output_type": "stream",
       "stream": "stdout",
       "text": [
        "2014-09-29 21:33:48+0200 [event_spider] DEBUG: Crawled (200) <GET http://www.residentadvisor.net/event.aspx?626301> (referer: http://www.residentadvisor.net/events.aspx?ai=34&yr=2014&mn=9&dy=27&v=day)\r\n"
       ]
      },
      {
       "output_type": "stream",
       "stream": "stdout",
       "text": [
        "2014-09-29 21:33:52+0200 [event_spider] DEBUG: Crawled (200) <GET http://www.residentadvisor.net/dj/wastedruffians> (referer: http://www.residentadvisor.net/event.aspx?622637)\r\n"
       ]
      },
      {
       "output_type": "stream",
       "stream": "stdout",
       "text": [
        "2014-09-29 21:33:53+0200 [event_spider] DEBUG: Crawled (200) <GET http://www.residentadvisor.net/event.aspx?627230> (referer: http://www.residentadvisor.net/events.aspx?ai=34&yr=2014&mn=9&dy=27&v=day)\r\n"
       ]
      },
      {
       "output_type": "stream",
       "stream": "stdout",
       "text": [
        "2014-09-29 21:33:53+0200 [event_spider] DEBUG: Crawled (200) <GET http://www.residentadvisor.net/event.aspx?622572> (referer: http://www.residentadvisor.net/events.aspx?ai=34&yr=2014&mn=9&dy=27&v=day)\r\n",
        "2014-09-29 21:33:53+0200 [event_spider] DEBUG: Crawled (200) <GET http://api.soundcloud.com/users/wasted-ruffians/tracks.json?client_id=d1c9c9869e1df58cfe5258a84e26f08b> (referer: http://www.residentadvisor.net/dj/wastedruffians)\r\n"
       ]
      },
      {
       "output_type": "stream",
       "stream": "stdout",
       "text": [
        "2014-09-29 21:33:54+0200 [event_spider] DEBUG: Scraped from <200 http://api.soundcloud.com/users/wasted-ruffians/tracks.json?client_id=d1c9c9869e1df58cfe5258a84e26f08b>\r\n",
        "\t{'artists': [{'name': u'Patryk Molinari',\r\n",
        "\t 'ra_artist_id': u'patrykmolinari',\r\n",
        "\t 'sc_link': u'http://www.soundcloud.com/patrykmolinari',\r\n",
        "\t 'sc_track_id': 58536776,\r\n",
        "\t 'sc_user': u'patrykmolinari',\r\n",
        "\t 'sc_value': 140290,\r\n",
        "\t 'url': u'http://www.residentadvisor.net/dj/patrykmolinari'},\r\n",
        "\t             {'name': u'Fryzeit',\r\n",
        "\t 'ra_artist_id': u'fryzeit',\r\n",
        "\t 'sc_link': u'http://www.soundcloud.com/fryzeit',\r\n",
        "\t 'sc_track_id': 54693814,\r\n",
        "\t 'sc_user': u'fryzeit',\r\n",
        "\t 'sc_value': 691,\r\n",
        "\t 'url': u'http://www.residentadvisor.net/dj/fryzeit'},\r\n",
        "\t             {'name': u'pammin',\r\n",
        "\t 'ra_artist_id': u'pammin',\r\n",
        "\t 'sc_link': u'http://www.soundcloud.com/pammin',\r\n",
        "\t 'sc_track_id': 117846511,\r\n",
        "\t 'sc_user': u'pammin',\r\n",
        "\t 'sc_value': 73031,\r\n",
        "\t 'url': u'http://www.residentadvisor.net/dj/pammin'},\r\n",
        "\t             {'name': u'Wasted Ruffians',\r\n",
        "\t 'ra_artist_id': u'wastedruffians',\r\n",
        "\t 'sc_link': u'http://www.soundcloud.com/wasted-ruffians',\r\n",
        "\t 'sc_track_id': 144016423,\r\n",
        "\t 'sc_user': u'wasted-ruffians',\r\n",
        "\t 'sc_value': 30032,\r\n",
        "\t 'url': u'http://www.residentadvisor.net/dj/wastedruffians'}],\r\n",
        "\t 'club': {'adress': u' Revaler Strasse 29; Friedrichshain; 10245 Berlin;',\r\n",
        "\t 'latlon': [52.50516, 13.46246],\r\n",
        "\t 'name': u\"Rosi's\",\r\n",
        "\t 'ra_club_id': u'3708',\r\n",
        "\t 'url': u'http://www.residentadvisor.net/club.aspx?id=3708'},\r\n",
        "\t 'date': '2014-09-27',\r\n",
        "\t 'name': u\"Ease - Pattern at Rosi's\",\r\n",
        "\t 'ra_club_id': u'3708',\r\n",
        "\t 'ra_event_id': '622637',\r\n",
        "\t 'url': 'http://www.residentadvisor.net/event.aspx?622637'}\r\n",
        "2014-09-29 21:33:54+0200 [event_spider] DEBUG: Crawled (200) <GET http://www.residentadvisor.net/event.aspx?631938> (referer: http://www.residentadvisor.net/events.aspx?ai=34&yr=2014&mn=9&dy=27&v=day)\r\n",
        "2014-09-29 21:33:54+0200 [event_spider] DEBUG: Crawled (200) <GET http://www.residentadvisor.net/event.aspx?627526> (referer: http://www.residentadvisor.net/events.aspx?ai=34&yr=2014&mn=9&dy=27&v=day)\r\n"
       ]
      },
      {
       "output_type": "stream",
       "stream": "stdout",
       "text": [
        "2014-09-29 21:33:57+0200 [event_spider] DEBUG: Crawled (200) <GET http://www.residentadvisor.net/dj/pascalhetzel> (referer: http://www.residentadvisor.net/event.aspx?624959)\r\n"
       ]
      },
      {
       "output_type": "stream",
       "stream": "stdout",
       "text": [
        "2014-09-29 21:34:01+0200 [event_spider] DEBUG: Crawled (200) <GET http://www.residentadvisor.net/dj/edherbst> (referer: http://www.residentadvisor.net/event.aspx?637029)\r\n"
       ]
      },
      {
       "output_type": "stream",
       "stream": "stdout",
       "text": [
        "2014-09-29 21:34:01+0200 [event_spider] DEBUG: Crawled (200) <GET http://api.soundcloud.com/users/pascalhetzel/tracks.json?client_id=d1c9c9869e1df58cfe5258a84e26f08b> (referer: http://www.residentadvisor.net/dj/pascalhetzel)\r\n"
       ]
      },
      {
       "output_type": "stream",
       "stream": "stdout",
       "text": [
        "2014-09-29 21:34:07+0200 [event_spider] DEBUG: Crawled (200) <GET http://www.residentadvisor.net/dj/stevn.aint.leavn> (referer: http://www.residentadvisor.net/event.aspx?637029)\r\n"
       ]
      },
      {
       "output_type": "stream",
       "stream": "stdout",
       "text": [
        "2014-09-29 21:34:07+0200 [event_spider] DEBUG: Crawled (200) <GET http://www.residentadvisor.net/dj/diegokrause> (referer: http://www.residentadvisor.net/event.aspx?637029)\r\n"
       ]
      },
      {
       "output_type": "stream",
       "stream": "stdout",
       "text": [
        "2014-09-29 21:34:07+0200 [event_spider] DEBUG: Crawled (404) <GET http://api.soundcloud.com/users//tracks.json?client_id=d1c9c9869e1df58cfe5258a84e26f08b> (referer: http://www.residentadvisor.net/dj/stevn.aint.leavn)\r\n",
        "2014-09-29 21:34:07+0200 [event_spider] DEBUG: Ignoring response <404 http://api.soundcloud.com/users//tracks.json?client_id=d1c9c9869e1df58cfe5258a84e26f08b>: HTTP status code is not handled or not allowed\r\n"
       ]
      },
      {
       "output_type": "stream",
       "stream": "stdout",
       "text": [
        "2014-09-29 21:34:07+0200 [event_spider] DEBUG: Crawled (200) <GET http://api.soundcloud.com/users/diegokrause/tracks.json?client_id=d1c9c9869e1df58cfe5258a84e26f08b> (referer: http://www.residentadvisor.net/dj/diegokrause)\r\n"
       ]
      },
      {
       "output_type": "stream",
       "stream": "stdout",
       "text": [
        "2014-09-29 21:34:08+0200 [event_spider] DEBUG: Crawled (200) <GET http://www.residentadvisor.net/event.aspx?583818> (referer: http://www.residentadvisor.net/events.aspx?ai=34&yr=2014&mn=9&dy=27&v=day)\r\n"
       ]
      },
      {
       "output_type": "stream",
       "stream": "stdout",
       "text": [
        "2014-09-29 21:34:16+0200 [event_spider] DEBUG: Crawled (200) <GET http://www.residentadvisor.net/dj/leyk> (referer: http://www.residentadvisor.net/event.aspx?634571)\r\n"
       ]
      },
      {
       "output_type": "stream",
       "stream": "stdout",
       "text": [
        "2014-09-29 21:34:24+0200 [event_spider] DEBUG: Crawled (200) <GET http://www.residentadvisor.net/dj/benbear> (referer: http://www.residentadvisor.net/event.aspx?626301)\r\n"
       ]
      },
      {
       "output_type": "stream",
       "stream": "stdout",
       "text": [
        "2014-09-29 21:34:24+0200 [event_spider] DEBUG: Crawled (200) <GET http://www.residentadvisor.net/dj/westbam> (referer: http://www.residentadvisor.net/event.aspx?622572)\r\n"
       ]
      },
      {
       "output_type": "stream",
       "stream": "stdout",
       "text": [
        "2014-09-29 21:34:25+0200 [event_spider] DEBUG: Crawled (200) <GET http://www.residentadvisor.net/event.aspx?631897> (referer: http://www.residentadvisor.net/events.aspx?ai=34&yr=2014&mn=9&dy=27&v=day)\r\n"
       ]
      },
      {
       "output_type": "stream",
       "stream": "stdout",
       "text": [
        "2014-09-29 21:34:32+0200 [event_spider] DEBUG: Crawled (200) <GET http://www.residentadvisor.net/dj/abajour> (referer: http://www.residentadvisor.net/event.aspx?627526)\r\n"
       ]
      },
      {
       "output_type": "stream",
       "stream": "stdout",
       "text": [
        "2014-09-29 21:34:32+0200 [event_spider] DEBUG: Crawled (200) <GET http://www.residentadvisor.net/dj/marcelluspittman> (referer: http://www.residentadvisor.net/event.aspx?627230)\r\n"
       ]
      },
      {
       "output_type": "stream",
       "stream": "stdout",
       "text": [
        "2014-09-29 21:34:35+0200 [event_spider] DEBUG: Crawled (200) <GET http://www.residentadvisor.net/dj/laylladane> (referer: http://www.residentadvisor.net/event.aspx?627230)\r\n"
       ]
      },
      {
       "output_type": "stream",
       "stream": "stdout",
       "text": [
        "2014-09-29 21:34:35+0200 [event_spider] DEBUG: Crawled (200) <GET http://www.residentadvisor.net/dj/barbarapreisinger> (referer: http://www.residentadvisor.net/event.aspx?627526)\r\n"
       ]
      },
      {
       "output_type": "stream",
       "stream": "stdout",
       "text": [
        "2014-09-29 21:34:36+0200 [event_spider] DEBUG: Crawled (200) <GET http://api.soundcloud.com/users/LayllaDane/tracks.json?client_id=d1c9c9869e1df58cfe5258a84e26f08b> (referer: http://www.residentadvisor.net/dj/laylladane)\r\n"
       ]
      },
      {
       "output_type": "stream",
       "stream": "stdout",
       "text": [
        "2014-09-29 21:34:36+0200 [event_spider] DEBUG: Crawled (200) <GET http://api.soundcloud.com/users/barbara-preisinger/tracks.json?client_id=d1c9c9869e1df58cfe5258a84e26f08b> (referer: http://www.residentadvisor.net/dj/barbarapreisinger)\r\n"
       ]
      },
      {
       "output_type": "stream",
       "stream": "stdout",
       "text": [
        "2014-09-29 21:34:36+0200 [event_spider] DEBUG: Crawled (200) <GET http://www.residentadvisor.net/dj/marcschneider> (referer: http://www.residentadvisor.net/event.aspx?627526)\r\n"
       ]
      },
      {
       "output_type": "stream",
       "stream": "stdout",
       "text": [
        "2014-09-29 21:34:37+0200 [event_spider] DEBUG: Crawled (200) <GET http://www.residentadvisor.net/dj/baaz> (referer: http://www.residentadvisor.net/event.aspx?627526)\r\n"
       ]
      },
      {
       "output_type": "stream",
       "stream": "stdout",
       "text": [
        "2014-09-29 21:34:37+0200 [event_spider] DEBUG: Crawled (200) <GET http://www.residentadvisor.net/dj/grizzly> (referer: http://www.residentadvisor.net/event.aspx?583818)\r\n"
       ]
      },
      {
       "output_type": "stream",
       "stream": "stdout",
       "text": [
        "2014-09-29 21:34:40+0200 [event_spider] INFO: Crawled 248 pages (at 34 pages/min), scraped 7 items (at 1 items/min)\r\n"
       ]
      },
      {
       "output_type": "stream",
       "stream": "stdout",
       "text": [
        "2014-09-29 21:34:43+0200 [event_spider] DEBUG: Crawled (200) <GET http://www.residentadvisor.net/dj/thejoyboys> (referer: http://www.residentadvisor.net/event.aspx?583818)\r\n"
       ]
      },
      {
       "output_type": "stream",
       "stream": "stdout",
       "text": [
        "2014-09-29 21:34:43+0200 [event_spider] DEBUG: Crawled (200) <GET http://api.soundcloud.com/users/grizzly/tracks.json?client_id=d1c9c9869e1df58cfe5258a84e26f08b> (referer: http://www.residentadvisor.net/dj/grizzly)\r\n"
       ]
      },
      {
       "output_type": "stream",
       "stream": "stdout",
       "text": [
        "2014-09-29 21:34:43+0200 [event_spider] DEBUG: Crawled (200) <GET http://api.soundcloud.com/users/the-joy-boys/tracks.json?client_id=d1c9c9869e1df58cfe5258a84e26f08b> (referer: http://www.residentadvisor.net/dj/thejoyboys)\r\n"
       ]
      },
      {
       "output_type": "stream",
       "stream": "stdout",
       "text": [
        "2014-09-29 21:34:49+0200 [event_spider] DEBUG: Crawled (200) <GET http://www.residentadvisor.net/dj/paulheimweh> (referer: http://www.residentadvisor.net/event.aspx?583818)\r\n"
       ]
      },
      {
       "output_type": "stream",
       "stream": "stdout",
       "text": [
        "2014-09-29 21:34:54+0200 [event_spider] DEBUG: Crawled (200) <GET http://www.residentadvisor.net/dj/marcfm> (referer: http://www.residentadvisor.net/event.aspx?631897)\r\n"
       ]
      },
      {
       "output_type": "stream",
       "stream": "stdout",
       "text": [
        "2014-09-29 21:34:54+0200 [event_spider] DEBUG: Crawled (200) <GET http://api.soundcloud.com/users/paul-heimweh/tracks.json?client_id=d1c9c9869e1df58cfe5258a84e26f08b> (referer: http://www.residentadvisor.net/dj/paulheimweh)\r\n"
       ]
      },
      {
       "output_type": "stream",
       "stream": "stdout",
       "text": [
        "2014-09-29 21:34:54+0200 [event_spider] DEBUG: Crawled (200) <GET http://api.soundcloud.com/users/satisfaction-music/tracks.json?client_id=d1c9c9869e1df58cfe5258a84e26f08b> (referer: http://www.residentadvisor.net/dj/marcfm)\r\n"
       ]
      },
      {
       "output_type": "stream",
       "stream": "stdout",
       "text": [
        "2014-09-29 21:34:59+0200 [event_spider] DEBUG: Crawled (200) <GET http://www.residentadvisor.net/dj/theswift> (referer: http://www.residentadvisor.net/event.aspx?631897)\r\n"
       ]
      },
      {
       "output_type": "stream",
       "stream": "stdout",
       "text": [
        "2014-09-29 21:35:06+0200 [event_spider] DEBUG: Crawled (200) <GET http://www.residentadvisor.net/dj/janoberlaender> (referer: http://www.residentadvisor.net/event.aspx?583818)\r\n"
       ]
      },
      {
       "output_type": "stream",
       "stream": "stdout",
       "text": [
        "2014-09-29 21:35:06+0200 [event_spider] DEBUG: Crawled (200) <GET http://www.residentadvisor.net/dj/tristandacunha> (referer: http://www.residentadvisor.net/event.aspx?637029)\r\n"
       ]
      },
      {
       "output_type": "stream",
       "stream": "stdout",
       "text": [
        "2014-09-29 21:35:06+0200 [event_spider] DEBUG: Crawled (200) <GET http://api.soundcloud.com/users/janoberlaender-1/tracks.json?client_id=d1c9c9869e1df58cfe5258a84e26f08b> (referer: http://www.residentadvisor.net/dj/janoberlaender)\r\n"
       ]
      },
      {
       "output_type": "stream",
       "stream": "stdout",
       "text": [
        "2014-09-29 21:35:10+0200 [event_spider] DEBUG: Crawled (200) <GET http://www.residentadvisor.net/dj/mariuskrickow> (referer: http://www.residentadvisor.net/event.aspx?631897)\r\n"
       ]
      },
      {
       "output_type": "stream",
       "stream": "stdout",
       "text": [
        "2014-09-29 21:35:15+0200 [event_spider] DEBUG: Crawled (200) <GET http://www.residentadvisor.net/dj/baroncastle> (referer: http://www.residentadvisor.net/event.aspx?631897)\r\n"
       ]
      },
      {
       "output_type": "stream",
       "stream": "stdout",
       "text": [
        "2014-09-29 21:35:15+0200 [event_spider] DEBUG: Crawled (200) <GET http://api.soundcloud.com/users/mariuskrickow/tracks.json?client_id=d1c9c9869e1df58cfe5258a84e26f08b> (referer: http://www.residentadvisor.net/dj/mariuskrickow)\r\n"
       ]
      },
      {
       "output_type": "stream",
       "stream": "stdout",
       "text": [
        "2014-09-29 21:35:15+0200 [event_spider] DEBUG: Crawled (200) <GET http://api.soundcloud.com/users/baroncastle/tracks.json?client_id=d1c9c9869e1df58cfe5258a84e26f08b> (referer: http://www.residentadvisor.net/dj/baroncastle)\r\n"
       ]
      },
      {
       "output_type": "stream",
       "stream": "stdout",
       "text": [
        "2014-09-29 21:35:21+0200 [event_spider] DEBUG: Crawled (200) <GET http://www.residentadvisor.net/dj/rrrkrta> (referer: http://www.residentadvisor.net/event.aspx?637495)\r\n"
       ]
      },
      {
       "output_type": "stream",
       "stream": "stdout",
       "text": [
        "2014-09-29 21:35:22+0200 [event_spider] DEBUG: Crawled (200) <GET http://www.residentadvisor.net/dj/sebastianvoigt> (referer: http://www.residentadvisor.net/event.aspx?631897)\r\n"
       ]
      },
      {
       "output_type": "stream",
       "stream": "stdout",
       "text": [
        "2014-09-29 21:35:22+0200 [event_spider] DEBUG: Crawled (200) <GET http://www.residentadvisor.net/event.aspx?609074> (referer: http://www.residentadvisor.net/events.aspx?ai=34&yr=2014&mn=9&dy=27&v=day)\r\n"
       ]
      },
      {
       "output_type": "stream",
       "stream": "stdout",
       "text": [
        "2014-09-29 21:35:23+0200 [event_spider] DEBUG: Crawled (200) <GET http://www.residentadvisor.net/dj/october> (referer: http://www.residentadvisor.net/event.aspx?631897)\r\n",
        "2014-09-29 21:35:23+0200 [event_spider] DEBUG: Crawled (200) <GET http://api.soundcloud.com/users/rrrkrta/tracks.json?client_id=d1c9c9869e1df58cfe5258a84e26f08b> (referer: http://www.residentadvisor.net/dj/rrrkrta)\r\n"
       ]
      },
      {
       "output_type": "stream",
       "stream": "stdout",
       "text": [
        "2014-09-29 21:35:23+0200 [event_spider] DEBUG: Crawled (200) <GET http://www.residentadvisor.net/dj/unbalance> (referer: http://www.residentadvisor.net/event.aspx?627526)\r\n",
        "2014-09-29 21:35:23+0200 [event_spider] DEBUG: Crawled (200) <GET http://api.soundcloud.com/users/sebastian-voigt/tracks.json?client_id=d1c9c9869e1df58cfe5258a84e26f08b> (referer: http://www.residentadvisor.net/dj/sebastianvoigt)\r\n"
       ]
      },
      {
       "output_type": "stream",
       "stream": "stdout",
       "text": [
        "2014-09-29 21:35:23+0200 [event_spider] DEBUG: Crawled (200) <GET http://api.soundcloud.com/users/october/tracks.json?client_id=d1c9c9869e1df58cfe5258a84e26f08b> (referer: http://www.residentadvisor.net/dj/october)\r\n"
       ]
      },
      {
       "output_type": "stream",
       "stream": "stdout",
       "text": [
        "2014-09-29 21:35:23+0200 [event_spider] DEBUG: Crawled (200) <GET http://www.residentadvisor.net/dj/lando> (referer: http://www.residentadvisor.net/event.aspx?631897)\r\n"
       ]
      },
      {
       "output_type": "stream",
       "stream": "stdout",
       "text": [
        "2014-09-29 21:35:23+0200 [event_spider] DEBUG: Crawled (200) <GET http://api.soundcloud.com/users/unbalance/tracks.json?client_id=d1c9c9869e1df58cfe5258a84e26f08b> (referer: http://www.residentadvisor.net/dj/unbalance)\r\n"
       ]
      },
      {
       "output_type": "stream",
       "stream": "stdout",
       "text": [
        "2014-09-29 21:35:23+0200 [event_spider] DEBUG: Crawled (200) <GET http://www.residentadvisor.net/event.aspx?627001> (referer: http://www.residentadvisor.net/events.aspx?ai=34&yr=2014&mn=9&dy=27&v=day)\r\n"
       ]
      },
      {
       "output_type": "stream",
       "stream": "stdout",
       "text": [
        "2014-09-29 21:35:24+0200 [event_spider] DEBUG: Crawled (200) <GET http://api.soundcloud.com/users/lando_music/tracks.json?client_id=d1c9c9869e1df58cfe5258a84e26f08b> (referer: http://www.residentadvisor.net/dj/lando)\r\n"
       ]
      },
      {
       "output_type": "stream",
       "stream": "stdout",
       "text": [
        "2014-09-29 21:35:27+0200 [event_spider] DEBUG: Crawled (200) <GET http://www.residentadvisor.net/dj/hwrhapsody> (referer: http://www.residentadvisor.net/event.aspx?583818)\r\n"
       ]
      },
      {
       "output_type": "stream",
       "stream": "stdout",
       "text": [
        "2014-09-29 21:35:33+0200 [event_spider] DEBUG: Crawled (200) <GET http://www.residentadvisor.net/dj/silvarymd> (referer: http://www.residentadvisor.net/event.aspx?583818)\r\n"
       ]
      },
      {
       "output_type": "stream",
       "stream": "stdout",
       "text": [
        "2014-09-29 21:35:33+0200 [event_spider] DEBUG: Crawled (200) <GET http://api.soundcloud.com/users/hw-rhapsody/tracks.json?client_id=d1c9c9869e1df58cfe5258a84e26f08b> (referer: http://www.residentadvisor.net/dj/hwrhapsody)\r\n"
       ]
      },
      {
       "output_type": "stream",
       "stream": "stdout",
       "text": [
        "2014-09-29 21:35:33+0200 [event_spider] DEBUG: Crawled (200) <GET http://api.soundcloud.com/users/silva-rymd/tracks.json?client_id=d1c9c9869e1df58cfe5258a84e26f08b> (referer: http://www.residentadvisor.net/dj/silvarymd)\r\n"
       ]
      },
      {
       "output_type": "stream",
       "stream": "stdout",
       "text": [
        "2014-09-29 21:35:37+0200 [event_spider] DEBUG: Crawled (200) <GET http://www.residentadvisor.net/dj/jessamine> (referer: http://www.residentadvisor.net/event.aspx?583818)\r\n"
       ]
      },
      {
       "output_type": "stream",
       "stream": "stdout",
       "text": [
        "2014-09-29 21:35:40+0200 [event_spider] INFO: Crawled 280 pages (at 32 pages/min), scraped 7 items (at 0 items/min)\r\n"
       ]
      },
      {
       "output_type": "stream",
       "stream": "stdout",
       "text": [
        "2014-09-29 21:35:41+0200 [event_spider] DEBUG: Crawled (200) <GET http://www.residentadvisor.net/dj/danieltrickski> (referer: http://www.residentadvisor.net/event.aspx?631897)\r\n"
       ]
      },
      {
       "output_type": "stream",
       "stream": "stdout",
       "text": [
        "2014-09-29 21:35:41+0200 [event_spider] DEBUG: Crawled (200) <GET http://api.soundcloud.com/users/jessa-mine/tracks.json?client_id=d1c9c9869e1df58cfe5258a84e26f08b> (referer: http://www.residentadvisor.net/dj/jessamine)\r\n"
       ]
      },
      {
       "output_type": "stream",
       "stream": "stdout",
       "text": [
        "2014-09-29 21:35:41+0200 [event_spider] DEBUG: Crawled (200) <GET http://api.soundcloud.com/users/danieltrickski/tracks.json?client_id=d1c9c9869e1df58cfe5258a84e26f08b> (referer: http://www.residentadvisor.net/dj/danieltrickski)\r\n"
       ]
      },
      {
       "output_type": "stream",
       "stream": "stdout",
       "text": [
        "2014-09-29 21:35:41+0200 [event_spider] DEBUG: Crawled (200) <GET http://www.residentadvisor.net/dj/aera> (referer: http://www.residentadvisor.net/event.aspx?583818)\r\n"
       ]
      },
      {
       "output_type": "stream",
       "stream": "stdout",
       "text": [
        "2014-09-29 21:35:41+0200 [event_spider] DEBUG: Crawled (200) <GET http://www.residentadvisor.net/dj/resom> (referer: http://www.residentadvisor.net/event.aspx?583818)\r\n"
       ]
      },
      {
       "output_type": "stream",
       "stream": "stdout",
       "text": [
        "2014-09-29 21:35:42+0200 [event_spider] DEBUG: Crawled (200) <GET http://api.soundcloud.com/users/aeraaleph/tracks.json?client_id=d1c9c9869e1df58cfe5258a84e26f08b> (referer: http://www.residentadvisor.net/dj/aera)\r\n"
       ]
      },
      {
       "output_type": "stream",
       "stream": "stdout",
       "text": [
        "2014-09-29 21:35:42+0200 [event_spider] DEBUG: Crawled (200) <GET http://api.soundcloud.com/users/resi-resom/tracks.json?client_id=d1c9c9869e1df58cfe5258a84e26f08b> (referer: http://www.residentadvisor.net/dj/resom)\r\n"
       ]
      },
      {
       "output_type": "stream",
       "stream": "stdout",
       "text": [
        "2014-09-29 21:35:45+0200 [event_spider] DEBUG: Crawled (200) <GET http://www.residentadvisor.net/dj/andrejko> (referer: http://www.residentadvisor.net/event.aspx?609074)\r\n"
       ]
      },
      {
       "output_type": "stream",
       "stream": "stdout",
       "text": [
        "2014-09-29 21:35:51+0200 [event_spider] DEBUG: Crawled (200) <GET http://www.residentadvisor.net/dj/henrikderoux> (referer: http://www.residentadvisor.net/event.aspx?626301)\r\n"
       ]
      },
      {
       "output_type": "stream",
       "stream": "stdout",
       "text": [
        "2014-09-29 21:35:51+0200 [event_spider] DEBUG: Crawled (200) <GET http://api.soundcloud.com/users/andrejkomusic/tracks.json?client_id=d1c9c9869e1df58cfe5258a84e26f08b> (referer: http://www.residentadvisor.net/dj/andrejko)\r\n"
       ]
      },
      {
       "output_type": "stream",
       "stream": "stdout",
       "text": [
        "2014-09-29 21:35:59+0200 [event_spider] DEBUG: Crawled (200) <GET http://www.residentadvisor.net/dj/schleppgeist> (referer: http://www.residentadvisor.net/event.aspx?583818)\r\n"
       ]
      },
      {
       "output_type": "stream",
       "stream": "stdout",
       "text": [
        "2014-09-29 21:35:59+0200 [event_spider] DEBUG: Crawled (200) <GET http://www.residentadvisor.net/dj/benjamindamage> (referer: http://www.residentadvisor.net/event.aspx?609074)\r\n"
       ]
      },
      {
       "output_type": "stream",
       "stream": "stdout",
       "text": [
        "2014-09-29 21:35:59+0200 [event_spider] DEBUG: Crawled (200) <GET http://api.soundcloud.com/users/schleppgeist/tracks.json?client_id=d1c9c9869e1df58cfe5258a84e26f08b> (referer: http://www.residentadvisor.net/dj/schleppgeist)\r\n"
       ]
      },
      {
       "output_type": "stream",
       "stream": "stdout",
       "text": [
        "2014-09-29 21:35:59+0200 [event_spider] DEBUG: Crawled (200) <GET http://www.residentadvisor.net/dj/dusky> (referer: http://www.residentadvisor.net/event.aspx?609074)\r\n"
       ]
      },
      {
       "output_type": "stream",
       "stream": "stdout",
       "text": [
        "2014-09-29 21:35:59+0200 [event_spider] DEBUG: Crawled (200) <GET http://api.soundcloud.com/users/benjamindamage/tracks.json?client_id=d1c9c9869e1df58cfe5258a84e26f08b> (referer: http://www.residentadvisor.net/dj/benjamindamage)\r\n"
       ]
      },
      {
       "output_type": "stream",
       "stream": "stdout",
       "text": [
        "2014-09-29 21:35:59+0200 [event_spider] DEBUG: Crawled (200) <GET http://www.residentadvisor.net/dj/specter> (referer: http://www.residentadvisor.net/event.aspx?627001)\r\n"
       ]
      },
      {
       "output_type": "stream",
       "stream": "stdout",
       "text": [
        "2014-09-29 21:36:00+0200 [event_spider] DEBUG: Crawled (200) <GET http://api.soundcloud.com/users/duskymusic/tracks.json?client_id=d1c9c9869e1df58cfe5258a84e26f08b> (referer: http://www.residentadvisor.net/dj/dusky)\r\n"
       ]
      },
      {
       "output_type": "stream",
       "stream": "stdout",
       "text": [
        "2014-09-29 21:36:04+0200 [event_spider] DEBUG: Crawled (200) <GET http://www.residentadvisor.net/dj/one> (referer: http://www.residentadvisor.net/event.aspx?609074)\r\n"
       ]
      },
      {
       "output_type": "stream",
       "stream": "stdout",
       "text": [
        "2014-09-29 21:36:13+0200 [event_spider] DEBUG: Crawled (200) <GET http://www.residentadvisor.net/dj/hypnorex> (referer: http://www.residentadvisor.net/event.aspx?583818)\r\n"
       ]
      },
      {
       "output_type": "stream",
       "stream": "stdout",
       "text": [
        "2014-09-29 21:36:13+0200 [event_spider] DEBUG: Crawled (404) <GET http://api.soundcloud.com/users/vkmp3/tracks.json?client_id=d1c9c9869e1df58cfe5258a84e26f08b> (referer: http://www.residentadvisor.net/dj/one)\r\n",
        "2014-09-29 21:36:13+0200 [event_spider] DEBUG: Ignoring response <404 http://api.soundcloud.com/users/vkmp3/tracks.json?client_id=d1c9c9869e1df58cfe5258a84e26f08b>: HTTP status code is not handled or not allowed\r\n"
       ]
      },
      {
       "output_type": "stream",
       "stream": "stdout",
       "text": [
        "2014-09-29 21:36:13+0200 [event_spider] DEBUG: Crawled (200) <GET http://www.residentadvisor.net/dj/elisabeth> (referer: http://www.residentadvisor.net/event.aspx?583818)\r\n",
        "2014-09-29 21:36:13+0200 [event_spider] DEBUG: Crawled (200) <GET http://api.soundcloud.com/users/hypnorex/tracks.json?client_id=d1c9c9869e1df58cfe5258a84e26f08b> (referer: http://www.residentadvisor.net/dj/hypnorex)\r\n"
       ]
      },
      {
       "output_type": "stream",
       "stream": "stdout",
       "text": [
        "2014-09-29 21:36:13+0200 [event_spider] DEBUG: Crawled (200) <GET http://api.soundcloud.com/users/elisabeth_leaves/tracks.json?client_id=d1c9c9869e1df58cfe5258a84e26f08b> (referer: http://www.residentadvisor.net/dj/elisabeth)\r\n"
       ]
      },
      {
       "output_type": "stream",
       "stream": "stdout",
       "text": [
        "2014-09-29 21:36:13+0200 [event_spider] DEBUG: Crawled (200) <GET http://www.residentadvisor.net/dj/bodycode> (referer: http://www.residentadvisor.net/event.aspx?609074)\r\n"
       ]
      },
      {
       "output_type": "stream",
       "stream": "stdout",
       "text": [
        "2014-09-29 21:36:14+0200 [event_spider] DEBUG: Crawled (200) <GET http://www.residentadvisor.net/dj/map.ache> (referer: http://www.residentadvisor.net/event.aspx?583818)\r\n"
       ]
      },
      {
       "output_type": "stream",
       "stream": "stdout",
       "text": [
        "2014-09-29 21:36:14+0200 [event_spider] DEBUG: Crawled (200) <GET http://www.residentadvisor.net/dj/lakepeople> (referer: http://www.residentadvisor.net/event.aspx?583818)\r\n"
       ]
      },
      {
       "output_type": "stream",
       "stream": "stdout",
       "text": [
        "2014-09-29 21:36:15+0200 [event_spider] DEBUG: Crawled (200) <GET http://www.residentadvisor.net/dj/axelboman> (referer: http://www.residentadvisor.net/event.aspx?583818)\r\n"
       ]
      },
      {
       "output_type": "stream",
       "stream": "stdout",
       "text": [
        "2014-09-29 21:36:15+0200 [event_spider] DEBUG: Crawled (200) <GET http://api.soundcloud.com/users/lakepeople/tracks.json?client_id=d1c9c9869e1df58cfe5258a84e26f08b> (referer: http://www.residentadvisor.net/dj/lakepeople)\r\n"
       ]
      },
      {
       "output_type": "stream",
       "stream": "stdout",
       "text": [
        "2014-09-29 21:36:20+0200 [event_spider] DEBUG: Crawled (200) <GET http://www.residentadvisor.net/dj/rampue> (referer: http://www.residentadvisor.net/event.aspx?583818)\r\n"
       ]
      },
      {
       "output_type": "stream",
       "stream": "stdout",
       "text": [
        "2014-09-29 21:36:21+0200 [event_spider] DEBUG: Crawled (200) <GET http://www.residentadvisor.net/dj/steventang> (referer: http://www.residentadvisor.net/event.aspx?627001)\r\n"
       ]
      },
      {
       "output_type": "stream",
       "stream": "stdout",
       "text": [
        "2014-09-29 21:36:21+0200 [event_spider] DEBUG: Crawled (200) <GET http://api.soundcloud.com/users/rampue/tracks.json?client_id=d1c9c9869e1df58cfe5258a84e26f08b> (referer: http://www.residentadvisor.net/dj/rampue)\r\n"
       ]
      },
      {
       "output_type": "stream",
       "stream": "stdout",
       "text": [
        "2014-09-29 21:36:21+0200 [event_spider] DEBUG: Crawled (200) <GET http://api.soundcloud.com/users/emphasisrecordings/tracks.json?client_id=d1c9c9869e1df58cfe5258a84e26f08b> (referer: http://www.residentadvisor.net/dj/steventang)\r\n"
       ]
      },
      {
       "output_type": "stream",
       "stream": "stdout",
       "text": [
        "2014-09-29 21:36:24+0200 [event_spider] DEBUG: Crawled (200) <GET http://www.residentadvisor.net/dj/couchgag> (referer: http://www.residentadvisor.net/event.aspx?631938)\r\n"
       ]
      },
      {
       "output_type": "stream",
       "stream": "stdout",
       "text": [
        "2014-09-29 21:36:27+0200 [event_spider] DEBUG: Crawled (200) <GET http://www.residentadvisor.net/dj/undermind> (referer: http://www.residentadvisor.net/event.aspx?627001)\r\n"
       ]
      },
      {
       "output_type": "stream",
       "stream": "stdout",
       "text": [
        "2014-09-29 21:36:27+0200 [event_spider] DEBUG: Crawled (200) <GET http://api.soundcloud.com/users/couchgag/tracks.json?client_id=d1c9c9869e1df58cfe5258a84e26f08b> (referer: http://www.residentadvisor.net/dj/couchgag)\r\n"
       ]
      },
      {
       "output_type": "stream",
       "stream": "stdout",
       "text": [
        "2014-09-29 21:36:27+0200 [event_spider] DEBUG: Crawled (200) <GET http://api.soundcloud.com/users/undermind-berlin/tracks.json?client_id=d1c9c9869e1df58cfe5258a84e26f08b> (referer: http://www.residentadvisor.net/dj/undermind)\r\n"
       ]
      },
      {
       "output_type": "stream",
       "stream": "stdout",
       "text": [
        "2014-09-29 21:36:31+0200 [event_spider] DEBUG: Crawled (200) <GET http://www.residentadvisor.net/dj/aber> (referer: http://www.residentadvisor.net/event.aspx?631938)\r\n"
       ]
      },
      {
       "output_type": "stream",
       "stream": "stdout",
       "text": [
        "2014-09-29 21:36:31+0200 [event_spider] DEBUG: Crawled (200) <GET http://www.residentadvisor.net/dj/ahoicheers> (referer: http://www.residentadvisor.net/event.aspx?631938)\r\n"
       ]
      },
      {
       "output_type": "stream",
       "stream": "stdout",
       "text": [
        "2014-09-29 21:36:31+0200 [event_spider] DEBUG: Crawled (200) <GET http://www.residentadvisor.net/dj/greenvillemassive> (referer: http://www.residentadvisor.net/event.aspx?627001)\r\n"
       ]
      },
      {
       "output_type": "stream",
       "stream": "stdout",
       "text": [
        "2014-09-29 21:36:32+0200 [event_spider] DEBUG: Crawled (200) <GET http://api.soundcloud.com/users/ahoiandcheers/tracks.json?client_id=d1c9c9869e1df58cfe5258a84e26f08b> (referer: http://www.residentadvisor.net/dj/ahoicheers)\r\n"
       ]
      },
      {
       "output_type": "stream",
       "stream": "stdout",
       "text": [
        "2014-09-29 21:36:32+0200 [event_spider] DEBUG: Crawled (200) <GET http://www.residentadvisor.net/dj/rodhad> (referer: http://www.residentadvisor.net/event.aspx?583818)\r\n"
       ]
      },
      {
       "output_type": "stream",
       "stream": "stdout",
       "text": [
        "2014-09-29 21:36:32+0200 [event_spider] DEBUG: Crawled (200) <GET http://api.soundcloud.com/users/greenvillemassive/tracks.json?client_id=d1c9c9869e1df58cfe5258a84e26f08b> (referer: http://www.residentadvisor.net/dj/greenvillemassive)\r\n"
       ]
      },
      {
       "output_type": "stream",
       "stream": "stdout",
       "text": [
        "2014-09-29 21:36:32+0200 [event_spider] DEBUG: Crawled (200) <GET http://api.soundcloud.com/users/rodhad/tracks.json?client_id=d1c9c9869e1df58cfe5258a84e26f08b> (referer: http://www.residentadvisor.net/dj/rodhad)\r\n"
       ]
      },
      {
       "output_type": "stream",
       "stream": "stdout",
       "text": [
        "2014-09-29 21:36:35+0200 [event_spider] DEBUG: Crawled (200) <GET http://www.residentadvisor.net/dj/markusklee> (referer: http://www.residentadvisor.net/event.aspx?622572)\r\n"
       ]
      },
      {
       "output_type": "stream",
       "stream": "stdout",
       "text": [
        "2014-09-29 21:36:40+0200 [event_spider] DEBUG: Crawled (200) <GET http://www.residentadvisor.net/dj/matchhoffman> (referer: http://www.residentadvisor.net/event.aspx?622572)\r\n"
       ]
      },
      {
       "output_type": "stream",
       "stream": "stdout",
       "text": [
        "2014-09-29 21:36:40+0200 [event_spider] INFO: Crawled 325 pages (at 45 pages/min), scraped 7 items (at 0 items/min)\r\n"
       ]
      },
      {
       "output_type": "stream",
       "stream": "stdout",
       "text": [
        "2014-09-29 21:36:45+0200 [event_spider] DEBUG: Crawled (200) <GET http://www.residentadvisor.net/dj/pmxsoundz> (referer: http://www.residentadvisor.net/event.aspx?622572)\r\n"
       ]
      },
      {
       "output_type": "stream",
       "stream": "stdout",
       "text": [
        "2014-09-29 21:36:50+0200 [event_spider] DEBUG: Crawled (200) <GET http://www.residentadvisor.net/dj/dekai> (referer: http://www.residentadvisor.net/event.aspx?622572)\r\n"
       ]
      },
      {
       "output_type": "stream",
       "stream": "stdout",
       "text": [
        "2014-09-29 21:36:50+0200 [event_spider] DEBUG: Crawled (200) <GET http://api.soundcloud.com/users/pmx-soundz/tracks.json?client_id=d1c9c9869e1df58cfe5258a84e26f08b> (referer: http://www.residentadvisor.net/dj/pmxsoundz)\r\n"
       ]
      },
      {
       "output_type": "stream",
       "stream": "stdout",
       "text": [
        "2014-09-29 21:36:50+0200 [event_spider] DEBUG: Crawled (200) <GET http://api.soundcloud.com/users/dekai/tracks.json?client_id=d1c9c9869e1df58cfe5258a84e26f08b> (referer: http://www.residentadvisor.net/dj/dekai)\r\n"
       ]
      },
      {
       "output_type": "stream",
       "stream": "stdout",
       "text": [
        "2014-09-29 21:36:53+0200 [event_spider] DEBUG: Crawled (200) <GET http://www.residentadvisor.net/dj/martinteysera> (referer: http://www.residentadvisor.net/event.aspx?627526)\r\n"
       ]
      },
      {
       "output_type": "stream",
       "stream": "stdout",
       "text": [
        "2014-09-29 21:36:53+0200 [event_spider] DEBUG: Crawled (200) <GET http://www.residentadvisor.net/dj/portable> (referer: http://www.residentadvisor.net/event.aspx?609074)\r\n"
       ]
      },
      {
       "output_type": "stream",
       "stream": "stdout",
       "text": [
        "2014-09-29 21:36:53+0200 [event_spider] DEBUG: Crawled (200) <GET http://api.soundcloud.com/users/martinteysera/tracks.json?client_id=d1c9c9869e1df58cfe5258a84e26f08b> (referer: http://www.residentadvisor.net/dj/martinteysera)\r\n"
       ]
      },
      {
       "output_type": "stream",
       "stream": "stdout",
       "text": [
        "2014-09-29 21:36:53+0200 [event_spider] DEBUG: Crawled (200) <GET http://www.residentadvisor.net/dj/magdalena> (referer: http://www.residentadvisor.net/event.aspx?622572)\r\n"
       ]
      },
      {
       "output_type": "stream",
       "stream": "stdout",
       "text": [
        "2014-09-29 21:36:57+0200 [event_spider] DEBUG: Crawled (200) <GET http://www.residentadvisor.net/dj/buntebummler> (referer: http://www.residentadvisor.net/event.aspx?622572)\r\n"
       ]
      },
      {
       "output_type": "stream",
       "stream": "stdout",
       "text": [
        "2014-09-29 21:36:57+0200 [event_spider] DEBUG: Crawled (200) <GET http://api.soundcloud.com/users/brokenmindrecordings/tracks.json?client_id=d1c9c9869e1df58cfe5258a84e26f08b> (referer: http://www.residentadvisor.net/dj/magdalena)\r\n"
       ]
      },
      {
       "output_type": "stream",
       "stream": "stdout",
       "text": [
        "2014-09-29 21:36:57+0200 [event_spider] DEBUG: Crawled (200) <GET http://www.residentadvisor.net/dj/lutzenkirchen> (referer: http://www.residentadvisor.net/event.aspx?622572)\r\n"
       ]
      },
      {
       "output_type": "stream",
       "stream": "stdout",
       "text": [
        "2014-09-29 21:36:58+0200 [event_spider] DEBUG: Crawled (200) <GET http://www.residentadvisor.net/dj/mikedehnert> (referer: http://www.residentadvisor.net/event.aspx?609074)\r\n"
       ]
      },
      {
       "output_type": "stream",
       "stream": "stdout",
       "text": [
        "2014-09-29 21:36:58+0200 [event_spider] DEBUG: Crawled (200) <GET http://api.soundcloud.com/users/lutzenkirchen/tracks.json?client_id=d1c9c9869e1df58cfe5258a84e26f08b> (referer: http://www.residentadvisor.net/dj/lutzenkirchen)\r\n"
       ]
      },
      {
       "output_type": "stream",
       "stream": "stdout",
       "text": [
        "2014-09-29 21:36:59+0200 [event_spider] DEBUG: Crawled (200) <GET http://api.soundcloud.com/users/mike-dehnert/tracks.json?client_id=d1c9c9869e1df58cfe5258a84e26f08b> (referer: http://www.residentadvisor.net/dj/mikedehnert)\r\n"
       ]
      },
      {
       "output_type": "stream",
       "stream": "stdout",
       "text": [
        "2014-09-29 21:37:01+0200 [event_spider] DEBUG: Crawled (200) <GET http://www.residentadvisor.net/dj/erickanzler> (referer: http://www.residentadvisor.net/event.aspx?622572)\r\n"
       ]
      },
      {
       "output_type": "stream",
       "stream": "stdout",
       "text": [
        "2014-09-29 21:37:01+0200 [event_spider] DEBUG: Crawled (200) <GET http://api.soundcloud.com/users/erickanzler/tracks.json?client_id=d1c9c9869e1df58cfe5258a84e26f08b> (referer: http://www.residentadvisor.net/dj/erickanzler)\r\n"
       ]
      },
      {
       "output_type": "stream",
       "stream": "stdout",
       "text": [
        "2014-09-29 21:37:05+0200 [event_spider] DEBUG: Crawled (200) <GET http://www.residentadvisor.net/dj/garo1> (referer: http://www.residentadvisor.net/event.aspx?627230)\r\n"
       ]
      },
      {
       "output_type": "stream",
       "stream": "stdout",
       "text": [
        "2014-09-29 21:37:06+0200 [event_spider] DEBUG: Crawled (200) <GET http://api.soundcloud.com/users/dirtygaro/tracks.json?client_id=d1c9c9869e1df58cfe5258a84e26f08b> (referer: http://www.residentadvisor.net/dj/garo1)\r\n"
       ]
      },
      {
       "output_type": "stream",
       "stream": "stdout",
       "text": [
        "2014-09-29 21:37:12+0200 [event_spider] DEBUG: Crawled (200) <GET http://www.residentadvisor.net/dj/jamescreed> (referer: http://www.residentadvisor.net/event.aspx?627230)\r\n"
       ]
      },
      {
       "output_type": "stream",
       "stream": "stdout",
       "text": [
        "2014-09-29 21:37:12+0200 [event_spider] DEBUG: Crawled (200) <GET http://api.soundcloud.com/users/jamescreed/tracks.json?client_id=d1c9c9869e1df58cfe5258a84e26f08b> (referer: http://www.residentadvisor.net/dj/jamescreed)\r\n"
       ]
      },
      {
       "output_type": "stream",
       "stream": "stdout",
       "text": [
        "2014-09-29 21:37:14+0200 [event_spider] DEBUG: Crawled (200) <GET http://www.residentadvisor.net/dj/wunderwaffel> (referer: http://www.residentadvisor.net/event.aspx?583818)\r\n"
       ]
      },
      {
       "output_type": "stream",
       "stream": "stdout",
       "text": [
        "2014-09-29 21:37:15+0200 [event_spider] DEBUG: Crawled (200) <GET http://api.soundcloud.com/users/wunderwaffel/tracks.json?client_id=d1c9c9869e1df58cfe5258a84e26f08b> (referer: http://www.residentadvisor.net/dj/wunderwaffel)\r\n"
       ]
      },
      {
       "output_type": "stream",
       "stream": "stdout",
       "text": [
        "2014-09-29 21:37:15+0200 [event_spider] DEBUG: Crawled (200) <GET http://www.residentadvisor.net/dj/formatb> (referer: http://www.residentadvisor.net/event.aspx?622572)\r\n"
       ]
      },
      {
       "output_type": "stream",
       "stream": "stdout",
       "text": [
        "2014-09-29 21:37:19+0200 [event_spider] DEBUG: Crawled (200) <GET http://www.residentadvisor.net/dj/phable> (referer: http://www.residentadvisor.net/event.aspx?622572)\r\n"
       ]
      },
      {
       "output_type": "stream",
       "stream": "stdout",
       "text": [
        "2014-09-29 21:37:19+0200 [event_spider] DEBUG: Crawled (200) <GET http://api.soundcloud.com/users/phable/tracks.json?client_id=d1c9c9869e1df58cfe5258a84e26f08b> (referer: http://www.residentadvisor.net/dj/phable)\r\n"
       ]
      },
      {
       "output_type": "stream",
       "stream": "stdout",
       "text": [
        "2014-09-29 21:37:19+0200 [event_spider] DEBUG: Crawled (200) <GET http://www.residentadvisor.net/dj/youandewan> (referer: http://www.residentadvisor.net/event.aspx?627230)\r\n"
       ]
      },
      {
       "output_type": "stream",
       "stream": "stdout",
       "text": [
        "2014-09-29 21:37:19+0200 [event_spider] DEBUG: Crawled (200) <GET http://api.soundcloud.com/users/youandewan/tracks.json?client_id=d1c9c9869e1df58cfe5258a84e26f08b> (referer: http://www.residentadvisor.net/dj/youandewan)\r\n"
       ]
      },
      {
       "output_type": "stream",
       "stream": "stdout",
       "text": [
        "2014-09-29 21:37:24+0200 [event_spider] DEBUG: Crawled (200) <GET http://www.residentadvisor.net/dj/sokool> (referer: http://www.residentadvisor.net/event.aspx?622572)\r\n"
       ]
      },
      {
       "output_type": "stream",
       "stream": "stdout",
       "text": [
        "2014-09-29 21:37:24+0200 [event_spider] DEBUG: Crawled (200) <GET http://api.soundcloud.com/users/sokool-musik/tracks.json?client_id=d1c9c9869e1df58cfe5258a84e26f08b> (referer: http://www.residentadvisor.net/dj/sokool)\r\n"
       ]
      },
      {
       "output_type": "stream",
       "stream": "stdout",
       "text": [
        "2014-09-29 21:37:30+0200 [event_spider] DEBUG: Crawled (200) <GET http://www.residentadvisor.net/dj/andreewischnewski> (referer: http://www.residentadvisor.net/event.aspx?622572)\r\n"
       ]
      },
      {
       "output_type": "stream",
       "stream": "stdout",
       "text": [
        "2014-09-29 21:37:30+0200 [event_spider] DEBUG: Crawled (404) <GET http://api.soundcloud.com/users/andree-wischnewski/tracks.json?client_id=d1c9c9869e1df58cfe5258a84e26f08b> (referer: http://www.residentadvisor.net/dj/andreewischnewski)\r\n",
        "2014-09-29 21:37:30+0200 [event_spider] DEBUG: Ignoring response <404 http://api.soundcloud.com/users/andree-wischnewski/tracks.json?client_id=d1c9c9869e1df58cfe5258a84e26f08b>: HTTP status code is not handled or not allowed\r\n"
       ]
      },
      {
       "output_type": "stream",
       "stream": "stdout",
       "text": [
        "2014-09-29 21:37:33+0200 [event_spider] DEBUG: Crawled (200) <GET http://www.residentadvisor.net/dj/kollektivklanggut> (referer: http://www.residentadvisor.net/event.aspx?622572)\r\n"
       ]
      },
      {
       "output_type": "stream",
       "stream": "stdout",
       "text": [
        "2014-09-29 21:37:33+0200 [event_spider] DEBUG: Crawled (200) <GET http://api.soundcloud.com/users/kollektivofficial/tracks.json?client_id=d1c9c9869e1df58cfe5258a84e26f08b> (referer: http://www.residentadvisor.net/dj/kollektivklanggut)\r\n"
       ]
      },
      {
       "output_type": "stream",
       "stream": "stdout",
       "text": [
        "2014-09-29 21:37:33+0200 [event_spider] DEBUG: Crawled (200) <GET http://www.residentadvisor.net/dj/utokarem> (referer: http://www.residentadvisor.net/event.aspx?622572)\r\n"
       ]
      },
      {
       "output_type": "stream",
       "stream": "stdout",
       "text": [
        "2014-09-29 21:37:34+0200 [event_spider] DEBUG: Crawled (200) <GET http://api.soundcloud.com/users/uto-karem/tracks.json?client_id=d1c9c9869e1df58cfe5258a84e26f08b> (referer: http://www.residentadvisor.net/dj/utokarem)\r\n"
       ]
      },
      {
       "output_type": "stream",
       "stream": "stdout",
       "text": [
        "2014-09-29 21:37:38+0200 [event_spider] DEBUG: Crawled (200) <GET http://www.residentadvisor.net/dj/cinthie> (referer: http://www.residentadvisor.net/event.aspx?637029)\r\n"
       ]
      },
      {
       "output_type": "stream",
       "stream": "stdout",
       "text": [
        "2014-09-29 21:37:38+0200 [event_spider] DEBUG: Crawled (200) <GET http://api.soundcloud.com/users/cinthie/tracks.json?client_id=d1c9c9869e1df58cfe5258a84e26f08b> (referer: http://www.residentadvisor.net/dj/cinthie)\r\n"
       ]
      },
      {
       "output_type": "stream",
       "stream": "stdout",
       "text": [
        "2014-09-29 21:37:38+0200 [event_spider] DEBUG: Crawled (200) <GET http://www.residentadvisor.net/dj/beaner> (referer: http://www.residentadvisor.net/event.aspx?627230)\r\n"
       ]
      },
      {
       "output_type": "stream",
       "stream": "stdout",
       "text": [
        "2014-09-29 21:37:38+0200 [event_spider] DEBUG: Crawled (200) <GET http://api.soundcloud.com/users/beaner/tracks.json?client_id=d1c9c9869e1df58cfe5258a84e26f08b> (referer: http://www.residentadvisor.net/dj/beaner)\r\n"
       ]
      },
      {
       "output_type": "stream",
       "stream": "stdout",
       "text": [
        "2014-09-29 21:37:40+0200 [event_spider] INFO: Crawled 364 pages (at 39 pages/min), scraped 7 items (at 0 items/min)\r\n"
       ]
      },
      {
       "output_type": "stream",
       "stream": "stdout",
       "text": [
        "2014-09-29 21:37:43+0200 [event_spider] DEBUG: Crawled (200) <GET http://www.residentadvisor.net/dj/kollektivost> (referer: http://www.residentadvisor.net/event.aspx?626301)\r\n"
       ]
      },
      {
       "output_type": "stream",
       "stream": "stdout",
       "text": [
        "2014-09-29 21:37:44+0200 [event_spider] DEBUG: Crawled (200) <GET http://www.residentadvisor.net/dj/mollono.bass> (referer: http://www.residentadvisor.net/event.aspx?626301)\r\n"
       ]
      },
      {
       "output_type": "stream",
       "stream": "stdout",
       "text": [
        "2014-09-29 21:37:44+0200 [event_spider] DEBUG: Crawled (200) <GET http://api.soundcloud.com/users/kollektivost/tracks.json?client_id=d1c9c9869e1df58cfe5258a84e26f08b> (referer: http://www.residentadvisor.net/dj/kollektivost)\r\n"
       ]
      },
      {
       "output_type": "stream",
       "stream": "stdout",
       "text": [
        "2014-09-29 21:37:47+0200 [event_spider] DEBUG: Crawled (200) <GET http://www.residentadvisor.net/dj/jackapplewith> (referer: http://www.residentadvisor.net/event.aspx?626301)\r\n"
       ]
      },
      {
       "output_type": "stream",
       "stream": "stdout",
       "text": [
        "2014-09-29 21:37:47+0200 [event_spider] DEBUG: Crawled (404) <GET http://api.soundcloud.com/users/jack-apple/tracks.json?client_id=d1c9c9869e1df58cfe5258a84e26f08b> (referer: http://www.residentadvisor.net/dj/jackapplewith)\r\n",
        "2014-09-29 21:37:47+0200 [event_spider] DEBUG: Ignoring response <404 http://api.soundcloud.com/users/jack-apple/tracks.json?client_id=d1c9c9869e1df58cfe5258a84e26f08b>: HTTP status code is not handled or not allowed\r\n",
        "2014-09-29 21:37:47+0200 [event_spider] INFO: Closing spider (finished)\r\n",
        "2014-09-29 21:37:47+0200 [event_spider] INFO: Stored json feed (7 items) in: ../../cm_naive/events/2014-09-27.json\r\n",
        "2014-09-29 21:37:47+0200 [event_spider] INFO: Dumping Scrapy stats:\r\n",
        "\t{'downloader/request_bytes': 128514,\r\n",
        "\t 'downloader/request_count': 369,\r\n",
        "\t 'downloader/request_method_count/GET': 369,\r\n",
        "\t 'downloader/response_bytes': 5692564,\r\n",
        "\t 'downloader/response_count': 369,\r\n",
        "\t 'downloader/response_status_count/200': 364,\r\n",
        "\t 'downloader/response_status_count/404': 5,\r\n",
        "\t 'dupefilter/filtered': 4,\r\n",
        "\t 'finish_reason': 'finished',\r\n",
        "\t 'finish_time': datetime.datetime(2014, 9, 29, 19, 37, 47, 527663),\r\n",
        "\t 'item_scraped_count': 7,\r\n",
        "\t 'log_count/DEBUG': 384,\r\n",
        "\t 'log_count/INFO': 18,\r\n",
        "\t 'request_depth_max': 3,\r\n",
        "\t 'response_received_count': 369,\r\n",
        "\t 'scheduler/dequeued': 369,\r\n",
        "\t 'scheduler/dequeued/memory': 369,\r\n",
        "\t 'scheduler/enqueued': 369,\r\n",
        "\t 'scheduler/enqueued/memory': 369,\r\n",
        "\t 'start_time': datetime.datetime(2014, 9, 29, 19, 27, 40, 428244)}\r\n",
        "2014-09-29 21:37:47+0200 [event_spider] INFO: Spider closed (finished)\r\n"
       ]
      }
     ],
     "prompt_number": 14
    },
    {
     "cell_type": "code",
     "collapsed": false,
     "input": [
      "!cat a.json"
     ],
     "language": "python",
     "metadata": {},
     "outputs": [
      {
       "output_type": "stream",
       "stream": "stdout",
       "text": [
        "[{\"name\": \"House of Waxx at Tresor\", \"url\": \"http://www.residentadvisor.net/event.aspx?629290\", \"club\": {\"url\": \"club.aspx?id=5494\", \"latlon\": [52.5108799, 13.4201002], \"ra_club_id\": \"5494\", \"adress\": \" K\\u00f6penickerstrasse 70; Mitte; 10179 Berlin;\", \"name\": \"Tresor\"}, \"artists\": [{\"ra_artist_id\": \"gunnarstiller\", \"sc_track_permalink\": \"http://soundcloud.com/gunnar-stiller/panoramabar_2011-10-23\", \"name\": \"Gunnar Stiller\", \"sc_user\": \"gunnar-stiller\", \"url\": \"http://www.residentadvisor.net/dj/gunnarstiller\", \"sc_value\": 112417, \"sc_link\": \"http://www.soundcloud.com/gunnar-stiller\"}, {\"ra_artist_id\": \"axelbartsch\", \"sc_track_permalink\": \"http://soundcloud.com/axelbartsch/katerholzig-daytime-dj-action\", \"name\": \"Axel Bartsch\", \"sc_user\": \"axelbartsch\", \"url\": \"http://www.residentadvisor.net/dj/axelbartsch\", \"sc_value\": 38713, \"sc_link\": \"http://www.soundcloud.com/axelbartsch\"}], \"date\": \"2014-09-29\", \"ra_club_id\": \"5494\", \"ra_event_id\": \"629290\"},\r\n",
        "{\"url\": \"http://www.residentadvisor.net/event.aspx?629227\", \"date\": \"2014-09-29\", \"artists\": [{\"ra_artist_id\": \"tiny\", \"sc_track_permalink\": \"http://soundcloud.com/tiney/done-by-the-dawgs\", \"name\": \"Tiny\", \"sc_user\": \"tiney\", \"url\": \"http://www.residentadvisor.net/dj/tiny\", \"sc_value\": 3077, \"sc_link\": \"http://www.soundcloud.com/tiney\"}], \"ra_event_id\": \"629227\", \"name\": \"Tiny Ruins at Gr\\u00fcner Salon Der Volksb\\u00fchne\"},\r\n",
        "{\"name\": \"Let's Stay Awake mit Ollider Twist at Promenaden Eck\", \"url\": \"http://www.residentadvisor.net/event.aspx?632989\", \"club\": {\"url\": \"club.aspx?id=88900\", \"latlon\": [52.475866, 13.4220073], \"ra_club_id\": \"88900\", \"adress\": \" Schillerpromenade 11, 12049 Berlin\", \"name\": \"Promenaden Eck\"}, \"artists\": [{\"ra_artist_id\": \"ollidertwist\", \"sc_track_permalink\": \"http://soundcloud.com/ollider-twist/ick-hau-van-jau\", \"name\": \"Ollider Twist\", \"sc_user\": \"ollider-twist\", \"url\": \"http://www.residentadvisor.net/dj/ollidertwist\", \"sc_value\": 1682, \"sc_link\": \"http://www.soundcloud.com/https://ollider-twist\"}], \"date\": \"2014-09-29\", \"ra_club_id\": \"88900\", \"ra_event_id\": \"632989\"},\r\n",
        "{\"name\": \"Electro Funk Roots at Cake Club\", \"url\": \"http://www.residentadvisor.net/event.aspx?628859\", \"club\": {\"url\": \"club.aspx?id=42409\", \"latlon\": [52.5016358, 13.41866], \"ra_club_id\": \"42409\", \"adress\": \" Oranienstra\\u00dfe 32 10999 Berlin\", \"name\": \"Cake Club\"}, \"artists\": [{\"ra_artist_id\": \"djdannyrussell\", \"sc_track_permalink\": \"http://soundcloud.com/dj-danny-russell/electro-funk-roots-mix\", \"name\": \"DJ Danny Russell\", \"sc_user\": \"dj-danny-russell\", \"url\": \"http://www.residentadvisor.net/dj/djdannyrussell\", \"sc_value\": 1622, \"sc_link\": \"http://www.soundcloud.com/dj-danny-russell\"}], \"date\": \"2014-09-29\", \"ra_club_id\": \"42409\", \"ra_event_id\": \"628859\"}]"
       ]
      }
     ],
     "prompt_number": 9
    },
    {
     "cell_type": "code",
     "collapsed": false,
     "input": [
      "import re\n",
      "id_extract=re.compile(r'(\\d+)')"
     ],
     "language": "python",
     "metadata": {},
     "outputs": [],
     "prompt_number": 33
    },
    {
     "cell_type": "code",
     "collapsed": false,
     "input": [
      "g = id_extract.search(\"http://www.residentadvisor.net/event.aspx?632254\")"
     ],
     "language": "python",
     "metadata": {},
     "outputs": [],
     "prompt_number": 37
    },
    {
     "cell_type": "code",
     "collapsed": false,
     "input": [
      "g.group()"
     ],
     "language": "python",
     "metadata": {},
     "outputs": [
      {
       "metadata": {},
       "output_type": "pyout",
       "prompt_number": 40,
       "text": [
        "'632254'"
       ]
      }
     ],
     "prompt_number": 40
    },
    {
     "cell_type": "code",
     "collapsed": false,
     "input": [],
     "language": "python",
     "metadata": {},
     "outputs": []
    }
   ],
   "metadata": {}
  }
 ]
}