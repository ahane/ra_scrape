{
 "metadata": {
  "name": "",
  "signature": "sha256:47eb54cc94dcb70d3afd3f686eeec4be04031d07413c87edf08a3f70c2102b41"
 },
 "nbformat": 3,
 "nbformat_minor": 0,
 "worksheets": [
  {
   "cells": [
    {
     "cell_type": "code",
     "collapsed": false,
     "input": [
      "import scrapy"
     ],
     "language": "python",
     "metadata": {},
     "outputs": [],
     "prompt_number": 1
    },
    {
     "cell_type": "code",
     "collapsed": false,
     "input": [
      "%%writefile ra/items.py\n",
      "import scrapy\n",
      "\n",
      "class Event(scrapy.Item):\n",
      "    item_type = scrapy.Field(default='event')\n",
      "    ra_event_id = scrapy.Field()\n",
      "    url = scrapy.Field()\n",
      "    name = scrapy.Field()    \n",
      "    date = scrapy.Field()\n",
      "    ra_club_id = scrapy.Field()\n",
      "    \n",
      "    #these fields are for a document-like serving\n",
      "    club = scrapy.Field()\n",
      "    artists = scrapy.Field()\n",
      "    \n",
      "class Club(scrapy.Item):\n",
      "    item_type = scrapy.Field(default='club')\n",
      "    ra_club_id = scrapy.Field()\n",
      "    url = scrapy.Field()\n",
      "    name = scrapy.Field()\n",
      "    adress = scrapy.Field()\n",
      "    latlon = scrapy.Field()\n",
      "    ra_locale_id = scrapy.Field()\n",
      "\n",
      "class Performance(scrapy.Item):\n",
      "    item_type = scrapy.Field(default='performance')\n",
      "    ra_event_id = scrapy.Field()\n",
      "    sc_artist_id = scrapy.Field()\n",
      "    artist = scrapy.Field()\n",
      "    \n",
      "class Artist(scrapy.Item):\n",
      "    item_type = scrapy.Field(default='artist')\n",
      "    ra_artist_id = scrapy.Field()\n",
      "    url = scrapy.Field()\n",
      "    name = scrapy.Field()\n",
      "    sc_user = scrapy.Field()\n",
      "    sc_link = scrapy.Field()\n",
      "    sc_track_permalink = scrapy.Field()\n",
      "    sc_value = scrapy.Field() #arbitray number for rankin artists"
     ],
     "language": "python",
     "metadata": {},
     "outputs": [
      {
       "output_type": "stream",
       "stream": "stdout",
       "text": [
        "Overwriting ra/items.py\n"
       ]
      }
     ],
     "prompt_number": 2
    },
    {
     "cell_type": "code",
     "collapsed": false,
     "input": [
      "import urllib\n",
      "with open('sc_cl_id.txt', 'r') as f:\n",
      "    SC_CLIENT_ID = f.read().rstrip()\n",
      "    sc_client_id = urllib.urlencode({\"client_id\": SC_CLIENT_ID})\n"
     ],
     "language": "python",
     "metadata": {},
     "outputs": [],
     "prompt_number": 6
    },
    {
     "cell_type": "code",
     "collapsed": false,
     "input": [
      "%%writefile ra/spiders/event_spider.py\n",
      "import scrapy\n",
      "from scrapy.contrib.spiders import CrawlSpider, Rule\n",
      "from scrapy.contrib.linkextractors import LinkExtractor\n",
      "scrapy.contrib.linkextractors.lxmlhtml.LxmlLinkExtractor\n",
      "from ra.items import Event, Club, Performance, Artist\n",
      "import urllib\n",
      "import datetime\n",
      "import re\n",
      "import json\n",
      "import geocoder\n",
      "from collections import defaultdict\n",
      "BASE_URL = 'http://www.residentadvisor.net'\n",
      "LISTINGS_EXT = '/events.aspx?'\n",
      "BERLIN_AI = 34\n",
      "TODAY = datetime.date.today()\n",
      "with open('sc_cl_id.txt', 'r') as f:\n",
      "    SC_CLIENT_ID = f.read().rstrip()\n",
      "    sc_client_id = urllib.urlencode({\"client_id\": SC_CLIENT_ID})\n",
      "listing_params = {'ai': BERLIN_AI,\n",
      "                  'v': 'day',\n",
      "                  'mn': TODAY.month,\n",
      "                  'yr': TODAY.year,\n",
      "                  'dy': TODAY.day}\n",
      "today_events_url = BASE_URL + LISTINGS_EXT + urllib.urlencode(listing_params)\n",
      "\n",
      "class RAEventSpider(CrawlSpider):\n",
      "    name = 'event_spider'\n",
      "    allowed_domains = [BASE_URL, 'www.residentadvisor.net', 'api.soundcloud.com']\n",
      "    start_urls = [today_events_url]\n",
      "    \n",
      "    rules = (\n",
      "        Rule(LinkExtractor(allow=(r'\\/event\\.aspx\\?',), canonicalize=False), callback='parse_event'),\n",
      "    )\n",
      "\n",
      "    extract_digits = re.compile(r'(\\d+)')\n",
      "    \n",
      "    def take_first(list_or_elem):\n",
      "        if hasattr(list_or_elem, '__iter__'):\n",
      "            return list_or_elemp[0]\n",
      "        else:\n",
      "            return list_or_elem\n",
      "    \n",
      "    def parse_event(self, response):\n",
      "        \n",
      "        #url \n",
      "        #ra_event_id \n",
      "        #name    \n",
      "        #date \n",
      "        #ra_club_id\n",
      "        event = Event()\n",
      "        event['url'] = response.url    \n",
      "        event['ra_event_id'] = self.extract_digits.search(event['url']).group(1)\n",
      "        event['name'] = response.xpath(\"//div[@id = 'sectionHead']/h1/text()\").extract()[0]\n",
      "        event['date'] = TODAY\n",
      "        event['artists'] = []\n",
      "        \n",
      "        \n",
      "        #ra_club_id \n",
      "        #url \n",
      "        #name \n",
      "        #adress \n",
      "        #ra_locale_id\n",
      "        club_link = response.xpath(\"//a[contains(@title, 'Club profile')]\")\n",
      "        if club_link:\n",
      "            club = Club()\n",
      "            club['url'] = club_link.xpath(\"@href\").extract()[0]\n",
      "            club['name'] = club_link.xpath(\"text()\").extract()[0]\n",
      "            id_match = self.extract_digits.search(club['url'])\n",
      "            self.log(type(id_match))\n",
      "            club['ra_club_id'] = id_match.group(1)\n",
      "            club['adress'] = club_link.xpath(\"../text()\").extract()[0]\n",
      "            \n",
      "            geocode = geocoder.google(club['adress'])\n",
      "            if geocode.status_description == 'OK':\n",
      "                club['latlon'] = geocode.latlng\n",
      "            event['ra_club_id'] = club['ra_club_id']\n",
      "            event['club'] = club\n",
      "            \n",
      "        \n",
      "        lineup_selector = response.css(\".lineup\").xpath(\"a\")\n",
      "        if lineup_selector:\n",
      "            num_artists = len(lineup_selector)\n",
      "            for link_sel in lineup_selector:\n",
      "                artist = Artist()\n",
      "                url_ext = link_sel.xpath(\"@href\").extract()[0]\n",
      "                if url_ext[:4] == \"/dj/\":\n",
      "                    artist['url'] = BASE_URL + url_ext\n",
      "                    artist['name'] = link_sel.xpath(\"text()\").extract()[0]\n",
      "                    artist['ra_artist_id'] = url_ext.split(\"/\")[2]\n",
      "                    request = scrapy.Request(artist['url'], callback=self.parse_dj)\n",
      "                    request.meta['event'] = event\n",
      "                    request.meta['artist'] = artist\n",
      "                    request.meta['num_artists'] = num_artists\n",
      "                    yield request\n",
      "        #yield event\n",
      "    \n",
      "    def parse_dj(self, response):\n",
      "        #ra_artist_id *\n",
      "        #url *\n",
      "        #name *\n",
      "        #sc_user\n",
      "        #sc_link\n",
      "        #sc_track_permalink\n",
      "        #sc_value #arbitray number for ranking artists\n",
      "        \n",
      "        artist = response.meta['artist']\n",
      "        sc_link_sel = response.xpath(\"//a[contains(@href, 'http://www.soundcloud.com')][contains(text(), 'SoundCloud')]/@href\")\n",
      "        if sc_link_sel:\n",
      "            artist['sc_link'] = sc_link_sel.extract()[0]\n",
      "            artist['sc_user'] = artist['sc_link'].split('/')[-1]\n",
      "            \n",
      "            sc_tracks_url = \"http://api.soundcloud.com/users/\" + artist['sc_user'] + \"/tracks.json?\" + sc_client_id\n",
      "            request = scrapy.Request(sc_tracks_url, callback=self.parse_tracks)\n",
      "            request.meta['artist'] = artist\n",
      "            request.meta['event'] = response.meta['event']\n",
      "            request.meta['num_artists'] = response.meta['num_artists']\n",
      "            yield request\n",
      "    \n",
      "    def parse_tracks(self, response):\n",
      "        \n",
      "        artist = response.meta['artist']\n",
      "        event = response.meta['event']\n",
      "        tracks = json.loads(response.body)\n",
      "        if tracks:\n",
      "            tracks = [defaultdict(int, t) for t in tracks] #some tracks miss fields\n",
      "            permalinks_plays = [(t['permalink_url'], t['playback_count']) for t in tracks]\n",
      "            permalinks_plays.sort(key=lambda x: x[1], reverse=True)\n",
      "            \n",
      "            artist['sc_track_permalink'] = permalinks_plays[0][0]\n",
      "            artist['sc_value'] = sum((p for l, p in permalinks_plays))\n",
      "            \n",
      "            event['artists'] = event['artists'] + [artist]\n",
      "            if len(event['artists']) == response.meta['num_artists']: #very hacky take this out!\n",
      "                yield event\n",
      "        #yield event\n",
      "#        yield club\n",
      "    #    yield performance"
     ],
     "language": "python",
     "metadata": {},
     "outputs": [
      {
       "output_type": "stream",
       "stream": "stdout",
       "text": [
        "Writing ra/spiders/event_spider.py\n"
       ]
      }
     ],
     "prompt_number": 7
    },
    {
     "cell_type": "code",
     "collapsed": false,
     "input": [
      "from scrapy.contrib.linkextractors import LinkExtractor\n",
      "from scrapy.utils import request\n",
      "from scrapy.http.response import text\n",
      "import scrapy\n",
      "import re"
     ],
     "language": "python",
     "metadata": {},
     "outputs": [],
     "prompt_number": 162
    },
    {
     "cell_type": "code",
     "collapsed": false,
     "input": [
      "r = scrapy.Request('http://www.residentadvisor.net/event.aspx?638376')"
     ],
     "language": "python",
     "metadata": {},
     "outputs": [],
     "prompt_number": 29
    },
    {
     "cell_type": "code",
     "collapsed": false,
     "input": [
      "from scrapy.selector import Selector\n",
      "from scrapy.http import HtmlResponse, Response\n",
      "from requests import get\n",
      "import urllib"
     ],
     "language": "python",
     "metadata": {},
     "outputs": [],
     "prompt_number": 18
    },
    {
     "cell_type": "code",
     "collapsed": false,
     "input": [
      "client_id = urllib.urlencode({\"client_id\": SC_CLIENT_ID})\n",
      "client_id"
     ],
     "language": "python",
     "metadata": {},
     "outputs": [
      {
       "metadata": {},
       "output_type": "pyout",
       "prompt_number": 13,
       "text": [
        "'client_id=d1c9c9869e1df58cfe5258a84e26f08b'"
       ]
      }
     ],
     "prompt_number": 13
    },
    {
     "cell_type": "code",
     "collapsed": false,
     "input": [
      "#url = 'http://www.residentadvisor.net/event.aspx?638376'\n",
      "#url = \"http://www.residentadvisor.net/dj/patrickpoitz\"\n",
      "url = \"http://api.soundcloud.com/users/agnes/tracks.json?\"+client_id\n",
      "req = get(url)\n",
      "body = get(url).text\n",
      "\n",
      "m = HtmlResponse(url=url, body=body, encoding='utf8')\n",
      "\n"
     ],
     "language": "python",
     "metadata": {},
     "outputs": [],
     "prompt_number": 40
    },
    {
     "cell_type": "code",
     "collapsed": false,
     "input": [
      "m.body"
     ],
     "language": "python",
     "metadata": {},
     "outputs": [
      {
       "metadata": {},
       "output_type": "pyout",
       "prompt_number": 41,
       "text": [
        "'[{\"kind\":\"track\",\"id\":165741779,\"created_at\":\"2014/09/01 15:23:52 +0000\",\"user_id\":584,\"duration\":127045,\"commentable\":true,\"state\":\"finished\",\"original_content_size\":5081446,\"sharing\":\"public\",\"tag_list\":\"\",\"permalink\":\"agd-001\",\"streamable\":true,\"embeddable_by\":\"all\",\"downloadable\":false,\"purchase_url\":null,\"label_id\":null,\"purchase_title\":null,\"genre\":\"Maison & Accent Grave\",\"title\":\"Accent Grave Disques 001\",\"description\":\"Accent Grave Disques - AGD 001 will be pressed and released on vinyls soon...\",\"label_name\":\"Accent Grave Disques\",\"release\":null,\"track_type\":null,\"key_signature\":null,\"isrc\":null,\"video_url\":null,\"bpm\":null,\"release_year\":null,\"release_month\":null,\"release_day\":null,\"original_format\":\"mp3\",\"license\":\"all-rights-reserved\",\"uri\":\"https://api.soundcloud.com/tracks/165741779\",\"user\":{\"id\":584,\"kind\":\"user\",\"permalink\":\"agnes\",\"username\":\"agnes\",\"uri\":\"https://api.soundcloud.com/users/584\",\"permalink_url\":\"http://soundcloud.com/agnes\",\"avatar_url\":\"https://i1.sndcdn.com/avatars-000103666774-j76ien-large.jpg?debc7fd\"},\"permalink_url\":\"http://soundcloud.com/agnes/agd-001\",\"artwork_url\":\"https://i1.sndcdn.com/artworks-000089752194-mckpni-large.jpg?debc7fd\",\"waveform_url\":\"https://w1.sndcdn.com/yyMkqgGj0MaT_m.png\",\"stream_url\":\"https://api.soundcloud.com/tracks/165741779/stream\",\"playback_count\":2740,\"download_count\":0,\"favoritings_count\":242,\"comment_count\":31,\"attachments_uri\":\"https://api.soundcloud.com/tracks/165741779/attachments\",\"policy\":\"ALLOW\"},{\"kind\":\"track\",\"id\":96857269,\"created_at\":\"2013/06/14 12:32:38 +0000\",\"user_id\":584,\"duration\":136267,\"commentable\":true,\"state\":\"finished\",\"original_content_size\":5450295,\"sharing\":\"public\",\"tag_list\":\"Hudd Traxx Agn\\xc3\\xa8s Question Rh\\xc3\\xa9torique HUDD042 this summer Rick Wade Eddie Leader Sek Garage Maison House Music\",\"permalink\":\"agnes-qr\",\"streamable\":false,\"embeddable_by\":\"none\",\"downloadable\":false,\"purchase_url\":null,\"label_id\":null,\"purchase_title\":null,\"genre\":\"Garage & Maison Sale\",\"title\":\"Agn\\xc3\\xa8s - Question Rh\\xc3\\xa9torique (Hudd Traxx 042)\",\"description\":\"Soon to pop out on 12\\\\\" vinyl\\'s...\\\\r\\\\nHudd042 Summer Sampler with Eddie Leader, Rick Wade & Sek .\\\\r\\\\n \",\"label_name\":\"\",\"release\":\"\",\"track_type\":\"\",\"key_signature\":\"\",\"isrc\":\"\",\"video_url\":null,\"bpm\":null,\"release_year\":null,\"release_month\":null,\"release_day\":null,\"original_format\":\"mp3\",\"license\":\"all-rights-reserved\",\"uri\":\"https://api.soundcloud.com/tracks/96857269\",\"user\":{\"id\":584,\"kind\":\"user\",\"permalink\":\"agnes\",\"username\":\"agnes\",\"uri\":\"https://api.soundcloud.com/users/584\",\"permalink_url\":\"http://soundcloud.com/agnes\",\"avatar_url\":\"https://i1.sndcdn.com/avatars-000103666774-j76ien-large.jpg?debc7fd\"},\"permalink_url\":\"http://soundcloud.com/agnes/agnes-qr\",\"artwork_url\":null,\"waveform_url\":\"https://w1.sndcdn.com/z0VQELvEk0Hd_m.png\",\"playback_count\":11822,\"download_count\":0,\"favoritings_count\":549,\"comment_count\":70,\"attachments_uri\":\"https://api.soundcloud.com/tracks/96857269/attachments\",\"policy\":\"ALLOW\"},{\"kind\":\"track\",\"id\":95060141,\"created_at\":\"2013/06/02 10:31:02 +0000\",\"user_id\":584,\"duration\":338238,\"commentable\":true,\"state\":\"finished\",\"original_content_size\":13527248,\"sharing\":\"public\",\"tag_list\":\"Real Soon Records Paticles 2008\",\"permalink\":\"particles\",\"streamable\":false,\"embeddable_by\":\"none\",\"downloadable\":false,\"purchase_url\":null,\"label_id\":1036546,\"purchase_title\":null,\"genre\":\"Real Soon House\",\"title\":\"Particles\",\"description\":\"A track which has been released a few years ago on Real Soon Records.. I still like that one.\\\\r\\\\nhttp://www.discogs.com/Ray-Valioso-Particles-EP/release/1436125\",\"label_name\":\"Real Soon\",\"release\":\"RS-017\",\"track_type\":\"\",\"key_signature\":\"\",\"isrc\":\"\",\"video_url\":null,\"bpm\":null,\"release_year\":null,\"release_month\":null,\"release_day\":null,\"original_format\":\"mp3\",\"license\":\"all-rights-reserved\",\"uri\":\"https://api.soundcloud.com/tracks/95060141\",\"user\":{\"id\":584,\"kind\":\"user\",\"permalink\":\"agnes\",\"username\":\"agnes\",\"uri\":\"https://api.soundcloud.com/users/584\",\"permalink_url\":\"http://soundcloud.com/agnes\",\"avatar_url\":\"https://i1.sndcdn.com/avatars-000103666774-j76ien-large.jpg?debc7fd\"},\"label\":{\"id\":1036546,\"kind\":\"user\",\"permalink\":\"real-soon\",\"username\":\"Real Soon\",\"uri\":\"https://api.soundcloud.com/users/1036546\",\"permalink_url\":\"http://soundcloud.com/real-soon\",\"avatar_url\":\"https://i1.sndcdn.com/avatars-000050710679-62xz4h-large.jpg?debc7fd\"},\"permalink_url\":\"http://soundcloud.com/agnes/particles\",\"artwork_url\":\"https://i1.sndcdn.com/artworks-000049574367-4p4r00-large.jpg?debc7fd\",\"waveform_url\":\"https://w1.sndcdn.com/Es6GarBQZnRx_m.png\",\"playback_count\":5888,\"download_count\":0,\"favoritings_count\":116,\"comment_count\":21,\"attachments_uri\":\"https://api.soundcloud.com/tracks/95060141/attachments\",\"policy\":\"ALLOW\"},{\"kind\":\"track\",\"id\":83189747,\"created_at\":\"2013/03/14 09:00:21 +0000\",\"user_id\":584,\"duration\":573362,\"commentable\":true,\"state\":\"finished\",\"original_content_size\":22931329,\"sharing\":\"public\",\"tag_list\":\"Porchevalerie EP Agn\\xc3\\xa8s Torpedoman 2013 Dance Music Maison Kyle FG Intergroove\",\"permalink\":\"agn-s-torpedoman-porchevalerie\",\"streamable\":false,\"embeddable_by\":\"none\",\"downloadable\":false,\"purchase_url\":\"http://www.juno.co.uk/products/491100-01.htm\",\"label_id\":null,\"purchase_title\":\"Buy Waxx\",\"genre\":\"Horse House\",\"title\":\"Agn\\xc3\\xa8s & Torpedoman - Porchevalerie EP\",\"description\":\"A1 - Agn\\xc3\\xa8s - Porcheval\\\\r\\\\nA2 - Agn\\xc3\\xa8s - Souffl\\xc3\\xa9 (Accent Grave Mixx)\\\\r\\\\nB1 - Torpedoman - $ Throats (Deep Garage Mixx)\\\\r\\\\nB2 - Torpedoman - Wanname\\\\r\\\\n\\\\r\\\\nAll tracks W&P by Agn\\xc3\\xa8s - SAEP030 - Sthlmaudio Recordings 2013\\\\r\\\\nto be released on 12\\\\\" vinyls soon, distribution through Intergroove\",\"label_name\":\"\",\"release\":\"\",\"track_type\":\"\",\"key_signature\":\"\",\"isrc\":\"\",\"video_url\":null,\"bpm\":null,\"release_year\":null,\"release_month\":null,\"release_day\":null,\"original_format\":\"mp3\",\"license\":\"all-rights-reserved\",\"uri\":\"https://api.soundcloud.com/tracks/83189747\",\"user\":{\"id\":584,\"kind\":\"user\",\"permalink\":\"agnes\",\"username\":\"agnes\",\"uri\":\"https://api.soundcloud.com/users/584\",\"permalink_url\":\"http://soundcloud.com/agnes\",\"avatar_url\":\"https://i1.sndcdn.com/avatars-000103666774-j76ien-large.jpg?debc7fd\"},\"permalink_url\":\"http://soundcloud.com/agnes/agn-s-torpedoman-porchevalerie\",\"artwork_url\":\"https://i1.sndcdn.com/artworks-000050014923-dtyjnh-large.jpg?debc7fd\",\"waveform_url\":\"https://w1.sndcdn.com/VqAlGwiHrLmC_m.png\",\"playback_count\":16368,\"download_count\":0,\"favoritings_count\":545,\"comment_count\":119,\"attachments_uri\":\"https://api.soundcloud.com/tracks/83189747/attachments\",\"policy\":\"ALLOW\"},{\"kind\":\"track\",\"id\":75078201,\"created_at\":\"2013/01/15 21:16:48 +0000\",\"user_id\":584,\"duration\":412668,\"commentable\":true,\"state\":\"finished\",\"original_content_size\":72777092,\"sharing\":\"public\",\"tag_list\":\"FREE WAV DOWNLOAD FULL REMIX Agn\\xc3\\xa8s Viscardi Cartman Pascal\",\"permalink\":\"pascal-viscardi-agnes-free\",\"streamable\":false,\"embeddable_by\":\"none\",\"downloadable\":true,\"purchase_url\":null,\"label_id\":null,\"purchase_title\":null,\"genre\":\"House\",\"title\":\"Pascal Viscardi - Hardcore (Agn\\xc3\\xa8s Timeproof Remix) - WAV MASTER (free download)\",\"description\":\"As i (nor did my buddy Pascal) haven\\'t received any copies of the final vinyl records from the label (i\\'ve been asking for two for my personal archives) I\\'ve decided to be good with you my respectful and faithful believers. Grab it share it spread it, i respect you 1000 times more than them ! Bizz lesson 1; commit to the sounds of your mouth.\\\\r\\\\n\\\\r\\\\nIf you want Pascal\\'s A Side track its here:\\\\r\\\\nhttps://soundcloud.com/pascalviscardi/hardcore-alpha-dub-mix-free\\\\r\\\\n\\\\r\\\\nSo for the update, we went in the streets and shouted our claims really loudly Pascal and me naked, i think there are pictures, and we\\'ve made enough money (20 euros) to buy ourselves our own records... So we\\'ve got it! yeah we got copies of our own record ! Wicked\\\\r\\\\n\\\\r\\\\n\",\"label_name\":\"\",\"release\":\"\",\"track_type\":\"remix\",\"key_signature\":\"\",\"isrc\":\"\",\"video_url\":null,\"bpm\":null,\"release_year\":null,\"release_month\":null,\"release_day\":null,\"original_format\":\"wav\",\"license\":\"all-rights-reserved\",\"uri\":\"https://api.soundcloud.com/tracks/75078201\",\"user\":{\"id\":584,\"kind\":\"user\",\"permalink\":\"agnes\",\"username\":\"agnes\",\"uri\":\"https://api.soundcloud.com/users/584\",\"permalink_url\":\"http://soundcloud.com/agnes\",\"avatar_url\":\"https://i1.sndcdn.com/avatars-000103666774-j76ien-large.jpg?debc7fd\"},\"permalink_url\":\"http://soundcloud.com/agnes/pascal-viscardi-agnes-free\",\"artwork_url\":null,\"waveform_url\":\"https://w1.sndcdn.com/8m2XCrXWLgtK_m.png\",\"download_url\":\"https://api.soundcloud.com/tracks/75078201/download\",\"playback_count\":21412,\"download_count\":3507,\"favoritings_count\":697,\"comment_count\":111,\"attachments_uri\":\"https://api.soundcloud.com/tracks/75078201/attachments\",\"policy\":\"ALLOW\"},{\"kind\":\"track\",\"id\":70063102,\"created_at\":\"2012/12/05 11:29:24 +0000\",\"user_id\":584,\"duration\":731391,\"commentable\":true,\"state\":\"finished\",\"original_content_size\":29253070,\"sharing\":\"public\",\"tag_list\":\"Agn\\xc3\\xa8s Jedi House EP\",\"permalink\":\"jedi-house-ep\",\"streamable\":false,\"embeddable_by\":\"none\",\"downloadable\":false,\"purchase_url\":null,\"label_id\":null,\"purchase_title\":null,\"genre\":\"Jedi House\",\"title\":\"Agn\\xc3\\xa8s - Jedi House EP\",\"description\":\"12\\\\\" vinyls coming out end of January 2013 - early February 2013 on Vitalik Recordings.\\\\r\\\\n\\\\r\\\\nA1 - SILENCE & SNOW\\\\r\\\\nA2 - MAYBE HERE MAYBE NOT\\\\r\\\\nB1 - BOBA FATT\\\\r\\\\nB2 - ANCIENT METHODS\\\\r\\\\nB3 - CHEW REBELLION\\\\r\\\\n\",\"label_name\":\"\",\"release\":\"\",\"track_type\":\"\",\"key_signature\":\"\",\"isrc\":\"\",\"video_url\":null,\"bpm\":null,\"release_year\":null,\"release_month\":null,\"release_day\":null,\"original_format\":\"mp3\",\"license\":\"all-rights-reserved\",\"uri\":\"https://api.soundcloud.com/tracks/70063102\",\"user\":{\"id\":584,\"kind\":\"user\",\"permalink\":\"agnes\",\"username\":\"agnes\",\"uri\":\"https://api.soundcloud.com/users/584\",\"permalink_url\":\"http://soundcloud.com/agnes\",\"avatar_url\":\"https://i1.sndcdn.com/avatars-000103666774-j76ien-large.jpg?debc7fd\"},\"permalink_url\":\"http://soundcloud.com/agnes/jedi-house-ep\",\"artwork_url\":\"https://i1.sndcdn.com/artworks-000035546509-6mje9s-large.jpg?debc7fd\",\"waveform_url\":\"https://w1.sndcdn.com/Rd6I0dLsN2Mi_m.png\",\"playback_count\":11625,\"download_count\":1,\"favoritings_count\":460,\"comment_count\":100,\"attachments_uri\":\"https://api.soundcloud.com/tracks/70063102/attachments\",\"policy\":\"ALLOW\"},{\"kind\":\"track\",\"id\":45905442,\"created_at\":\"2012/05/10 06:02:30 +0000\",\"user_id\":584,\"duration\":7467908,\"commentable\":true,\"state\":\"finished\",\"original_content_size\":298602666,\"sharing\":\"public\",\"tag_list\":\"Agn\\xc3\\xa8s Cavalier Leuven Belgium Village of Sounds Montreal House Garage Torpedoman Dancing Deep Bassline Ripperton\",\"permalink\":\"agnes-village-of-sounds\",\"streamable\":false,\"embeddable_by\":\"none\",\"downloadable\":false,\"purchase_url\":null,\"label_id\":null,\"purchase_title\":null,\"genre\":\"Maison Sauvage\",\"title\":\"Agn\\xc3\\xa8s aka Cavalier @ Village of Sounds, Leuven 28.04.2012\",\"description\":\"Agn\\xc3\\xa8s recorded dj\\'ing @ Montreal Club in Leuven, Belgium for the Village of Sounds club night / crew.\\\\r\\\\nBooking Agn\\xc3\\xa8s is very easy and it goes this way // http://www.sweatlodgeagency.com/news/artists/agnes/agnes.html\\\\r\\\\n\\\\r\\\\nenjoy...\",\"label_name\":\"\",\"release\":\"\",\"track_type\":\"recording\",\"key_signature\":\"\",\"isrc\":\"\",\"video_url\":null,\"bpm\":null,\"release_year\":null,\"release_month\":null,\"release_day\":null,\"original_format\":\"mp3\",\"license\":\"all-rights-reserved\",\"uri\":\"https://api.soundcloud.com/tracks/45905442\",\"user\":{\"id\":584,\"kind\":\"user\",\"permalink\":\"agnes\",\"username\":\"agnes\",\"uri\":\"https://api.soundcloud.com/users/584\",\"permalink_url\":\"http://soundcloud.com/agnes\",\"avatar_url\":\"https://i1.sndcdn.com/avatars-000103666774-j76ien-large.jpg?debc7fd\"},\"permalink_url\":\"http://soundcloud.com/agnes/agnes-village-of-sounds\",\"artwork_url\":\"https://i1.sndcdn.com/artworks-000023089425-4it8mw-large.jpg?debc7fd\",\"waveform_url\":\"https://w1.sndcdn.com/p1pT84xK3DxT_m.png\",\"playback_count\":15623,\"download_count\":699,\"favoritings_count\":673,\"comment_count\":246,\"attachments_uri\":\"https://api.soundcloud.com/tracks/45905442/attachments\",\"policy\":\"ALLOW\"},{\"kind\":\"track\",\"id\":44344811,\"created_at\":\"2012/04/25 22:21:41 +0000\",\"user_id\":584,\"duration\":172735,\"commentable\":true,\"state\":\"finished\",\"original_content_size\":6905838,\"sharing\":\"public\",\"tag_list\":\"\",\"permalink\":\"booty-mixx\",\"streamable\":false,\"embeddable_by\":\"none\",\"downloadable\":false,\"purchase_url\":null,\"label_id\":null,\"purchase_title\":null,\"genre\":\"Booty Maison\",\"title\":\"Keep On Movin\\' (Agn\\xc3\\xa8s Booty Mixx) / Music With Content / MWC001\",\"description\":\"Coming soon on Music With Content MWC001 \\\\r\\\\n12\\\\\" vinyl stacked with two other mixes from Iron Curtis & Eddie Leader... Watch Out!\",\"label_name\":\"\",\"release\":\"\",\"track_type\":\"original\",\"key_signature\":\"\",\"isrc\":\"\",\"video_url\":null,\"bpm\":null,\"release_year\":null,\"release_month\":null,\"release_day\":null,\"original_format\":\"mp3\",\"license\":\"all-rights-reserved\",\"uri\":\"https://api.soundcloud.com/tracks/44344811\",\"user\":{\"id\":584,\"kind\":\"user\",\"permalink\":\"agnes\",\"username\":\"agnes\",\"uri\":\"https://api.soundcloud.com/users/584\",\"permalink_url\":\"http://soundcloud.com/agnes\",\"avatar_url\":\"https://i1.sndcdn.com/avatars-000103666774-j76ien-large.jpg?debc7fd\"},\"permalink_url\":\"http://soundcloud.com/agnes/booty-mixx\",\"artwork_url\":null,\"waveform_url\":\"https://w1.sndcdn.com/6oWL9A4lISo6_m.png\",\"playback_count\":8586,\"download_count\":0,\"favoritings_count\":390,\"comment_count\":74,\"attachments_uri\":\"https://api.soundcloud.com/tracks/44344811/attachments\",\"policy\":\"ALLOW\"}]'"
       ]
      }
     ],
     "prompt_number": 41
    },
    {
     "cell_type": "code",
     "collapsed": false,
     "input": [
      "import json\n",
      "res = json.loads(m.body)"
     ],
     "language": "python",
     "metadata": {},
     "outputs": [],
     "prompt_number": 59
    },
    {
     "cell_type": "code",
     "collapsed": false,
     "input": [
      "del res[0]['playback_count']"
     ],
     "language": "python",
     "metadata": {},
     "outputs": [],
     "prompt_number": 47
    },
    {
     "cell_type": "code",
     "collapsed": false,
     "input": [
      "import collections"
     ],
     "language": "python",
     "metadata": {},
     "outputs": [],
     "prompt_number": 50
    },
    {
     "cell_type": "code",
     "collapsed": false,
     "input": [
      "res[0] = collections.defaultdict(int, res[0])"
     ],
     "language": "python",
     "metadata": {},
     "outputs": [],
     "prompt_number": 61
    },
    {
     "cell_type": "code",
     "collapsed": false,
     "input": [
      "res[0]"
     ],
     "language": "python",
     "metadata": {},
     "outputs": [
      {
       "metadata": {},
       "output_type": "pyout",
       "prompt_number": 60,
       "text": [
        "{u'artwork_url': u'https://i1.sndcdn.com/artworks-000089752194-mckpni-large.jpg?debc7fd',\n",
        " u'attachments_uri': u'https://api.soundcloud.com/tracks/165741779/attachments',\n",
        " u'bpm': None,\n",
        " u'comment_count': 31,\n",
        " u'commentable': True,\n",
        " u'created_at': u'2014/09/01 15:23:52 +0000',\n",
        " u'description': u'Accent Grave Disques - AGD 001 will be pressed and released on vinyls soon...',\n",
        " u'download_count': 0,\n",
        " u'downloadable': False,\n",
        " u'duration': 127045,\n",
        " u'embeddable_by': u'all',\n",
        " u'favoritings_count': 242,\n",
        " u'genre': u'Maison & Accent Grave',\n",
        " u'id': 165741779,\n",
        " u'isrc': None,\n",
        " u'key_signature': None,\n",
        " u'kind': u'track',\n",
        " u'label_id': None,\n",
        " u'label_name': u'Accent Grave Disques',\n",
        " u'license': u'all-rights-reserved',\n",
        " u'original_content_size': 5081446,\n",
        " u'original_format': u'mp3',\n",
        " u'permalink': u'agd-001',\n",
        " u'permalink_url': u'http://soundcloud.com/agnes/agd-001',\n",
        " u'playback_count': 2740,\n",
        " u'policy': u'ALLOW',\n",
        " u'purchase_title': None,\n",
        " u'purchase_url': None,\n",
        " u'release': None,\n",
        " u'release_day': None,\n",
        " u'release_month': None,\n",
        " u'release_year': None,\n",
        " u'sharing': u'public',\n",
        " u'state': u'finished',\n",
        " u'stream_url': u'https://api.soundcloud.com/tracks/165741779/stream',\n",
        " u'streamable': True,\n",
        " u'tag_list': u'',\n",
        " u'title': u'Accent Grave Disques 001',\n",
        " u'track_type': None,\n",
        " u'uri': u'https://api.soundcloud.com/tracks/165741779',\n",
        " u'user': {u'avatar_url': u'https://i1.sndcdn.com/avatars-000103666774-j76ien-large.jpg?debc7fd',\n",
        "  u'id': 584,\n",
        "  u'kind': u'user',\n",
        "  u'permalink': u'agnes',\n",
        "  u'permalink_url': u'http://soundcloud.com/agnes',\n",
        "  u'uri': u'https://api.soundcloud.com/users/584',\n",
        "  u'username': u'agnes'},\n",
        " u'user_id': 584,\n",
        " u'video_url': None,\n",
        " u'waveform_url': u'https://w1.sndcdn.com/yyMkqgGj0MaT_m.png'}"
       ]
      }
     ],
     "prompt_number": 60
    },
    {
     "cell_type": "raw",
     "metadata": {},
     "source": []
    },
    {
     "cell_type": "code",
     "collapsed": false,
     "input": [
      "a = [(r['permalink_url'], r['playback_count']) for r in res]\n",
      "a.sort(key=lambda x: x[1], reverse=True)"
     ],
     "language": "python",
     "metadata": {},
     "outputs": [],
     "prompt_number": 71
    },
    {
     "cell_type": "code",
     "collapsed": false,
     "input": [
      "a"
     ],
     "language": "python",
     "metadata": {},
     "outputs": [
      {
       "metadata": {},
       "output_type": "pyout",
       "prompt_number": 72,
       "text": [
        "[(u'http://soundcloud.com/agnes/pascal-viscardi-agnes-free', 21412),\n",
        " (u'http://soundcloud.com/agnes/agn-s-torpedoman-porchevalerie', 16368),\n",
        " (u'http://soundcloud.com/agnes/agnes-village-of-sounds', 15623),\n",
        " (u'http://soundcloud.com/agnes/agnes-qr', 11822),\n",
        " (u'http://soundcloud.com/agnes/jedi-house-ep', 11625),\n",
        " (u'http://soundcloud.com/agnes/booty-mixx', 8586),\n",
        " (u'http://soundcloud.com/agnes/particles', 5888),\n",
        " (u'http://soundcloud.com/agnes/agd-001', 2740)]"
       ]
      }
     ],
     "prompt_number": 72
    },
    {
     "cell_type": "code",
     "collapsed": false,
     "input": [
      "sorted([(r['permalink_url'], r['playback_count']) for r in res], key=lambda x: x[1], reverse=True)"
     ],
     "language": "python",
     "metadata": {},
     "outputs": [
      {
       "metadata": {},
       "output_type": "pyout",
       "prompt_number": 67,
       "text": [
        "[(u'http://soundcloud.com/agnes/pascal-viscardi-agnes-free', 21412),\n",
        " (u'http://soundcloud.com/agnes/agn-s-torpedoman-porchevalerie', 16368),\n",
        " (u'http://soundcloud.com/agnes/agnes-village-of-sounds', 15623),\n",
        " (u'http://soundcloud.com/agnes/agnes-qr', 11822),\n",
        " (u'http://soundcloud.com/agnes/jedi-house-ep', 11625),\n",
        " (u'http://soundcloud.com/agnes/booty-mixx', 8586),\n",
        " (u'http://soundcloud.com/agnes/particles', 5888),\n",
        " (u'http://soundcloud.com/agnes/agd-001', 2740)]"
       ]
      }
     ],
     "prompt_number": 67
    },
    {
     "cell_type": "code",
     "collapsed": false,
     "input": [
      "res[0]['id']\n",
      "res[0]['user_id']"
     ],
     "language": "python",
     "metadata": {},
     "outputs": [
      {
       "metadata": {},
       "output_type": "pyout",
       "prompt_number": 34,
       "text": [
        "7394738"
       ]
      }
     ],
     "prompt_number": 34
    },
    {
     "cell_type": "code",
     "collapsed": false,
     "input": [
      "m.xpath(\"//a[contains(@href, 'http://www.soundcloud.com')][contains(text(), 'SoundCloud')]/@href\").extract()\n",
      "\n"
     ],
     "language": "python",
     "metadata": {},
     "outputs": [
      {
       "metadata": {},
       "output_type": "pyout",
       "prompt_number": 153,
       "text": [
        "[u'http://www.soundcloud.com/patrickpoitz']"
       ]
      }
     ],
     "prompt_number": 153
    },
    {
     "cell_type": "code",
     "collapsed": false,
     "input": [
      "#club url\n",
      "m.xpath(\"//a[contains(@title, 'Club profile')]/@href\").extract()"
     ],
     "language": "python",
     "metadata": {},
     "outputs": [
      {
       "metadata": {},
       "output_type": "pyout",
       "prompt_number": 129,
       "text": [
        "[u'club.aspx?id=9585']"
       ]
      }
     ],
     "prompt_number": 129
    },
    {
     "cell_type": "code",
     "collapsed": false,
     "input": [
      "#club name\n",
      "m.xpath(\"//a[contains(@title, 'Club profile')]/text()\").extract()"
     ],
     "language": "python",
     "metadata": {},
     "outputs": [
      {
       "metadata": {},
       "output_type": "pyout",
       "prompt_number": 103,
       "text": [
        "[]"
       ]
      }
     ],
     "prompt_number": 103
    },
    {
     "cell_type": "code",
     "collapsed": false,
     "input": [
      "\"/dj/bert\".split(\"/\")"
     ],
     "language": "python",
     "metadata": {},
     "outputs": [
      {
       "metadata": {},
       "output_type": "pyout",
       "prompt_number": 131,
       "text": [
        "['', 'dj', 'bert']"
       ]
      }
     ],
     "prompt_number": 131
    },
    {
     "cell_type": "code",
     "collapsed": false,
     "input": [
      "l = m.xpath(\"//a[contains(@title, 'Club profile')]\")"
     ],
     "language": "python",
     "metadata": {},
     "outputs": [],
     "prompt_number": 104
    },
    {
     "cell_type": "code",
     "collapsed": false,
     "input": [
      "lineup_links = m.css(\".lineup\")"
     ],
     "language": "python",
     "metadata": {},
     "outputs": [],
     "prompt_number": 112
    },
    {
     "cell_type": "code",
     "collapsed": false,
     "input": [
      "lineup_links"
     ],
     "language": "python",
     "metadata": {},
     "outputs": [
      {
       "metadata": {},
       "output_type": "pyout",
       "prompt_number": 113,
       "text": [
        "[<Selector xpath=u\"descendant-or-self::*[@class and contains(concat(' ', normalize-space(@class), ' '), ' lineup ')]\" data=u'<p class=\"lineup large\">12+, Schr\\xf6dinger'>]"
       ]
      }
     ],
     "prompt_number": 113
    },
    {
     "cell_type": "code",
     "collapsed": false,
     "input": [
      "l[0].xpath(\"@href[1]\").extract()"
     ],
     "language": "python",
     "metadata": {},
     "outputs": [
      {
       "metadata": {},
       "output_type": "pyout",
       "prompt_number": 99,
       "text": [
        "[u'club.aspx?id=9585']"
       ]
      }
     ],
     "prompt_number": 99
    },
    {
     "cell_type": "code",
     "collapsed": false,
     "input": [
      "#club adress\n",
      "l = m.xpath(\"//a[contains(@title, 'Club profile')]\")[0]\n",
      "l.xpath(\"../text()\").extract()"
     ],
     "language": "python",
     "metadata": {},
     "outputs": [
      {
       "metadata": {},
       "output_type": "pyout",
       "prompt_number": 138,
       "text": [
        "[u' Eichenstrasse 4; Treptow; 12435 Berlin;']"
       ]
      }
     ],
     "prompt_number": 138
    },
    {
     "cell_type": "code",
     "collapsed": false,
     "input": [
      "#party name\n",
      "m.xpath(\"//div[@id = 'sectionHead']/h1/text()\").extract()"
     ],
     "language": "python",
     "metadata": {},
     "outputs": [
      {
       "metadata": {},
       "output_type": "pyout",
       "prompt_number": 12,
       "text": [
        "[u'MY Sundays at Hoppetosse']"
       ]
      }
     ],
     "prompt_number": 12
    },
    {
     "cell_type": "code",
     "collapsed": false,
     "input": [
      "m.css(\".lineup\").xpath(\"a\")[0].xpath(\"@href\").extract()"
     ],
     "language": "python",
     "metadata": {},
     "outputs": [
      {
       "metadata": {},
       "output_type": "pyout",
       "prompt_number": 120,
       "text": [
        "[u'/dj/danicasarano']"
       ]
      }
     ],
     "prompt_number": 120
    },
    {
     "cell_type": "code",
     "collapsed": false,
     "input": [
      "m.css(\".lineup\").xpath(\"a/text()\").extract()"
     ],
     "language": "python",
     "metadata": {},
     "outputs": [
      {
       "metadata": {},
       "output_type": "pyout",
       "prompt_number": 20,
       "text": [
        "[u'Dani Casarano',\n",
        " u'Luc Ringeisen',\n",
        " u'Lorenzo Chiabotti',\n",
        " u'Yaya',\n",
        " u'Maki Polne']"
       ]
      }
     ],
     "prompt_number": 20
    },
    {
     "cell_type": "code",
     "collapsed": false,
     "input": [
      "m.xpath(\"//div[contains(@class, 'lineup')]\")"
     ],
     "language": "python",
     "metadata": {},
     "outputs": [
      {
       "metadata": {},
       "output_type": "pyout",
       "prompt_number": 17,
       "text": [
        "[]"
       ]
      }
     ],
     "prompt_number": 17
    },
    {
     "cell_type": "code",
     "collapsed": false,
     "input": [
      "m=id_extract.search(a)\n",
      "m.group(1)"
     ],
     "language": "python",
     "metadata": {},
     "outputs": [
      {
       "metadata": {},
       "output_type": "pyout",
       "prompt_number": 57,
       "text": [
        "'583826'"
       ]
      }
     ],
     "prompt_number": 57
    },
    {
     "cell_type": "code",
     "collapsed": false,
     "input": [
      "!rm a.csv"
     ],
     "language": "python",
     "metadata": {},
     "outputs": [],
     "prompt_number": 116
    },
    {
     "cell_type": "code",
     "collapsed": false,
     "input": [
      "!scrapy crawl event_spider -o a.json"
     ],
     "language": "python",
     "metadata": {},
     "outputs": [
      {
       "output_type": "stream",
       "stream": "stdout",
       "text": [
        "/home/alec/anaconda/lib/python2.7/site-packages/twisted/internet/_sslverify.py:184: UserWarning: You do not have the service_identity module installed. Please install it from <https://pypi.python.org/pypi/service_identity>. Without the service_identity module and a recent enough pyOpenSSL tosupport it, Twisted can perform only rudimentary TLS client hostnameverification.  Many valid certificate/hostname mappings may be rejected.\r\n",
        "  verifyHostname, VerificationError = _selectVerifyImplementation()\r\n"
       ]
      },
      {
       "output_type": "stream",
       "stream": "stdout",
       "text": [
        "2014-09-29 18:41:39+0200 [scrapy] INFO: Scrapy 0.24.4 started (bot: ra)\r\n",
        "2014-09-29 18:41:39+0200 [scrapy] INFO: Optional features available: ssl, http11, boto\r\n",
        "2014-09-29 18:41:39+0200 [scrapy] INFO: Overridden settings: {'NEWSPIDER_MODULE': 'ra.spiders', 'FEED_FORMAT': 'json', 'SPIDER_MODULES': ['ra.spiders'], 'FEED_URI': 'a.json', 'BOT_NAME': 'ra'}\r\n"
       ]
      },
      {
       "output_type": "stream",
       "stream": "stdout",
       "text": [
        "2014-09-29 18:41:40+0200 [scrapy] INFO: Enabled extensions: FeedExporter, LogStats, TelnetConsole, CloseSpider, WebService, CoreStats, SpiderState\r\n"
       ]
      },
      {
       "output_type": "stream",
       "stream": "stdout",
       "text": [
        "2014-09-29 18:41:41+0200 [scrapy] INFO: Enabled downloader middlewares: HttpAuthMiddleware, DownloadTimeoutMiddleware, UserAgentMiddleware, RetryMiddleware, DefaultHeadersMiddleware, MetaRefreshMiddleware, HttpCompressionMiddleware, RedirectMiddleware, CookiesMiddleware, ChunkedTransferMiddleware, DownloaderStats\r\n",
        "2014-09-29 18:41:41+0200 [scrapy] INFO: Enabled spider middlewares: HttpErrorMiddleware, OffsiteMiddleware, RefererMiddleware, UrlLengthMiddleware, DepthMiddleware\r\n"
       ]
      },
      {
       "output_type": "stream",
       "stream": "stdout",
       "text": [
        "2014-09-29 18:41:41+0200 [scrapy] INFO: Enabled item pipelines: \r\n",
        "2014-09-29 18:41:41+0200 [event_spider] INFO: Spider opened\r\n",
        "2014-09-29 18:41:41+0200 [event_spider] INFO: Crawled 0 pages (at 0 pages/min), scraped 0 items (at 0 items/min)\r\n",
        "2014-09-29 18:41:41+0200 [scrapy] DEBUG: Telnet console listening on 127.0.0.1:6023\r\n",
        "2014-09-29 18:41:41+0200 [scrapy] DEBUG: Web service listening on 127.0.0.1:6080\r\n"
       ]
      },
      {
       "output_type": "stream",
       "stream": "stdout",
       "text": [
        "2014-09-29 18:41:42+0200 [event_spider] DEBUG: Crawled (200) <GET http://www.residentadvisor.net/events.aspx?ai=34&yr=2014&mn=9&dy=29&v=day> (referer: None)\r\n"
       ]
      },
      {
       "output_type": "stream",
       "stream": "stdout",
       "text": [
        "2014-09-29 18:41:42+0200 [event_spider] DEBUG: Crawled (200) <GET http://www.residentadvisor.net/event.aspx?629290> (referer: http://www.residentadvisor.net/events.aspx?ai=34&yr=2014&mn=9&dy=29&v=day)\r\n"
       ]
      },
      {
       "output_type": "stream",
       "stream": "stdout",
       "text": [
        "2014-09-29 18:41:43+0200 [event_spider] DEBUG: Crawled (200) <GET http://www.residentadvisor.net/event.aspx?629366> (referer: http://www.residentadvisor.net/events.aspx?ai=34&yr=2014&mn=9&dy=29&v=day)\r\n"
       ]
      },
      {
       "output_type": "stream",
       "stream": "stdout",
       "text": [
        "2014-09-29 18:41:43+0200 [event_spider] DEBUG: Crawled (200) <GET http://www.residentadvisor.net/event.aspx?640831> (referer: http://www.residentadvisor.net/events.aspx?ai=34&yr=2014&mn=9&dy=29&v=day)\r\n"
       ]
      },
      {
       "output_type": "stream",
       "stream": "stdout",
       "text": [
        "2014-09-29 18:41:43+0200 [event_spider] DEBUG: Crawled (200) <GET http://www.residentadvisor.net/dj/gunnarstiller> (referer: http://www.residentadvisor.net/event.aspx?629290)\r\n"
       ]
      },
      {
       "output_type": "stream",
       "stream": "stdout",
       "text": [
        "2014-09-29 18:41:44+0200 [event_spider] DEBUG: Crawled (200) <GET http://api.soundcloud.com/users/gunnar-stiller/tracks.json?client_id=d1c9c9869e1df58cfe5258a84e26f08b> (referer: http://www.residentadvisor.net/dj/gunnarstiller)\r\n"
       ]
      },
      {
       "output_type": "stream",
       "stream": "stdout",
       "text": [
        "2014-09-29 18:41:44+0200 [event_spider] DEBUG: Crawled (200) <GET http://www.residentadvisor.net/dj/jankrueger> (referer: http://www.residentadvisor.net/event.aspx?640831)\r\n"
       ]
      },
      {
       "output_type": "stream",
       "stream": "stdout",
       "text": [
        "2014-09-29 18:41:44+0200 [event_spider] DEBUG: Crawled (200) <GET http://www.residentadvisor.net/dj/sylvieforet> (referer: http://www.residentadvisor.net/event.aspx?640831)\r\n"
       ]
      },
      {
       "output_type": "stream",
       "stream": "stdout",
       "text": [
        "2014-09-29 18:41:44+0200 [event_spider] DEBUG: Crawled (200) <GET http://api.soundcloud.com/users/sylvie-foret/tracks.json?client_id=d1c9c9869e1df58cfe5258a84e26f08b> (referer: http://www.residentadvisor.net/dj/sylvieforet)\r\n",
        "2014-09-29 18:41:44+0200 [event_spider] DEBUG: Crawled (200) <GET http://www.residentadvisor.net/event.aspx?629227> (referer: http://www.residentadvisor.net/events.aspx?ai=34&yr=2014&mn=9&dy=29&v=day)\r\n"
       ]
      },
      {
       "output_type": "stream",
       "stream": "stdout",
       "text": [
        "2014-09-29 18:41:45+0200 [event_spider] DEBUG: Crawled (200) <GET http://www.residentadvisor.net/dj/axelbartsch> (referer: http://www.residentadvisor.net/event.aspx?629290)\r\n"
       ]
      },
      {
       "output_type": "stream",
       "stream": "stdout",
       "text": [
        "2014-09-29 18:41:45+0200 [event_spider] DEBUG: Crawled (200) <GET http://www.residentadvisor.net/event.aspx?631942> (referer: http://www.residentadvisor.net/events.aspx?ai=34&yr=2014&mn=9&dy=29&v=day)\r\n"
       ]
      },
      {
       "output_type": "stream",
       "stream": "stdout",
       "text": [
        "2014-09-29 18:41:45+0200 [event_spider] DEBUG: Crawled (200) <GET http://api.soundcloud.com/users/axelbartsch/tracks.json?client_id=d1c9c9869e1df58cfe5258a84e26f08b> (referer: http://www.residentadvisor.net/dj/axelbartsch)\r\n",
        "2014-09-29 18:41:45+0200 [event_spider] DEBUG: Scraped from <200 http://api.soundcloud.com/users/axelbartsch/tracks.json?client_id=d1c9c9869e1df58cfe5258a84e26f08b>\r\n",
        "\t{'artists': [{'name': u'Gunnar Stiller',\r\n",
        "\t 'ra_artist_id': u'gunnarstiller',\r\n",
        "\t 'sc_link': u'http://www.soundcloud.com/gunnar-stiller',\r\n",
        "\t 'sc_track_permalink': u'http://soundcloud.com/gunnar-stiller/panoramabar_2011-10-23',\r\n",
        "\t 'sc_user': u'gunnar-stiller',\r\n",
        "\t 'sc_value': 112417,\r\n",
        "\t 'url': u'http://www.residentadvisor.net/dj/gunnarstiller'},\r\n",
        "\t             {'name': u'Axel Bartsch',\r\n",
        "\t 'ra_artist_id': u'axelbartsch',\r\n",
        "\t 'sc_link': u'http://www.soundcloud.com/axelbartsch',\r\n",
        "\t 'sc_track_permalink': u'http://soundcloud.com/axelbartsch/katerholzig-daytime-dj-action',\r\n",
        "\t 'sc_user': u'axelbartsch',\r\n",
        "\t 'sc_value': 38713,\r\n",
        "\t 'url': u'http://www.residentadvisor.net/dj/axelbartsch'}],\r\n",
        "\t 'club': {'adress': u' K\\xf6penickerstrasse 70; Mitte; 10179 Berlin;',\r\n",
        "\t 'latlon': [52.5108799, 13.4201002],\r\n",
        "\t 'name': u'Tresor',\r\n",
        "\t 'ra_club_id': u'5494',\r\n",
        "\t 'url': u'club.aspx?id=5494'},\r\n",
        "\t 'date': datetime.date(2014, 9, 29),\r\n",
        "\t 'name': u'House of Waxx at Tresor',\r\n",
        "\t 'ra_club_id': u'5494',\r\n",
        "\t 'ra_event_id': '629290',\r\n",
        "\t 'url': 'http://www.residentadvisor.net/event.aspx?629290'}\r\n"
       ]
      },
      {
       "output_type": "stream",
       "stream": "stdout",
       "text": [
        "2014-09-29 18:41:46+0200 [event_spider] DEBUG: Crawled (200) <GET http://www.residentadvisor.net/dj/tiny> (referer: http://www.residentadvisor.net/event.aspx?629227)\r\n"
       ]
      },
      {
       "output_type": "stream",
       "stream": "stdout",
       "text": [
        "2014-09-29 18:41:46+0200 [event_spider] DEBUG: Crawled (200) <GET http://api.soundcloud.com/users/tiney/tracks.json?client_id=d1c9c9869e1df58cfe5258a84e26f08b> (referer: http://www.residentadvisor.net/dj/tiny)\r\n",
        "2014-09-29 18:41:46+0200 [event_spider] DEBUG: Scraped from <200 http://api.soundcloud.com/users/tiney/tracks.json?client_id=d1c9c9869e1df58cfe5258a84e26f08b>\r\n",
        "\t{'artists': [{'name': u'Tiny',\r\n",
        "\t 'ra_artist_id': u'tiny',\r\n",
        "\t 'sc_link': u'http://www.soundcloud.com/tiney',\r\n",
        "\t 'sc_track_permalink': u'http://soundcloud.com/tiney/done-by-the-dawgs',\r\n",
        "\t 'sc_user': u'tiney',\r\n",
        "\t 'sc_value': 3077,\r\n",
        "\t 'url': u'http://www.residentadvisor.net/dj/tiny'}],\r\n",
        "\t 'date': datetime.date(2014, 9, 29),\r\n",
        "\t 'name': u'Tiny Ruins at Gr\\xfcner Salon Der Volksb\\xfchne',\r\n",
        "\t 'ra_event_id': '629227',\r\n",
        "\t 'url': 'http://www.residentadvisor.net/event.aspx?629227'}\r\n"
       ]
      },
      {
       "output_type": "stream",
       "stream": "stdout",
       "text": [
        "2014-09-29 18:41:46+0200 [event_spider] DEBUG: Crawled (200) <GET http://www.residentadvisor.net/event.aspx?632989> (referer: http://www.residentadvisor.net/events.aspx?ai=34&yr=2014&mn=9&dy=29&v=day)\r\n"
       ]
      },
      {
       "output_type": "stream",
       "stream": "stdout",
       "text": [
        "2014-09-29 18:41:46+0200 [event_spider] DEBUG: Crawled (200) <GET http://www.residentadvisor.net/dj/konradblack> (referer: http://www.residentadvisor.net/event.aspx?640831)\r\n"
       ]
      },
      {
       "output_type": "stream",
       "stream": "stdout",
       "text": [
        "2014-09-29 18:41:46+0200 [event_spider] DEBUG: Crawled (200) <GET http://www.residentadvisor.net/event.aspx?628859> (referer: http://www.residentadvisor.net/events.aspx?ai=34&yr=2014&mn=9&dy=29&v=day)\r\n"
       ]
      },
      {
       "output_type": "stream",
       "stream": "stdout",
       "text": [
        "2014-09-29 18:41:52+0200 [event_spider] DEBUG: Crawled (200) <GET http://www.residentadvisor.net/dj/ollidertwist> (referer: http://www.residentadvisor.net/event.aspx?632989)\r\n"
       ]
      },
      {
       "output_type": "stream",
       "stream": "stdout",
       "text": [
        "2014-09-29 18:41:52+0200 [event_spider] DEBUG: Crawled (200) <GET http://api.soundcloud.com/users/ollider-twist/tracks.json?client_id=d1c9c9869e1df58cfe5258a84e26f08b> (referer: http://www.residentadvisor.net/dj/ollidertwist)\r\n",
        "2014-09-29 18:41:52+0200 [event_spider] DEBUG: Scraped from <200 http://api.soundcloud.com/users/ollider-twist/tracks.json?client_id=d1c9c9869e1df58cfe5258a84e26f08b>\r\n",
        "\t{'artists': [{'name': u'Ollider Twist',\r\n",
        "\t 'ra_artist_id': u'ollidertwist',\r\n",
        "\t 'sc_link': u'http://www.soundcloud.com/https://ollider-twist',\r\n",
        "\t 'sc_track_permalink': u'http://soundcloud.com/ollider-twist/ick-hau-van-jau',\r\n",
        "\t 'sc_user': u'ollider-twist',\r\n",
        "\t 'sc_value': 1682,\r\n",
        "\t 'url': u'http://www.residentadvisor.net/dj/ollidertwist'}],\r\n",
        "\t 'club': {'adress': u' Schillerpromenade 11, 12049 Berlin',\r\n",
        "\t 'latlon': [52.475866, 13.4220073],\r\n",
        "\t 'name': u'Promenaden Eck',\r\n",
        "\t 'ra_club_id': u'88900',\r\n",
        "\t 'url': u'club.aspx?id=88900'},\r\n",
        "\t 'date': datetime.date(2014, 9, 29),\r\n",
        "\t 'name': u\"Let's Stay Awake mit Ollider Twist at Promenaden Eck\",\r\n",
        "\t 'ra_club_id': u'88900',\r\n",
        "\t 'ra_event_id': '632989',\r\n",
        "\t 'url': 'http://www.residentadvisor.net/event.aspx?632989'}\r\n"
       ]
      },
      {
       "output_type": "stream",
       "stream": "stdout",
       "text": [
        "2014-09-29 18:41:52+0200 [event_spider] DEBUG: Crawled (200) <GET http://www.residentadvisor.net/dj/walkerbarnard> (referer: http://www.residentadvisor.net/event.aspx?640831)\r\n"
       ]
      },
      {
       "output_type": "stream",
       "stream": "stdout",
       "text": [
        "2014-09-29 18:41:53+0200 [event_spider] DEBUG: Crawled (200) <GET http://www.residentadvisor.net/event.aspx?639809> (referer: http://www.residentadvisor.net/events.aspx?ai=34&yr=2014&mn=9&dy=29&v=day)\r\n"
       ]
      },
      {
       "output_type": "stream",
       "stream": "stdout",
       "text": [
        "2014-09-29 18:41:53+0200 [event_spider] DEBUG: Crawled (200) <GET http://api.soundcloud.com/users/walker_/tracks.json?client_id=d1c9c9869e1df58cfe5258a84e26f08b> (referer: http://www.residentadvisor.net/dj/walkerbarnard)\r\n"
       ]
      },
      {
       "output_type": "stream",
       "stream": "stdout",
       "text": [
        "2014-09-29 18:41:53+0200 [event_spider] DEBUG: Crawled (200) <GET http://www.residentadvisor.net/event.aspx?638342> (referer: http://www.residentadvisor.net/events.aspx?ai=34&yr=2014&mn=9&dy=29&v=day)\r\n"
       ]
      },
      {
       "output_type": "stream",
       "stream": "stdout",
       "text": [
        "2014-09-29 18:41:57+0200 [event_spider] DEBUG: Crawled (200) <GET http://www.residentadvisor.net/dj/djdannyrussell> (referer: http://www.residentadvisor.net/event.aspx?628859)\r\n"
       ]
      },
      {
       "output_type": "stream",
       "stream": "stdout",
       "text": [
        "2014-09-29 18:41:57+0200 [event_spider] DEBUG: Crawled (200) <GET http://api.soundcloud.com/users/dj-danny-russell/tracks.json?client_id=d1c9c9869e1df58cfe5258a84e26f08b> (referer: http://www.residentadvisor.net/dj/djdannyrussell)\r\n",
        "2014-09-29 18:41:57+0200 [event_spider] DEBUG: Scraped from <200 http://api.soundcloud.com/users/dj-danny-russell/tracks.json?client_id=d1c9c9869e1df58cfe5258a84e26f08b>\r\n",
        "\t{'artists': [{'name': u'DJ Danny Russell',\r\n",
        "\t 'ra_artist_id': u'djdannyrussell',\r\n",
        "\t 'sc_link': u'http://www.soundcloud.com/dj-danny-russell',\r\n",
        "\t 'sc_track_permalink': u'http://soundcloud.com/dj-danny-russell/electro-funk-roots-mix',\r\n",
        "\t 'sc_user': u'dj-danny-russell',\r\n",
        "\t 'sc_value': 1622,\r\n",
        "\t 'url': u'http://www.residentadvisor.net/dj/djdannyrussell'}],\r\n",
        "\t 'club': {'adress': u' Oranienstra\\xdfe 32 10999 Berlin',\r\n",
        "\t 'latlon': [52.5016358, 13.41866],\r\n",
        "\t 'name': u'Cake Club',\r\n",
        "\t 'ra_club_id': u'42409',\r\n",
        "\t 'url': u'club.aspx?id=42409'},\r\n",
        "\t 'date': datetime.date(2014, 9, 29),\r\n",
        "\t 'name': u'Electro Funk Roots at Cake Club',\r\n",
        "\t 'ra_club_id': u'42409',\r\n",
        "\t 'ra_event_id': '628859',\r\n",
        "\t 'url': 'http://www.residentadvisor.net/event.aspx?628859'}\r\n"
       ]
      },
      {
       "output_type": "stream",
       "stream": "stdout",
       "text": [
        "2014-09-29 18:41:58+0200 [event_spider] DEBUG: Crawled (200) <GET http://www.residentadvisor.net/dj/sloan> (referer: http://www.residentadvisor.net/event.aspx?638342)\r\n"
       ]
      },
      {
       "output_type": "stream",
       "stream": "stdout",
       "text": [
        "2014-09-29 18:41:58+0200 [event_spider] DEBUG: Crawled (200) <GET http://api.soundcloud.com/users/sloan22/tracks.json?client_id=d1c9c9869e1df58cfe5258a84e26f08b> (referer: http://www.residentadvisor.net/dj/sloan)\r\n"
       ]
      },
      {
       "output_type": "stream",
       "stream": "stdout",
       "text": [
        "2014-09-29 18:42:04+0200 [event_spider] DEBUG: Crawled (200) <GET http://www.residentadvisor.net/dj/lucaalbano> (referer: http://www.residentadvisor.net/event.aspx?638342)\r\n"
       ]
      },
      {
       "output_type": "stream",
       "stream": "stdout",
       "text": [
        "2014-09-29 18:42:04+0200 [event_spider] DEBUG: Crawled (200) <GET http://api.soundcloud.com/users/luca-albano/tracks.json?client_id=d1c9c9869e1df58cfe5258a84e26f08b> (referer: http://www.residentadvisor.net/dj/lucaalbano)\r\n"
       ]
      },
      {
       "output_type": "stream",
       "stream": "stdout",
       "text": [
        "2014-09-29 18:42:04+0200 [event_spider] INFO: Closing spider (finished)\r\n",
        "2014-09-29 18:42:04+0200 [event_spider] INFO: Stored json feed (4 items) in: a.json\r\n",
        "2014-09-29 18:42:04+0200 [event_spider] INFO: Dumping Scrapy stats:\r\n",
        "\t{'downloader/request_bytes': 10545,\r\n",
        "\t 'downloader/request_count': 30,\r\n",
        "\t 'downloader/request_method_count/GET': 30,\r\n",
        "\t 'downloader/response_bytes': 534371,\r\n",
        "\t 'downloader/response_count': 30,\r\n",
        "\t 'downloader/response_status_count/200': 30,\r\n",
        "\t 'finish_reason': 'finished',\r\n",
        "\t 'finish_time': datetime.datetime(2014, 9, 29, 16, 42, 4, 449376),\r\n",
        "\t 'item_scraped_count': 4,\r\n",
        "\t 'log_count/DEBUG': 36,\r\n",
        "\t 'log_count/INFO': 8,\r\n",
        "\t 'request_depth_max': 3,\r\n",
        "\t 'response_received_count': 30,\r\n",
        "\t 'scheduler/dequeued': 30,\r\n",
        "\t 'scheduler/dequeued/memory': 30,\r\n",
        "\t 'scheduler/enqueued': 30,\r\n",
        "\t 'scheduler/enqueued/memory': 30,\r\n",
        "\t 'start_time': datetime.datetime(2014, 9, 29, 16, 41, 41, 898246)}\r\n",
        "2014-09-29 18:42:04+0200 [event_spider] INFO: Spider closed (finished)\r\n"
       ]
      }
     ],
     "prompt_number": 8
    },
    {
     "cell_type": "code",
     "collapsed": false,
     "input": [
      "!cat a.json"
     ],
     "language": "python",
     "metadata": {},
     "outputs": [
      {
       "output_type": "stream",
       "stream": "stdout",
       "text": [
        "[{\"name\": \"House of Waxx at Tresor\", \"url\": \"http://www.residentadvisor.net/event.aspx?629290\", \"club\": {\"url\": \"club.aspx?id=5494\", \"latlon\": [52.5108799, 13.4201002], \"ra_club_id\": \"5494\", \"adress\": \" K\\u00f6penickerstrasse 70; Mitte; 10179 Berlin;\", \"name\": \"Tresor\"}, \"artists\": [{\"ra_artist_id\": \"gunnarstiller\", \"sc_track_permalink\": \"http://soundcloud.com/gunnar-stiller/panoramabar_2011-10-23\", \"name\": \"Gunnar Stiller\", \"sc_user\": \"gunnar-stiller\", \"url\": \"http://www.residentadvisor.net/dj/gunnarstiller\", \"sc_value\": 112417, \"sc_link\": \"http://www.soundcloud.com/gunnar-stiller\"}, {\"ra_artist_id\": \"axelbartsch\", \"sc_track_permalink\": \"http://soundcloud.com/axelbartsch/katerholzig-daytime-dj-action\", \"name\": \"Axel Bartsch\", \"sc_user\": \"axelbartsch\", \"url\": \"http://www.residentadvisor.net/dj/axelbartsch\", \"sc_value\": 38713, \"sc_link\": \"http://www.soundcloud.com/axelbartsch\"}], \"date\": \"2014-09-29\", \"ra_club_id\": \"5494\", \"ra_event_id\": \"629290\"},\r\n",
        "{\"url\": \"http://www.residentadvisor.net/event.aspx?629227\", \"date\": \"2014-09-29\", \"artists\": [{\"ra_artist_id\": \"tiny\", \"sc_track_permalink\": \"http://soundcloud.com/tiney/done-by-the-dawgs\", \"name\": \"Tiny\", \"sc_user\": \"tiney\", \"url\": \"http://www.residentadvisor.net/dj/tiny\", \"sc_value\": 3077, \"sc_link\": \"http://www.soundcloud.com/tiney\"}], \"ra_event_id\": \"629227\", \"name\": \"Tiny Ruins at Gr\\u00fcner Salon Der Volksb\\u00fchne\"},\r\n",
        "{\"name\": \"Let's Stay Awake mit Ollider Twist at Promenaden Eck\", \"url\": \"http://www.residentadvisor.net/event.aspx?632989\", \"club\": {\"url\": \"club.aspx?id=88900\", \"latlon\": [52.475866, 13.4220073], \"ra_club_id\": \"88900\", \"adress\": \" Schillerpromenade 11, 12049 Berlin\", \"name\": \"Promenaden Eck\"}, \"artists\": [{\"ra_artist_id\": \"ollidertwist\", \"sc_track_permalink\": \"http://soundcloud.com/ollider-twist/ick-hau-van-jau\", \"name\": \"Ollider Twist\", \"sc_user\": \"ollider-twist\", \"url\": \"http://www.residentadvisor.net/dj/ollidertwist\", \"sc_value\": 1682, \"sc_link\": \"http://www.soundcloud.com/https://ollider-twist\"}], \"date\": \"2014-09-29\", \"ra_club_id\": \"88900\", \"ra_event_id\": \"632989\"},\r\n",
        "{\"name\": \"Electro Funk Roots at Cake Club\", \"url\": \"http://www.residentadvisor.net/event.aspx?628859\", \"club\": {\"url\": \"club.aspx?id=42409\", \"latlon\": [52.5016358, 13.41866], \"ra_club_id\": \"42409\", \"adress\": \" Oranienstra\\u00dfe 32 10999 Berlin\", \"name\": \"Cake Club\"}, \"artists\": [{\"ra_artist_id\": \"djdannyrussell\", \"sc_track_permalink\": \"http://soundcloud.com/dj-danny-russell/electro-funk-roots-mix\", \"name\": \"DJ Danny Russell\", \"sc_user\": \"dj-danny-russell\", \"url\": \"http://www.residentadvisor.net/dj/djdannyrussell\", \"sc_value\": 1622, \"sc_link\": \"http://www.soundcloud.com/dj-danny-russell\"}], \"date\": \"2014-09-29\", \"ra_club_id\": \"42409\", \"ra_event_id\": \"628859\"}]"
       ]
      }
     ],
     "prompt_number": 9
    },
    {
     "cell_type": "code",
     "collapsed": false,
     "input": [
      "import re\n",
      "id_extract=re.compile(r'(\\d+)')"
     ],
     "language": "python",
     "metadata": {},
     "outputs": [],
     "prompt_number": 33
    },
    {
     "cell_type": "code",
     "collapsed": false,
     "input": [
      "g = id_extract.search(\"http://www.residentadvisor.net/event.aspx?632254\")"
     ],
     "language": "python",
     "metadata": {},
     "outputs": [],
     "prompt_number": 37
    },
    {
     "cell_type": "code",
     "collapsed": false,
     "input": [
      "g.group()"
     ],
     "language": "python",
     "metadata": {},
     "outputs": [
      {
       "metadata": {},
       "output_type": "pyout",
       "prompt_number": 40,
       "text": [
        "'632254'"
       ]
      }
     ],
     "prompt_number": 40
    },
    {
     "cell_type": "code",
     "collapsed": false,
     "input": [],
     "language": "python",
     "metadata": {},
     "outputs": []
    }
   ],
   "metadata": {}
  }
 ]
}