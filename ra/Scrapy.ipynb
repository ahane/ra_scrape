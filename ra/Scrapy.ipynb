{
 "metadata": {
  "name": "",
  "signature": "sha256:827e554f4d2b9d67ec80ac5d4f46cbeacc763f6ed6495014240c4b7fad848f7a"
 },
 "nbformat": 3,
 "nbformat_minor": 0,
 "worksheets": [
  {
   "cells": [
    {
     "cell_type": "code",
     "collapsed": false,
     "input": [
      "%%writefile ra/items.py\n",
      "import scrapy\n",
      "\n",
      "class Event(scrapy.Item):\n",
      "    #item_type = scrapy.Field(default='event')\n",
      "    item_type = scrapy.Field()\n",
      "    ra_event_id = scrapy.Field()\n",
      "    ra_url = scrapy.Field()\n",
      "    name = scrapy.Field()    \n",
      "    date = scrapy.Field()\n",
      "    #ra_club_id = scrapy.Field()\n",
      "    \n",
      "    #these fields are for a document-like serving\n",
      "    club = scrapy.Field()\n",
      "    artists = scrapy.Field()\n",
      "    \n",
      "class Club(scrapy.Item):\n",
      "    item_type = scrapy.Field(default='club')\n",
      "    ra_club_id = scrapy.Field()\n",
      "    ra_url = scrapy.Field()\n",
      "    name = scrapy.Field()\n",
      "    adress = scrapy.Field()\n",
      "    latlon = scrapy.Field()\n",
      "    ra_locale_id = scrapy.Field()\n",
      "\n",
      "class Performance(scrapy.Item):\n",
      "    item_type = scrapy.Field(default='performance')\n",
      "    ra_event_id = scrapy.Field()\n",
      "    sc_artist_id = scrapy.Field()\n",
      "    artist = scrapy.Field()\n",
      "    \n",
      "class Artist(scrapy.Item):\n",
      "    item_type = scrapy.Field(default='artist')\n",
      "    ra_artist_id = scrapy.Field()\n",
      "    ra_url = scrapy.Field()\n",
      "    name = scrapy.Field()\n",
      "    sc_user = scrapy.Field()\n",
      "    sc_url = scrapy.Field()\n",
      "    #sc_track_permalink = scrapy.Field()\n",
      "    #sc_track_id = scrapy.Field()\n",
      "    #sc_value = scrapy.Field() #arbitray number for rankin artists"
     ],
     "language": "python",
     "metadata": {},
     "outputs": [
      {
       "output_type": "stream",
       "stream": "stdout",
       "text": [
        "Overwriting ra/items.py\n"
       ]
      }
     ],
     "prompt_number": 7
    },
    {
     "cell_type": "code",
     "collapsed": false,
     "input": [
      "%%writefile ra/spiders/event_spider.py\n",
      "import scrapy\n",
      "from scrapy.contrib.spiders import CrawlSpider, Rule\n",
      "from scrapy.contrib.linkextractors import LinkExtractor\n",
      "scrapy.contrib.linkextractors.lxmlhtml.LxmlLinkExtractor\n",
      "from ra.items import Event, Club, Performance, Artist\n",
      "import urllib\n",
      "import datetime\n",
      "import re\n",
      "import json\n",
      "import geocoder\n",
      "from collections import defaultdict\n",
      "BASE_URL = 'http://www.residentadvisor.net'\n",
      "LISTINGS_EXT = '/events.aspx?'\n",
      "BERLIN_AI = 34\n",
      "#TODAY = datetime.date.today()\n",
      "TODAY = datetime.date(2014, 9, 29)\n",
      "\n",
      "listing_params = {'ai': BERLIN_AI,\n",
      "                  'v': 'day',\n",
      "                  'mn': TODAY.month,\n",
      "                  'yr': TODAY.year,\n",
      "                  'dy': TODAY.day}\n",
      "today_events_url = BASE_URL + LISTINGS_EXT + urllib.urlencode(listing_params)\n",
      "\n",
      "class RAEventSpider(CrawlSpider):\n",
      "    name = 'event_spider'\n",
      "    allowed_domains = [BASE_URL, 'www.residentadvisor.net', 'api.soundcloud.com']\n",
      "    start_urls = [today_events_url]\n",
      "    \n",
      "    rules = (\n",
      "        Rule(LinkExtractor(allow=(r'\\/event\\.aspx\\?',), canonicalize=False), callback='parse_event'),\n",
      "    )\n",
      "\n",
      "    extract_digits = re.compile(r'(\\d+)')\n",
      "     \n",
      "    def parse_event(self, response):\n",
      "        \n",
      "\n",
      "        event = Event()\n",
      "        event['ra_url'] = response.url    \n",
      "        event['ra_event_id'] = self.extract_digits.search(event['ra_url']).group(1)\n",
      "        event['item_type'] = 'event'\n",
      "        event['name'] = response.xpath(\"//div[@id = 'sectionHead']/h1/text()\").extract()[0]\n",
      "        event['date'] = TODAY.isoformat()\n",
      "        event['artists'] = []\n",
      "       \n",
      "        club_link = response.xpath(\"//a[contains(@title, 'Club profile')]\")\n",
      "        if club_link:\n",
      "            club = Club()\n",
      "            club['ra_url'] = BASE_URL + '/' + club_link.xpath(\"@href\").extract()[0]\n",
      "            club['name'] = club_link.xpath(\"text()\").extract()[0]\n",
      "            id_match = self.extract_digits.search(club['ra_url'])\n",
      "            #self.log(type(id_match))\n",
      "            club['ra_club_id'] = id_match.group(1)\n",
      "            club['adress'] = club_link.xpath(\"../text()\").extract()[0]\n",
      "            \n",
      "            geocode = geocoder.google(club['adress'])\n",
      "            if geocode.status_description == 'OK':\n",
      "                club['latlon'] = geocode.latlng\n",
      "            #event['ra_club_id'] = club['ra_club_id']\n",
      "            event['club'] = club\n",
      "        \n",
      "        lineup_selector = response.css(\".lineup\").xpath(\"a\")\n",
      "        if lineup_selector:\n",
      "            num_artists = len(lineup_selector)\n",
      "            for link_sel in lineup_selector:\n",
      "                artist = Artist()\n",
      "                url_ext = link_sel.xpath(\"@href\").extract()[0]\n",
      "                if url_ext[:4] == \"/dj/\":\n",
      "                    artist['ra_url'] = BASE_URL + url_ext\n",
      "                    artist['name'] = link_sel.xpath(\"text()\").extract()[0]\n",
      "                    artist['ra_artist_id'] = url_ext.split(\"/\")[2]\n",
      "                    \n",
      "                    #step into RA artist page\n",
      "                    request = scrapy.Request(artist['ra_url'], callback=self.parse_artist_page)\n",
      "                    request.meta['event'] = event\n",
      "                    request.meta['artist'] = artist\n",
      "                    request.meta['num_artists'] = num_artists\n",
      "                    yield request\n",
      "    \n",
      "    def parse_artist_page(self, response):\n",
      "        #ra_artist_id *\n",
      "        #url *\n",
      "        #name *\n",
      "        #sc_user\n",
      "        #sc_url\n",
      "        #sc_track_permalink\n",
      "        #sc_value #arbitray number for ranking artists\n",
      "        \n",
      "        artist = response.meta['artist']\n",
      "        event = response.meta['event']\n",
      "        \n",
      "        sc_link_sel = response.xpath(\"//a[contains(@href, 'http://www.soundcloud.com')][contains(text(), 'SoundCloud')]/@href\")\n",
      "        if sc_link_sel:\n",
      "            artist['sc_url'] = sc_link_sel.extract()[0]\n",
      "            artist['sc_user'] = artist['sc_url'].split('/')[-1]\n",
      "        \n",
      "        event['artists'] = event['artists'] + [artist]\n",
      "        if response.meta['num_artists'] == len(event['artists']):\n",
      "            yield event\n",
      "    \n",
      "\n",
      "    #    yield performance"
     ],
     "language": "python",
     "metadata": {},
     "outputs": [
      {
       "output_type": "stream",
       "stream": "stdout",
       "text": [
        "Overwriting ra/spiders/event_spider.py\n"
       ]
      }
     ],
     "prompt_number": 13
    },
    {
     "cell_type": "code",
     "collapsed": false,
     "input": [
      "with open('sc_cl_id.txt', 'r') as f:\n",
      "    SC_CLIENT_ID = f.read().rstrip()\n",
      "    sc_client_id = urllib.urlencode({\"client_id\": SC_CLIENT_ID})\n",
      "class SoundCloudSpider(CrawlSpider):\n",
      "name = 'sc_track_spider'\n",
      "allowed_domains = ['api.soundcloud.com']\n",
      "\n",
      "#sc_tracks_url = \"http://api.soundcloud.com/users/\" + artist['sc_user'] + \"/tracks.json?\" + sc_client_id\n",
      "            #request = scrapy.Request(sc_tracks_url, callback=self.parse_tracks)\n",
      "            #request.meta['artist'] = artist\n",
      "            #request.meta['event'] = response.meta['event']\n",
      "            #request.meta['num_artists'] = response.meta['num_artists']\n",
      "\n",
      "start_urls = [today_events_url]\n",
      "    \n",
      "     def parse_tracks(self, response):\n",
      "        \n",
      "        artist = response.meta['artist']\n",
      "        event = response.meta['event']\n",
      "        tracks = json.loads(response.body)\n",
      "        if tracks:\n",
      "            tracks = [defaultdict(int, t) for t in tracks] #some tracks miss fields\n",
      "            permalinks_plays = [(t['id'], t['playback_count']) for t in tracks]\n",
      "            permalinks_plays.sort(key=lambda x: x[1], reverse=True)\n",
      "            \n",
      "            artist['sc_track_id'] = permalinks_plays[0][0]\n",
      "            artist\n",
      "            artist['sc_value'] = sum((p for l, p in permalinks_plays))\n",
      "            \n",
      "            event['artists'] = event['artists'] + [artist]\n",
      "            if len(event['artists']) == response.meta['num_artists']: #very hacky take this out!\n",
      "                yield event"
     ],
     "language": "python",
     "metadata": {},
     "outputs": []
    },
    {
     "cell_type": "code",
     "collapsed": false,
     "input": [
      "from scrapy.contrib.linkextractors import LinkExtractor\n",
      "from scrapy.utils import request\n",
      "from scrapy.http.response import text\n",
      "import scrapy\n",
      "import re"
     ],
     "language": "python",
     "metadata": {},
     "outputs": [],
     "prompt_number": 162
    },
    {
     "cell_type": "code",
     "collapsed": false,
     "input": [
      "from scrapy.selector import Selector\n",
      "from scrapy.http import HtmlResponse, Response\n",
      "from requests import get\n",
      "import urllib"
     ],
     "language": "python",
     "metadata": {},
     "outputs": [],
     "prompt_number": 18
    },
    {
     "cell_type": "code",
     "collapsed": false,
     "input": [
      "#url = 'http://www.residentadvisor.net/event.aspx?638376'\n",
      "#url = \"http://www.residentadvisor.net/dj/patrickpoitz\"\n",
      "url = \"http://api.soundcloud.com/users/agnes/tracks.json?\"+client_id\n",
      "req = get(url)\n",
      "body = get(url).text\n",
      "\n",
      "m = HtmlResponse(url=url, body=body, encoding='utf8')\n",
      "\n",
      "import json\n",
      "res = json.loads(m.body)"
     ],
     "language": "python",
     "metadata": {},
     "outputs": [],
     "prompt_number": 40
    },
    {
     "cell_type": "code",
     "collapsed": false,
     "input": [
      "!rm ../../cm_naive/events/2014-09-27.json"
     ],
     "language": "python",
     "metadata": {},
     "outputs": [],
     "prompt_number": 12
    },
    {
     "cell_type": "code",
     "collapsed": false,
     "input": [
      "!scrapy crawl event_spider"
     ],
     "language": "python",
     "metadata": {},
     "outputs": [
      {
       "output_type": "stream",
       "stream": "stdout",
       "text": [
        "/home/alec/anaconda/lib/python2.7/site-packages/twisted/internet/_sslverify.py:184: UserWarning: You do not have the service_identity module installed. Please install it from <https://pypi.python.org/pypi/service_identity>. Without the service_identity module and a recent enough pyOpenSSL tosupport it, Twisted can perform only rudimentary TLS client hostnameverification.  Many valid certificate/hostname mappings may be rejected.\r\n",
        "  verifyHostname, VerificationError = _selectVerifyImplementation()\r\n"
       ]
      },
      {
       "output_type": "stream",
       "stream": "stdout",
       "text": [
        "2014-10-01 21:23:52+0200 [scrapy] INFO: Scrapy 0.24.4 started (bot: ra)\r\n",
        "2014-10-01 21:23:52+0200 [scrapy] INFO: Optional features available: ssl, http11, boto\r\n",
        "2014-10-01 21:23:52+0200 [scrapy] INFO: Overridden settings: {'NEWSPIDER_MODULE': 'ra.spiders', 'SPIDER_MODULES': ['ra.spiders'], 'BOT_NAME': 'ra'}\r\n"
       ]
      },
      {
       "output_type": "stream",
       "stream": "stdout",
       "text": [
        "2014-10-01 21:23:52+0200 [scrapy] INFO: Enabled extensions: LogStats, TelnetConsole, CloseSpider, WebService, CoreStats, SpiderState\r\n"
       ]
      },
      {
       "output_type": "stream",
       "stream": "stdout",
       "text": [
        "2014-10-01 21:23:53+0200 [scrapy] INFO: Enabled downloader middlewares: HttpAuthMiddleware, DownloadTimeoutMiddleware, UserAgentMiddleware, RetryMiddleware, DefaultHeadersMiddleware, MetaRefreshMiddleware, HttpCompressionMiddleware, RedirectMiddleware, CookiesMiddleware, ChunkedTransferMiddleware, DownloaderStats\r\n",
        "2014-10-01 21:23:53+0200 [scrapy] INFO: Enabled spider middlewares: HttpErrorMiddleware, OffsiteMiddleware, RefererMiddleware, UrlLengthMiddleware, DepthMiddleware\r\n",
        "/home/alec/anaconda/lib/python2.7/site-packages/scrapy/contrib/pipeline/__init__.py:21: ScrapyDeprecationWarning: ITEM_PIPELINES defined as a list or a set is deprecated, switch to a dict\r\n",
        "  category=ScrapyDeprecationWarning, stacklevel=1)\r\n"
       ]
      },
      {
       "output_type": "stream",
       "stream": "stdout",
       "text": [
        "2014-10-01 21:23:53+0200 [scrapy] INFO: Enabled item pipelines: RaPipeline\r\n",
        "2014-10-01 21:23:53+0200 [scrapy] INFO: Enabled item pipelines: RaPipeline\r\n",
        "2014-10-01 21:23:53+0200 [event_spider] INFO: Spider opened\r\n",
        "2014-10-01 21:23:53+0200 [event_spider] INFO: Spider opened\r\n",
        "2014-10-01 21:23:53+0200 [event_spider] INFO: Crawled 0 pages (at 0 pages/min), scraped 0 items (at 0 items/min)\r\n",
        "2014-10-01 21:23:53+0200 [event_spider] INFO: Crawled 0 pages (at 0 pages/min), scraped 0 items (at 0 items/min)\r\n",
        "2014-10-01 21:23:53+0200 [scrapy] DEBUG: Telnet console listening on 127.0.0.1:6023\r\n",
        "2014-10-01 21:23:53+0200 [scrapy] DEBUG: Web service listening on 127.0.0.1:6080\r\n"
       ]
      },
      {
       "output_type": "stream",
       "stream": "stdout",
       "text": [
        "2014-10-01 21:23:54+0200 [event_spider] DEBUG: Crawled (200) <GET http://www.residentadvisor.net/events.aspx?ai=34&yr=2014&mn=9&dy=29&v=day> (referer: None)\r\n"
       ]
      },
      {
       "output_type": "stream",
       "stream": "stdout",
       "text": [
        "2014-10-01 21:23:54+0200 [event_spider] DEBUG: Crawled (200) <GET http://www.residentadvisor.net/event.aspx?629290> (referer: http://www.residentadvisor.net/events.aspx?ai=34&yr=2014&mn=9&dy=29&v=day)\r\n"
       ]
      },
      {
       "output_type": "stream",
       "stream": "stdout",
       "text": [
        "2014-10-01 21:23:54+0200 [event_spider] DEBUG: Crawled (200) <GET http://www.residentadvisor.net/event.aspx?629366> (referer: http://www.residentadvisor.net/events.aspx?ai=34&yr=2014&mn=9&dy=29&v=day)\r\n",
        "2014-10-01 21:23:54+0200 [event_spider] DEBUG: Crawled (200) <GET http://www.residentadvisor.net/event.aspx?639809> (referer: http://www.residentadvisor.net/events.aspx?ai=34&yr=2014&mn=9&dy=29&v=day)\r\n"
       ]
      },
      {
       "output_type": "stream",
       "stream": "stdout",
       "text": [
        "2014-10-01 21:23:55+0200 [event_spider] DEBUG: Crawled (200) <GET http://www.residentadvisor.net/event.aspx?628859> (referer: http://www.residentadvisor.net/events.aspx?ai=34&yr=2014&mn=9&dy=29&v=day)\r\n"
       ]
      },
      {
       "output_type": "stream",
       "stream": "stdout",
       "text": [
        "2014-10-01 21:23:56+0200 [event_spider] DEBUG: Crawled (200) <GET http://www.residentadvisor.net/dj/gunnarstiller> (referer: http://www.residentadvisor.net/event.aspx?629290)\r\n"
       ]
      },
      {
       "output_type": "stream",
       "stream": "stdout",
       "text": [
        "2014-10-01 21:24:03+0200 [event_spider] DEBUG: Crawled (200) <GET http://www.residentadvisor.net/dj/djdannyrussell> (referer: http://www.residentadvisor.net/event.aspx?628859)\r\n"
       ]
      },
      {
       "output_type": "stream",
       "stream": "stdout",
       "text": [
        "2014-10-01 21:24:03+0200 [-] ERROR: /home/alec/anaconda/lib/python2.7/site-packages/sqlalchemy/engine/default.py:562: SAWarning: Unicode type received non-unicode bind param value.\r\n",
        "2014-10-01 21:24:03+0200 [-] ERROR: /home/alec/anaconda/lib/python2.7/site-packages/sqlalchemy/engine/default.py:562: SAWarning: Unicode type received non-unicode bind param value.\r\n",
        "2014-10-01 21:24:03+0200 [-] ERROR:   param.append(processors[key](compiled_params[key]))\r\n",
        "2014-10-01 21:24:03+0200 [-] ERROR:   param.append(processors[key](compiled_params[key]))\r\n"
       ]
      },
      {
       "output_type": "stream",
       "stream": "stdout",
       "text": [
        "2014-10-01 21:24:04+0200 [event_spider] DEBUG: Scraped from <200 http://www.residentadvisor.net/dj/djdannyrussell>\r\n",
        "\t{'artists': [{'name': u'DJ Danny Russell',\r\n",
        "\t 'ra_artist_id': u'djdannyrussell',\r\n",
        "\t 'ra_url': u'http://www.residentadvisor.net/dj/djdannyrussell',\r\n",
        "\t 'sc_url': u'http://www.soundcloud.com/dj-danny-russell',\r\n",
        "\t 'sc_user': u'dj-danny-russell'}],\r\n",
        "\t 'club': {'adress': u' Oranienstra\\xdfe 32 10999 Berlin',\r\n",
        "\t 'latlon': [52.5016358, 13.41866],\r\n",
        "\t 'name': u'Cake Club',\r\n",
        "\t 'ra_club_id': u'42409',\r\n",
        "\t 'ra_url': u'http://www.residentadvisor.net/club.aspx?id=42409'},\r\n",
        "\t 'date': '2014-09-29',\r\n",
        "\t 'item_type': 'event',\r\n",
        "\t 'name': u'Electro Funk Roots at Cake Club',\r\n",
        "\t 'ra_event_id': '628859',\r\n",
        "\t 'ra_url': 'http://www.residentadvisor.net/event.aspx?628859'}\r\n",
        "2014-10-01 21:24:04+0200 [event_spider] DEBUG: Crawled (200) <GET http://www.residentadvisor.net/event.aspx?632989> (referer: http://www.residentadvisor.net/events.aspx?ai=34&yr=2014&mn=9&dy=29&v=day)\r\n"
       ]
      },
      {
       "output_type": "stream",
       "stream": "stdout",
       "text": [
        "2014-10-01 21:24:05+0200 [event_spider] DEBUG: Crawled (200) <GET http://www.residentadvisor.net/event.aspx?640831> (referer: http://www.residentadvisor.net/events.aspx?ai=34&yr=2014&mn=9&dy=29&v=day)\r\n"
       ]
      },
      {
       "output_type": "stream",
       "stream": "stdout",
       "text": [
        "2014-10-01 21:24:05+0200 [event_spider] DEBUG: Crawled (200) <GET http://www.residentadvisor.net/event.aspx?638342> (referer: http://www.residentadvisor.net/events.aspx?ai=34&yr=2014&mn=9&dy=29&v=day)\r\n"
       ]
      },
      {
       "output_type": "stream",
       "stream": "stdout",
       "text": [
        "2014-10-01 21:24:06+0200 [event_spider] DEBUG: Crawled (200) <GET http://www.residentadvisor.net/dj/axelbartsch> (referer: http://www.residentadvisor.net/event.aspx?629290)\r\n"
       ]
      },
      {
       "output_type": "stream",
       "stream": "stdout",
       "text": [
        "2014-10-01 21:24:07+0200 [event_spider] DEBUG: Scraped from <200 http://www.residentadvisor.net/dj/axelbartsch>\r\n",
        "\t{'artists': [{'name': u'Gunnar Stiller',\r\n",
        "\t 'ra_artist_id': u'gunnarstiller',\r\n",
        "\t 'ra_url': u'http://www.residentadvisor.net/dj/gunnarstiller',\r\n",
        "\t 'sc_url': u'http://www.soundcloud.com/gunnar-stiller',\r\n",
        "\t 'sc_user': u'gunnar-stiller'},\r\n",
        "\t             {'name': u'Axel Bartsch',\r\n",
        "\t 'ra_artist_id': u'axelbartsch',\r\n",
        "\t 'ra_url': u'http://www.residentadvisor.net/dj/axelbartsch',\r\n",
        "\t 'sc_url': u'http://www.soundcloud.com/axelbartsch',\r\n",
        "\t 'sc_user': u'axelbartsch'}],\r\n",
        "\t 'club': {'adress': u' K\\xf6penickerstrasse 70; Mitte; 10179 Berlin;',\r\n",
        "\t 'latlon': [52.5108799, 13.4201002],\r\n",
        "\t 'name': u'Tresor',\r\n",
        "\t 'ra_club_id': u'5494',\r\n",
        "\t 'ra_url': u'http://www.residentadvisor.net/club.aspx?id=5494'},\r\n",
        "\t 'date': '2014-09-29',\r\n",
        "\t 'item_type': 'event',\r\n",
        "\t 'name': u'House of Waxx at Tresor',\r\n",
        "\t 'ra_event_id': '629290',\r\n",
        "\t 'ra_url': 'http://www.residentadvisor.net/event.aspx?629290'}\r\n",
        "2014-10-01 21:24:07+0200 [event_spider] DEBUG: Crawled (200) <GET http://www.residentadvisor.net/event.aspx?629227> (referer: http://www.residentadvisor.net/events.aspx?ai=34&yr=2014&mn=9&dy=29&v=day)\r\n",
        "2014-10-01 21:24:07+0200 [event_spider] DEBUG: Crawled (200) <GET http://www.residentadvisor.net/dj/sylvieforet> (referer: http://www.residentadvisor.net/event.aspx?640831)\r\n"
       ]
      },
      {
       "output_type": "stream",
       "stream": "stdout",
       "text": [
        "2014-10-01 21:24:09+0200 [event_spider] DEBUG: Crawled (200) <GET http://www.residentadvisor.net/dj/konradblack> (referer: http://www.residentadvisor.net/event.aspx?640831)\r\n"
       ]
      },
      {
       "output_type": "stream",
       "stream": "stdout",
       "text": [
        "2014-10-01 21:24:09+0200 [event_spider] DEBUG: Crawled (200) <GET http://www.residentadvisor.net/dj/walkerbarnard> (referer: http://www.residentadvisor.net/event.aspx?640831)\r\n"
       ]
      },
      {
       "output_type": "stream",
       "stream": "stdout",
       "text": [
        "2014-10-01 21:24:18+0200 [event_spider] DEBUG: Crawled (200) <GET http://www.residentadvisor.net/dj/ollidertwist> (referer: http://www.residentadvisor.net/event.aspx?632989)\r\n"
       ]
      },
      {
       "output_type": "stream",
       "stream": "stdout",
       "text": [
        "2014-10-01 21:24:19+0200 [event_spider] DEBUG: Scraped from <200 http://www.residentadvisor.net/dj/ollidertwist>\r\n",
        "\t{'artists': [{'name': u'Ollider Twist',\r\n",
        "\t 'ra_artist_id': u'ollidertwist',\r\n",
        "\t 'ra_url': u'http://www.residentadvisor.net/dj/ollidertwist',\r\n",
        "\t 'sc_url': u'http://www.soundcloud.com/https://ollider-twist',\r\n",
        "\t 'sc_user': u'ollider-twist'}],\r\n",
        "\t 'club': {'adress': u' Schillerpromenade 11, 12049 Berlin',\r\n",
        "\t 'latlon': [52.475866, 13.4220073],\r\n",
        "\t 'name': u'Promenaden Eck',\r\n",
        "\t 'ra_club_id': u'88900',\r\n",
        "\t 'ra_url': u'http://www.residentadvisor.net/club.aspx?id=88900'},\r\n",
        "\t 'date': '2014-09-29',\r\n",
        "\t 'item_type': 'event',\r\n",
        "\t 'name': u\"Let's Stay Awake mit Ollider Twist at Promenaden Eck\",\r\n",
        "\t 'ra_event_id': '632989',\r\n",
        "\t 'ra_url': 'http://www.residentadvisor.net/event.aspx?632989'}\r\n",
        "2014-10-01 21:24:19+0200 [event_spider] DEBUG: Crawled (200) <GET http://www.residentadvisor.net/event.aspx?631942> (referer: http://www.residentadvisor.net/events.aspx?ai=34&yr=2014&mn=9&dy=29&v=day)\r\n"
       ]
      },
      {
       "output_type": "stream",
       "stream": "stdout",
       "text": [
        "2014-10-01 21:24:20+0200 [event_spider] DEBUG: Crawled (200) <GET http://www.residentadvisor.net/dj/jankrueger> (referer: http://www.residentadvisor.net/event.aspx?640831)\r\n"
       ]
      },
      {
       "output_type": "stream",
       "stream": "stdout",
       "text": [
        "2014-10-01 21:24:21+0200 [event_spider] DEBUG: Scraped from <200 http://www.residentadvisor.net/dj/jankrueger>\r\n",
        "\t{'artists': [{'name': u'Sylvie Foret',\r\n",
        "\t 'ra_artist_id': u'sylvieforet',\r\n",
        "\t 'ra_url': u'http://www.residentadvisor.net/dj/sylvieforet',\r\n",
        "\t 'sc_url': u'http://www.soundcloud.com/sylvie-foret',\r\n",
        "\t 'sc_user': u'sylvie-foret'},\r\n",
        "\t             {'name': u'Konrad Black',\r\n",
        "\t 'ra_artist_id': u'konradblack',\r\n",
        "\t 'ra_url': u'http://www.residentadvisor.net/dj/konradblack'},\r\n",
        "\t             {'name': u'Walker Barnard',\r\n",
        "\t 'ra_artist_id': u'walkerbarnard',\r\n",
        "\t 'ra_url': u'http://www.residentadvisor.net/dj/walkerbarnard',\r\n",
        "\t 'sc_url': u'http://www.soundcloud.com/walker_',\r\n",
        "\t 'sc_user': u'walker_'},\r\n",
        "\t             {'name': u'Jan Krueger',\r\n",
        "\t 'ra_artist_id': u'jankrueger',\r\n",
        "\t 'ra_url': u'http://www.residentadvisor.net/dj/jankrueger'}],\r\n",
        "\t 'club': {'adress': u' Am Flutgraben 1; Treptow; 12435 Berlin;',\r\n",
        "\t 'latlon': [52.49695, 13.451246],\r\n",
        "\t 'name': u'Club der Visionaere',\r\n",
        "\t 'ra_club_id': u'6949',\r\n",
        "\t 'ra_url': u'http://www.residentadvisor.net/club.aspx?id=6949'},\r\n",
        "\t 'date': '2014-09-29',\r\n",
        "\t 'item_type': 'event',\r\n",
        "\t 'name': u'Mondays::.. at Club der Visionaere',\r\n",
        "\t 'ra_event_id': '640831',\r\n",
        "\t 'ra_url': 'http://www.residentadvisor.net/event.aspx?640831'}\r\n"
       ]
      },
      {
       "output_type": "stream",
       "stream": "stdout",
       "text": [
        "2014-10-01 21:24:26+0200 [event_spider] DEBUG: Crawled (200) <GET http://www.residentadvisor.net/dj/lucaalbano> (referer: http://www.residentadvisor.net/event.aspx?638342)\r\n"
       ]
      },
      {
       "output_type": "stream",
       "stream": "stdout",
       "text": [
        "2014-10-01 21:24:27+0200 [event_spider] DEBUG: Crawled (200) <GET http://www.residentadvisor.net/dj/sloan> (referer: http://www.residentadvisor.net/event.aspx?638342)\r\n"
       ]
      },
      {
       "output_type": "stream",
       "stream": "stdout",
       "text": [
        "2014-10-01 21:24:28+0200 [event_spider] DEBUG: Scraped from <200 http://www.residentadvisor.net/dj/sloan>\r\n",
        "\t{'artists': [{'name': u'Luca Albano',\r\n",
        "\t 'ra_artist_id': u'lucaalbano',\r\n",
        "\t 'ra_url': u'http://www.residentadvisor.net/dj/lucaalbano',\r\n",
        "\t 'sc_url': u'http://www.soundcloud.com/luca-albano',\r\n",
        "\t 'sc_user': u'luca-albano'},\r\n",
        "\t             {'name': u'Sloan',\r\n",
        "\t 'ra_artist_id': u'sloan',\r\n",
        "\t 'ra_url': u'http://www.residentadvisor.net/dj/sloan',\r\n",
        "\t 'sc_url': u'http://www.soundcloud.com/sloan22',\r\n",
        "\t 'sc_user': u'sloan22'}],\r\n",
        "\t 'club': {'adress': u' Revaler Strasse 99; 10245 Berlin-Friedrichshain; Berlin;',\r\n",
        "\t 'latlon': [52.5077138, 13.4542575],\r\n",
        "\t 'name': u'Crack Bellmer',\r\n",
        "\t 'ra_club_id': u'57853',\r\n",
        "\t 'ra_url': u'http://www.residentadvisor.net/club.aspx?id=57853'},\r\n",
        "\t 'date': '2014-09-29',\r\n",
        "\t 'item_type': 'event',\r\n",
        "\t 'name': u'Montag auf Cr\\xe4ck at Crack Bellmer',\r\n",
        "\t 'ra_event_id': '638342',\r\n",
        "\t 'ra_url': 'http://www.residentadvisor.net/event.aspx?638342'}\r\n"
       ]
      },
      {
       "output_type": "stream",
       "stream": "stdout",
       "text": [
        "2014-10-01 21:24:28+0200 [event_spider] DEBUG: Crawled (200) <GET http://www.residentadvisor.net/dj/tiny> (referer: http://www.residentadvisor.net/event.aspx?629227)\r\n",
        "2014-10-01 21:24:28+0200 [event_spider] DEBUG: Scraped from <200 http://www.residentadvisor.net/dj/tiny>\r\n",
        "\tNone\r\n"
       ]
      },
      {
       "output_type": "stream",
       "stream": "stdout",
       "text": [
        "2014-10-01 21:24:28+0200 [event_spider] INFO: Closing spider (finished)\r\n",
        "2014-10-01 21:24:28+0200 [event_spider] INFO: Closing spider (finished)\r\n",
        "2014-10-01 21:24:28+0200 [event_spider] INFO: Dumping Scrapy stats:\r\n",
        "\t{'downloader/request_bytes': 7449,\r\n",
        "\t 'downloader/request_count': 21,\r\n",
        "\t 'downloader/request_method_count/GET': 21,\r\n",
        "\t 'downloader/response_bytes': 480848,\r\n",
        "\t 'downloader/response_count': 21,\r\n",
        "\t 'downloader/response_status_count/200': 21,\r\n",
        "\t 'finish_reason': 'finished',\r\n",
        "\t 'finish_time': datetime.datetime(2014, 10, 1, 19, 24, 28, 309465),\r\n",
        "\t 'item_scraped_count': 6,\r\n",
        "\t 'log_count/DEBUG': 29,\r\n",
        "\t 'log_count/ERROR': 2,\r\n",
        "\t 'log_count/INFO': 7,\r\n",
        "\t 'request_depth_max': 2,\r\n",
        "\t 'response_received_count': 21,\r\n",
        "\t 'scheduler/dequeued': 21,\r\n",
        "\t 'scheduler/dequeued/memory': 21,\r\n",
        "\t 'scheduler/enqueued': 21,\r\n",
        "\t 'scheduler/enqueued/memory': 21,\r\n",
        "\t 'start_time': datetime.datetime(2014, 10, 1, 19, 23, 53, 734821)}\r\n",
        "2014-10-01 21:24:28+0200 [event_spider] INFO: Dumping Scrapy stats:\r\n",
        "\t{'downloader/request_bytes': 7449,\r\n",
        "\t 'downloader/request_count': 21,\r\n",
        "\t 'downloader/request_method_count/GET': 21,\r\n",
        "\t 'downloader/response_bytes': 480848,\r\n",
        "\t 'downloader/response_count': 21,\r\n",
        "\t 'downloader/response_status_count/200': 21,\r\n",
        "\t 'finish_reason': 'finished',\r\n",
        "\t 'finish_time': datetime.datetime(2014, 10, 1, 19, 24, 28, 309465),\r\n",
        "\t 'item_scraped_count': 6,\r\n",
        "\t 'log_count/DEBUG': 29,\r\n",
        "\t 'log_count/ERROR': 2,\r\n",
        "\t 'log_count/INFO': 7,\r\n",
        "\t 'request_depth_max': 2,\r\n",
        "\t 'response_received_count': 21,\r\n",
        "\t 'scheduler/dequeued': 21,\r\n",
        "\t 'scheduler/dequeued/memory': 21,\r\n",
        "\t 'scheduler/enqueued': 21,\r\n",
        "\t 'scheduler/enqueued/memory': 21,\r\n",
        "\t 'start_time': datetime.datetime(2014, 10, 1, 19, 23, 53, 734821)}\r\n",
        "2014-10-01 21:24:28+0200 [event_spider] INFO: Spider closed (finished)\r\n",
        "2014-10-01 21:24:28+0200 [event_spider] INFO: Spider closed (finished)\r\n"
       ]
      }
     ],
     "prompt_number": 44
    },
    {
     "cell_type": "code",
     "collapsed": false,
     "input": [
      "!cat a.json"
     ],
     "language": "python",
     "metadata": {},
     "outputs": [
      {
       "output_type": "stream",
       "stream": "stdout",
       "text": [
        "[{\"name\": \"House of Waxx at Tresor\", \"url\": \"http://www.residentadvisor.net/event.aspx?629290\", \"club\": {\"url\": \"club.aspx?id=5494\", \"latlon\": [52.5108799, 13.4201002], \"ra_club_id\": \"5494\", \"adress\": \" K\\u00f6penickerstrasse 70; Mitte; 10179 Berlin;\", \"name\": \"Tresor\"}, \"artists\": [{\"ra_artist_id\": \"gunnarstiller\", \"sc_track_permalink\": \"http://soundcloud.com/gunnar-stiller/panoramabar_2011-10-23\", \"name\": \"Gunnar Stiller\", \"sc_user\": \"gunnar-stiller\", \"url\": \"http://www.residentadvisor.net/dj/gunnarstiller\", \"sc_value\": 112417, \"sc_link\": \"http://www.soundcloud.com/gunnar-stiller\"}, {\"ra_artist_id\": \"axelbartsch\", \"sc_track_permalink\": \"http://soundcloud.com/axelbartsch/katerholzig-daytime-dj-action\", \"name\": \"Axel Bartsch\", \"sc_user\": \"axelbartsch\", \"url\": \"http://www.residentadvisor.net/dj/axelbartsch\", \"sc_value\": 38713, \"sc_link\": \"http://www.soundcloud.com/axelbartsch\"}], \"date\": \"2014-09-29\", \"ra_club_id\": \"5494\", \"ra_event_id\": \"629290\"},\r\n",
        "{\"url\": \"http://www.residentadvisor.net/event.aspx?629227\", \"date\": \"2014-09-29\", \"artists\": [{\"ra_artist_id\": \"tiny\", \"sc_track_permalink\": \"http://soundcloud.com/tiney/done-by-the-dawgs\", \"name\": \"Tiny\", \"sc_user\": \"tiney\", \"url\": \"http://www.residentadvisor.net/dj/tiny\", \"sc_value\": 3077, \"sc_link\": \"http://www.soundcloud.com/tiney\"}], \"ra_event_id\": \"629227\", \"name\": \"Tiny Ruins at Gr\\u00fcner Salon Der Volksb\\u00fchne\"},\r\n",
        "{\"name\": \"Let's Stay Awake mit Ollider Twist at Promenaden Eck\", \"url\": \"http://www.residentadvisor.net/event.aspx?632989\", \"club\": {\"url\": \"club.aspx?id=88900\", \"latlon\": [52.475866, 13.4220073], \"ra_club_id\": \"88900\", \"adress\": \" Schillerpromenade 11, 12049 Berlin\", \"name\": \"Promenaden Eck\"}, \"artists\": [{\"ra_artist_id\": \"ollidertwist\", \"sc_track_permalink\": \"http://soundcloud.com/ollider-twist/ick-hau-van-jau\", \"name\": \"Ollider Twist\", \"sc_user\": \"ollider-twist\", \"url\": \"http://www.residentadvisor.net/dj/ollidertwist\", \"sc_value\": 1682, \"sc_link\": \"http://www.soundcloud.com/https://ollider-twist\"}], \"date\": \"2014-09-29\", \"ra_club_id\": \"88900\", \"ra_event_id\": \"632989\"},\r\n",
        "{\"name\": \"Electro Funk Roots at Cake Club\", \"url\": \"http://www.residentadvisor.net/event.aspx?628859\", \"club\": {\"url\": \"club.aspx?id=42409\", \"latlon\": [52.5016358, 13.41866], \"ra_club_id\": \"42409\", \"adress\": \" Oranienstra\\u00dfe 32 10999 Berlin\", \"name\": \"Cake Club\"}, \"artists\": [{\"ra_artist_id\": \"djdannyrussell\", \"sc_track_permalink\": \"http://soundcloud.com/dj-danny-russell/electro-funk-roots-mix\", \"name\": \"DJ Danny Russell\", \"sc_user\": \"dj-danny-russell\", \"url\": \"http://www.residentadvisor.net/dj/djdannyrussell\", \"sc_value\": 1622, \"sc_link\": \"http://www.soundcloud.com/dj-danny-russell\"}], \"date\": \"2014-09-29\", \"ra_club_id\": \"42409\", \"ra_event_id\": \"628859\"}]"
       ]
      }
     ],
     "prompt_number": 9
    },
    {
     "cell_type": "code",
     "collapsed": false,
     "input": [
      "import re\n",
      "id_extract=re.compile(r'(\\d+)')"
     ],
     "language": "python",
     "metadata": {},
     "outputs": [],
     "prompt_number": 33
    },
    {
     "cell_type": "code",
     "collapsed": false,
     "input": [
      "g = id_extract.search(\"http://www.residentadvisor.net/event.aspx?632254\")"
     ],
     "language": "python",
     "metadata": {},
     "outputs": [],
     "prompt_number": 37
    },
    {
     "cell_type": "code",
     "collapsed": false,
     "input": [
      "g.group()"
     ],
     "language": "python",
     "metadata": {},
     "outputs": [
      {
       "metadata": {},
       "output_type": "pyout",
       "prompt_number": 40,
       "text": [
        "'632254'"
       ]
      }
     ],
     "prompt_number": 40
    },
    {
     "cell_type": "code",
     "collapsed": false,
     "input": [],
     "language": "python",
     "metadata": {},
     "outputs": []
    }
   ],
   "metadata": {}
  }
 ]
}