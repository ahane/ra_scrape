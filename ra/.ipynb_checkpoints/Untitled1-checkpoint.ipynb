{
 "metadata": {
  "name": "",
  "signature": "sha256:12d36954f07bd109fd3b574698d7651d83efa9e102775666d3763bee5ab67f2c"
 },
 "nbformat": 3,
 "nbformat_minor": 0,
 "worksheets": []
}