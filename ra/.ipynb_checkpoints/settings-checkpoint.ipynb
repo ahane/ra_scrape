{
 "metadata": {
  "name": "",
  "signature": "sha256:5d7a702158f8d1abca0927eedbee8565d2c6d6d7b1ede1298ee9b112c4e414ae"
 },
 "nbformat": 3,
 "nbformat_minor": 0,
 "worksheets": [
  {
   "cells": [
    {
     "cell_type": "code",
     "collapsed": false,
     "input": [
      "%%writefile ra/settings.py\n",
      "#Scrapy settings for ra project\n",
      "#\n",
      "# For simplicity, this file contains only the most important settings by\n",
      "# default. All the other settings are documented here:\n",
      "#\n",
      "#     http://doc.scrapy.org/en/latest/topics/settings.html\n",
      "#\n",
      "\n",
      "BOT_NAME = 'ra'\n",
      "\n",
      "SPIDER_MODULES = ['ra.spiders']\n",
      "NEWSPIDER_MODULE = 'ra.spiders'\n",
      "\n",
      "DATABASE = {'drivername': 'postgres',\n",
      "            'host': 'localhost',\n",
      "            'port': '5432',\n",
      "            'username': 'postgres',\n",
      "            'password': '212121',\n",
      "            'database': 'cm'\n",
      "            }\n",
      "ITEM_PIPELINES = {'ra.pipelines.VenuePipeline': 100,\n",
      "                  'ra.pipelines.EventPipeline': 200,\n",
      "                  'ra.pipelines.ArtistPipeline': 300}\n",
      "# Crawl responsibly by identifying yourself (and your website) on the user-agent\n",
      "#USER_AGENT = 'ra (+http://www.yourdomain.com)'"
     ],
     "language": "python",
     "metadata": {},
     "outputs": [
      {
       "output_type": "stream",
       "stream": "stdout",
       "text": [
        "Overwriting ra/settings.py\n"
       ]
      }
     ],
     "prompt_number": 1
    },
    {
     "cell_type": "code",
     "collapsed": false,
     "input": [],
     "language": "python",
     "metadata": {},
     "outputs": []
    }
   ],
   "metadata": {}
  }
 ]
}