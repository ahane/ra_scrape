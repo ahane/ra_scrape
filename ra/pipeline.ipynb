{
 "metadata": {
  "name": "",
  "signature": "sha256:bb0626225e24e7dc9ce8e1fb8da1b10482d24c92eb3d5150862d85cfc053cbe1"
 },
 "nbformat": 3,
 "nbformat_minor": 0,
 "worksheets": [
  {
   "cells": [
    {
     "cell_type": "code",
     "collapsed": false,
     "input": [
      "import requests\n",
      "from requests.utils import quote, unquote\n",
      "import json"
     ],
     "language": "python",
     "metadata": {},
     "outputs": [],
     "prompt_number": 8
    },
    {
     "cell_type": "code",
     "collapsed": false,
     "input": [
      "event_db_url = 'http://localhost:5000/api/'"
     ],
     "language": "python",
     "metadata": {},
     "outputs": [],
     "prompt_number": 9
    },
    {
     "cell_type": "code",
     "collapsed": false,
     "input": [
      "#def get_resident_advisor(url=event_db_url):\n",
      "perf = {\n",
      "'name': 'aaa',\n",
      "'kind_id': 1,\n",
      "'artist_id': 2\n",
      "}\n",
      "ra_dict = json.dumps({'performances': {'add': perf}})\n",
      "headers = {'content-type': 'application/json'}\n",
      "ra = requests.put(url + 'event/1', data=ra_dict, headers=headers)\n",
      "ra.status_code"
     ],
     "language": "python",
     "metadata": {},
     "outputs": [
      {
       "metadata": {},
       "output_type": "pyout",
       "prompt_number": 142,
       "text": [
        "200"
       ]
      }
     ],
     "prompt_number": 142
    },
    {
     "cell_type": "code",
     "collapsed": false,
     "input": [
      "def get_unique(table_name, value, field_name='primary', url=event_db_url):\n",
      "    if field_name == 'primary':\n",
      "        return get_by_primary(table_name, value, url=url)\n",
      "    else:\n",
      "        query = {'filters': [{'name': field_name, 'op': '==', 'val': value}]}\n",
      "        q = json.dumps(query)\n",
      "        params = {'q': q}\n",
      "\n",
      "        r = requests.get(url + table_name, params=params)\n",
      "        if r.ok:\n",
      "            resp_dict = json.loads(r.content)\n",
      "            try:\n",
      "                num_results = resp_dict['num_results']\n",
      "                if num_results == 1:\n",
      "                    return resp_dict['objects'][0]\n",
      "                elif num_results == 0:\n",
      "                    raise KeyError('Query yielded no results')\n",
      "                else:\n",
      "                    raise KeyError('Query yieleded multiple results')\n",
      "            except KeyError as e:\n",
      "                if 'message' in resp_dict.keys():\n",
      "                    msg = '/' + resp_dict['message']\n",
      "                else:\n",
      "                    msg = ''\n",
      "\n",
      "                raise requests.RequestException(e.message + '\\n' + str(r.status_code) + msg)\n",
      "        else:\n",
      "            raise requests.RequestException(r.status_code)\n",
      "                "
     ],
     "language": "python",
     "metadata": {},
     "outputs": [],
     "prompt_number": 82
    },
    {
     "cell_type": "code",
     "collapsed": false,
     "input": [
      "def get_by_primary(table_name, primary_key, url=event_db_url):\n",
      "    r = requests.get(url + table_name + '/' + str(quote(primary_key)))\n",
      "    if r.ok:\n",
      "        resp_dict = json.loads(r.content)\n",
      "        return resp_dict\n",
      "    else:\n",
      "        raise requests.RequestException(r.status_code)"
     ],
     "language": "python",
     "metadata": {},
     "outputs": [],
     "prompt_number": 85
    },
    {
     "cell_type": "code",
     "collapsed": false,
     "input": [
      "get_unique('region', 'RegionA', 'name')"
     ],
     "language": "python",
     "metadata": {},
     "outputs": [
      {
       "metadata": {},
       "output_type": "pyout",
       "prompt_number": 93,
       "text": [
        "{u'country': u'CountryA',\n",
        " u'id': 1,\n",
        " u'lat': 51.001,\n",
        " u'lon': 13.001,\n",
        " u'name': u'RegionA',\n",
        " u'venues': [{u'adress_string': None,\n",
        "   u'description': None,\n",
        "   u'id': 1,\n",
        "   u'last_modified': None,\n",
        "   u'lat': 13.001,\n",
        "   u'lon': 51.002,\n",
        "   u'name': u'VenueA',\n",
        "   u'region_id': 1,\n",
        "   u'source_id': 1},\n",
        "  {u'adress_string': None,\n",
        "   u'description': None,\n",
        "   u'id': 2,\n",
        "   u'last_modified': None,\n",
        "   u'lat': 13.001,\n",
        "   u'lon': 51.002,\n",
        "   u'name': u'VenueB',\n",
        "   u'region_id': 1,\n",
        "   u'source_id': 1}]}"
       ]
      }
     ],
     "prompt_number": 93
    },
    {
     "cell_type": "code",
     "collapsed": false,
     "input": [
      "def get_venue_id_by_page(venue_page_url, third_party='Resident Advisor'):\n",
      "    try:\n",
      "        venue_id = get_unique('venue_page', venue_page_url, 'url')['venue']['venue_id']\n",
      "    except requests.RequestException:\n",
      "        raise\n",
      "        \n",
      "    return venue_id\n",
      "\n",
      "def insert_venue(name, desc, addr, lat, lon, region, third_party, db_url=event_db_url):\n",
      "    \n",
      "    region_id = get_unique('region', region, 'name')['id']\n",
      "    third_party_id = get_unique('third_party', third_party, 'name')['id']\n",
      "    \n",
      "    payload = { \n",
      "        'name': str(name),\n",
      "        #'description': str(desc),\n",
      "        #'adress_string': str(addr),\n",
      "        'lat': float(lat),\n",
      "        'lon': float(lon),\n",
      "        'region': {'id': region_id},\n",
      "        'source': {'id': third_party_id}\n",
      "    }\n",
      "    return insert_dict('venue', payload)\n",
      "\n",
      "\n",
      "\n",
      "\n",
      "\n",
      "def insert_venue_page(url, venue_id, third_party):\n",
      "    \n",
      "    third_party_id = get_unique('third_party', third_party, 'name')['id']\n",
      "    \n",
      "    payload = {\n",
      "        'url': url,\n",
      "        'venue': {'id': venue_id},\n",
      "        'third_party': {'id': third_party_id}\n",
      "    }\n",
      "    return insert_dict('venue_page', payload)\n",
      "\n",
      "def insert_dict(table_name, payload):\n",
      "    json_payload = json.dumps(payload)\n",
      "    headers = {'content-type': 'application/json'}\n",
      "    r = requests.post(event_db_url + 'venue', data=json_payload, headers=headers)\n",
      "    if r.ok:\n",
      "        \n",
      "        return r.json()['id']\n",
      "    else:\n",
      "        raise requests.RequestException(r.status_code)"
     ],
     "language": "python",
     "metadata": {},
     "outputs": [],
     "prompt_number": 130
    },
    {
     "cell_type": "code",
     "collapsed": false,
     "input": [
      "def get_event_id_by_page(event_page_url, third_party='Resident Advisor'):\n",
      "    try:\n",
      "        event_id = get_unique('event_page', venue_page_url, 'url')['event']['id']\n",
      "    except requests.RequestException:\n",
      "        raise\n",
      "        \n",
      "    return event_id\n",
      "\n",
      "def insert_event(name, start, end, desc, venue_id, third_party, db_url=event_db_url):\n",
      "    third_party_id = get_unique('third_party', third_party, 'name')['id']\n",
      "    \n",
      "    if isinstance(start, datetime.datetime):\n",
      "        start = start.isoformat()\n",
      "    if isinstance(end, datetime.datetime):\n",
      "        end = end.isoformat()\n",
      "    \n",
      "    payload = { \n",
      "        'name': str(name),\n",
      "        'start_datetime': str(start),\n",
      "        'end_datetime': str(end),\n",
      "        'description': str(desc),\n",
      "        'venue': {'id': venue_id},\n",
      "        'source': {'id': third_party_id}\n",
      "    }\n",
      "     \n",
      "    return insert_dict('event', payload)\n",
      "\n",
      "def insert_event_page(url, event_id, third_party):\n",
      "    \n",
      "    third_party_id = get_unique('third_party', third_party, 'name')['id']\n",
      "    \n",
      "    payload = {\n",
      "        'url': url,\n",
      "        'event': {'id': event_id},\n",
      "        'third_party': {'id': third_party_id}\n",
      "    }\n",
      "    return insert_dict('event_page', payload)"
     ],
     "language": "python",
     "metadata": {},
     "outputs": []
    },
    {
     "cell_type": "code",
     "collapsed": false,
     "input": [
      "def get_artist_id_by_page(artist_page_url, third_party='Resident Advisor'):\n",
      "    try:\n",
      "        artist_id = get_unique('artist_page', venue_page_url, 'url')['artist']['id']\n",
      "    except requests.RequestException:\n",
      "        raise\n",
      "        \n",
      "    return event_id\n",
      "\n",
      "def insert_artist(name, desc, third_party, db_url=event_db_url):\n",
      "    third_party_id = get_unique('third_party', third_party, 'name')['id']\n",
      "    \n",
      "    payload = { \n",
      "        'name': str(name),\n",
      "        'description': str(desc),\n",
      "        'source': {'id': third_party_id}\n",
      "    }\n",
      "     \n",
      "    return insert_dict('artist', payload)\n",
      "\n",
      "def insert_artist_page(url, artist_id, third_party):\n",
      "    \n",
      "    third_party_id = get_unique('third_party', third_party, 'name')['id']\n",
      "    \n",
      "    payload = {\n",
      "        'url': url,\n",
      "        'artist': {'id': artist_id},\n",
      "        'third_party': {'id': third_party_id}\n",
      "    }\n",
      "    return insert_dict('artist_page', payload)"
     ],
     "language": "python",
     "metadata": {},
     "outputs": []
    },
    {
     "cell_type": "code",
     "collapsed": false,
     "input": [
      "def get_artist_id_by_page(artist_page_url, third_party='Resident Advisor'):\n",
      "    try:\n",
      "        artist_id = get_unique('artist_page', venue_page_url, 'url')['artist']['id']\n",
      "    except requests.RequestException:\n",
      "        raise\n",
      "        \n",
      "    return event_id\n",
      "\n",
      "def insert_artist(name, desc, third_party, db_url=event_db_url):\n",
      "    third_party_id = get_unique('third_party', third_party, 'name')['id']\n",
      "    \n",
      "    payload = { \n",
      "        'name': str(name),\n",
      "        'description': str(desc),\n",
      "        'source': {'id': third_party_id}\n",
      "    }\n",
      "     \n",
      "    return insert_dict('artist', payload)\n",
      "\n",
      "def insert_artist_page(url, artist_id, third_party):\n",
      "    \n",
      "    third_party_id = get_unique('third_party', third_party, 'name')['id']\n",
      "    \n",
      "    payload = {\n",
      "        'url': url,\n",
      "        'artist': {'id': artist_id},\n",
      "        'third_party': {'id': third_party_id}\n",
      "    }\n",
      "    return insert_dict('artist_page', payload)"
     ],
     "language": "python",
     "metadata": {},
     "outputs": []
    },
    {
     "cell_type": "code",
     "collapsed": false,
     "input": [
      "ra_dict = json.dumps({'name': 'Resident Advisor', 'url': 'http://www.residentadvisor.net/'})\n",
      "headers = {'content-type': 'application/json'}\n",
      "resident_advisor = post(event_db_url + 'third_party', data=ra_dict, headers = headers)"
     ],
     "language": "python",
     "metadata": {},
     "outputs": [],
     "prompt_number": 30
    },
    {
     "cell_type": "code",
     "collapsed": false,
     "input": [
      "json.loads(resident_advisor.content)"
     ],
     "language": "python",
     "metadata": {},
     "outputs": [
      {
       "metadata": {},
       "output_type": "pyout",
       "prompt_number": 35,
       "text": [
        "{u'artist_pages': [],\n",
        " u'event_pages': [],\n",
        " u'id': 3,\n",
        " u'name': u'Resident Advisor',\n",
        " u'url': u'http://www.residentadvisor.net/',\n",
        " u'venue_pages': []}"
       ]
      }
     ],
     "prompt_number": 35
    },
    {
     "cell_type": "code",
     "collapsed": false,
     "input": [
      "%%writefile ra/pipelines.py\n",
      "# Define your item pipelines here\n",
      "#\n",
      "# Don't forget to add your pipeline to the ITEM_PIPELINES setting\n",
      "# See: http://doc.scrapy.org/en/latest/topics/item-pipeline.html\n",
      "from scrapy import log\n",
      "from datetime import datetime\n",
      "log.start()\n",
      "class VenuePipeline(object):\n",
      "    \n",
      "    def __init__(self):\n",
      "        self.ra_regions = {34: 'Berlin'}\n",
      "        self.ra = 'Resident Advisor'\n",
      "    \n",
      "    def process_item(self, item, spider):\n",
      "        club = item['club']\n",
      "        try:\n",
      "            venue_id = get_venue_id_by_page(club['ra_url'])\n",
      "        except:\n",
      "            name, addr = club['name'], club['adress']\n",
      "            desc = None\n",
      "            lat, lon = club['latlon']\n",
      "            region = self.ra_regions(club['ra_locale_id'])\n",
      "            tp = self.ra\n",
      "            \n",
      "            # Insert new Venue\n",
      "            venue_id = insert_venue(name, None, addr, lat, lon, region, tp)\n",
      "            \n",
      "            # Insert new Venue Page\n",
      "            insert_venue_page(club['ra_url'], venue_id)\n",
      "        item['venue_id'] = venue_id\n",
      "        return item\n",
      "\n",
      "class EventPipeline(object):\n",
      "    \n",
      "    def __init__(self):\n",
      "        pass\n",
      "       \n",
      "    \n",
      "    def process_item(self, item, spider):\n",
      "        return item    \n",
      "\n",
      "class ArtistPipeline(object):\n",
      "    \n",
      "    def __init__(self):\n",
      "        pass\n",
      "       \n",
      "    \n",
      "    def process_item(self, item, spider):\n",
      "        return item\n",
      "    \n",
      "class EventPipeline(object):\n",
      "    \n",
      "    def __init__(self):\n",
      "        pass\n",
      "       \n",
      "    \n",
      "    def process_item(self, item, spider):\n",
      "        return item"
     ],
     "language": "python",
     "metadata": {},
     "outputs": [
      {
       "output_type": "stream",
       "stream": "stdout",
       "text": [
        "Overwriting ra/pipelines.py\n"
       ]
      }
     ],
     "prompt_number": 3
    },
    {
     "cell_type": "code",
     "collapsed": false,
     "input": [],
     "language": "python",
     "metadata": {},
     "outputs": []
    },
    {
     "cell_type": "raw",
     "metadata": {},
     "source": [
      "from ra.dbmodel import Event"
     ]
    },
    {
     "cell_type": "code",
     "collapsed": false,
     "input": [],
     "language": "python",
     "metadata": {},
     "outputs": []
    },
    {
     "cell_type": "code",
     "collapsed": false,
     "input": [
      "!cat ra/pipelines.py"
     ],
     "language": "python",
     "metadata": {},
     "outputs": [
      {
       "output_type": "stream",
       "stream": "stdout",
       "text": [
        "# Define your item pipelines here\r\n",
        "#\r\n",
        "# Don't forget to add your pipeline to the ITEM_PIPELINES setting\r\n",
        "# See: http://doc.scrapy.org/en/latest/topics/item-pipeline.html\r\n",
        "\r\n",
        "\r\n",
        "class RaPipeline(object):\r\n",
        "    def process_item(self, item, spider):\r\n",
        "        return item"
       ]
      }
     ],
     "prompt_number": 5
    },
    {
     "cell_type": "code",
     "collapsed": false,
     "input": [],
     "language": "python",
     "metadata": {},
     "outputs": []
    }
   ],
   "metadata": {}
  }
 ]
}