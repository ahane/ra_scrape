{
 "metadata": {
  "name": "",
  "signature": "sha256:c7ff47496d5e009f59edffdd2bfc27e3808191da1334c7dac0981500d9c87ced"
 },
 "nbformat": 3,
 "nbformat_minor": 0,
 "worksheets": [
  {
   "cells": [
    {
     "cell_type": "code",
     "collapsed": false,
     "input": [
      "import requests\n",
      "from requests.utils import quote, unquote\n",
      "import json\n",
      "import doctest"
     ],
     "language": "python",
     "metadata": {},
     "outputs": [],
     "prompt_number": 1
    },
    {
     "cell_type": "code",
     "collapsed": false,
     "input": [
      "%reload_ext doctestmagic"
     ],
     "language": "python",
     "metadata": {},
     "outputs": [],
     "prompt_number": 2
    },
    {
     "cell_type": "code",
     "collapsed": false,
     "input": [
      "event_db_url = 'http://localhost:5000/api/'"
     ],
     "language": "python",
     "metadata": {},
     "outputs": [],
     "prompt_number": 8
    },
    {
     "cell_type": "code",
     "collapsed": false,
     "input": [
      "def get_by_primary(table_name, primary_key, url=event_db_url):\n",
      "    \n",
      "    '''\n",
      "    Returns a dict representation of a table row by primary key:\n",
      "    >>> get_by_primary('event', 1)['id']\n",
      "    1\n",
      "    >>> get_by_primary('event', 1)['name']\n",
      "    u'EventA'\n",
      "    >>> get_by_primary('event', 1)['start_datetime']\n",
      "    u'2014-10-11T12:00:00'\n",
      "    '''\n",
      "    \n",
      "    r = requests.get(url + table_name + '/' + quote(str(primary_key)))\n",
      "    if r.ok:\n",
      "        return r.json()\n",
      "    else:\n",
      "        raise requests.RequestException(r.status_code)"
     ],
     "language": "python",
     "metadata": {},
     "outputs": [],
     "prompt_number": 9
    },
    {
     "cell_type": "code",
     "collapsed": false,
     "input": [
      "%doctest get_by_primary"
     ],
     "language": "python",
     "metadata": {},
     "outputs": [
      {
       "output_type": "stream",
       "stream": "stdout",
       "text": [
        "Ran 3 tests in 1 objects, 0 tests failed.\n"
       ]
      }
     ],
     "prompt_number": 10
    },
    {
     "cell_type": "code",
     "collapsed": false,
     "input": [
      "def get_single(table_name, value, field_name='primary', url=event_db_url):\n",
      "    \n",
      "    '''\n",
      "    Returns a single row of a table by looking for a match of `value` \n",
      "    in columns `field_name`. \n",
      "    \n",
      "    Raises an exception if no or more than one\n",
      "    results found.\n",
      "    \n",
      "    >>> get_single('third_party', 'thirdPartyA', 'name')['name']\n",
      "    u'thirdPartyA'\n",
      "    \n",
      "    Also wraps get_by_primary():\n",
      "    >>> get_single('event', 1)['name']\n",
      "    u'EventA'\n",
      "    '''\n",
      "    \n",
      "    \n",
      "    if field_name == 'primary':\n",
      "        return get_by_primary(table_name, value, url=url)\n",
      "    \n",
      "    else:\n",
      "        query = {'filters': [{'name': field_name, 'op': '==', 'val': value}], 'single': True}\n",
      "        params= {'q':  json.dumps(query)}\n",
      "        \n",
      "        r = requests.get(url + table_name, params=params)\n",
      "    \n",
      "        if r.ok:\n",
      "            return r.json()\n",
      "        else:\n",
      "            raise requests.RequestException(r.status_code)\n",
      "                "
     ],
     "language": "python",
     "metadata": {},
     "outputs": [],
     "prompt_number": 11
    },
    {
     "cell_type": "code",
     "collapsed": false,
     "input": [
      "%doctest get_single"
     ],
     "language": "python",
     "metadata": {},
     "outputs": [
      {
       "output_type": "stream",
       "stream": "stdout",
       "text": [
        "Ran 2 tests in 1 objects, 0 tests failed.\n"
       ]
      }
     ],
     "prompt_number": 12
    },
    {
     "cell_type": "code",
     "collapsed": false,
     "input": [
      "def insert_dict(table_name, payload, db_url=event_db_url):\n",
      "    '''\n",
      "    Inserts a dict representation of a table row.\n",
      "    Returns the inserted dict if successful.\n",
      "    Raises RequestException otherwise.\n",
      "\n",
      "    >>> tp = insert_dict('third_party', {'name': 'thirdPartyD', 'url': 'http://tpD.com'})\n",
      "    >>> a = get_single('artist', 1)\n",
      "    >>> ap = insert_dict('artist_page', {'url': 'http://abc.com', 'artist': {'id': a['id']}, 'third_party': {'id': tp['id']}})\n",
      "    u'thirdPartyC'\n",
      "    '''\n",
      "    json_payload = json.dumps(payload)\n",
      "    headers = {'content-type': 'application/json'}\n",
      "    r = requests.post(db_url + table_name, data=json_payload, headers=headers)\n",
      "    try:\n",
      "        response_dict = r.json()    \n",
      "    except:\n",
      "        pass\n",
      "    \n",
      "    if r.ok:\n",
      "        return response_dict\n",
      "    else:\n",
      "        if response_dict and 'message' in response_dict.keys():\n",
      "            res_str = '/' + response_dict['message']\n",
      "        else:\n",
      "            res_str = ''\n",
      "        raise requests.RequestException(str(r.status_code) + res_str) "
     ],
     "language": "python",
     "metadata": {},
     "outputs": [],
     "prompt_number": 23
    },
    {
     "cell_type": "code",
     "collapsed": false,
     "input": [
      "%doctest insert_dict"
     ],
     "language": "python",
     "metadata": {},
     "outputs": [
      {
       "output_type": "stream",
       "stream": "stdout",
       "text": [
        "**********************************************************************\n",
        "File \"__main__\", line 9, in NoName\n",
        "Failed example:\n",
        "    ap = insert_dict('artist_page', {'url': 'http://abc.com', 'artist': {'id': a['id']}, 'third_party': {'id': tp['id']}})\n",
        "Exception raised:\n",
        "    Traceback (most recent call last):\n",
        "      File \"/home/alec/anaconda/lib/python2.7/doctest.py\", line 1315, in __run\n",
        "        compileflags, 1) in test.globs\n",
        "      File \"<doctest NoName[2]>\", line 1, in <module>\n",
        "        ap = insert_dict('artist_page', {'url': 'http://abc.com', 'artist': {'id': a['id']}, 'third_party': {'id': tp['id']}})\n",
        "      File \"<ipython-input-23-a689057795d6>\", line 27, in insert_dict\n",
        "        raise requests.RequestException(str(r.status_code) + res_str)\n",
        "    RequestException: 400/IntegrityError\n",
        "Ran 3 tests in 1 objects, 1 tests failed.\n"
       ]
      }
     ],
     "prompt_number": 24
    },
    {
     "cell_type": "code",
     "collapsed": false,
     "input": [
      "def append_child(table_name, item, field_name, child_payload, db_url=event_db_url):\n",
      "    \n",
      "    '''\n",
      "    Adds a new item to a child table that has a 1:n relation to table_name.\n",
      "    Returns the parent item on success. Child payload must reference its\n",
      "    parent object.\n",
      "    \n",
      "    >>> e = get_single('event', 2)\n",
      "    >>> len(e['performances'])\n",
      "    0\n",
      "    >>> a = get_single('artist', 1)\n",
      "    >>> k = get_single('performance_kind', 'PerformanceKindA')\n",
      "    >>> perf = {'name': 'perfC', 'artist': a, 'kind': k, 'event': e}\n",
      "    >>> e = append_child('event', e, 'performances', perf)\n",
      "    >>> len(e['performances'])\n",
      "    1\n",
      "    '''\n",
      "    \n",
      "    payload = {field_name: {'add': [child_payload]}}\n",
      "    json_payload = json.dumps(payload)\n",
      "    headers = {'content-type': 'application/json'}\n",
      "    request_url = db_url + table_name + '/' + str(item['id'])\n",
      "    r = requests.put(request_url, data=json_payload, headers=headers)\n",
      "    \n",
      "    if r.ok:\n",
      "        response_dict = r.json()\n",
      "        return response_dict\n",
      "    else:\n",
      "        raise requests.RequestException(r.status_code)"
     ],
     "language": "python",
     "metadata": {},
     "outputs": [],
     "prompt_number": 34
    },
    {
     "cell_type": "code",
     "collapsed": false,
     "input": [
      "%doctest append_child"
     ],
     "language": "python",
     "metadata": {},
     "outputs": [
      {
       "output_type": "stream",
       "stream": "stdout",
       "text": [
        "Ran 7 tests in 1 objects, 0 tests failed.\n"
       ]
      }
     ],
     "prompt_number": 35
    },
    {
     "cell_type": "code",
     "collapsed": false,
     "input": [],
     "language": "python",
     "metadata": {},
     "outputs": []
    },
    {
     "cell_type": "code",
     "collapsed": false,
     "input": [
      "%%writefile ra/pipelines.py\n",
      "# Define your item pipelines here\n",
      "#\n",
      "# Don't forget to add your pipeline to the ITEM_PIPELINES setting\n",
      "# See: http://doc.scrapy.org/en/latest/topics/item-pipeline.html\n",
      "from scrapy import log\n",
      "from datetime import datetime\n",
      "from scrapy.exceptions import DropItem\n",
      "\n",
      "try:\n",
      "    ra = get_single('third_party', 'Resident Advisor')\n",
      "    \n",
      "except RequestException:\n",
      "    ra = insert_dict('third_party', {'name': 'Resident Advisor', 'url': 'http://www.residentadvisor.net/'})\n",
      "\n",
      "try:\n",
      "    berlin = get_single('region', 'Berlin')\n",
      "    \n",
      "except RequestException:\n",
      "    berlin = insert_dict('region',\n",
      "                         {'name': 'Berlin', \n",
      "                          'country': 'DE',\n",
      "                          'lat': 52.498757, \n",
      "                          'lon': 13.418652})\n",
      "\n",
      "ra_regions = {34: berlin}\n",
      "    \n",
      "try:\n",
      "    techno = get_single('performance_kind', 'Electronic Music')\n",
      "    \n",
      "except:\n",
      "    techno = insert_dict('performance_kind', {'name': 'Electronic Music'})\n",
      "    \n",
      "\n",
      "\n",
      "log.start()\n",
      "class VenuePipeline(object):\n",
      "    \n",
      "    def __init__(self):\n",
      "        pass\n",
      "    \n",
      "    def process_item(self, item, spider):\n",
      "        club = item['club']\n",
      "        \n",
      "        try:\n",
      "            venue_page = get_single('venue_page', 'url', club['ra_url'])\n",
      "            venue = venue_page['venue']\n",
      "        \n",
      "        # If venue and venue page dont exist yet:\n",
      "        except RequestException:\n",
      "            \n",
      "            # Obligatory fields:\n",
      "            try:\n",
      "                new_venue = {\n",
      "                'name': club['name']\n",
      "                'adress_string': club['adress'],\n",
      "                'lat': club['lat'],\n",
      "                'lon': club['lon'],\n",
      "                'region': ra_regions[club['ra_locale_id']]\n",
      "                'last_modified': datetime.today().isoformat()}\n",
      "\n",
      "                new_venue_page = {\n",
      "                'url': club['ra_url'],\n",
      "                'third_party': ra,}\n",
      "                \n",
      "            except KeyError:\n",
      "                raise DropItem('Venue %s misses an obligatory field' % club)\n",
      "                \n",
      "            # Insert Venue\n",
      "            venue = insert_dict('venue', new_venue)\n",
      "            # Insert Venue Page\n",
      "            append_child('venue', venue, 'pages', new_venue_page)\n",
      "            \n",
      "        item['db_venue'] = venue        \n",
      "        return item\n",
      "    \n",
      "class EventPipeline(object):\n",
      "    \n",
      "    def __init__(self):\n",
      "        pass\n",
      "    \n",
      "    def process_item(self, item, spider):\n",
      "        \n",
      "        \n",
      "        try:\n",
      "            event_page = get_single('event_page', 'ur', item['ra_url'])\n",
      "            event = event_page['event']\n",
      "            raise DropItem('Event %s already in databse' item['ra_url'])\n",
      "        \n",
      "        # If event and event page dont exist yet:\n",
      "        except RequestException:\n",
      "            \n",
      "            # Obligatory fields:\n",
      "            try:\n",
      "                new_event = {\n",
      "                'name': club['name']\n",
      "                'start_datetime': club['start_datetime'],\n",
      "                'end_datetime': club['end_datetime'],\n",
      "                'source': ra,\n",
      "                'venue' = item['db_venue'],\n",
      "                'last_modified': datetime.today().isoformat()}\n",
      "\n",
      "                new_event_page = {\n",
      "                'url': club['ra_url'],\n",
      "                'third_party': ra,}\n",
      "                \n",
      "            except KeyError:\n",
      "                raise DropItem('Event %s misses an obligatory field' % item)\n",
      "                \n",
      "            # Insert Event\n",
      "            event = insert_dict('event', new_event)\n",
      "            # Insert Event Page\n",
      "            append_child('event', event, 'pages', new_event_page)\n",
      "            \n",
      "        item['db_event'] = venue        \n",
      "        return item\n",
      "    \n",
      "\n",
      "class ArtistPipeline(object):\n",
      "    \n",
      "    def __init__(self):\n",
      "        pass\n",
      "       \n",
      "    \n",
      "    def process_item(self, item, spider):\n",
      "        \n",
      "        artists = item['artists']\n",
      "        processed_artists = [process_artist(a) for a in artists]\n",
      "        db_artists = [a for a in processed_artists if a]\n",
      "        \n",
      "        item['db_artists'] = db_artists\n",
      "        \n",
      "        return item\n",
      "    \n",
      "    def process_artist(self, artist):\n",
      "        \n",
      "        try:\n",
      "            artist_page = get_single('artist_page', 'url', item['ra_url'])\n",
      "            artist = artist_page['artist']\n",
      "        \n",
      "        # If artist and artist page dont exist yet:\n",
      "        except RequestException:\n",
      "            \n",
      "            # Obligatory fields:\n",
      "            try:\n",
      "                new_artist = {\n",
      "                'name': artist['name']\n",
      "                'source': ra,\n",
      "                'last_modified': datetime.today().isoformat()}\n",
      "\n",
      "                new_artist_page = {\n",
      "                'url': club['ra_url'],\n",
      "                'third_party': ra}\n",
      "            \n",
      "            except KeyError:\n",
      "                return None\n",
      "            \n",
      "            artist = insert_dict('artist', new_artist)\n",
      "            # Insert Event Page\n",
      "            append_child('artist', artist, 'pages', new_artist_page)\n",
      "            \n",
      "        return artist\n",
      "    \n",
      "class PerformancePipeline(object):\n",
      "    \n",
      "    def __init__(self):\n",
      "        pass\n",
      "       \n",
      "    \n",
      "    def process_item(self, item, spider):\n",
      "        return item\n",
      "    \n",
      "class SoundCloudPipeline(object):\n",
      "    \n",
      "    def __init__(self):\n",
      "        pass\n",
      "       \n",
      "    \n",
      "    def process_item(self, item, spider):\n",
      "        return item"
     ],
     "language": "python",
     "metadata": {},
     "outputs": [
      {
       "output_type": "stream",
       "stream": "stdout",
       "text": [
        "Overwriting ra/pipelines.py\n"
       ]
      }
     ],
     "prompt_number": 3
    },
    {
     "cell_type": "code",
     "collapsed": false,
     "input": [],
     "language": "python",
     "metadata": {},
     "outputs": []
    },
    {
     "cell_type": "raw",
     "metadata": {},
     "source": [
      "from ra.dbmodel import Event"
     ]
    },
    {
     "cell_type": "code",
     "collapsed": false,
     "input": [],
     "language": "python",
     "metadata": {},
     "outputs": []
    },
    {
     "cell_type": "code",
     "collapsed": false,
     "input": [
      "!cat ra/pipelines.py"
     ],
     "language": "python",
     "metadata": {},
     "outputs": [
      {
       "output_type": "stream",
       "stream": "stdout",
       "text": [
        "# Define your item pipelines here\r\n",
        "#\r\n",
        "# Don't forget to add your pipeline to the ITEM_PIPELINES setting\r\n",
        "# See: http://doc.scrapy.org/en/latest/topics/item-pipeline.html\r\n",
        "\r\n",
        "\r\n",
        "class RaPipeline(object):\r\n",
        "    def process_item(self, item, spider):\r\n",
        "        return item"
       ]
      }
     ],
     "prompt_number": 5
    },
    {
     "cell_type": "code",
     "collapsed": false,
     "input": [],
     "language": "python",
     "metadata": {},
     "outputs": []
    }
   ],
   "metadata": {}
  }
 ]
}