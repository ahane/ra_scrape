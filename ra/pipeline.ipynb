{
 "metadata": {
  "name": "",
  "signature": "sha256:6fb1f2a4eae042615f6f75f3848c6327b212e2be30c395946e30f5ab13b82d81"
 },
 "nbformat": 3,
 "nbformat_minor": 0,
 "worksheets": [
  {
   "cells": [
    {
     "cell_type": "code",
     "collapsed": false,
     "input": [
      "import requests\n",
      "from requests.utils import quote, unquote\n",
      "import json\n",
      "import doctest"
     ],
     "language": "python",
     "metadata": {},
     "outputs": [],
     "prompt_number": 1
    },
    {
     "cell_type": "code",
     "collapsed": false,
     "input": [
      "%reload_ext doctestmagic"
     ],
     "language": "python",
     "metadata": {},
     "outputs": [],
     "prompt_number": 8
    },
    {
     "cell_type": "code",
     "collapsed": false,
     "input": [
      "event_db_url = 'http://localhost:5000/api/'"
     ],
     "language": "python",
     "metadata": {},
     "outputs": [],
     "prompt_number": 3
    },
    {
     "cell_type": "code",
     "collapsed": false,
     "input": [
      "def get_by_primary(table_name, primary_key, url=event_db_url):\n",
      "    \n",
      "    '''\n",
      "    Returns a dict representation of a table row by primary key:\n",
      "    >>> get_by_primary('event', 1)['id']\n",
      "    1\n",
      "    >>> get_by_primary('event', 1)['name']\n",
      "    u'EventA'\n",
      "    >>> get_by_primary('event', 1)['start_datetime']\n",
      "    u'2014-10-11T12:00:00'\n",
      "    '''\n",
      "    \n",
      "    r = requests.get(url + table_name + '/' + quote(str(primary_key)))\n",
      "    if r.ok:\n",
      "        return r.json()\n",
      "    else:\n",
      "        raise requests.RequestException(r.status_code)"
     ],
     "language": "python",
     "metadata": {},
     "outputs": [],
     "prompt_number": 18
    },
    {
     "cell_type": "code",
     "collapsed": false,
     "input": [
      "%doctest get_by_primary"
     ],
     "language": "python",
     "metadata": {},
     "outputs": [
      {
       "output_type": "stream",
       "stream": "stdout",
       "text": [
        "Ran 3 tests in 1 objects, 0 tests failed.\n"
       ]
      }
     ],
     "prompt_number": 19
    },
    {
     "cell_type": "code",
     "collapsed": false,
     "input": [
      "def get_single(table_name, value, field_name='primary', url=event_db_url):\n",
      "    \n",
      "    '''\n",
      "    Returns a single row of a table by looking for a match of `value` \n",
      "    in columns `field_name`. \n",
      "    \n",
      "    Raises an exception if no or more than one\n",
      "    results found.\n",
      "    \n",
      "    >>> get_unique('third_party', 'thirdPartyA', 'name')['name']\n",
      "    u'thirdPartyA'\n",
      "    \n",
      "    Also wraps get_by_primary():\n",
      "    >>> get_unique('event', 1)['name']\n",
      "    u'EventA'\n",
      "    '''\n",
      "    \n",
      "    \n",
      "    if field_name == 'primary':\n",
      "        return get_by_primary(table_name, value, url=url)\n",
      "    \n",
      "    else:\n",
      "        query = {'filters': [{'name': field_name, 'op': '==', 'val': value}], 'single': True}\n",
      "        params= {'q':  json.dumps(query)}\n",
      "        \n",
      "        r = requests.get(url + table_name, params=params)\n",
      "    \n",
      "        if r.ok:\n",
      "            return r.json()\n",
      "        else:\n",
      "            raise requests.RequestException(r.status_code)\n",
      "                "
     ],
     "language": "python",
     "metadata": {},
     "outputs": [],
     "prompt_number": 35
    },
    {
     "cell_type": "code",
     "collapsed": false,
     "input": [
      "%doctest get_single"
     ],
     "language": "python",
     "metadata": {},
     "outputs": [
      {
       "output_type": "stream",
       "stream": "stdout",
       "text": [
        "Ran 2 tests in 1 objects, 0 tests failed.\n"
       ]
      }
     ],
     "prompt_number": 21
    },
    {
     "cell_type": "code",
     "collapsed": false,
     "input": [
      "def insert_dict(table_name, payload, db_url=event_db_url):\n",
      "    '''\n",
      "    Inserts a dict representation of a table row.\n",
      "    Returns the inserted dict if successful.\n",
      "    Raises RequestException otherwise.\n",
      "\n",
      "    >>> insert_dict('third_party', {'name': 'thirdPartyC', 'url': 'http://tpc.com'})['name']\n",
      "    u'thirdPartyC'\n",
      "    '''\n",
      "    json_payload = json.dumps(payload)\n",
      "    headers = {'content-type': 'application/json'}\n",
      "    r = requests.post(db_url + table_name, data=json_payload, headers=headers)\n",
      "    \n",
      "    if r.ok:\n",
      "        response_dict = r.json()\n",
      "        return response_dict\n",
      "    else:\n",
      "        raise requests.RequestException(r.status_code)"
     ],
     "language": "python",
     "metadata": {},
     "outputs": [],
     "prompt_number": 28
    },
    {
     "cell_type": "code",
     "collapsed": false,
     "input": [
      "def append_child(table_name, item, field_name, child_payload, db_url=event_db_url):\n",
      "    \n",
      "    '''\n",
      "    Adds a new item to a child table that has a 1:n relation to table_name.\n",
      "    Returns the parent item on success!\n",
      "    \n",
      "    >>> e = get_single('event', 2)\n",
      "    >>> len(e['performances'])\n",
      "    0\n",
      "    >>> a = get_single('artist', 1)\n",
      "    >>> k = get_single('performance_kind', 'PerformanceKindA')\n",
      "    >>> perf = {'name': 'perfC', 'artist': a, 'kind': k}\n",
      "    >>> e = append_child('event', e, 'performances', perf)\n",
      "    >>> len(e['performances'])\n",
      "    '''\n",
      "    \n",
      "    payload = {field_name: {'add': child_payload}}\n",
      "    json_payload = json.dumps(payload)\n",
      "    headers = {'content-type': 'application/json'}\n",
      "    request_url = db_url + table_name + '/' + str(item['id'])\n",
      "    r = requests.put(request_url, data=json_payload, headers=headers)\n",
      "    \n",
      "    if r.ok:\n",
      "        response_dict = r.json()\n",
      "        return response_dict\n",
      "    else:\n",
      "        raise requests.RequestException(r.status_code)"
     ],
     "language": "python",
     "metadata": {},
     "outputs": [],
     "prompt_number": 45
    },
    {
     "cell_type": "code",
     "collapsed": false,
     "input": [
      "e = get_single('event', 2)"
     ],
     "language": "python",
     "metadata": {},
     "outputs": [],
     "prompt_number": 55
    },
    {
     "cell_type": "code",
     "collapsed": false,
     "input": [
      "a = get_single('artist', 1)"
     ],
     "language": "python",
     "metadata": {},
     "outputs": [],
     "prompt_number": 48
    },
    {
     "cell_type": "code",
     "collapsed": false,
     "input": [
      "k = get_single('performance_kind', 'PerformanceKindA')"
     ],
     "language": "python",
     "metadata": {},
     "outputs": [],
     "prompt_number": 59
    },
    {
     "cell_type": "code",
     "collapsed": false,
     "input": [
      "perf = {\n",
      "'name': 'PerformanceC',\n",
      "'artist': a,\n",
      "'kind': k};\n",
      "e = append_child('event', e, 'performances', Performancec)"
     ],
     "language": "python",
     "metadata": {},
     "outputs": [],
     "prompt_number": 62
    },
    {
     "cell_type": "code",
     "collapsed": false,
     "input": [
      "e['performances']"
     ],
     "language": "python",
     "metadata": {},
     "outputs": [
      {
       "metadata": {},
       "output_type": "pyout",
       "prompt_number": 63,
       "text": [
        "[{u'artist_id': 2,\n",
        "  u'event_id': 2,\n",
        "  u'id': 4,\n",
        "  u'kind_id': 1,\n",
        "  u'name': u'PerformanceC',\n",
        "  u'time': None},\n",
        " {u'artist_id': 2,\n",
        "  u'event_id': 2,\n",
        "  u'id': 5,\n",
        "  u'kind_id': 1,\n",
        "  u'name': u'PerformanceC',\n",
        "  u'time': None}]"
       ]
      }
     ],
     "prompt_number": 63
    },
    {
     "cell_type": "code",
     "collapsed": false,
     "input": [],
     "language": "python",
     "metadata": {},
     "outputs": []
    },
    {
     "cell_type": "code",
     "collapsed": false,
     "input": [],
     "language": "python",
     "metadata": {},
     "outputs": []
    },
    {
     "cell_type": "code",
     "collapsed": false,
     "input": [],
     "language": "python",
     "metadata": {},
     "outputs": []
    },
    {
     "cell_type": "code",
     "collapsed": false,
     "input": [],
     "language": "python",
     "metadata": {},
     "outputs": [],
     "prompt_number": 30
    },
    {
     "cell_type": "code",
     "collapsed": false,
     "input": [],
     "language": "python",
     "metadata": {},
     "outputs": []
    },
    {
     "cell_type": "code",
     "collapsed": false,
     "input": [],
     "language": "python",
     "metadata": {},
     "outputs": [],
     "prompt_number": 31
    },
    {
     "cell_type": "code",
     "collapsed": false,
     "input": [
      "%%writefile ra/pipelines.py\n",
      "# Define your item pipelines here\n",
      "#\n",
      "# Don't forget to add your pipeline to the ITEM_PIPELINES setting\n",
      "# See: http://doc.scrapy.org/en/latest/topics/item-pipeline.html\n",
      "from scrapy import log\n",
      "from datetime import datetime\n",
      "log.start()\n",
      "class VenuePipeline(object):\n",
      "    \n",
      "    def __init__(self):\n",
      "        self.ra_regions = {34: 'Berlin'}\n",
      "        self.ra = get_single('third_party', 'Resident Advisor')\n",
      "    \n",
      "    def process_item(self, item, spider):\n",
      "        club = item['club']\n",
      "        try:\n",
      "            venue_page = get_single('venue_page', (club['ra_url']))\n",
      "        except RequestException:\n",
      "            new_venue = {\n",
      "                'name': club['name']\n",
      "}\n",
      "            data = {'url': club['ra_rul'], 'third_party': self.ra}\n",
      "            venue_page = insert_dict('venue_page', data)\n",
      "            venue = venue_page['venue']\n",
      "        except:\n",
      "            name, addr = club['name'], club['adress']\n",
      "            desc = None\n",
      "            lat, lon = club['latlon']\n",
      "            region = self.ra_regions(club['ra_locale_id'])\n",
      "            tp = self.ra\n",
      "            \n",
      "            # Insert new Venue\n",
      "            venue_id = insert_venue(name, None, addr, lat, lon, region, tp)\n",
      "            \n",
      "            # Insert new Venue Page\n",
      "            insert_venue_page(club['ra_url'], venue_id)\n",
      "        item['venue_id'] = venue_id\n",
      "        return item\n",
      "\n",
      "class EventPipeline(object):\n",
      "    \n",
      "    def __init__(self):\n",
      "        pass\n",
      "       \n",
      "    \n",
      "    def process_item(self, item, spider):\n",
      "        return item    \n",
      "\n",
      "class ArtistPipeline(object):\n",
      "    \n",
      "    def __init__(self):\n",
      "        pass\n",
      "       \n",
      "    \n",
      "    def process_item(self, item, spider):\n",
      "        return item\n",
      "    \n",
      "class EventPipeline(object):\n",
      "    \n",
      "    def __init__(self):\n",
      "        pass\n",
      "       \n",
      "    \n",
      "    def process_item(self, item, spider):\n",
      "        return item"
     ],
     "language": "python",
     "metadata": {},
     "outputs": [
      {
       "output_type": "stream",
       "stream": "stdout",
       "text": [
        "Overwriting ra/pipelines.py\n"
       ]
      }
     ],
     "prompt_number": 3
    },
    {
     "cell_type": "code",
     "collapsed": false,
     "input": [],
     "language": "python",
     "metadata": {},
     "outputs": []
    },
    {
     "cell_type": "raw",
     "metadata": {},
     "source": [
      "from ra.dbmodel import Event"
     ]
    },
    {
     "cell_type": "code",
     "collapsed": false,
     "input": [],
     "language": "python",
     "metadata": {},
     "outputs": []
    },
    {
     "cell_type": "code",
     "collapsed": false,
     "input": [
      "!cat ra/pipelines.py"
     ],
     "language": "python",
     "metadata": {},
     "outputs": [
      {
       "output_type": "stream",
       "stream": "stdout",
       "text": [
        "# Define your item pipelines here\r\n",
        "#\r\n",
        "# Don't forget to add your pipeline to the ITEM_PIPELINES setting\r\n",
        "# See: http://doc.scrapy.org/en/latest/topics/item-pipeline.html\r\n",
        "\r\n",
        "\r\n",
        "class RaPipeline(object):\r\n",
        "    def process_item(self, item, spider):\r\n",
        "        return item"
       ]
      }
     ],
     "prompt_number": 5
    },
    {
     "cell_type": "code",
     "collapsed": false,
     "input": [],
     "language": "python",
     "metadata": {},
     "outputs": []
    }
   ],
   "metadata": {}
  }
 ]
}