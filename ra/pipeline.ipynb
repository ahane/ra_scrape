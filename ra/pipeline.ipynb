{
 "metadata": {
  "name": "",
  "signature": "sha256:2411b7c319ab70892c5faed41e3467ac79ffbde0cde632a630aaa7cdd9f586d6"
 },
 "nbformat": 3,
 "nbformat_minor": 0,
 "worksheets": [
  {
   "cells": [
    {
     "cell_type": "code",
     "collapsed": false,
     "input": [
      "%%writefile ra/pipelines.py\n",
      "# Define your item pipelines here\n",
      "#\n",
      "# Don't forget to add your pipeline to the ITEM_PIPELINES setting\n",
      "# See: http://doc.scrapy.org/en/latest/topics/item-pipeline.html\n",
      "\n",
      "\n",
      "class RaPipeline(object):\n",
      "    def process_item(self, item, spider):\n",
      "        return item"
     ],
     "language": "python",
     "metadata": {},
     "outputs": [
      {
       "output_type": "stream",
       "stream": "stdout",
       "text": [
        "Overwriting ra/pipelines.py\n"
       ]
      }
     ],
     "prompt_number": 4
    },
    {
     "cell_type": "code",
     "collapsed": false,
     "input": [
      "!cat ra/pipelines.py"
     ],
     "language": "python",
     "metadata": {},
     "outputs": [
      {
       "output_type": "stream",
       "stream": "stdout",
       "text": [
        "# Define your item pipelines here\r\n",
        "#\r\n",
        "# Don't forget to add your pipeline to the ITEM_PIPELINES setting\r\n",
        "# See: http://doc.scrapy.org/en/latest/topics/item-pipeline.html\r\n",
        "\r\n",
        "\r\n",
        "class RaPipeline(object):\r\n",
        "    def process_item(self, item, spider):\r\n",
        "        return item"
       ]
      }
     ],
     "prompt_number": 5
    },
    {
     "cell_type": "code",
     "collapsed": false,
     "input": [],
     "language": "python",
     "metadata": {},
     "outputs": []
    }
   ],
   "metadata": {}
  }
 ]
}