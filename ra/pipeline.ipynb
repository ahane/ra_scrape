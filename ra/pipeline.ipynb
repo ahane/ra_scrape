{
 "metadata": {
  "name": "",
  "signature": "sha256:bad8e5caae731ed89e6638425446e892c74760f2e477d91c0f1df83ce4a9538a"
 },
 "nbformat": 3,
 "nbformat_minor": 0,
 "worksheets": [
  {
   "cells": [
    {
     "cell_type": "code",
     "collapsed": false,
     "input": [
      "from datetime import date"
     ],
     "language": "python",
     "metadata": {},
     "outputs": [],
     "prompt_number": 34
    },
    {
     "cell_type": "code",
     "collapsed": false,
     "input": [
      "import datetime"
     ],
     "language": "python",
     "metadata": {},
     "outputs": [],
     "prompt_number": 37
    },
    {
     "cell_type": "code",
     "collapsed": false,
     "input": [
      "datetime.datetime.strptime(\"2013-01-22\", \"%Y-%m-%d\")"
     ],
     "language": "python",
     "metadata": {},
     "outputs": [
      {
       "metadata": {},
       "output_type": "pyout",
       "prompt_number": 38,
       "text": [
        "datetime.datetime(2013, 1, 22, 0, 0)"
       ]
      }
     ],
     "prompt_number": 38
    },
    {
     "cell_type": "code",
     "collapsed": false,
     "input": [
      "import sqlalchemy"
     ],
     "language": "python",
     "metadata": {},
     "outputs": [],
     "prompt_number": 35
    },
    {
     "cell_type": "code",
     "collapsed": false,
     "input": [
      "sqlalchemy.util."
     ],
     "language": "python",
     "metadata": {},
     "outputs": []
    },
    {
     "cell_type": "code",
     "collapsed": false,
     "input": [
      "from sqlalchemy.orm.exc import NoResultFound, MultipleResultsFound"
     ],
     "language": "python",
     "metadata": {},
     "outputs": [],
     "prompt_number": 37
    },
    {
     "cell_type": "code",
     "collapsed": false,
     "input": [
      "%%writefile ra/pipelines.py\n",
      "# Define your item pipelines here\n",
      "#\n",
      "# Don't forget to add your pipeline to the ITEM_PIPELINES setting\n",
      "# See: http://doc.scrapy.org/en/latest/topics/item-pipeline.html\n",
      "from scrapy import log\n",
      "from sqlalchemy.orm import sessionmaker\n",
      "from sqlalchemy.orm.exc import NoResultFound, MultipleResultsFound\n",
      "from db.dbmodel import Event, EventPage, Venue, VenuePage, Artist, ArtistPage, Location\n",
      "from db.dbmodel import Performance, PerformanceKind, ThirdParty, db_connect, create_tables\n",
      "from datetime import datetime\n",
      "log.start()\n",
      "class RaPipeline(object):\n",
      "    \n",
      "    def __init__(self):\n",
      "        \n",
      "        engine = db_connect()\n",
      "        create_tables(engine)\n",
      "        self.Session = sessionmaker(bind=engine)\n",
      "    \n",
      "    def process_item(self, item, spider):\n",
      "        \n",
      "        session = self.Session()\n",
      "        \n",
      "        if 'club' in item.keys():            \n",
      "            venue = self.enter_venue(item['club'], session)\n",
      "            \n",
      "            event = self.enter_event(item, venue, session)\n",
      "            \n",
      "            artists = [self.enter_artist(a, session) for a in item['artists']]\n",
      "            \n",
      "            for d, a in zip(item['artists'], artists):\n",
      "                if 'sc_user' in d.keys():\n",
      "                    self.enter_soundcloud(d, a, session) \n",
      "            \n",
      "            p_kind = self.get_performance_kind('Electronic Music', session)\n",
      "            performances = [Performance(event=event, artist=a, kind=p_kind) for a in artists]\n",
      "            \n",
      "            try:\n",
      "                session.add_all(performances)\n",
      "                session.commit()\n",
      "            except:\n",
      "                session.rollback()\n",
      "                raise\n",
      "            finally:\n",
      "                session.close()\n",
      "\n",
      "            return item\n",
      "    \n",
      "    def enter_venue(self, club, s):\n",
      "        \n",
      "        ra = self.get_third_party('Resident Advisor', s)\n",
      "        page_id = club['ra_club_id']\n",
      "        try:    \n",
      "            venue_page = s.query(VenuePage).filter(VenuePage.third_party == ra,\n",
      "                                                   VenuePage.page_id == page_id).one()\n",
      "            venue = venue_page.venue\n",
      "            \n",
      "        except NoResultFound:\n",
      "            lat, lon = club['latlon']\n",
      "            location = Location(string=club['adress'], lat=lat, lon=lon)\n",
      "            \n",
      "            venue_page = VenuePage(third_party=ra, \n",
      "                                   url=club['ra_url'], \n",
      "                                   page_id=page_id)\n",
      "            \n",
      "            venue = Venue(name=club['name'], \n",
      "                          pages=[venue_page], \n",
      "                          location=location)\n",
      "            \n",
      "            s.add_all([venue_page, venue, location])\n",
      "        \n",
      "        except MultipleResultsFound:\n",
      "            raise\n",
      "        \n",
      "        return venue\n",
      "    \n",
      "    def enter_event(self, event_dict, venue, s):\n",
      "        \n",
      "        ra = self.get_third_party('Resident Advisor', s)\n",
      "        page_id = event_dict['ra_event_id']\n",
      "        try:\n",
      "            event_page = s.query(EventPage).filter(EventPage.third_party == ra, \n",
      "                                                   EventPage.page_id == page_id).one()\n",
      "            event = event_page.event\n",
      "            \n",
      "        except NoResultFound:\n",
      "            date = datetime.strptime(event_dict['date'], \"%Y-%m-%d\")\n",
      "            \n",
      "            event_page = EventPage(third_party=ra, \n",
      "                                   url=event_dict['ra_url'],\n",
      "                                   page_id=page_id)\n",
      "            \n",
      "            event = Event(name=event_dict['name'], \n",
      "                          pages=[event_page], \n",
      "                          start_date=date, \n",
      "                          venue=venue)\n",
      "            \n",
      "            s.add_all([event_page, event])\n",
      "        \n",
      "        except MultipleResultsFound:\n",
      "            raise\n",
      "        \n",
      "        return event\n",
      "    \n",
      "    def enter_artist(self, artist_dict, s):\n",
      "            \n",
      "        ra = self.get_third_party('Resident Advisor', s)\n",
      "        page_id = artist_dict['ra_artist_id']\n",
      "        try:\n",
      "            artist_page = s.query(ArtistPage).filter(ArtistPage.third_party == ra, \n",
      "                                                     ArtistPage.page_id == page_id).one()\n",
      "            artist = artist_page.artist\n",
      "            \n",
      "        except NoResultFound:\n",
      "            artist_page = ArtistPage(third_party=ra, \n",
      "                                   url=artist_dict['ra_url'],\n",
      "                                   page_id=page_id)\n",
      "            \n",
      "            artist = Artist(name=artist_dict['name'], \n",
      "                          pages=[artist_page])\n",
      "            \n",
      "            s.add_all([artist_page, artist])\n",
      "        \n",
      "        except MultipleResultsFound:\n",
      "            raise\n",
      "        \n",
      "        return artist\n",
      "    \n",
      "    def enter_soundcloud(self, artist_dict, artist, s):\n",
      "\n",
      "        sc = self.get_third_party('SoundCloud', s)\n",
      "        page_id = artist_dict['sc_user']\n",
      "        try:\n",
      "            sc_page = s.query(ArtistPage).filter(ArtistPage.third_party == sc, \n",
      "                                                 ArtistPage.page_id == page_id).one()\n",
      "            \n",
      "        except NoResultFound:\n",
      "            sc_page = ArtistPage(third_party=sc, \n",
      "                                 url=artist_dict['sc_url'],\n",
      "                                 page_id=page_id,\n",
      "                                 artist=artist)\n",
      "            \n",
      "            s.add(sc_page)\n",
      "        \n",
      "        except MultipleResultsFound:\n",
      "            raise\n",
      "        \n",
      "        return sc_page\n",
      "    \n",
      "    def get_third_party(self, name, s):\n",
      "    \n",
      "        urls = {'Resident Advisor': 'http://www.residentadvisor.net',\n",
      "                'SoundCloud':       'https://soundcloud.com'}\n",
      "    \n",
      "        try: \n",
      "            tp = s.query(ThirdParty).filter(ThirdParty.name == name).one()\n",
      "        \n",
      "        except NoResultFound:\n",
      "            tp = ThirdParty(name=name, url=urls[name])            \n",
      "            s.add(tp)\n",
      "    \n",
      "        except MultipleResultsFound:\n",
      "            raise\n",
      "            \n",
      "        return tp\n",
      "    \n",
      "    def get_performance_kind(self, name, s):\n",
      "        \n",
      "        try: \n",
      "            pk = s.query(PerformanceKind).filter(PerformanceKind.name == name).one()\n",
      "        \n",
      "        except NoResultFound:\n",
      "            pk = PerformanceKind(name=name)            \n",
      "            s.add(pk)\n",
      "    \n",
      "        except MultipleResultsFound:\n",
      "            raise\n",
      "            \n",
      "        return pk   "
     ],
     "language": "python",
     "metadata": {},
     "outputs": [
      {
       "output_type": "stream",
       "stream": "stdout",
       "text": [
        "Overwriting ra/pipelines.py\n"
       ]
      }
     ],
     "prompt_number": 49
    },
    {
     "cell_type": "code",
     "collapsed": false,
     "input": [],
     "language": "python",
     "metadata": {},
     "outputs": []
    },
    {
     "cell_type": "raw",
     "metadata": {},
     "source": [
      "from ra.dbmodel import Event"
     ]
    },
    {
     "cell_type": "code",
     "collapsed": false,
     "input": [],
     "language": "python",
     "metadata": {},
     "outputs": []
    },
    {
     "cell_type": "code",
     "collapsed": false,
     "input": [
      "!cat ra/pipelines.py"
     ],
     "language": "python",
     "metadata": {},
     "outputs": [
      {
       "output_type": "stream",
       "stream": "stdout",
       "text": [
        "# Define your item pipelines here\r\n",
        "#\r\n",
        "# Don't forget to add your pipeline to the ITEM_PIPELINES setting\r\n",
        "# See: http://doc.scrapy.org/en/latest/topics/item-pipeline.html\r\n",
        "\r\n",
        "\r\n",
        "class RaPipeline(object):\r\n",
        "    def process_item(self, item, spider):\r\n",
        "        return item"
       ]
      }
     ],
     "prompt_number": 5
    },
    {
     "cell_type": "code",
     "collapsed": false,
     "input": [],
     "language": "python",
     "metadata": {},
     "outputs": []
    }
   ],
   "metadata": {}
  }
 ]
}