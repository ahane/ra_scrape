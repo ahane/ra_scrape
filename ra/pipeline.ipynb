{
 "metadata": {
  "name": "",
  "signature": "sha256:a6f78df3b1374857919422a0e87c0868ffa670135a1cf723d1dadbb525e6ab87"
 },
 "nbformat": 3,
 "nbformat_minor": 0,
 "worksheets": [
  {
   "cells": [
    {
     "cell_type": "code",
     "collapsed": false,
     "input": [
      "import requests\n",
      "from requests.utils import quote, unquote\n",
      "import json"
     ],
     "language": "python",
     "metadata": {},
     "outputs": [],
     "prompt_number": 8
    },
    {
     "cell_type": "code",
     "collapsed": false,
     "input": [
      "event_db_url = 'http://localhost:5000/api/'"
     ],
     "language": "python",
     "metadata": {},
     "outputs": [],
     "prompt_number": 9
    },
    {
     "cell_type": "code",
     "collapsed": false,
     "input": [
      "def get_resident_advisor(url=event_db_url):\n",
      "    ra = requests.get(url + 'third_party/' + quote('Resident Advisor'))\n",
      "    if not ra.ok:\n",
      "        ra_dict = json.dumps({'name': 'Resident Advisor', 'url': 'http://www.residentadvisor.net/'})\n",
      "        headers = {'content-type': 'application/json'}\n",
      "        ra = requests.post(url + 'third_party', data=ra_dict, headers=headers)\n",
      "        if not ra.ok:\n",
      "            raise Error('Coulnt insert third party')\n",
      "    return json.loads(ra.content)"
     ],
     "language": "python",
     "metadata": {},
     "outputs": [],
     "prompt_number": 10
    },
    {
     "cell_type": "code",
     "collapsed": false,
     "input": [
      "def get_unique(table_name, value, field_name='primary', url=event_db_url):\n",
      "    if field_name == 'primary':\n",
      "        return get_by_primary(table_name, value, url=url)\n",
      "    else:\n",
      "        query = {'filters': [{'name': field_name, 'op': '==', 'val': value}]}\n",
      "        q = json.dumps(query)\n",
      "        params = {'q': q}\n",
      "\n",
      "        r = requests.get(url + table_name, params=params)\n",
      "\n",
      "        resp_dict = json.loads(r.content)\n",
      "        try:\n",
      "            num_results = resp_dict['num_results']\n",
      "            if num_results == 1:\n",
      "                return resp_dict['objects'][0]\n",
      "            elif num_results == 0:\n",
      "                raise KeyError('Query yielded no results')\n",
      "            else:\n",
      "                raise KeyError('Query yieleded multiple results')\n",
      "        except KeyError as e:\n",
      "            if 'message' in resp_dict.keys():\n",
      "                msg = '/' + resp_dict['message']\n",
      "            else:\n",
      "                msg = ''\n",
      "\n",
      "            raise requests.RequestException(e.message + '\\n' + str(r.status_code) + msg)"
     ],
     "language": "python",
     "metadata": {},
     "outputs": [],
     "prompt_number": 73
    },
    {
     "cell_type": "code",
     "collapsed": false,
     "input": [],
     "language": "python",
     "metadata": {},
     "outputs": [],
     "prompt_number": 73
    },
    {
     "cell_type": "code",
     "collapsed": false,
     "input": [
      "def get_by_primary(table_name, primary_key, url=event_db_url):\n",
      "    r = requests.get(url + table_name + '/' + str(primary_key))\n",
      "    if r.ok:\n",
      "        resp_dict = json.loads(r.content)\n",
      "        return resp_dict\n",
      "    else:\n",
      "        raise requests.RequestException(r.status_code)"
     ],
     "language": "python",
     "metadata": {},
     "outputs": [],
     "prompt_number": 74
    },
    {
     "cell_type": "code",
     "collapsed": false,
     "input": [
      "get_unique('venue_page', 'http://www.VenuePageA.com', 'url')"
     ],
     "language": "python",
     "metadata": {},
     "outputs": [
      {
       "metadata": {},
       "output_type": "pyout",
       "prompt_number": 75,
       "text": [
        "{u'id': 1,\n",
        " u'resource_id': None,\n",
        " u'third_party': {u'id': 1,\n",
        "  u'name': u'thirdPartyA',\n",
        "  u'url': u'http://thirdpartya.de'},\n",
        " u'third_party_id': 1,\n",
        " u'url': u'http://www.VenuePageA.com',\n",
        " u'venue': {u'adress_string': None,\n",
        "  u'description': None,\n",
        "  u'id': 1,\n",
        "  u'last_modified': None,\n",
        "  u'lat': 13.001,\n",
        "  u'lon': 51.002,\n",
        "  u'name': u'VenueA',\n",
        "  u'region_id': 1,\n",
        "  u'source_id': 1},\n",
        " u'venue_id': 1}"
       ]
      }
     ],
     "prompt_number": 75
    },
    {
     "cell_type": "code",
     "collapsed": false,
     "input": [
      "ra_dict = json.dumps({'name': 'Resident Advisor', 'url': 'http://www.residentadvisor.net/'})\n",
      "headers = {'content-type': 'application/json'}\n",
      "resident_advisor = post(event_db_url + 'third_party', data=ra_dict, headers = headers)"
     ],
     "language": "python",
     "metadata": {},
     "outputs": [],
     "prompt_number": 30
    },
    {
     "cell_type": "code",
     "collapsed": false,
     "input": [
      "json.loads(resident_advisor.content)"
     ],
     "language": "python",
     "metadata": {},
     "outputs": [
      {
       "metadata": {},
       "output_type": "pyout",
       "prompt_number": 35,
       "text": [
        "{u'artist_pages': [],\n",
        " u'event_pages': [],\n",
        " u'id': 3,\n",
        " u'name': u'Resident Advisor',\n",
        " u'url': u'http://www.residentadvisor.net/',\n",
        " u'venue_pages': []}"
       ]
      }
     ],
     "prompt_number": 35
    },
    {
     "cell_type": "code",
     "collapsed": false,
     "input": [
      "%%writefile ra/pipelines.py\n",
      "# Define your item pipelines here\n",
      "#\n",
      "# Don't forget to add your pipeline to the ITEM_PIPELINES setting\n",
      "# See: http://doc.scrapy.org/en/latest/topics/item-pipeline.html\n",
      "from scrapy import log\n",
      "from datetime import datetime\n",
      "log.start()\n",
      "class VenuePipeline(object):\n",
      "    \n",
      "    def __init__(self):\n",
      "        pass\n",
      "       \n",
      "    \n",
      "    def process_item(self, item, spider):\n",
      "        return item\n",
      "    \n",
      "class ArtistPipeline(object):\n",
      "    \n",
      "    def __init__(self):\n",
      "        pass\n",
      "       \n",
      "    \n",
      "    def process_item(self, item, spider):\n",
      "        return item\n",
      "    \n",
      "class EventPipeline(object):\n",
      "    \n",
      "    def __init__(self):\n",
      "        pass\n",
      "       \n",
      "    \n",
      "    def process_item(self, item, spider):\n",
      "        return item"
     ],
     "language": "python",
     "metadata": {},
     "outputs": [
      {
       "output_type": "stream",
       "stream": "stdout",
       "text": [
        "Overwriting ra/pipelines.py\n"
       ]
      }
     ],
     "prompt_number": 3
    },
    {
     "cell_type": "code",
     "collapsed": false,
     "input": [],
     "language": "python",
     "metadata": {},
     "outputs": []
    },
    {
     "cell_type": "raw",
     "metadata": {},
     "source": [
      "from ra.dbmodel import Event"
     ]
    },
    {
     "cell_type": "code",
     "collapsed": false,
     "input": [],
     "language": "python",
     "metadata": {},
     "outputs": []
    },
    {
     "cell_type": "code",
     "collapsed": false,
     "input": [
      "!cat ra/pipelines.py"
     ],
     "language": "python",
     "metadata": {},
     "outputs": [
      {
       "output_type": "stream",
       "stream": "stdout",
       "text": [
        "# Define your item pipelines here\r\n",
        "#\r\n",
        "# Don't forget to add your pipeline to the ITEM_PIPELINES setting\r\n",
        "# See: http://doc.scrapy.org/en/latest/topics/item-pipeline.html\r\n",
        "\r\n",
        "\r\n",
        "class RaPipeline(object):\r\n",
        "    def process_item(self, item, spider):\r\n",
        "        return item"
       ]
      }
     ],
     "prompt_number": 5
    },
    {
     "cell_type": "code",
     "collapsed": false,
     "input": [],
     "language": "python",
     "metadata": {},
     "outputs": []
    }
   ],
   "metadata": {}
  }
 ]
}