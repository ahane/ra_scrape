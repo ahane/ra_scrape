{
 "metadata": {
  "name": "",
  "signature": "sha256:53483ea97b2eaea5b40acfb588d152372ad877ef2bffc7d752b40c34a2aac918"
 },
 "nbformat": 3,
 "nbformat_minor": 0,
 "worksheets": [
  {
   "cells": [
    {
     "cell_type": "code",
     "collapsed": false,
     "input": [
      "from datetime import date"
     ],
     "language": "python",
     "metadata": {},
     "outputs": [],
     "prompt_number": 34
    },
    {
     "cell_type": "code",
     "collapsed": false,
     "input": [
      "import datetime"
     ],
     "language": "python",
     "metadata": {},
     "outputs": [],
     "prompt_number": 37
    },
    {
     "cell_type": "code",
     "collapsed": false,
     "input": [
      "from datetime import datetime.strptime as strptime"
     ],
     "language": "python",
     "metadata": {},
     "outputs": [
      {
       "ename": "SyntaxError",
       "evalue": "invalid syntax (<ipython-input-42-5d657a9dd48d>, line 1)",
       "output_type": "pyerr",
       "traceback": [
        "\u001b[1;36m  File \u001b[1;32m\"<ipython-input-42-5d657a9dd48d>\"\u001b[1;36m, line \u001b[1;32m1\u001b[0m\n\u001b[1;33m    from datetime import datetime.strptime as strptime\u001b[0m\n\u001b[1;37m                                 ^\u001b[0m\n\u001b[1;31mSyntaxError\u001b[0m\u001b[1;31m:\u001b[0m invalid syntax\n"
       ]
      }
     ],
     "prompt_number": 42
    },
    {
     "cell_type": "code",
     "collapsed": false,
     "input": [
      "datetime.datetime.strptime(\"2013-01-22\", \"%Y-%m-%d\")"
     ],
     "language": "python",
     "metadata": {},
     "outputs": [
      {
       "metadata": {},
       "output_type": "pyout",
       "prompt_number": 38,
       "text": [
        "datetime.datetime(2013, 1, 22, 0, 0)"
       ]
      }
     ],
     "prompt_number": 38
    },
    {
     "cell_type": "code",
     "collapsed": false,
     "input": [
      "%%writefile ra/pipelines.py\n",
      "# Define your item pipelines here\n",
      "#\n",
      "# Don't forget to add your pipeline to the ITEM_PIPELINES setting\n",
      "# See: http://doc.scrapy.org/en/latest/topics/item-pipeline.html\n",
      "from scrapy import log\n",
      "from sqlalchemy.orm import sessionmaker\n",
      "from dbmodel import Event, EventPage,Venue, VenuePage, Artist, ArtistPage, Performance, db_connect, create_tables\n",
      "from datetime import datetime\n",
      "log.start()\n",
      "class RaPipeline(object):\n",
      "    \n",
      "    def __init__(self):\n",
      "        engine = db_connect()\n",
      "        create_tables(engine)\n",
      "        self.Session = sessionmaker(bind=engine)\n",
      "    \n",
      "    def process_item(self, item, spider):\n",
      "        \n",
      "        session = self.Session()\n",
      "        \n",
      "        #venue = enter_venue(item['club'])\n",
      "        if 'club' in item.keys():\n",
      "            venue_page = VenuePage(name='Resident Advisor', url=item['club']['ra_url'])\n",
      "            venue = Venue(name = item['club']['name'], pages=[venue_page])\n",
      "            \n",
      "            #this works on postgre\n",
      "            #event = Event(name=item['name'], date=item['date'], venue=venue)\n",
      "\n",
      "            #but for sqlite we use this:\n",
      "            date = datetime.strptime(item['date'], \"%Y-%m-%d\")\n",
      "            ##\n",
      "            \n",
      "            venue, venue_page = self.enter_venue(item['club'])\n",
      "            \n",
      "            event, event_page = self.enter_event(item, venue)\n",
      "            \n",
      "            artists_pages_tups = [self.enter_artist(a) for a in item['artists']]\n",
      "            artists = [a for a, p in artists_pages_tups]\n",
      "            artist_pages = [p for a, p in artists_pages_tups]\n",
      "            \n",
      "            soundcloud_pages = [self.enter_soundcloud(a) for a in item['artists']]\n",
      "            \n",
      "            try:\n",
      "                session.add(venue_page)\n",
      "                session.add(venue)\n",
      "                session.add(event)\n",
      "                session.add(event_page)\n",
      "                session.add_all(artists)\n",
      "                session.add_all(artist_pages)\n",
      "                session.commit()\n",
      "            except:\n",
      "                session.rollback()\n",
      "                raise\n",
      "            finally:\n",
      "                session.close()\n",
      "\n",
      "            return item\n",
      "    \n",
      "    def enter_venue(self, club):\n",
      "        \n",
      "        s = self.Session()\n",
      "        \n",
      "        ra_page = s.query(VenuePage).filter(name=='Resident Advisor',\n",
      "                                            VenuePage.page_id == club['ra_club_id'])\n",
      "        if ra_page.count() >= 1:\n",
      "            if ra_page.count() > 1:\n",
      "                log.msg('Duplicate Venue Pages!')\n",
      "            venue_page = ra_page.first()\n",
      "            venue = venue_page.venue\n",
      "        elif ra_page.count() == 0:\n",
      "            venue_page = VenuePage(name='Resident Advisor', url=club['ra_url'], page_id=club['ra_club_id'])\n",
      "            venue = Venue(name=club['name'], pages=[venue_page])\n",
      "        \n",
      "        s.close()\n",
      "        return venue, venue_page\n",
      "    \n",
      "    def enter_event(self, event_dict, venue):\n",
      "        #this works on postgre\n",
      "        #event = Event(name=item['name'], date=item['date'], venue=venue)\n",
      "\n",
      "        #but for sqlite we use this:\n",
      "        date = datetime.strptime(event_dict['date'], \"%Y-%m-%d\")\n",
      "        ##\n",
      "        \n",
      "        \n",
      "        s = self.Session()\n",
      "        \n",
      "        ra_page = s.query(EventPage).filter(name=='Resident Advisor', \n",
      "                                            EventPage.page_id == event_dict['ra_event_id'])\n",
      "        \n",
      "        if ra_page.count() >= 1:\n",
      "            if ra_page.count() > 1:\n",
      "                log.msg('Duplicate Event Pages!')\n",
      "            event_page = ra_page.first()\n",
      "            event = event_page.event\n",
      "        elif ra_page.count() == 0:\n",
      "            event_page = EventPage(name=event_dict['name'], url=event_dict['ra_url'],\n",
      "                                   page_id=event_dict['ra_event_id'])\n",
      "            event = Event(name=event_dict['name'], pages=[event_page], date=date)\n",
      "        \n",
      "        s.close()\n",
      "        return event, event_page\n",
      "    \n",
      "    def enter_artist(self, artist_dict):\n",
      "        s = self.Session()\n",
      "        \n",
      "        ra_page = s.query(ArtistPage).filter(name=='Resident Advisor', \n",
      "                                             ArtistPage.page_id == artist_dict['ra_artist_id'])\n",
      "        \n",
      "        if ra_page.count() >= 1:\n",
      "            if ra_page.count() > 1:\n",
      "                log.msg('Duplicate Artist Pages!')\n",
      "            artist_page = ra_page.first()\n",
      "            artist = artist_page.artist\n",
      "        elif ra_page.count() == 0:\n",
      "            artist_page = ArtistPage(name == 'Resident Advisor', url=artist_dict['ra_url'], \n",
      "                                     page_id=artist_dict['ra_artist_id'])\n",
      "            artist = Artist(name=artist_dict['name'], pages=[artist_page])\n",
      "        \n",
      "        s.close()\n",
      "        return artist, artist_page\n",
      "    \n",
      "    def enter_soundcloud(self, artist_dict):\n",
      "        s = self.Session()\n",
      "        \n",
      "        sc_page = s.query(ArtistPage).filter(name == 'SoundCloud', \n",
      "                                             ArtistPage.page_id == artist_dict['sc_user'])\n",
      "        \n",
      "        if sc_page.count() >= 1:\n",
      "            if sc_page.count() > 1:\n",
      "                log.msg('Duplicate SC Pages!')\n",
      "            artist_page = ra_page.first()\n",
      "        elif sc_page.count() == 0:\n",
      "            artist_page = ArtistPage(name='SoundCloud', url=artist_dict['sc_url'], \n",
      "                                     page_id=artist_dict['ra_artist_id'])\n",
      "\n",
      "        \n",
      "        s.close()\n",
      "        return artist_page\n",
      "    \n",
      "    \n",
      "    "
     ],
     "language": "python",
     "metadata": {},
     "outputs": [
      {
       "output_type": "stream",
       "stream": "stdout",
       "text": [
        "Overwriting ra/pipelines.py\n"
       ]
      }
     ],
     "prompt_number": 65
    },
    {
     "cell_type": "code",
     "collapsed": false,
     "input": [
      "from ra.dbmodel import Event"
     ],
     "language": "python",
     "metadata": {},
     "outputs": [],
     "prompt_number": 9
    },
    {
     "cell_type": "code",
     "collapsed": false,
     "input": [],
     "language": "python",
     "metadata": {},
     "outputs": []
    },
    {
     "cell_type": "code",
     "collapsed": false,
     "input": [
      "!cat ra/pipelines.py"
     ],
     "language": "python",
     "metadata": {},
     "outputs": [
      {
       "output_type": "stream",
       "stream": "stdout",
       "text": [
        "# Define your item pipelines here\r\n",
        "#\r\n",
        "# Don't forget to add your pipeline to the ITEM_PIPELINES setting\r\n",
        "# See: http://doc.scrapy.org/en/latest/topics/item-pipeline.html\r\n",
        "\r\n",
        "\r\n",
        "class RaPipeline(object):\r\n",
        "    def process_item(self, item, spider):\r\n",
        "        return item"
       ]
      }
     ],
     "prompt_number": 5
    },
    {
     "cell_type": "code",
     "collapsed": false,
     "input": [],
     "language": "python",
     "metadata": {},
     "outputs": []
    }
   ],
   "metadata": {}
  }
 ]
}