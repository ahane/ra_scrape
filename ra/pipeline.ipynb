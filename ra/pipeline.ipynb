{
 "metadata": {
  "name": "",
  "signature": "sha256:2724a3fa14c946e28d77bcb1458ec8541980fc795a49a31b274432b9b01b9402"
 },
 "nbformat": 3,
 "nbformat_minor": 0,
 "worksheets": [
  {
   "cells": [
    {
     "cell_type": "code",
     "collapsed": false,
     "input": [
      "import requests\n",
      "from requests.utils import quote, unquote\n",
      "import json\n",
      "import doctest"
     ],
     "language": "python",
     "metadata": {},
     "outputs": [],
     "prompt_number": 1
    },
    {
     "cell_type": "code",
     "collapsed": false,
     "input": [
      "%reload_ext doctestmagic"
     ],
     "language": "python",
     "metadata": {},
     "outputs": [],
     "prompt_number": 2
    },
    {
     "cell_type": "code",
     "collapsed": false,
     "input": [
      "event_db_url = 'http://localhost:5000/api/'"
     ],
     "language": "python",
     "metadata": {},
     "outputs": [],
     "prompt_number": 8
    },
    {
     "cell_type": "code",
     "collapsed": false,
     "input": [
      "!rm ra/hinterteil.py"
     ],
     "language": "python",
     "metadata": {},
     "outputs": [],
     "prompt_number": 96
    },
    {
     "cell_type": "code",
     "collapsed": false,
     "input": [
      "\n",
      "def get_by_primary(table_name, primary_key, url=event_db_url):\n",
      "    \n",
      "    '''\n",
      "        Returns a dict representation of a table row by primary key:\n",
      "        >>> get_by_primary('event', 1)['id']\n",
      "        1\n",
      "        >>> get_by_primary('event', 1)['name']\n",
      "        u'EventA'\n",
      "        >>> get_by_primary('event', 1)['start_datetime']\n",
      "        u'2014-10-11T12:00:00'\n",
      "    '''\n",
      "    \n",
      "    r = requests.get(url + table_name + '/' + quote(str(primary_key)))\n",
      "    if r.ok:\n",
      "        return r.json()\n",
      "    else:\n",
      "        raise requests.RequestException(r.status_code)\n",
      "\n"
     ],
     "language": "python",
     "metadata": {},
     "outputs": [
      {
       "output_type": "stream",
       "stream": "stdout",
       "text": [
        "Writing ra/hinterteil.py\n"
       ]
      }
     ],
     "prompt_number": 97
    },
    {
     "cell_type": "code",
     "collapsed": false,
     "input": [
      "!cat ra/hinterteil.py"
     ],
     "language": "python",
     "metadata": {},
     "outputs": [
      {
       "output_type": "stream",
       "stream": "stdout",
       "text": [
        "def get_by_primary(table_name, primary_key, url=event_db_url):\r\n",
        "    \r\n",
        "    '''\r\n",
        "        Returns a dict representation of a table row by primary key:\r\n",
        "        >>> get_by_primary('event', 1)['id']\r\n",
        "        1\r\n",
        "        >>> get_by_primary('event', 1)['name']\r\n",
        "        u'EventA'\r\n",
        "        >>> get_by_primary('event', 1)['start_datetime']\r\n",
        "        u'2014-10-11T12:00:00'\r\n",
        "    '''\r\n",
        "    \r\n",
        "    r = requests.get(url + table_name + '/' + quote(str(primary_key)))\r\n",
        "    if r.ok:\r\n",
        "        return r.json()\r\n",
        "    else:\r\n",
        "        raise requests.RequestException(r.status_code)\r\n"
       ]
      }
     ],
     "prompt_number": 89
    },
    {
     "cell_type": "code",
     "collapsed": false,
     "input": [
      "%doctest get_by_primary"
     ],
     "language": "python",
     "metadata": {},
     "outputs": [
      {
       "output_type": "stream",
       "stream": "stdout",
       "text": [
        "Ran 3 tests in 1 objects, 0 tests failed.\n"
       ]
      }
     ],
     "prompt_number": 90
    },
    {
     "cell_type": "code",
     "collapsed": false,
     "input": [
      "\n",
      "def get_single(table_name, value, field_name='primary', url=event_db_url):\n",
      "    \n",
      "    '''\n",
      "        Returns a single row of a table by looking for a match of `value` \n",
      "        in columns `field_name`. \n",
      "\n",
      "        Raises an exception if no or more than one\n",
      "        results found.\n",
      "\n",
      "        >>> get_single('third_party', 'thirdPartyA', 'name')['name']\n",
      "        u'thirdPartyA'\n",
      "\n",
      "        Also wraps get_by_primary():\n",
      "        >>> get_single('event', 1)['name']\n",
      "        u'EventA'\n",
      "    '''\n",
      "    \n",
      "    \n",
      "    if field_name == 'primary':\n",
      "        return get_by_primary(table_name, value, url=url)\n",
      "    \n",
      "    else:\n",
      "        query = {'filters': [{'name': field_name, 'op': '==', 'val': value}], 'single': True}\n",
      "        params= {'q':  json.dumps(query)}\n",
      "        \n",
      "        r = requests.get(url + table_name, params=params)\n",
      "    \n",
      "        if r.ok:\n",
      "            return r.json()\n",
      "        else:\n",
      "            raise requests.RequestException(r.status_code)\n",
      "\n"
     ],
     "language": "python",
     "metadata": {},
     "outputs": [
      {
       "output_type": "stream",
       "stream": "stdout",
       "text": [
        "Appending to ra/hinterteil.py\n"
       ]
      }
     ],
     "prompt_number": 98
    },
    {
     "cell_type": "code",
     "collapsed": false,
     "input": [
      "%doctest get_single"
     ],
     "language": "python",
     "metadata": {},
     "outputs": [
      {
       "output_type": "stream",
       "stream": "stdout",
       "text": [
        "Ran 2 tests in 1 objects, 0 tests failed.\n"
       ]
      }
     ],
     "prompt_number": 92
    },
    {
     "cell_type": "code",
     "collapsed": false,
     "input": [
      "\n",
      "def insert_dict(table_name, payload, db_url=event_db_url):\n",
      "    '''\n",
      "        Inserts a dict representation of a table row.\n",
      "        Returns the inserted dict if successful.\n",
      "        Raises RequestException otherwise.\n",
      "\n",
      "        >>> tp = insert_dict('third_party', {'name': 'thirdPartyD', 'url': 'http://tpD.com'})\n",
      "        >>> a = get_single('artist', 1)\n",
      "        >>> ap = insert_dict('artist_page', {'url': 'http://abc.com', 'artist': {'id': a['id']}, 'third_party': {'id': tp['id']}})\n",
      "        u'thirdPartyC'\n",
      "    '''\n",
      "    json_payload = json.dumps(payload)\n",
      "    headers = {'content-type': 'application/json'}\n",
      "    r = requests.post(db_url + table_name, data=json_payload, headers=headers)\n",
      "    try:\n",
      "        response_dict = r.json()    \n",
      "    except:\n",
      "        pass\n",
      "    \n",
      "    if r.ok:\n",
      "        return response_dict\n",
      "    else:\n",
      "        if response_dict and 'message' in response_dict.keys():\n",
      "            res_str = '/' + response_dict['message']\n",
      "        else:\n",
      "            res_str = ''\n",
      "        raise requests.RequestException(str(r.status_code) + res_str) \n",
      "\n",
      "\n"
     ],
     "language": "python",
     "metadata": {},
     "outputs": [
      {
       "output_type": "stream",
       "stream": "stdout",
       "text": [
        "Appending to ra/hinterteil.py\n"
       ]
      }
     ],
     "prompt_number": 105
    },
    {
     "cell_type": "code",
     "collapsed": false,
     "input": [
      "%doctest insert_dict"
     ],
     "language": "python",
     "metadata": {},
     "outputs": [
      {
       "output_type": "stream",
       "stream": "stdout",
       "text": [
        "**********************************************************************\n",
        "File \"__main__\", line 7, in NoName\n",
        "Failed example:\n",
        "    tp = insert_dict('third_party', {'name': 'thirdPartyD', 'url': 'http://tpD.com'})\n",
        "Exception raised:\n",
        "    Traceback (most recent call last):\n",
        "      File \"/home/alec/anaconda/lib/python2.7/doctest.py\", line 1315, in __run\n",
        "        compileflags, 1) in test.globs\n",
        "      File \"<doctest NoName[0]>\", line 1, in <module>\n",
        "        tp = insert_dict('third_party', {'name': 'thirdPartyD', 'url': 'http://tpD.com'})\n",
        "      File \"<ipython-input-23-a689057795d6>\", line 27, in insert_dict\n",
        "        raise requests.RequestException(str(r.status_code) + res_str)\n",
        "    RequestException: 400/IntegrityError\n",
        "**********************************************************************\n",
        "File \"__main__\", line 9, in NoName\n",
        "Failed example:\n",
        "    ap = insert_dict('artist_page', {'url': 'http://abc.com', 'artist': {'id': a['id']}, 'third_party': {'id': tp['id']}})\n",
        "Exception raised:\n",
        "    Traceback (most recent call last):\n",
        "      File \"/home/alec/anaconda/lib/python2.7/doctest.py\", line 1315, in __run\n",
        "        compileflags, 1) in test.globs\n",
        "      File \"<doctest NoName[2]>\", line 1, in <module>\n",
        "        ap = insert_dict('artist_page', {'url': 'http://abc.com', 'artist': {'id': a['id']}, 'third_party': {'id': tp['id']}})\n",
        "    NameError: name 'tp' is not defined\n",
        "Ran 3 tests in 1 objects, 2 tests failed.\n"
       ]
      }
     ],
     "prompt_number": 40
    },
    {
     "cell_type": "code",
     "collapsed": false,
     "input": [
      "%%writefile ra/hinterteil.py -a\n",
      "def append_child(table_name, item, field_name, child_payload, db_url=event_db_url):\n",
      "    \n",
      "    '''\n",
      "    Adds a new item to a child table that has a 1:n relation to table_name.\n",
      "    Returns the parent item on success. Child payload must reference its\n",
      "    parent object.\n",
      "    \n",
      "    >>> e = get_single('event', 2)\n",
      "    >>> len(e['performances'])\n",
      "    0\n",
      "    >>> a = get_single('artist', 1)\n",
      "    >>> k = get_single('performance_kind', 'PerformanceKindA')\n",
      "    >>> perf = {'name': 'perfC', 'artist': a, 'kind': k, 'event': e}\n",
      "    >>> e = append_child('event', e, 'performances', perf)\n",
      "    >>> len(e['performances'])\n",
      "    1\n",
      "    '''\n",
      "    \n",
      "    payload = {field_name: {'add': [child_payload]}}\n",
      "    json_payload = json.dumps(payload)\n",
      "    headers = {'content-type': 'application/json'}\n",
      "    request_url = db_url + table_name + '/' + str(item['id'])\n",
      "    r = requests.put(request_url, data=json_payload, headers=headers)\n",
      "    \n",
      "    if r.ok:\n",
      "        response_dict = r.json()\n",
      "        return response_dict\n",
      "    else:\n",
      "        raise requests.RequestException(r.status_code)\n",
      "\n",
      "    "
     ],
     "language": "python",
     "metadata": {},
     "outputs": [
      {
       "output_type": "stream",
       "stream": "stdout",
       "text": [
        "Appending to ra/hinterteil.py\n"
       ]
      }
     ],
     "prompt_number": 100
    },
    {
     "cell_type": "code",
     "collapsed": false,
     "input": [
      "%doctest append_child"
     ],
     "language": "python",
     "metadata": {},
     "outputs": [
      {
       "output_type": "stream",
       "stream": "stdout",
       "text": [
        "Ran 7 tests in 1 objects, 0 tests failed.\n"
       ]
      }
     ],
     "prompt_number": 35
    },
    {
     "cell_type": "code",
     "collapsed": false,
     "input": [],
     "language": "python",
     "metadata": {},
     "outputs": []
    },
    {
     "cell_type": "code",
     "collapsed": false,
     "input": [
      "%%writefile ra/pipelines.py\n",
      "# Define your item pipelines here\n",
      "#\n",
      "# Don't forget to add your pipeline to the ITEM_PIPELINES setting\n",
      "# See: http://doc.scrapy.org/en/latest/topics/item-pipeline.html\n",
      "from scrapy import log\n",
      "from datetime import datetime\n",
      "from scrapy.exceptions import DropItem\n",
      "from hinterteil import Hinterteil\n",
      "import settings\n",
      "\n",
      "db = Hinterteil(settings.DATABASE_URL)\n",
      "\n",
      "try:\n",
      "    ra = db.get_single('third_party', 'Resident Advisor', 'name')\n",
      "    \n",
      "except IOError:\n",
      "    ra = db.insert_dict('third_party', {'name': 'Resident Advisor', 'url': 'http://www.residentadvisor.net/'})\n",
      "\n",
      "try:\n",
      "    berlin = db.get_single('region', 'Berlin', 'name')\n",
      "    \n",
      "except IOError:\n",
      "    berlin = db.insert_dict('region',\n",
      "                         {'name': 'Berlin', \n",
      "                          'country': 'DE',\n",
      "                          'lat': 52.498757, \n",
      "                          'lon': 13.418652})\n",
      "\n",
      "ra_regions = {34: berlin}\n",
      "    \n",
      "try:\n",
      "    techno = db.get_single('performance_kind', 'Electronic Music', 'name')\n",
      "    \n",
      "except:\n",
      "    techno = db.insert_dict('performance_kind', {'name': 'Electronic Music'})\n",
      "    \n",
      "genres = {'Electronic Music': techno}\n",
      "\n",
      "log.start()\n",
      "class VenuePipeline(object):\n",
      "    \n",
      "    def __init__(self):\n",
      "        pass\n",
      "        \n",
      "    def process_item(self, item, spider):\n",
      "        \n",
      "        try:\n",
      "            club = item['club']\n",
      "        except KeyError:\n",
      "            raise DropItem('Event %s doesnt have a venue' % item['ra_url'])\n",
      "        \n",
      "        try:\n",
      "            venue_page = db.get_single('venue_page', club['ra_url'], 'url')\n",
      "            venue = venue_page['venue']\n",
      "        \n",
      "        # If venue and venue page dont exist yet:\n",
      "        except IOError:\n",
      "            \n",
      "            region = ra_regions[club['ra_locale_id']]\n",
      "            # Obligatory fields:\n",
      "            try:\n",
      "                new_venue = {\n",
      "                'name': club['name'],\n",
      "                'adress_string': club['adress'],\n",
      "                'lat': club['lat'],\n",
      "                'lon': club['lon'],\n",
      "                'region_id': region['id'],\n",
      "                'last_modified': datetime.today().isoformat(),\n",
      "                'source_id': ra['id']}\n",
      "\n",
      "                new_venue_page = {\n",
      "                'url': club['ra_url'],\n",
      "                'third_party_id': ra['id']}\n",
      "                #'third_party': ra}\n",
      "                \n",
      "            except KeyError as key_error:\n",
      "                key = key_error.message\n",
      "                raise DropItem('Venue %s misses an obligatory field: %s' % (club['ra_url'], key))\n",
      "                \n",
      "            # Insert Venue\n",
      "            venue = db.insert_dict('venue', new_venue)\n",
      "            # Insert Venue Page\n",
      "            new_venue_page['venue_id'] = venue['id']\n",
      "            #new_venue_page['venue'] = venue\n",
      "            \n",
      "            #TODO figure out why we have to use ID instead of the objects..\n",
      "            venue_page = db.insert_dict('venue_page', new_venue_page)\n",
      "            \n",
      "                   \n",
      "        return item\n",
      "    \n",
      "class EventPipeline(object):\n",
      "    \n",
      "    def __init__(self):\n",
      "        pass\n",
      "    \n",
      "    def process_item(self, item, spider):\n",
      "        \n",
      "        \n",
      "        try:\n",
      "            event_page = db.get_single('event_page', item['ra_url'], 'url')\n",
      "            event = event_page['event']\n",
      "            raise DropItem('Event %s already in database' % item['ra_url'])\n",
      "        \n",
      "        # If event and event page dont exist yet:\n",
      "        except IOError:\n",
      "            \n",
      "            venue = db.get_single('venue_page', item['club']['ra_url'], 'url')['venue']\n",
      "            \n",
      "            # Obligatory fields:\n",
      "            try:\n",
      "                new_event = {\n",
      "                'name': item['name'],\n",
      "                'start_datetime': item['start_datetime'],\n",
      "                'end_datetime': item['end_datetime'],\n",
      "                'source_id': ra['id'],\n",
      "                'venue_id': venue['id'],\n",
      "                'last_modified': datetime.today().isoformat()}\n",
      "\n",
      "                new_event_page = {\n",
      "                'url': item['ra_url'],\n",
      "                'third_party_id': ra['id'],}\n",
      "                \n",
      "            except KeyError as key_error:\n",
      "                key = key_error.message\n",
      "                raise DropItem('Event %s misses an obligatory field' % (item['ra_url'], key))\n",
      "                \n",
      "            # Insert Event\n",
      "            event = db.insert_dict('event', new_event)\n",
      "            # Insert Event Page\n",
      "            new_event_page['event_id'] = event['id']\n",
      "            event_page = db.insert_dict('event_page', new_event_page)\n",
      "            #db.append_child('event', event, 'pages', new_event_page)\n",
      "            \n",
      "        #item['db_event'] = event        \n",
      "        return item\n",
      "    \n",
      "\n",
      "class ArtistPipeline(object):\n",
      "    \n",
      "    def __init__(self):\n",
      "        pass\n",
      "       \n",
      "    \n",
      "    def process_item(self, item, spider):\n",
      "        \n",
      "        insert_artist = self.insert_artist\n",
      "        insert_performance = self.insert_performance\n",
      "        \n",
      "        artists = item['artists']\n",
      "        processed_artists = [insert_artist(a) for a in artists]\n",
      "        db_artists = [a for a in processed_artists if a] #Filter possbile `None`s\n",
      "        #item['db_artists'] = db_artists\n",
      "        \n",
      "        event = db.get_single('event_page', item['ra_url'], 'url')['event']\n",
      "        db_performances = [insert_performance(a, event) for a in db_artists]\n",
      "        #item['db_performances'] = db_performances\n",
      "        \n",
      "        return item\n",
      "    \n",
      "    def insert_performance(item, event, artist):\n",
      "        ''' If the event didn't exist before, we can assume\n",
      "            the event hasn't been scraped yet. We don't have\n",
      "            to check for already existing performances.\n",
      "        '''\n",
      "        \n",
      "        new_performance = {'artist_id': artist['id'],\n",
      "                           'event_id': event['id'],\n",
      "                           'kind_id': genres['Electronic Music']['id']}\n",
      "        \n",
      "        performance = db.insert_dict('performance', new_performance)\n",
      "        #db.append_child('event', event, 'performances', new_performance)\n",
      "        \n",
      "        return performance\n",
      "            \n",
      "    def insert_artist(self, artist):\n",
      "        \n",
      "        try:\n",
      "            artist_page = db.get_single('artist_page', artist['ra_url'], 'url')\n",
      "            artist = artist_page['artist']\n",
      "        \n",
      "        # If artist and artist page dont exist yet:\n",
      "        except IOError:\n",
      "            \n",
      "            # Obligatory fields:\n",
      "            try:\n",
      "                new_artist = {\n",
      "                'name': artist['name'],\n",
      "                'source_id': ra['id'],\n",
      "                'last_modified': datetime.today().isoformat()}\n",
      "\n",
      "                new_artist_page = {\n",
      "                'url': artist['ra_url'],\n",
      "                'third_party_id': ra['id']}\n",
      "            \n",
      "            except KeyError as key_error:\n",
      "                key = key_error.message\n",
      "                self.log('Couldnt add artist %s because field was missing: %s', (artist['ra_url'], key))\n",
      "                return None\n",
      "            \n",
      "            artist = db.insert_dict('artist', new_artist)\n",
      "            # Insert Artist Page\n",
      "            new_artist_page['artist_id'] = artist['id']\n",
      "            artist_page = db.insert_dict('artist_page', new_artist_page)\n",
      "            #db.append_child('artist', artist, 'pages', new_artist_page)\n",
      "            \n",
      "        return artist\n"
     ],
     "language": "python",
     "metadata": {},
     "outputs": [
      {
       "output_type": "stream",
       "stream": "stdout",
       "text": [
        "Overwriting ra/pipelines.py\n"
       ]
      }
     ],
     "prompt_number": 22
    },
    {
     "cell_type": "code",
     "collapsed": false,
     "input": [
      "from datetime import datetime"
     ],
     "language": "python",
     "metadata": {},
     "outputs": [],
     "prompt_number": 121
    },
    {
     "cell_type": "code",
     "collapsed": false,
     "input": [
      "type(datetime.today().isoformat())"
     ],
     "language": "python",
     "metadata": {},
     "outputs": [
      {
       "metadata": {},
       "output_type": "pyout",
       "prompt_number": 122,
       "text": [
        "str"
       ]
      }
     ],
     "prompt_number": 122
    },
    {
     "cell_type": "raw",
     "metadata": {},
     "source": [
      "from ra.dbmodel import Event"
     ]
    },
    {
     "cell_type": "code",
     "collapsed": false,
     "input": [],
     "language": "python",
     "metadata": {},
     "outputs": []
    },
    {
     "cell_type": "code",
     "collapsed": false,
     "input": [
      "!cat ra/pipelines.py"
     ],
     "language": "python",
     "metadata": {},
     "outputs": [
      {
       "output_type": "stream",
       "stream": "stdout",
       "text": [
        "# Define your item pipelines here\r\n",
        "#\r\n",
        "# Don't forget to add your pipeline to the ITEM_PIPELINES setting\r\n",
        "# See: http://doc.scrapy.org/en/latest/topics/item-pipeline.html\r\n",
        "\r\n",
        "\r\n",
        "class RaPipeline(object):\r\n",
        "    def process_item(self, item, spider):\r\n",
        "        return item"
       ]
      }
     ],
     "prompt_number": 5
    },
    {
     "cell_type": "code",
     "collapsed": false,
     "input": [],
     "language": "python",
     "metadata": {},
     "outputs": []
    }
   ],
   "metadata": {}
  }
 ]
}