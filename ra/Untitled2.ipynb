{
 "metadata": {
  "name": "",
  "signature": "sha256:90d77665de1dd8fd5a6ec70e981f0445e08a0c5118a072be659abe2e6a595d6c"
 },
 "nbformat": 3,
 "nbformat_minor": 0,
 "worksheets": [
  {
   "cells": [
    {
     "cell_type": "code",
     "collapsed": false,
     "input": [
      "!scrapy crawl event_spider"
     ],
     "language": "python",
     "metadata": {},
     "outputs": [
      {
       "output_type": "stream",
       "stream": "stdout",
       "text": [
        "2014-11-04 18:21:05+0100 [scrapy] INFO: Scrapy 0.24.4 started (bot: ra)\r\n",
        "2014-11-04 18:21:05+0100 [scrapy] INFO: Optional features available: ssl, http11, boto\r\n",
        "2014-11-04 18:21:05+0100 [scrapy] INFO: Overridden settings: {'NEWSPIDER_MODULE': 'ra.spiders', 'SPIDER_MODULES': ['ra.spiders'], 'BOT_NAME': 'ra'}\r\n"
       ]
      },
      {
       "output_type": "stream",
       "stream": "stdout",
       "text": [
        "2014-11-04 18:21:05+0100 [scrapy] INFO: Enabled extensions: LogStats, TelnetConsole, CloseSpider, WebService, CoreStats, SpiderState\r\n"
       ]
      },
      {
       "output_type": "stream",
       "stream": "stdout",
       "text": [
        "2014-11-04 18:21:06+0100 [scrapy] INFO: Enabled downloader middlewares: HttpAuthMiddleware, DownloadTimeoutMiddleware, UserAgentMiddleware, RetryMiddleware, DefaultHeadersMiddleware, MetaRefreshMiddleware, HttpCompressionMiddleware, RedirectMiddleware, CookiesMiddleware, ChunkedTransferMiddleware, DownloaderStats\r\n",
        "2014-11-04 18:21:06+0100 [scrapy] INFO: Enabled spider middlewares: HttpErrorMiddleware, OffsiteMiddleware, RefererMiddleware, UrlLengthMiddleware, DepthMiddleware\r\n"
       ]
      },
      {
       "output_type": "stream",
       "stream": "stdout",
       "text": [
        "2014-11-04 18:21:07+0100 [scrapy] INFO: Enabled item pipelines: VenuePipeline, EventPipeline, ArtistPipeline\r\n",
        "2014-11-04 18:21:07+0100 [scrapy] INFO: Enabled item pipelines: VenuePipeline, EventPipeline, ArtistPipeline\r\n",
        "2014-11-04 18:21:07+0100 [event_spider] INFO: Spider opened\r\n",
        "2014-11-04 18:21:07+0100 [event_spider] INFO: Spider opened\r\n",
        "2014-11-04 18:21:07+0100 [event_spider] INFO: Crawled 0 pages (at 0 pages/min), scraped 0 items (at 0 items/min)\r\n",
        "2014-11-04 18:21:07+0100 [event_spider] INFO: Crawled 0 pages (at 0 pages/min), scraped 0 items (at 0 items/min)\r\n",
        "2014-11-04 18:21:07+0100 [scrapy] DEBUG: Telnet console listening on 127.0.0.1:6023\r\n",
        "2014-11-04 18:21:07+0100 [scrapy] DEBUG: Web service listening on 127.0.0.1:6080\r\n"
       ]
      },
      {
       "output_type": "stream",
       "stream": "stdout",
       "text": [
        "2014-11-04 18:21:08+0100 [event_spider] DEBUG: Crawled (200) <GET http://www.residentadvisor.net/events.aspx?ai=34&yr=2014&mn=9&dy=29&v=day> (referer: None)\r\n"
       ]
      },
      {
       "output_type": "stream",
       "stream": "stdout",
       "text": [
        "2014-11-04 18:21:08+0100 [event_spider] DEBUG: Crawled (200) <GET http://www.residentadvisor.net/event.aspx?629290> (referer: http://www.residentadvisor.net/events.aspx?ai=34&yr=2014&mn=9&dy=29&v=day)\r\n"
       ]
      },
      {
       "output_type": "stream",
       "stream": "stdout",
       "text": [
        "2014-11-04 18:21:08+0100 [event_spider] DEBUG: Crawled (200) <GET http://www.residentadvisor.net/event.aspx?629366> (referer: http://www.residentadvisor.net/events.aspx?ai=34&yr=2014&mn=9&dy=29&v=day)\r\n"
       ]
      },
      {
       "output_type": "stream",
       "stream": "stdout",
       "text": [
        "2014-11-04 18:21:10+0100 [event_spider] DEBUG: Scraped from <200 http://www.residentadvisor.net/event.aspx?629366>\r\n",
        "\t{'artists': [],\r\n",
        "\t 'club': {'adress': u' Revaler Strasse 99; Friedrichshain; 10245 Berlin,',\r\n",
        "\t 'lat': 52.50763269999999,\r\n",
        "\t 'lon': 13.4543612,\r\n",
        "\t 'name': u'RAW99',\r\n",
        "\t 'ra_club_id': u'83893',\r\n",
        "\t 'ra_locale_id': 34,\r\n",
        "\t 'ra_url': u'http://www.residentadvisor.net/club.aspx?id=83893'},\r\n",
        "\t 'end_datetime': '2014-09-30T08:00:00',\r\n",
        "\t 'item_type': 'event',\r\n",
        "\t 'name': u'Revolution Monday',\r\n",
        "\t 'ra_event_id': '629366',\r\n",
        "\t 'ra_url': 'http://www.residentadvisor.net/event.aspx?629366',\r\n",
        "\t 'start_datetime': '2014-09-29T23:45:00'}\r\n",
        "2014-11-04 18:21:10+0100 [event_spider] DEBUG: Crawled (200) <GET http://www.residentadvisor.net/dj/axelbartsch> (referer: http://www.residentadvisor.net/event.aspx?629290)\r\n",
        "2014-11-04 18:21:10+0100 [event_spider] DEBUG: Crawled (200) <GET http://www.residentadvisor.net/event.aspx?628859> (referer: http://www.residentadvisor.net/events.aspx?ai=34&yr=2014&mn=9&dy=29&v=day)\r\n"
       ]
      },
      {
       "output_type": "stream",
       "stream": "stdout",
       "text": [
        "2014-11-04 18:21:10+0100 [event_spider] DEBUG: Crawled (200) <GET http://www.residentadvisor.net/dj/gunnarstiller> (referer: http://www.residentadvisor.net/event.aspx?629290)\r\n"
       ]
      },
      {
       "output_type": "stream",
       "stream": "stdout",
       "text": [
        "2014-11-04 18:21:11+0100 [scrapy] INFO: inserting page {'url': u'http://www.residentadvisor.net/dj/axelbartsch', 'artist_id': 1, 'third_party_id': 1}\r\n",
        "2014-11-04 18:21:11+0100 [scrapy] INFO: inserting page {'url': u'http://www.residentadvisor.net/dj/axelbartsch', 'artist_id': 1, 'third_party_id': 1}\r\n"
       ]
      },
      {
       "output_type": "stream",
       "stream": "stdout",
       "text": [
        "2014-11-04 18:21:11+0100 [scrapy] INFO: inserting page {'url': u'http://soundcloud.com/axelbartsch', 'artist_id': 1, 'third_party_id': 2}\r\n",
        "2014-11-04 18:21:11+0100 [scrapy] INFO: inserting page {'url': u'http://soundcloud.com/axelbartsch', 'artist_id': 1, 'third_party_id': 2}\r\n"
       ]
      },
      {
       "output_type": "stream",
       "stream": "stdout",
       "text": [
        "2014-11-04 18:21:12+0100 [scrapy] INFO: inserting page {'url': u'http://www.residentadvisor.net/dj/gunnarstiller', 'artist_id': 2, 'third_party_id': 1}\r\n",
        "2014-11-04 18:21:12+0100 [scrapy] INFO: inserting page {'url': u'http://www.residentadvisor.net/dj/gunnarstiller', 'artist_id': 2, 'third_party_id': 1}\r\n"
       ]
      },
      {
       "output_type": "stream",
       "stream": "stdout",
       "text": [
        "2014-11-04 18:21:12+0100 [scrapy] INFO: inserting page {'url': u'http://soundcloud.com/gunnar-stiller', 'artist_id': 2, 'third_party_id': 2}\r\n",
        "2014-11-04 18:21:12+0100 [scrapy] INFO: inserting page {'url': u'http://soundcloud.com/gunnar-stiller', 'artist_id': 2, 'third_party_id': 2}\r\n"
       ]
      },
      {
       "output_type": "stream",
       "stream": "stdout",
       "text": [
        "2014-11-04 18:21:12+0100 [event_spider] DEBUG: Scraped from <200 http://www.residentadvisor.net/dj/gunnarstiller>\r\n",
        "\t{'artists': [{'name': u'Axel Bartsch',\r\n",
        "\t 'ra_artist_id': u'axelbartsch',\r\n",
        "\t 'ra_url': u'http://www.residentadvisor.net/dj/axelbartsch',\r\n",
        "\t 'sc_url': u'http://www.soundcloud.com/axelbartsch',\r\n",
        "\t 'sc_user': u'axelbartsch'},\r\n",
        "\t             {'name': u'Gunnar Stiller',\r\n",
        "\t 'ra_artist_id': u'gunnarstiller',\r\n",
        "\t 'ra_url': u'http://www.residentadvisor.net/dj/gunnarstiller',\r\n",
        "\t 'sc_url': u'http://www.soundcloud.com/gunnar-stiller',\r\n",
        "\t 'sc_user': u'gunnar-stiller'}],\r\n",
        "\t 'club': {'adress': u' K\\xf6penickerstrasse 70; Mitte; 10179 Berlin;',\r\n",
        "\t 'lat': 52.5108799,\r\n",
        "\t 'lon': 13.4201002,\r\n",
        "\t 'name': u'Tresor',\r\n",
        "\t 'ra_club_id': u'5494',\r\n",
        "\t 'ra_locale_id': 34,\r\n",
        "\t 'ra_url': u'http://www.residentadvisor.net/club.aspx?id=5494'},\r\n",
        "\t 'end_datetime': '2014-09-30T09:00:00',\r\n",
        "\t 'item_type': 'event',\r\n",
        "\t 'name': u'House of Waxx',\r\n",
        "\t 'ra_event_id': '629290',\r\n",
        "\t 'ra_url': 'http://www.residentadvisor.net/event.aspx?629290',\r\n",
        "\t 'start_datetime': '2014-09-29T23:00:00'}\r\n"
       ]
      },
      {
       "output_type": "stream",
       "stream": "stdout",
       "text": [
        "2014-11-04 18:21:13+0100 [event_spider] DEBUG: Crawled (200) <GET http://www.residentadvisor.net/dj/djdannyrussell> (referer: http://www.residentadvisor.net/event.aspx?628859)\r\n"
       ]
      },
      {
       "output_type": "stream",
       "stream": "stdout",
       "text": [
        "2014-11-04 18:21:14+0100 [scrapy] INFO: inserting page {'url': u'http://www.residentadvisor.net/dj/djdannyrussell', 'artist_id': 3, 'third_party_id': 1}\r\n",
        "2014-11-04 18:21:14+0100 [scrapy] INFO: inserting page {'url': u'http://www.residentadvisor.net/dj/djdannyrussell', 'artist_id': 3, 'third_party_id': 1}\r\n"
       ]
      },
      {
       "output_type": "stream",
       "stream": "stdout",
       "text": [
        "2014-11-04 18:21:14+0100 [scrapy] INFO: inserting page {'url': u'http://soundcloud.com/dj-danny-russell', 'artist_id': 3, 'third_party_id': 2}\r\n",
        "2014-11-04 18:21:14+0100 [scrapy] INFO: inserting page {'url': u'http://soundcloud.com/dj-danny-russell', 'artist_id': 3, 'third_party_id': 2}\r\n"
       ]
      },
      {
       "output_type": "stream",
       "stream": "stdout",
       "text": [
        "2014-11-04 18:21:15+0100 [event_spider] DEBUG: Scraped from <200 http://www.residentadvisor.net/dj/djdannyrussell>\r\n",
        "\t{'artists': [{'name': u'DJ Danny Russell',\r\n",
        "\t 'ra_artist_id': u'djdannyrussell',\r\n",
        "\t 'ra_url': u'http://www.residentadvisor.net/dj/djdannyrussell',\r\n",
        "\t 'sc_url': u'http://www.soundcloud.com/dj-danny-russell',\r\n",
        "\t 'sc_user': u'dj-danny-russell'}],\r\n",
        "\t 'club': {'adress': u' Oranienstra\\xdfe 32 10999 Berlin',\r\n",
        "\t 'lat': 52.5016358,\r\n",
        "\t 'lon': 13.41866,\r\n",
        "\t 'name': u'Cake Club',\r\n",
        "\t 'ra_club_id': u'42409',\r\n",
        "\t 'ra_locale_id': 34,\r\n",
        "\t 'ra_url': u'http://www.residentadvisor.net/club.aspx?id=42409'},\r\n",
        "\t 'end_datetime': '2014-09-30T04:00:00',\r\n",
        "\t 'item_type': 'event',\r\n",
        "\t 'name': u'Electro Funk Roots',\r\n",
        "\t 'ra_event_id': '628859',\r\n",
        "\t 'ra_url': 'http://www.residentadvisor.net/event.aspx?628859',\r\n",
        "\t 'start_datetime': '2014-09-29T22:00:00'}\r\n",
        "2014-11-04 18:21:15+0100 [event_spider] DEBUG: Crawled (200) <GET http://www.residentadvisor.net/event.aspx?639809> (referer: http://www.residentadvisor.net/events.aspx?ai=34&yr=2014&mn=9&dy=29&v=day)\r\n",
        "2014-11-04 18:21:15+0100 [event_spider] DEBUG: Crawled (200) <GET http://www.residentadvisor.net/event.aspx?629227> (referer: http://www.residentadvisor.net/events.aspx?ai=34&yr=2014&mn=9&dy=29&v=day)\r\n",
        "2014-11-04 18:21:15+0100 [event_spider] DEBUG: Crawled (200) <GET http://www.residentadvisor.net/event.aspx?638342> (referer: http://www.residentadvisor.net/events.aspx?ai=34&yr=2014&mn=9&dy=29&v=day)\r\n",
        "2014-11-04 18:21:15+0100 [event_spider] WARNING: Dropped: Event http://www.residentadvisor.net/event.aspx?639809 doesnt have a venue\r\n",
        "\t{'artists': [],\r\n",
        "\t 'end_datetime': '2014-09-30T05:00:00',\r\n",
        "\t 'item_type': 'event',\r\n",
        "\t 'name': u\"Fuckin' Monday\",\r\n",
        "\t 'ra_event_id': '639809',\r\n",
        "\t 'ra_url': 'http://www.residentadvisor.net/event.aspx?639809',\r\n",
        "\t 'start_datetime': '2014-09-29T22:00:00'}\r\n",
        "2014-11-04 18:21:15+0100 [event_spider] WARNING: Dropped: Event http://www.residentadvisor.net/event.aspx?639809 doesnt have a venue\r\n",
        "\t{'artists': [],\r\n",
        "\t 'end_datetime': '2014-09-30T05:00:00',\r\n",
        "\t 'item_type': 'event',\r\n",
        "\t 'name': u\"Fuckin' Monday\",\r\n",
        "\t 'ra_event_id': '639809',\r\n",
        "\t 'ra_url': 'http://www.residentadvisor.net/event.aspx?639809',\r\n",
        "\t 'start_datetime': '2014-09-29T22:00:00'}\r\n"
       ]
      },
      {
       "output_type": "stream",
       "stream": "stdout",
       "text": [
        "2014-11-04 18:21:15+0100 [event_spider] DEBUG: Crawled (200) <GET http://www.residentadvisor.net/event.aspx?640831> (referer: http://www.residentadvisor.net/events.aspx?ai=34&yr=2014&mn=9&dy=29&v=day)\r\n"
       ]
      },
      {
       "output_type": "stream",
       "stream": "stdout",
       "text": [
        "2014-11-04 18:21:19+0100 [event_spider] DEBUG: Crawled (200) <GET http://www.residentadvisor.net/dj/lucaalbano> (referer: http://www.residentadvisor.net/event.aspx?638342)\r\n"
       ]
      },
      {
       "output_type": "stream",
       "stream": "stdout",
       "text": [
        "2014-11-04 18:21:19+0100 [event_spider] DEBUG: Crawled (200) <GET http://www.residentadvisor.net/event.aspx?632989> (referer: http://www.residentadvisor.net/events.aspx?ai=34&yr=2014&mn=9&dy=29&v=day)\r\n"
       ]
      },
      {
       "output_type": "stream",
       "stream": "stdout",
       "text": [
        "2014-11-04 18:21:19+0100 [event_spider] DEBUG: Crawled (200) <GET http://www.residentadvisor.net/dj/sylvieforet> (referer: http://www.residentadvisor.net/event.aspx?640831)\r\n"
       ]
      },
      {
       "output_type": "stream",
       "stream": "stdout",
       "text": [
        "2014-11-04 18:21:19+0100 [event_spider] DEBUG: Crawled (200) <GET http://www.residentadvisor.net/event.aspx?631942> (referer: http://www.residentadvisor.net/events.aspx?ai=34&yr=2014&mn=9&dy=29&v=day)\r\n"
       ]
      },
      {
       "output_type": "stream",
       "stream": "stdout",
       "text": [
        "2014-11-04 18:21:20+0100 [event_spider] DEBUG: Scraped from <200 http://www.residentadvisor.net/event.aspx?631942>\r\n",
        "\t{'artists': [],\r\n",
        "\t 'club': {'adress': u' Rigaer Strasse 31; Friedrichshain; 10247 Berlin;',\r\n",
        "\t 'lat': 52.51638999999999,\r\n",
        "\t 'lon': 13.46406,\r\n",
        "\t 'name': u'Minimal Bar',\r\n",
        "\t 'ra_club_id': u'23370',\r\n",
        "\t 'ra_locale_id': 34,\r\n",
        "\t 'ra_url': u'http://www.residentadvisor.net/club.aspx?id=23370'},\r\n",
        "\t 'end_datetime': '2014-09-30T05:00:00',\r\n",
        "\t 'item_type': 'event',\r\n",
        "\t 'name': u'Manic.Monday mit Sander Bohlen',\r\n",
        "\t 'ra_event_id': '631942',\r\n",
        "\t 'ra_url': 'http://www.residentadvisor.net/event.aspx?631942',\r\n",
        "\t 'start_datetime': '2014-09-29T19:00:00'}\r\n",
        "2014-11-04 18:21:20+0100 [event_spider] DEBUG: Crawled (200) <GET http://www.residentadvisor.net/dj/tiny> (referer: http://www.residentadvisor.net/event.aspx?629227)\r\n",
        "2014-11-04 18:21:20+0100 [event_spider] WARNING: Dropped: Event http://www.residentadvisor.net/event.aspx?629227 doesnt have a venue\r\n",
        "\t{'artists': [{'name': u'Tiny',\r\n",
        "\t 'ra_artist_id': u'tiny',\r\n",
        "\t 'ra_url': u'http://www.residentadvisor.net/dj/tiny',\r\n",
        "\t 'sc_url': u'http://www.soundcloud.com/tiney',\r\n",
        "\t 'sc_user': u'tiney'}],\r\n",
        "\t 'end_datetime': '2014-09-29T23:59:00',\r\n",
        "\t 'item_type': 'event',\r\n",
        "\t 'name': u'Tiny Ruins',\r\n",
        "\t 'ra_event_id': '629227',\r\n",
        "\t 'ra_url': 'http://www.residentadvisor.net/event.aspx?629227',\r\n",
        "\t 'start_datetime': '2014-09-29T20:00:00'}\r\n",
        "2014-11-04 18:21:20+0100 [event_spider] WARNING: Dropped: Event http://www.residentadvisor.net/event.aspx?629227 doesnt have a venue\r\n",
        "\t{'artists': [{'name': u'Tiny',\r\n",
        "\t 'ra_artist_id': u'tiny',\r\n",
        "\t 'ra_url': u'http://www.residentadvisor.net/dj/tiny',\r\n",
        "\t 'sc_url': u'http://www.soundcloud.com/tiney',\r\n",
        "\t 'sc_user': u'tiney'}],\r\n",
        "\t 'end_datetime': '2014-09-29T23:59:00',\r\n",
        "\t 'item_type': 'event',\r\n",
        "\t 'name': u'Tiny Ruins',\r\n",
        "\t 'ra_event_id': '629227',\r\n",
        "\t 'ra_url': 'http://www.residentadvisor.net/event.aspx?629227',\r\n",
        "\t 'start_datetime': '2014-09-29T20:00:00'}\r\n"
       ]
      },
      {
       "output_type": "stream",
       "stream": "stdout",
       "text": [
        "2014-11-04 18:21:21+0100 [event_spider] DEBUG: Crawled (200) <GET http://www.residentadvisor.net/dj/konradblack> (referer: http://www.residentadvisor.net/event.aspx?640831)\r\n"
       ]
      },
      {
       "output_type": "stream",
       "stream": "stdout",
       "text": [
        "2014-11-04 18:21:22+0100 [event_spider] DEBUG: Crawled (200) <GET http://www.residentadvisor.net/dj/jankrueger> (referer: http://www.residentadvisor.net/event.aspx?640831)\r\n"
       ]
      },
      {
       "output_type": "stream",
       "stream": "stdout",
       "text": [
        "2014-11-04 18:21:22+0100 [event_spider] DEBUG: Crawled (200) <GET http://www.residentadvisor.net/dj/walkerbarnard> (referer: http://www.residentadvisor.net/event.aspx?640831)\r\n"
       ]
      },
      {
       "output_type": "stream",
       "stream": "stdout",
       "text": [
        "2014-11-04 18:21:24+0100 [scrapy] INFO: inserting page {'url': u'http://www.residentadvisor.net/dj/sylvieforet', 'artist_id': 4, 'third_party_id': 1}\r\n",
        "2014-11-04 18:21:24+0100 [scrapy] INFO: inserting page {'url': u'http://www.residentadvisor.net/dj/sylvieforet', 'artist_id': 4, 'third_party_id': 1}\r\n"
       ]
      },
      {
       "output_type": "stream",
       "stream": "stdout",
       "text": [
        "2014-11-04 18:21:24+0100 [scrapy] INFO: inserting page {'url': u'http://soundcloud.com/sylvie-foret', 'artist_id': 4, 'third_party_id': 2}\r\n",
        "2014-11-04 18:21:24+0100 [scrapy] INFO: inserting page {'url': u'http://soundcloud.com/sylvie-foret', 'artist_id': 4, 'third_party_id': 2}\r\n"
       ]
      },
      {
       "output_type": "stream",
       "stream": "stdout",
       "text": [
        "2014-11-04 18:21:24+0100 [scrapy] INFO: inserting page {'url': u'http://www.residentadvisor.net/dj/konradblack', 'artist_id': 5, 'third_party_id': 1}\r\n",
        "2014-11-04 18:21:24+0100 [scrapy] INFO: inserting page {'url': u'http://www.residentadvisor.net/dj/konradblack', 'artist_id': 5, 'third_party_id': 1}\r\n"
       ]
      },
      {
       "output_type": "stream",
       "stream": "stdout",
       "text": [
        "2014-11-04 18:21:25+0100 [scrapy] INFO: inserting page {'url': u'http://www.residentadvisor.net/dj/jankrueger', 'artist_id': 6, 'third_party_id': 1}\r\n",
        "2014-11-04 18:21:25+0100 [scrapy] INFO: inserting page {'url': u'http://www.residentadvisor.net/dj/jankrueger', 'artist_id': 6, 'third_party_id': 1}\r\n"
       ]
      },
      {
       "output_type": "stream",
       "stream": "stdout",
       "text": [
        "2014-11-04 18:21:25+0100 [scrapy] INFO: inserting page {'url': u'http://www.residentadvisor.net/dj/walkerbarnard', 'artist_id': 7, 'third_party_id': 1}\r\n",
        "2014-11-04 18:21:25+0100 [scrapy] INFO: inserting page {'url': u'http://www.residentadvisor.net/dj/walkerbarnard', 'artist_id': 7, 'third_party_id': 1}\r\n"
       ]
      },
      {
       "output_type": "stream",
       "stream": "stdout",
       "text": [
        "2014-11-04 18:21:25+0100 [scrapy] INFO: inserting page {'url': u'http://soundcloud.com/walker_', 'artist_id': 7, 'third_party_id': 2}\r\n",
        "2014-11-04 18:21:25+0100 [scrapy] INFO: inserting page {'url': u'http://soundcloud.com/walker_', 'artist_id': 7, 'third_party_id': 2}\r\n"
       ]
      },
      {
       "output_type": "stream",
       "stream": "stdout",
       "text": [
        "2014-11-04 18:21:26+0100 [event_spider] DEBUG: Scraped from <200 http://www.residentadvisor.net/dj/walkerbarnard>\r\n",
        "\t{'artists': [{'name': u'Sylvie Foret',\r\n",
        "\t 'ra_artist_id': u'sylvieforet',\r\n",
        "\t 'ra_url': u'http://www.residentadvisor.net/dj/sylvieforet',\r\n",
        "\t 'sc_url': u'http://www.soundcloud.com/sylvie-foret',\r\n",
        "\t 'sc_user': u'sylvie-foret'},\r\n",
        "\t             {'name': u'Konrad Black',\r\n",
        "\t 'ra_artist_id': u'konradblack',\r\n",
        "\t 'ra_url': u'http://www.residentadvisor.net/dj/konradblack'},\r\n",
        "\t             {'name': u'Jan Krueger',\r\n",
        "\t 'ra_artist_id': u'jankrueger',\r\n",
        "\t 'ra_url': u'http://www.residentadvisor.net/dj/jankrueger'},\r\n",
        "\t             {'name': u'Walker Barnard',\r\n",
        "\t 'ra_artist_id': u'walkerbarnard',\r\n",
        "\t 'ra_url': u'http://www.residentadvisor.net/dj/walkerbarnard',\r\n",
        "\t 'sc_url': u'http://www.soundcloud.com/walker_',\r\n",
        "\t 'sc_user': u'walker_'}],\r\n",
        "\t 'club': {'adress': u' Am Flutgraben 1; Treptow; 12435 Berlin;',\r\n",
        "\t 'lat': 52.49695,\r\n",
        "\t 'lon': 13.451246,\r\n",
        "\t 'name': u'Club der Visionaere',\r\n",
        "\t 'ra_club_id': u'6949',\r\n",
        "\t 'ra_locale_id': 34,\r\n",
        "\t 'ra_url': u'http://www.residentadvisor.net/club.aspx?id=6949'},\r\n",
        "\t 'end_datetime': '2014-09-30T09:00:00',\r\n",
        "\t 'item_type': 'event',\r\n",
        "\t 'name': u'Mondays::..',\r\n",
        "\t 'ra_event_id': '640831',\r\n",
        "\t 'ra_url': 'http://www.residentadvisor.net/event.aspx?640831',\r\n",
        "\t 'start_datetime': '2014-09-29T15:00:00'}\r\n"
       ]
      },
      {
       "output_type": "stream",
       "stream": "stdout",
       "text": [
        "2014-11-04 18:21:27+0100 [event_spider] DEBUG: Crawled (200) <GET http://www.residentadvisor.net/dj/ollidertwist> (referer: http://www.residentadvisor.net/event.aspx?632989)\r\n"
       ]
      },
      {
       "output_type": "stream",
       "stream": "stdout",
       "text": [
        "2014-11-04 18:21:28+0100 [scrapy] INFO: inserting page {'url': u'http://www.residentadvisor.net/dj/ollidertwist', 'artist_id': 8, 'third_party_id': 1}\r\n",
        "2014-11-04 18:21:28+0100 [scrapy] INFO: inserting page {'url': u'http://www.residentadvisor.net/dj/ollidertwist', 'artist_id': 8, 'third_party_id': 1}\r\n"
       ]
      },
      {
       "output_type": "stream",
       "stream": "stdout",
       "text": [
        "2014-11-04 18:21:28+0100 [scrapy] INFO: inserting page {'url': u'http://soundcloud.com/https://ollider-twist', 'artist_id': 8, 'third_party_id': 2}\r\n",
        "2014-11-04 18:21:28+0100 [scrapy] INFO: inserting page {'url': u'http://soundcloud.com/https://ollider-twist', 'artist_id': 8, 'third_party_id': 2}\r\n"
       ]
      },
      {
       "output_type": "stream",
       "stream": "stdout",
       "text": [
        "2014-11-04 18:21:28+0100 [event_spider] DEBUG: Scraped from <200 http://www.residentadvisor.net/dj/ollidertwist>\r\n",
        "\t{'artists': [{'name': u'Ollider Twist',\r\n",
        "\t 'ra_artist_id': u'ollidertwist',\r\n",
        "\t 'ra_url': u'http://www.residentadvisor.net/dj/ollidertwist',\r\n",
        "\t 'sc_url': u'http://www.soundcloud.com/https://ollider-twist',\r\n",
        "\t 'sc_user': u'ollider-twist'}],\r\n",
        "\t 'club': {'adress': u' Schillerpromenade 11, 12049 Berlin',\r\n",
        "\t 'lat': 52.475866,\r\n",
        "\t 'lon': 13.4220073,\r\n",
        "\t 'name': u'Promenaden Eck',\r\n",
        "\t 'ra_club_id': u'88900',\r\n",
        "\t 'ra_locale_id': 34,\r\n",
        "\t 'ra_url': u'http://www.residentadvisor.net/club.aspx?id=88900'},\r\n",
        "\t 'end_datetime': '2014-09-30T05:00:00',\r\n",
        "\t 'item_type': 'event',\r\n",
        "\t 'name': u\"Let's Stay Awake mit Ollider Twist\",\r\n",
        "\t 'ra_event_id': '632989',\r\n",
        "\t 'ra_url': 'http://www.residentadvisor.net/event.aspx?632989',\r\n",
        "\t 'start_datetime': '2014-09-29T19:00:00'}\r\n",
        "2014-11-04 18:21:28+0100 [event_spider] DEBUG: Crawled (200) <GET http://www.residentadvisor.net/dj/sloan> (referer: http://www.residentadvisor.net/event.aspx?638342)\r\n"
       ]
      },
      {
       "output_type": "stream",
       "stream": "stdout",
       "text": [
        "2014-11-04 18:21:29+0100 [scrapy] INFO: inserting page {'url': u'http://www.residentadvisor.net/dj/lucaalbano', 'artist_id': 9, 'third_party_id': 1}\r\n",
        "2014-11-04 18:21:29+0100 [scrapy] INFO: inserting page {'url': u'http://www.residentadvisor.net/dj/lucaalbano', 'artist_id': 9, 'third_party_id': 1}\r\n"
       ]
      },
      {
       "output_type": "stream",
       "stream": "stdout",
       "text": [
        "2014-11-04 18:21:30+0100 [scrapy] INFO: inserting page {'url': u'http://soundcloud.com/luca-albano', 'artist_id': 9, 'third_party_id': 2}\r\n",
        "2014-11-04 18:21:30+0100 [scrapy] INFO: inserting page {'url': u'http://soundcloud.com/luca-albano', 'artist_id': 9, 'third_party_id': 2}\r\n"
       ]
      },
      {
       "output_type": "stream",
       "stream": "stdout",
       "text": [
        "2014-11-04 18:21:30+0100 [scrapy] INFO: inserting page {'url': u'http://www.residentadvisor.net/dj/sloan', 'artist_id': 10, 'third_party_id': 1}\r\n",
        "2014-11-04 18:21:30+0100 [scrapy] INFO: inserting page {'url': u'http://www.residentadvisor.net/dj/sloan', 'artist_id': 10, 'third_party_id': 1}\r\n"
       ]
      },
      {
       "output_type": "stream",
       "stream": "stdout",
       "text": [
        "2014-11-04 18:21:30+0100 [scrapy] INFO: inserting page {'url': u'http://soundcloud.com/sloan22', 'artist_id': 10, 'third_party_id': 2}\r\n",
        "2014-11-04 18:21:30+0100 [scrapy] INFO: inserting page {'url': u'http://soundcloud.com/sloan22', 'artist_id': 10, 'third_party_id': 2}\r\n"
       ]
      },
      {
       "output_type": "stream",
       "stream": "stdout",
       "text": [
        "2014-11-04 18:21:31+0100 [event_spider] DEBUG: Scraped from <200 http://www.residentadvisor.net/dj/sloan>\r\n",
        "\t{'artists': [{'name': u'Luca Albano',\r\n",
        "\t 'ra_artist_id': u'lucaalbano',\r\n",
        "\t 'ra_url': u'http://www.residentadvisor.net/dj/lucaalbano',\r\n",
        "\t 'sc_url': u'http://www.soundcloud.com/luca-albano',\r\n",
        "\t 'sc_user': u'luca-albano'},\r\n",
        "\t             {'name': u'Sloan',\r\n",
        "\t 'ra_artist_id': u'sloan',\r\n",
        "\t 'ra_url': u'http://www.residentadvisor.net/dj/sloan',\r\n",
        "\t 'sc_url': u'http://www.soundcloud.com/sloan22',\r\n",
        "\t 'sc_user': u'sloan22'}],\r\n",
        "\t 'club': {'adress': u' Revaler Strasse 99; 10245 Berlin-Friedrichshain; Berlin;',\r\n",
        "\t 'lat': 52.50763269999999,\r\n",
        "\t 'lon': 13.4543612,\r\n",
        "\t 'name': u'Crack Bellmer',\r\n",
        "\t 'ra_club_id': u'57853',\r\n",
        "\t 'ra_locale_id': 34,\r\n",
        "\t 'ra_url': u'http://www.residentadvisor.net/club.aspx?id=57853'},\r\n",
        "\t 'end_datetime': '2014-09-30T06:00:00',\r\n",
        "\t 'item_type': 'event',\r\n",
        "\t 'name': u'Montag auf Cr\\xe4ck',\r\n",
        "\t 'ra_event_id': '638342',\r\n",
        "\t 'ra_url': 'http://www.residentadvisor.net/event.aspx?638342',\r\n",
        "\t 'start_datetime': '2014-09-29T21:00:00'}\r\n",
        "2014-11-04 18:21:31+0100 [event_spider] INFO: Closing spider (finished)\r\n",
        "2014-11-04 18:21:31+0100 [event_spider] INFO: Closing spider (finished)\r\n",
        "2014-11-04 18:21:31+0100 [event_spider] INFO: Dumping Scrapy stats:\r\n",
        "\t{'downloader/request_bytes': 7449,\r\n",
        "\t 'downloader/request_count': 21,\r\n",
        "\t 'downloader/request_method_count/GET': 21,\r\n",
        "\t 'downloader/response_bytes': 465165,\r\n",
        "\t 'downloader/response_count': 21,\r\n",
        "\t 'downloader/response_status_count/200': 21,\r\n",
        "\t 'finish_reason': 'finished',\r\n",
        "\t 'finish_time': datetime.datetime(2014, 11, 4, 17, 21, 31, 165702),\r\n",
        "\t 'item_dropped_count': 2,\r\n",
        "\t 'item_dropped_reasons_count/DropItem': 2,\r\n",
        "\t 'item_scraped_count': 7,\r\n",
        "\t 'log_count/DEBUG': 30,\r\n",
        "\t 'log_count/INFO': 25,\r\n",
        "\t 'log_count/WARNING': 2,\r\n",
        "\t 'request_depth_max': 2,\r\n",
        "\t 'response_received_count': 21,\r\n",
        "\t 'scheduler/dequeued': 21,\r\n",
        "\t 'scheduler/dequeued/memory': 21,\r\n",
        "\t 'scheduler/enqueued': 21,\r\n",
        "\t 'scheduler/enqueued/memory': 21,\r\n",
        "\t 'start_time': datetime.datetime(2014, 11, 4, 17, 21, 7, 683862)}\r\n",
        "2014-11-04 18:21:31+0100 [event_spider] INFO: Dumping Scrapy stats:\r\n",
        "\t{'downloader/request_bytes': 7449,\r\n",
        "\t 'downloader/request_count': 21,\r\n",
        "\t 'downloader/request_method_count/GET': 21,\r\n",
        "\t 'downloader/response_bytes': 465165,\r\n",
        "\t 'downloader/response_count': 21,\r\n",
        "\t 'downloader/response_status_count/200': 21,\r\n",
        "\t 'finish_reason': 'finished',\r\n",
        "\t 'finish_time': datetime.datetime(2014, 11, 4, 17, 21, 31, 165702),\r\n",
        "\t 'item_dropped_count': 2,\r\n",
        "\t 'item_dropped_reasons_count/DropItem': 2,\r\n",
        "\t 'item_scraped_count': 7,\r\n",
        "\t 'log_count/DEBUG': 30,\r\n",
        "\t 'log_count/INFO': 25,\r\n",
        "\t 'log_count/WARNING': 2,\r\n",
        "\t 'request_depth_max': 2,\r\n",
        "\t 'response_received_count': 21,\r\n",
        "\t 'scheduler/dequeued': 21,\r\n",
        "\t 'scheduler/dequeued/memory': 21,\r\n",
        "\t 'scheduler/enqueued': 21,\r\n",
        "\t 'scheduler/enqueued/memory': 21,\r\n",
        "\t 'start_time': datetime.datetime(2014, 11, 4, 17, 21, 7, 683862)}\r\n",
        "2014-11-04 18:21:31+0100 [event_spider] INFO: Spider closed (finished)\r\n",
        "2014-11-04 18:21:31+0100 [event_spider] INFO: Spider closed (finished)\r\n"
       ]
      }
     ],
     "prompt_number": 5
    },
    {
     "cell_type": "code",
     "collapsed": false,
     "input": [],
     "language": "python",
     "metadata": {},
     "outputs": []
    }
   ],
   "metadata": {}
  }
 ]
}