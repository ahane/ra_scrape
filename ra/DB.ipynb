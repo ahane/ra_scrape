{
 "metadata": {
  "name": "",
  "signature": "sha256:af2f36c242bbfe8ac253a4ace6edf6aea84fe2c8ea3e251fe57ed2544c1b5d31"
 },
 "nbformat": 3,
 "nbformat_minor": 0,
 "worksheets": [
  {
   "cells": [
    {
     "cell_type": "code",
     "collapsed": false,
     "input": [
      "%%writefile ra/settings.py\n",
      "# Scrapy settings for ra project\n",
      "#\n",
      "# For simplicity, this file contains only the most important settings by\n",
      "# default. All the other settings are documented here:\n",
      "#\n",
      "#     http://doc.scrapy.org/en/latest/topics/settings.html\n",
      "#\n",
      "\n",
      "BOT_NAME = 'ra'\n",
      "\n",
      "SPIDER_MODULES = ['ra.spiders']\n",
      "NEWSPIDER_MODULE = 'ra.spiders'\n",
      "\n",
      "DATABASE = {'drivername': 'postgres',\n",
      "            'host': 'localhost',\n",
      "            'port': '5432',\n",
      "            'username': 'postgres',\n",
      "            'password': '212121',\n",
      "            'database': 'cm'\n",
      "            }\n",
      "\n",
      "# Crawl responsibly by identifying yourself (and your website) on the user-agent\n",
      "#USER_AGENT = 'ra (+http://www.yourdomain.com)'"
     ],
     "language": "python",
     "metadata": {},
     "outputs": [
      {
       "output_type": "stream",
       "stream": "stdout",
       "text": [
        "Overwriting ra/settings.py\n"
       ]
      }
     ],
     "prompt_number": 1
    },
    {
     "cell_type": "code",
     "collapsed": false,
     "input": [
      "!cat ra/settings.py"
     ],
     "language": "python",
     "metadata": {},
     "outputs": [
      {
       "output_type": "stream",
       "stream": "stdout",
       "text": [
        "# Scrapy settings for ra project\r\n",
        "#\r\n",
        "# For simplicity, this file contains only the most important settings by\r\n",
        "# default. All the other settings are documented here:\r\n",
        "#\r\n",
        "#     http://doc.scrapy.org/en/latest/topics/settings.html\r\n",
        "#\r\n",
        "\r\n",
        "BOT_NAME = 'ra'\r\n",
        "\r\n",
        "SPIDER_MODULES = ['ra.spiders']\r\n",
        "NEWSPIDER_MODULE = 'ra.spiders'\r\n",
        "\r\n",
        "DATABASE = {'drivername': 'postgres',\r\n",
        "            'host': 'localhost',\r\n",
        "            'port': '5432',\r\n",
        "            'username': 'postgres',\r\n",
        "            'password': '212121',\r\n",
        "            'database': 'cm'\r\n",
        "            }\r\n",
        "\r\n",
        "# Crawl responsibly by identifying yourself (and your website) on the user-agent\r\n",
        "#USER_AGENT = 'ra (+http://www.yourdomain.com)'"
       ]
      }
     ],
     "prompt_number": 2
    },
    {
     "cell_type": "code",
     "collapsed": false,
     "input": [
      "#%%writefile ra/dbmodel.py\n",
      "from sqlalchemy.engine.url import URL\n",
      "from sqlalchemy import Column, ForeignKey, Integer, Unicode, Date, Table, DateTime\n",
      "from sqlalchemy import create_engine\n",
      "from sqlalchemy.ext.declarative import declarative_base\n",
      "from sqlalchemy.orm import relationship, backref\n",
      "from sqlalchemy.orm import sessionmaker\n",
      "\n",
      "#import settings\n",
      "import ra.settings as settings\n",
      "\n",
      "Base = declarative_base()\n",
      "\n",
      "def db_connect():\n",
      "    #return create_engine(URL(**settings.DATABASE))\n",
      "    engine = create_engine('sqlite:///foo5.db')\n",
      "    return engine\n",
      "\n",
      "def create_tables(engine):\n",
      "    Base.metadata.create_all(engine)\n",
      "\n",
      "class Venue(Base):\n",
      "    __tablename__ = 'venue'\n",
      "    id = Column(Integer, primary_key=True)\n",
      "    name = Column(Unicode, nullable=False)\n",
      "    \n",
      "    #one-to-many\n",
      "    pages = relationship('VenuePage', backref='venue')\n",
      "    \n",
      "    \n",
      "class VenuePage(Base):\n",
      "    __tablename__ = 'venue_page'\n",
      "    id = Column(Integer, primary_key=True)\n",
      "    name = Column(Unicode, nullable=False)\n",
      "    url = Column(Unicode, nullable=False)\n",
      "    page_id = Column(Unicode, nullable=True)\n",
      "    venue_id = Column(Integer, ForeignKey('venue.id'))\n",
      "        \n",
      "    \n",
      "class Event(Base):\n",
      "    __tablename__ = 'event'\n",
      "    id = Column(Integer, primary_key=True)\n",
      "    name = Column(Unicode, nullable=False)\n",
      "    date = Column(Date, nullable=False)\n",
      "    \n",
      "    #one-to-many\n",
      "    performances = relationship('Performance', backref='event')\n",
      "    pages = relationship('EventPage', backref='event')\n",
      "    \n",
      "    #many-to-one\n",
      "    \n",
      "    venue = relationship(\"Venue\")\n",
      "    venue_id = Column(Integer, ForeignKey('venue.id'), nullable=True)\n",
      "\n",
      "class EventPage(Base):\n",
      "    __tablename__ = 'event_page'\n",
      "    id = Column(Integer, primary_key=True)\n",
      "    name = Column(Unicode, nullable=False)\n",
      "    url = Column(Unicode, nullable=False)\n",
      "    page_id = Column(Unicode, nullable=True)\n",
      "    event_id = Column(Integer, ForeignKey('event.id'))\n",
      "    \n",
      "class Performance(Base):\n",
      "    __tablename__ = 'performance'\n",
      "    id = Column(Integer, primary_key=True)\n",
      "    event_id = Column(Integer, ForeignKey('event.id'))\n",
      "    artist_id = Column(Integer, ForeignKey('artist.id'))\n",
      "    time = Column(DateTime)\n",
      "\n",
      "class Artist(Base):\n",
      "    __tablename__ = 'artist'\n",
      "    id = Column(Integer, primary_key=True)\n",
      "    name = Column(Unicode, nullable=False)\n",
      "    performances = relationship('Performance', backref='artist')\n",
      "    pages = relationship('ArtistPage', backref='artist')\n",
      "    \n",
      "class ArtistPage(Base):\n",
      "    __tablename__ = 'artist_page'\n",
      "    id = Column(Integer, primary_key=True)\n",
      "    name = Column(Unicode, nullable=False)\n",
      "    url = Column(Unicode, nullable=False)\n",
      "    page_id = Column(Unicode, nullable=True)\n",
      "    artist_id = Column(Integer, ForeignKey('artist.id'))\n",
      "\n"
     ],
     "language": "python",
     "metadata": {},
     "outputs": [],
     "prompt_number": 3
    },
    {
     "cell_type": "code",
     "collapsed": false,
     "input": [
      "engine = db_connect()\n",
      "create_tables(engine)\n",
      "Session = sessionmaker(bind=engine)"
     ],
     "language": "python",
     "metadata": {},
     "outputs": [],
     "prompt_number": 4
    },
    {
     "cell_type": "code",
     "collapsed": false,
     "input": [
      "s = Session()"
     ],
     "language": "python",
     "metadata": {},
     "outputs": [],
     "prompt_number": 5
    },
    {
     "cell_type": "code",
     "collapsed": false,
     "input": [
      "s.query(ArtistPage).count()"
     ],
     "language": "python",
     "metadata": {},
     "outputs": [
      {
       "metadata": {},
       "output_type": "pyout",
       "prompt_number": 21,
       "text": [
        "14"
       ]
      }
     ],
     "prompt_number": 21
    },
    {
     "cell_type": "code",
     "collapsed": false,
     "input": [
      "s.query(Artist).first().name"
     ],
     "language": "python",
     "metadata": {},
     "outputs": [
      {
       "metadata": {},
       "output_type": "pyout",
       "prompt_number": 20,
       "text": [
        "u'Mieko'"
       ]
      }
     ],
     "prompt_number": 20
    },
    {
     "cell_type": "code",
     "collapsed": false,
     "input": [
      "q2 = s.query(VenuePage).filter(VenuePage.url == 'http://www.residentadvisor.net/club.aspx?id=5031')"
     ],
     "language": "python",
     "metadata": {},
     "outputs": [],
     "prompt_number": 23
    },
    {
     "cell_type": "code",
     "collapsed": false,
     "input": [
      "p = q2.first().venue"
     ],
     "language": "python",
     "metadata": {},
     "outputs": [],
     "prompt_number": 30
    },
    {
     "cell_type": "code",
     "collapsed": false,
     "input": [
      "s.add(p)\n",
      "s.commit()"
     ],
     "language": "python",
     "metadata": {},
     "outputs": [],
     "prompt_number": 32
    },
    {
     "cell_type": "code",
     "collapsed": false,
     "input": [
      "q.first().pages[0].url"
     ],
     "language": "python",
     "metadata": {},
     "outputs": [
      {
       "metadata": {},
       "output_type": "pyout",
       "prompt_number": 21,
       "text": [
        "u'http://www.residentadvisor.net/club.aspx?id=5031'"
       ]
      }
     ],
     "prompt_number": 21
    },
    {
     "cell_type": "code",
     "collapsed": false,
     "input": [
      "q.filter(Event.name == 'Klubnacht at Berghain/Panorama Bar').count()"
     ],
     "language": "python",
     "metadata": {},
     "outputs": [
      {
       "metadata": {},
       "output_type": "pyout",
       "prompt_number": 70,
       "text": [
        "7L"
       ]
      }
     ],
     "prompt_number": 70
    },
    {
     "cell_type": "code",
     "collapsed": false,
     "input": [
      "vp = VenuePage(name='aa', url='bb')"
     ],
     "language": "python",
     "metadata": {},
     "outputs": [],
     "prompt_number": 84
    },
    {
     "cell_type": "code",
     "collapsed": false,
     "input": [
      "v = Venue(name='bb', pages=[vp])"
     ],
     "language": "python",
     "metadata": {},
     "outputs": [],
     "prompt_number": 85
    },
    {
     "cell_type": "code",
     "collapsed": false,
     "input": [
      "v"
     ],
     "language": "python",
     "metadata": {},
     "outputs": [
      {
       "metadata": {},
       "output_type": "pyout",
       "prompt_number": 86,
       "text": [
        "<__main__.Venue at 0x7fc62609d910>"
       ]
      }
     ],
     "prompt_number": 86
    },
    {
     "cell_type": "code",
     "collapsed": false,
     "input": [],
     "language": "python",
     "metadata": {},
     "outputs": []
    }
   ],
   "metadata": {}
  }
 ]
}