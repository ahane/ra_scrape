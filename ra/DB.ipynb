{
 "metadata": {
  "name": "",
  "signature": "sha256:5be1412012ee2a863967317fd475b7f41dc7b21198d6397c0e7b1bfeb08510fd"
 },
 "nbformat": 3,
 "nbformat_minor": 0,
 "worksheets": [
  {
   "cells": [
    {
     "cell_type": "code",
     "collapsed": false,
     "input": [
      "%%writefile db/settings.py\n",
      "# Scrapy settings for ra project\n",
      "#\n",
      "# For simplicity, this file contains only the most important settings by\n",
      "# default. All the other settings are documented here:\n",
      "#\n",
      "#     http://doc.scrapy.org/en/latest/topics/settings.html\n",
      "#\n",
      "\n",
      "BOT_NAME = 'ra'\n",
      "\n",
      "SPIDER_MODULES = ['ra.spiders']\n",
      "NEWSPIDER_MODULE = 'ra.spiders'\n",
      "\n",
      "DATABASE = {'drivername': 'postgres',\n",
      "            'host': 'localhost',\n",
      "            'port': '5432',\n",
      "            'username': 'postgres',\n",
      "            'password': '212121',\n",
      "            'database': 'cm'\n",
      "            }\n",
      "\n",
      "# Crawl responsibly by identifying yourself (and your website) on the user-agent\n",
      "#USER_AGENT = 'ra (+http://www.yourdomain.com)'"
     ],
     "language": "python",
     "metadata": {},
     "outputs": [
      {
       "output_type": "stream",
       "stream": "stdout",
       "text": [
        "Writing db/settings.py\n"
       ]
      }
     ],
     "prompt_number": 1
    },
    {
     "cell_type": "code",
     "collapsed": false,
     "input": [
      "from sqlalchemy import Float"
     ],
     "language": "python",
     "metadata": {},
     "outputs": [],
     "prompt_number": 24
    },
    {
     "cell_type": "code",
     "collapsed": false,
     "input": [
      "import sqlalchemy"
     ],
     "language": "python",
     "metadata": {},
     "outputs": [],
     "prompt_number": 25
    },
    {
     "cell_type": "code",
     "collapsed": false,
     "input": [
      "sqlalchemy."
     ],
     "language": "python",
     "metadata": {},
     "outputs": []
    },
    {
     "cell_type": "code",
     "collapsed": false,
     "input": [
      "%%writefile db/dbmodel.py\n",
      "from sqlalchemy.engine.url import URL\n",
      "from sqlalchemy import Column, ForeignKey, Integer, Unicode, Date, Table, DateTime, Time, Float\n",
      "from sqlalchemy import create_engine\n",
      "from sqlalchemy.ext.declarative import declarative_base\n",
      "from sqlalchemy.orm import relationship, backref\n",
      "from sqlalchemy.orm import sessionmaker\n",
      "\n",
      "import db.settings\n",
      "\n",
      "\n",
      "Base = declarative_base()\n",
      "\n",
      "def db_connect():\n",
      "    #return create_engine(URL(**settings.DATABASE))\n",
      "    engine = create_engine('sqlite:///fo20.db')\n",
      "    return engine\n",
      "\n",
      "def create_tables(engine):\n",
      "    Base.metadata.create_all(engine)\n",
      "\n",
      "class Venue(Base):\n",
      "    __tablename__ = 'venue'\n",
      "    id = Column(Integer, primary_key=True)\n",
      "    name = Column(Unicode, nullable=False)\n",
      "    text = Column(Unicode, nullable=True)\n",
      "    update_time = Column(DateTime, nullable=True)\n",
      "    img_url = Column(Unicode, nullable=True)\n",
      "    location = relationship('Location', uselist=False, backref='venue')\n",
      "    #location_id = Column(Integer, ForeignKey('location.id'))\n",
      "    #one-to-many\n",
      "    pages = relationship('VenuePage', backref='venue')\n",
      "    \n",
      "    \n",
      "class VenuePage(Base):\n",
      "    __tablename__ = 'venue_page'\n",
      "    id = Column(Integer, primary_key=True)\n",
      "    \n",
      "    url = Column(Unicode, nullable=False) #the url at the third part\n",
      "    \n",
      "    #field venue was set in backref of class Venue\n",
      "    venue_id = Column(Integer, ForeignKey('venue.id'))\n",
      "    \n",
      "    page_id = Column(Unicode, nullable=True) #the id on the third party\n",
      "    third_party = relationship('ThirdParty', backref='venue_pages')\n",
      "    third_party_id = Column(Integer, ForeignKey('third_party.id'))\n",
      "    #name = Column(Unicode, nullable=False) replaced by third_party.name\n",
      "    \n",
      "class Location(Base):\n",
      "    __tablename__ = 'location'\n",
      "    id = Column(Integer, primary_key=True)\n",
      "    string = Column(Unicode, nullable=True)\n",
      "    lat = Column(Float, nullable=False)\n",
      "    lon = Column(Float, nullable=False)\n",
      "    \n",
      "    venue_id = Column(Integer, ForeignKey('venue.id'))\n",
      "    \n",
      "class Event(Base):\n",
      "    __tablename__ = 'event'\n",
      "    id = Column(Integer, primary_key=True)\n",
      "    name = Column(Unicode, nullable=False)\n",
      "    start_date = Column(Date, nullable=False)\n",
      "    start_time = Column(Time, nullable=True)\n",
      "    end_date = Column(Date, nullable=True)\n",
      "    end_time = Column(Time, nullable=True)\n",
      "    text = Column(Unicode, nullable=True)\n",
      "    img_url = Column(Unicode, nullable=True)\n",
      "    update_time = Column(DateTime, nullable=True)\n",
      "    \n",
      "    #one-to-many\n",
      "    performances = relationship('Performance', backref='event')\n",
      "    pages = relationship('EventPage', backref='event')\n",
      "    \n",
      "    #many-to-one\n",
      "    venue = relationship(\"Venue\")\n",
      "    venue_id = Column(Integer, ForeignKey('venue.id'), nullable=False)\n",
      "\n",
      "class EventPage(Base):\n",
      "    __tablename__ = 'event_page'\n",
      "    id = Column(Integer, primary_key=True)\n",
      "    #name = Column(Unicode, nullable=False) #replaced by third_party.name\n",
      "    url = Column(Unicode, nullable=False)\n",
      "    #field event set in class Event backref\n",
      "    event_id = Column(Integer, ForeignKey('event.id'))\n",
      "    \n",
      "    page_id = Column(Unicode, nullable=True) #id at third party\n",
      "    third_party = relationship('ThirdParty', backref='event_pages')\n",
      "    third_party_id = Column(Integer, ForeignKey('third_party.id'))\n",
      "    \n",
      "class Performance(Base):\n",
      "    __tablename__ = 'performance'\n",
      "    id = Column(Integer, primary_key=True)\n",
      "    event_id = Column(Integer, ForeignKey('event.id'))\n",
      "    artist_id = Column(Integer, ForeignKey('artist.id'))\n",
      "        \n",
      "    kind = relationship('PerformanceKind', backref='performances')\n",
      "    kind_id = Column(Integer, ForeignKey('performance_kind.id'))\n",
      "    \n",
      "    time = Column(DateTime, nullable=True)\n",
      "    name = Column(Unicode, nullable=True)\n",
      "    \n",
      "class Artist(Base):\n",
      "    __tablename__ = 'artist'\n",
      "    id = Column(Integer, primary_key=True)\n",
      "    name = Column(Unicode, nullable=False)\n",
      "    text = Column(Unicode, nullable=True)\n",
      "    update_time = Column(DateTime, nullable=True)\n",
      "    performances = relationship('Performance', backref='artist')\n",
      "    pages = relationship('ArtistPage', backref='artist')\n",
      "    \n",
      "class ArtistPage(Base):\n",
      "    __tablename__ = 'artist_page'\n",
      "    id = Column(Integer, primary_key=True)\n",
      "    #name = Column(Unicode, nullable=False)\n",
      "    url = Column(Unicode, nullable=False)\n",
      "    img_url = Column(Unicode, nullable=True)\n",
      "    #field artist set in class Artist backref\n",
      "    artist_id = Column(Integer, ForeignKey('artist.id'))\n",
      "    \n",
      "    page_id = Column(Unicode, nullable=True) \n",
      "    third_party = relationship('ThirdParty', backref='artist_pages')\n",
      "    third_party_id = Column(Integer, ForeignKey('third_party.id'))\n",
      "\n",
      "class ArtistSample(Base):\n",
      "    \"\"\"\n",
      "        Columns:\n",
      "            id: primary key\n",
      "            name: title of the sample\n",
      "            text: some descriptive text\n",
      "            artist:\n",
      "            third_party: website hosting the sample\n",
      "            sample_id: id used on third party website\n",
      "    \"\"\"\n",
      "    \n",
      "    __tablename__ = 'artist_sample'\n",
      "    id = Column(Integer, primary_key=True)\n",
      "    \n",
      "    name = Column(Unicode, nullable=True)\n",
      "    text = Column(Unicode, nullable=True)\n",
      "    \n",
      "    artist = relationship('Artist', backref='samples')\n",
      "    artist_id = Column(Integer, ForeignKey('artist.id'))\n",
      "    \n",
      "    sample_id = Column(Unicode, nullable=False)\n",
      "    third_party = relationship('ThirdParty')\n",
      "    third_party_id = Column(Integer, ForeignKey('third_party.id'))\n",
      "    \n",
      "#To fully normalize we should do this!\n",
      "class ThirdParty(Base):\n",
      "    __tablename__ = 'third_party'\n",
      "    id = Column(Integer, primary_key=True)\n",
      "    name = Column(Unicode, nullable=False, unique=True)\n",
      "    url = Column(Unicode, nullable=False)\n",
      "    \n",
      "class PerformanceKind(Base):\n",
      "    __tablename__ = 'performance_kind'\n",
      "    id = Column(Integer, primary_key=True)\n",
      "    name = Column(Integer, nullable=False, unique=True)\n",
      "    \n",
      "\n"
     ],
     "language": "python",
     "metadata": {},
     "outputs": [],
     "prompt_number": 28
    },
    {
     "cell_type": "code",
     "collapsed": false,
     "input": [
      "!rm *.db"
     ],
     "language": "python",
     "metadata": {},
     "outputs": [],
     "prompt_number": 26
    },
    {
     "cell_type": "code",
     "collapsed": false,
     "input": [
      "from db.dbmodel import *"
     ],
     "language": "python",
     "metadata": {},
     "outputs": [],
     "prompt_number": 7
    },
    {
     "cell_type": "code",
     "collapsed": false,
     "input": [
      "engine = db_connect()\n",
      "create_tables(engine)\n",
      "Session = sessionmaker(bind=engine)\n",
      "s = Session()"
     ],
     "language": "python",
     "metadata": {},
     "outputs": [],
     "prompt_number": 5
    },
    {
     "cell_type": "code",
     "collapsed": false,
     "input": [
      "from sqlalchemy.orm import sessionmaker\n",
      "from sqlalchemy import select, alias\n",
      "from sqlalchemy.orm import aliased"
     ],
     "language": "python",
     "metadata": {},
     "outputs": [],
     "prompt_number": 137
    },
    {
     "cell_type": "code",
     "collapsed": false,
     "input": [
      "tp = s.query(ThirdParty)[1]\n",
      "a = s.query(Artist)[0]"
     ],
     "language": "python",
     "metadata": {},
     "outputs": [],
     "prompt_number": 8
    },
    {
     "cell_type": "code",
     "collapsed": false,
     "input": [],
     "language": "python",
     "metadata": {},
     "outputs": [],
     "prompt_number": 9
    },
    {
     "cell_type": "code",
     "collapsed": false,
     "input": [
      "sample = ArtistSample(artist=a, third_party=tp, sample_id=unicode('cc'))"
     ],
     "language": "python",
     "metadata": {},
     "outputs": [],
     "prompt_number": 65
    },
    {
     "cell_type": "code",
     "collapsed": false,
     "input": [
      "s.add(sample)\n",
      "s.commit()"
     ],
     "language": "python",
     "metadata": {},
     "outputs": [],
     "prompt_number": 66
    },
    {
     "cell_type": "code",
     "collapsed": false,
     "input": [
      "a_alias = aliased(Artist)"
     ],
     "language": "python",
     "metadata": {},
     "outputs": [],
     "prompt_number": 158
    },
    {
     "cell_type": "code",
     "collapsed": false,
     "input": [
      "scs = s.query(ArtistPage).join(ThirdParty).outerjoin(\n",
      "        ArtistSample, ArtistPage.artist_id == ArtistSample.artist_id\n",
      "        ).filter(ArtistSample.sample_id == None, ThirdParty.name == 'SoundCloud')\n"
     ],
     "language": "python",
     "metadata": {},
     "outputs": [],
     "prompt_number": 201
    },
    {
     "cell_type": "code",
     "collapsed": false,
     "input": [
      "for elem in s.query(Artist).join(ArtistSample):\n",
      "    print elem.name"
     ],
     "language": "python",
     "metadata": {},
     "outputs": [
      {
       "output_type": "stream",
       "stream": "stdout",
       "text": [
        "Sloan\n"
       ]
      }
     ],
     "prompt_number": 212
    },
    {
     "cell_type": "code",
     "collapsed": false,
     "input": [
      "for elem in s.query(Artist).join(ArtistPage).join(ThirdParty).filter(ThirdParty.name == 'SoundCloud'):\n",
      "    print elem.name"
     ],
     "language": "python",
     "metadata": {},
     "outputs": [
      {
       "output_type": "stream",
       "stream": "stdout",
       "text": [
        "Sloan\n",
        "Luca Albano\n",
        "DJ Danny Russell\n",
        "Axel Bartsch\n",
        "Gunnar Stiller\n",
        "Walker Barnard\n",
        "Sylvie Foret\n",
        "Ollider Twist\n"
       ]
      }
     ],
     "prompt_number": 210
    },
    {
     "cell_type": "code",
     "collapsed": false,
     "input": [
      "for elem in scs:\n",
      "    print elem.artist.name"
     ],
     "language": "python",
     "metadata": {},
     "outputs": [
      {
       "output_type": "stream",
       "stream": "stdout",
       "text": [
        "Luca Albano\n",
        "DJ Danny Russell\n",
        "Axel Bartsch\n",
        "Gunnar Stiller\n",
        "Walker Barnard\n",
        "Sylvie Foret\n",
        "Ollider Twist\n"
       ]
      }
     ],
     "prompt_number": 203
    },
    {
     "cell_type": "code",
     "collapsed": false,
     "input": [
      "soundclouds = s.query(ArtistPage).join(ThirdParty).filter(ThirdParty.name == 'SoundCloud').\\\n",
      "    outerjoin(ArtistSample.third_party)\n",
      "\n"
     ],
     "language": "python",
     "metadata": {},
     "outputs": [],
     "prompt_number": 96
    },
    {
     "cell_type": "code",
     "collapsed": false,
     "input": [
      "users_with_sc = soundclouds.join(Artist)"
     ],
     "language": "python",
     "metadata": {},
     "outputs": [],
     "prompt_number": 45
    },
    {
     "cell_type": "code",
     "collapsed": false,
     "input": [
      "sc_samples = select([ArtistSample]).where(ThirdParty.name == 'SoundCloud')"
     ],
     "language": "python",
     "metadata": {},
     "outputs": [],
     "prompt_number": 81
    },
    {
     "cell_type": "code",
     "collapsed": false,
     "input": [
      "thp = alias(ThirdParty)"
     ],
     "language": "python",
     "metadata": {},
     "outputs": [
      {
       "ename": "AttributeError",
       "evalue": "type object 'ThirdParty' has no attribute 'alias'",
       "output_type": "pyerr",
       "traceback": [
        "\u001b[1;31m---------------------------------------------------------------------------\u001b[0m\n\u001b[1;31mAttributeError\u001b[0m                            Traceback (most recent call last)",
        "\u001b[1;32m<ipython-input-9-bb7c35634e66>\u001b[0m in \u001b[0;36m<module>\u001b[1;34m()\u001b[0m\n\u001b[1;32m----> 1\u001b[1;33m \u001b[0mthp\u001b[0m \u001b[1;33m=\u001b[0m \u001b[0malias\u001b[0m\u001b[1;33m(\u001b[0m\u001b[0mThirdParty\u001b[0m\u001b[1;33m)\u001b[0m\u001b[1;33m\u001b[0m\u001b[0m\n\u001b[0m",
        "\u001b[1;32m/home/alec/anaconda/lib/python2.7/site-packages/sqlalchemy/sql/selectable.pyc\u001b[0m in \u001b[0;36malias\u001b[1;34m(selectable, name, flat)\u001b[0m\n\u001b[0;32m    102\u001b[0m \u001b[1;33m\u001b[0m\u001b[0m\n\u001b[0;32m    103\u001b[0m     \"\"\"\n\u001b[1;32m--> 104\u001b[1;33m     \u001b[1;32mreturn\u001b[0m \u001b[0mselectable\u001b[0m\u001b[1;33m.\u001b[0m\u001b[0malias\u001b[0m\u001b[1;33m(\u001b[0m\u001b[0mname\u001b[0m\u001b[1;33m=\u001b[0m\u001b[0mname\u001b[0m\u001b[1;33m,\u001b[0m \u001b[0mflat\u001b[0m\u001b[1;33m=\u001b[0m\u001b[0mflat\u001b[0m\u001b[1;33m)\u001b[0m\u001b[1;33m\u001b[0m\u001b[0m\n\u001b[0m\u001b[0;32m    105\u001b[0m \u001b[1;33m\u001b[0m\u001b[0m\n\u001b[0;32m    106\u001b[0m \u001b[1;33m\u001b[0m\u001b[0m\n",
        "\u001b[1;31mAttributeError\u001b[0m: type object 'ThirdParty' has no attribute 'alias'"
       ]
      }
     ],
     "prompt_number": 9
    },
    {
     "cell_type": "code",
     "collapsed": false,
     "input": [
      "without_samples = soundclouds.outerjoin(ArtistPage.third_party, ArtistSample.third_party)"
     ],
     "language": "python",
     "metadata": {},
     "outputs": [],
     "prompt_number": 16
    },
    {
     "cell_type": "code",
     "collapsed": false,
     "input": [],
     "language": "python",
     "metadata": {},
     "outputs": []
    }
   ],
   "metadata": {}
  }
 ]
}