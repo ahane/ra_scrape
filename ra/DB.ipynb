{
 "metadata": {
  "name": "",
  "signature": "sha256:554c6c2216536e16e0151191b1e5c68ce4d4a4dee95b7c28f61d41c7e7b1f9ac"
 },
 "nbformat": 3,
 "nbformat_minor": 0,
 "worksheets": [
  {
   "cells": [
    {
     "cell_type": "code",
     "collapsed": false,
     "input": [
      "%%writefile db/settings.py\n",
      "# Scrapy settings for ra project\n",
      "#\n",
      "# For simplicity, this file contains only the most important settings by\n",
      "# default. All the other settings are documented here:\n",
      "#\n",
      "#     http://doc.scrapy.org/en/latest/topics/settings.html\n",
      "#\n",
      "\n",
      "BOT_NAME = 'ra'\n",
      "\n",
      "SPIDER_MODULES = ['ra.spiders']\n",
      "NEWSPIDER_MODULE = 'ra.spiders'\n",
      "\n",
      "DATABASE = {'drivername': 'postgres',\n",
      "            'host': 'localhost',\n",
      "            'port': '5432',\n",
      "            'username': 'postgres',\n",
      "            'password': '212121',\n",
      "            'database': 'cm'\n",
      "            }\n",
      "\n",
      "# Crawl responsibly by identifying yourself (and your website) on the user-agent\n",
      "#USER_AGENT = 'ra (+http://www.yourdomain.com)'"
     ],
     "language": "python",
     "metadata": {},
     "outputs": [
      {
       "output_type": "stream",
       "stream": "stdout",
       "text": [
        "Writing db/settings.py\n"
       ]
      }
     ],
     "prompt_number": 1
    },
    {
     "cell_type": "code",
     "collapsed": false,
     "input": [
      "from sqlalchemy import Float"
     ],
     "language": "python",
     "metadata": {},
     "outputs": [],
     "prompt_number": 24
    },
    {
     "cell_type": "code",
     "collapsed": false,
     "input": [
      "import sqlalchemy"
     ],
     "language": "python",
     "metadata": {},
     "outputs": [],
     "prompt_number": 25
    },
    {
     "cell_type": "code",
     "collapsed": false,
     "input": [
      "sqlalchemy."
     ],
     "language": "python",
     "metadata": {},
     "outputs": []
    },
    {
     "cell_type": "code",
     "collapsed": false,
     "input": [
      "%%writefile db/dbmodel.py\n",
      "from sqlalchemy.engine.url import URL\n",
      "from sqlalchemy import Column, ForeignKey, Integer, Unicode, Date, Table, DateTime, Time, Float\n",
      "from sqlalchemy import create_engine\n",
      "from sqlalchemy.ext.declarative import declarative_base\n",
      "from sqlalchemy.orm import relationship, backref\n",
      "from sqlalchemy.orm import sessionmaker\n",
      "\n",
      "import db.settings\n",
      "#import ra.settings as settings\n",
      "\n",
      "Base = declarative_base()\n",
      "\n",
      "def db_connect():\n",
      "    #return create_engine(URL(**settings.DATABASE))\n",
      "    engine = create_engine('sqlite:///fo11.db')\n",
      "    return engine\n",
      "\n",
      "def create_tables(engine):\n",
      "    Base.metadata.create_all(engine)\n",
      "\n",
      "class Venue(Base):\n",
      "    __tablename__ = 'venue'\n",
      "    id = Column(Integer, primary_key=True)\n",
      "    name = Column(Unicode, nullable=False)\n",
      "    \n",
      "    location = relationship('Location', uselist=False, backref='venue')\n",
      "    #one-to-many\n",
      "    pages = relationship('VenuePage', backref='venue')\n",
      "    \n",
      "    \n",
      "class VenuePage(Base):\n",
      "    __tablename__ = 'venue_page'\n",
      "    id = Column(Integer, primary_key=True)\n",
      "    \n",
      "    url = Column(Unicode, nullable=False) #the url at the third part\n",
      "    \n",
      "    #field venue was set in backref of class Venue\n",
      "    venue_id = Column(Integer, ForeignKey('venue.id'))\n",
      "    \n",
      "    page_id = Column(Unicode, nullable=True) #the id on the third party\n",
      "    third_party = relationship('ThirdParty', backref='venue_pages')\n",
      "    third_party_id = Column(Integer, ForeignKey('third_party.id'))\n",
      "    #name = Column(Unicode, nullable=False) replaced by third_party.name\n",
      "    \n",
      "class Location(Base):\n",
      "    __adress__ = 'adress'\n",
      "    id = Column(Integer, primary_key=True)\n",
      "    string = Column(Unicode, nullable=True)\n",
      "    lat = Column(Float, nullable=False)\n",
      "    lon = Column(Float, nullable=False)\n",
      "    location_id = Column(Integer, ForeignKey('venue.id'))\n",
      "    \n",
      "class Event(Base):\n",
      "    __tablename__ = 'event'\n",
      "    id = Column(Integer, primary_key=True)\n",
      "    name = Column(Unicode, nullable=False)\n",
      "    start_date = Column(Date, nullable=False)\n",
      "    start_time = Column(Time, nullable=True)\n",
      "    end_date = Column(Date, nullable=True)\n",
      "    end_time = Column(Time, nullable=True)\n",
      "    \n",
      "    #one-to-many\n",
      "    performances = relationship('Performance', backref='event')\n",
      "    pages = relationship('EventPage', backref='event')\n",
      "    \n",
      "    #many-to-one\n",
      "    \n",
      "    venue = relationship(\"Venue\")\n",
      "    venue_id = Column(Integer, ForeignKey('venue.id'), nullable=True)\n",
      "\n",
      "class EventPage(Base):\n",
      "    __tablename__ = 'event_page'\n",
      "    id = Column(Integer, primary_key=True)\n",
      "    #name = Column(Unicode, nullable=False) #replaced by third_party.name\n",
      "    url = Column(Unicode, nullable=False)\n",
      "    \n",
      "    #field event set in class Event backref\n",
      "    event_id = Column(Integer, ForeignKey('event.id'))\n",
      "    \n",
      "    page_id = Column(Unicode, nullable=True) #id at third party\n",
      "    third_party = relationship('ThirdParty', backref='event_pages')\n",
      "    third_party_id = Column(Integer, ForeignKey('third_party.id'))\n",
      "    \n",
      "class Performance(Base):\n",
      "    __tablename__ = 'performance'\n",
      "    id = Column(Integer, primary_key=True)\n",
      "    event_id = Column(Integer, ForeignKey('event.id'))\n",
      "    artist_id = Column(Integer, ForeignKey('artist.id'))\n",
      "    \n",
      "\n",
      "    \n",
      "    kind = relationship('PerformanceKind', backref='performances')\n",
      "    kind_id = Column(Integer, ForeignKey('performance_kind.id'))\n",
      "    \n",
      "    time = Column(DateTime, nullable=True)\n",
      "    name = Column(Unicode, nullable=True)\n",
      "    \n",
      "class Artist(Base):\n",
      "    __tablename__ = 'artist'\n",
      "    id = Column(Integer, primary_key=True)\n",
      "    name = Column(Unicode, nullable=False)\n",
      "    performances = relationship('Performance', backref='artist')\n",
      "    pages = relationship('ArtistPage', backref='artist')\n",
      "    \n",
      "class ArtistPage(Base):\n",
      "    __tablename__ = 'artist_page'\n",
      "    id = Column(Integer, primary_key=True)\n",
      "    #name = Column(Unicode, nullable=False)\n",
      "    url = Column(Unicode, nullable=False)\n",
      "    \n",
      "    #field artist set in class Artist backref\n",
      "    artist_id = Column(Integer, ForeignKey('artist.id'))\n",
      "    \n",
      "    page_id = Column(Unicode, nullable=True) \n",
      "    third_party = relationship('ThirdParty', backref='artist_pages')\n",
      "    third_party_id = Column(Integer, ForeignKey('third_party.id'))\n",
      "#To fully normalize we should do this!\n",
      "class ThirdParty(Base):\n",
      "    __tablename__ = 'third_party'\n",
      "    id = Column(Integer, primary_key=True)\n",
      "    name = Column(Unicode, nullable=False, unique=True)\n",
      "    url = Column(Unicode, nullable=False)\n",
      "\n",
      "    #potentially created by backrefs:\n",
      "    #artist_pages\n",
      "    #event_pages\n",
      "    #venue_pages\n",
      "    \n",
      "class PerformanceKind(Base):\n",
      "    __tablename__ = 'performance_kind'\n",
      "    id = Column(Integer, primary_key=True)\n",
      "    name = Column(Integer, nullable=False, unique=True)\n"
     ],
     "language": "python",
     "metadata": {},
     "outputs": [
      {
       "output_type": "stream",
       "stream": "stdout",
       "text": [
        "Overwriting db/dbmodel.py\n"
       ]
      }
     ],
     "prompt_number": 26
    },
    {
     "cell_type": "code",
     "collapsed": false,
     "input": [
      "!rm *.db"
     ],
     "language": "python",
     "metadata": {},
     "outputs": [],
     "prompt_number": 19
    },
    {
     "cell_type": "code",
     "collapsed": false,
     "input": [
      "engine = db_connect()\n",
      "create_tables(engine)\n",
      "Session = sessionmaker(bind=engine)"
     ],
     "language": "python",
     "metadata": {},
     "outputs": [],
     "prompt_number": 16
    },
    {
     "cell_type": "code",
     "collapsed": false,
     "input": [
      "s = Session()"
     ],
     "language": "python",
     "metadata": {},
     "outputs": [],
     "prompt_number": 17
    },
    {
     "cell_type": "code",
     "collapsed": false,
     "input": [
      "q = s.query(ArtistPage)"
     ],
     "language": "python",
     "metadata": {},
     "outputs": [],
     "prompt_number": 9
    },
    {
     "cell_type": "code",
     "collapsed": false,
     "input": [
      "s.query(ThirdParty).count()"
     ],
     "language": "python",
     "metadata": {},
     "outputs": [
      {
       "metadata": {},
       "output_type": "pyout",
       "prompt_number": 20,
       "text": [
        "0"
       ]
      }
     ],
     "prompt_number": 20
    },
    {
     "cell_type": "code",
     "collapsed": false,
     "input": [
      "q[-1].url"
     ],
     "language": "python",
     "metadata": {},
     "outputs": [
      {
       "metadata": {},
       "output_type": "pyout",
       "prompt_number": 15,
       "text": [
        "u'http://www.soundcloud.com/oscarrocha'"
       ]
      }
     ],
     "prompt_number": 15
    },
    {
     "cell_type": "code",
     "collapsed": false,
     "input": [
      "q2 = s.query(VenuePage).filter(VenuePage.url == 'http://www.residentadvisor.net/club.aspx?id=5031')"
     ],
     "language": "python",
     "metadata": {},
     "outputs": [],
     "prompt_number": 23
    },
    {
     "cell_type": "code",
     "collapsed": false,
     "input": [
      "p = q2.first().venue"
     ],
     "language": "python",
     "metadata": {},
     "outputs": [],
     "prompt_number": 30
    },
    {
     "cell_type": "code",
     "collapsed": false,
     "input": [
      "s.add(p)\n",
      "s.commit()"
     ],
     "language": "python",
     "metadata": {},
     "outputs": [],
     "prompt_number": 32
    },
    {
     "cell_type": "code",
     "collapsed": false,
     "input": [
      "q.first().pages[0].url"
     ],
     "language": "python",
     "metadata": {},
     "outputs": [
      {
       "metadata": {},
       "output_type": "pyout",
       "prompt_number": 21,
       "text": [
        "u'http://www.residentadvisor.net/club.aspx?id=5031'"
       ]
      }
     ],
     "prompt_number": 21
    },
    {
     "cell_type": "code",
     "collapsed": false,
     "input": [
      "q.filter(Event.name == 'Klubnacht at Berghain/Panorama Bar').count()"
     ],
     "language": "python",
     "metadata": {},
     "outputs": [
      {
       "metadata": {},
       "output_type": "pyout",
       "prompt_number": 70,
       "text": [
        "7L"
       ]
      }
     ],
     "prompt_number": 70
    },
    {
     "cell_type": "code",
     "collapsed": false,
     "input": [
      "vp = VenuePage(name='aa', url='bb')"
     ],
     "language": "python",
     "metadata": {},
     "outputs": [],
     "prompt_number": 84
    },
    {
     "cell_type": "code",
     "collapsed": false,
     "input": [
      "v = Venue(name='bb', pages=[vp])"
     ],
     "language": "python",
     "metadata": {},
     "outputs": [],
     "prompt_number": 85
    },
    {
     "cell_type": "code",
     "collapsed": false,
     "input": [
      "v"
     ],
     "language": "python",
     "metadata": {},
     "outputs": [
      {
       "metadata": {},
       "output_type": "pyout",
       "prompt_number": 86,
       "text": [
        "<__main__.Venue at 0x7fc62609d910>"
       ]
      }
     ],
     "prompt_number": 86
    },
    {
     "cell_type": "code",
     "collapsed": false,
     "input": [],
     "language": "python",
     "metadata": {},
     "outputs": []
    }
   ],
   "metadata": {}
  }
 ]
}