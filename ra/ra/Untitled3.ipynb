{
 "metadata": {
  "name": "",
  "signature": "sha256:be619a6bb578eaa81f3fce2c4fc02777b95f10fa4806e289c9776d1ac94fe82d"
 },
 "nbformat": 3,
 "nbformat_minor": 0,
 "worksheets": [
  {
   "cells": [
    {
     "cell_type": "code",
     "collapsed": false,
     "input": [
      "!ls"
     ],
     "language": "python",
     "metadata": {},
     "outputs": [
      {
       "output_type": "stream",
       "stream": "stdout",
       "text": [
        "dbmodel.py     hinterteil.pyc  items.py      pipelines.pyc  spiders\r\n",
        "dbmodel.pyc    __init__.py     items.pyc     settings.py    Untitled3.ipynb\r\n",
        "hinterteil.py  __init__.pyc    pipelines.py  settings.pyc\r\n"
       ]
      }
     ],
     "prompt_number": 1
    },
    {
     "cell_type": "code",
     "collapsed": false,
     "input": [
      "from requests.utils import unquote"
     ],
     "language": "python",
     "metadata": {},
     "outputs": [],
     "prompt_number": 2
    },
    {
     "cell_type": "code",
     "collapsed": false,
     "input": [
      "unquote('/api/venue_page?q=%7B%22single%22%3A+true%2C+%22filters%22%3A+%5B%7B%22name%22%3A+%22url%22%2C+%22val%22%3A+%22http%3A%2F%2Fwww.residentadvisor.net%2Fclub.aspx%3Fid%3D13913%22%2C+%22op%22%3A+%22%3D%3D%22%7D%5D%7D')\n",
      "\n",
      "\n"
     ],
     "language": "python",
     "metadata": {},
     "outputs": [
      {
       "metadata": {},
       "output_type": "pyout",
       "prompt_number": 4,
       "text": [
        "'/api/venue_page?q={\"single\":+true,+\"filters\":+[{\"name\":+\"url\",+\"val\":+\"http://www.residentadvisor.net/club.aspx?id=13913\",+\"op\":+\"==\"}]}'"
       ]
      }
     ],
     "prompt_number": 4
    },
    {
     "cell_type": "code",
     "collapsed": false,
     "input": [
      "from hinterteil import Hinterteil"
     ],
     "language": "python",
     "metadata": {},
     "outputs": [],
     "prompt_number": 1
    },
    {
     "cell_type": "code",
     "collapsed": false,
     "input": [
      "db = Hinterteil('http://localhost:5000/api/')"
     ],
     "language": "python",
     "metadata": {},
     "outputs": [],
     "prompt_number": 2
    },
    {
     "cell_type": "code",
     "collapsed": false,
     "input": [
      "ra = db.insert_dict('artist_sample', {'artist_id': 2, 'third_party_id': 2, 'url': 'whatu2p', 'resource_id': 'aa'})"
     ],
     "language": "python",
     "metadata": {},
     "outputs": [],
     "prompt_number": 7
    },
    {
     "cell_type": "markdown",
     "metadata": {},
     "source": [
      "ra = db.get_single('third_party', 'Resident Advisor')"
     ]
    },
    {
     "cell_type": "code",
     "collapsed": false,
     "input": [
      "a = db.insert_dict('artist', {'name': 'Al', 'source': ra})"
     ],
     "language": "python",
     "metadata": {},
     "outputs": [],
     "prompt_number": 10
    },
    {
     "cell_type": "code",
     "collapsed": false,
     "input": [
      "a"
     ],
     "language": "python",
     "metadata": {},
     "outputs": [
      {
       "metadata": {},
       "output_type": "pyout",
       "prompt_number": 11,
       "text": [
        "{u'description': None,\n",
        " u'id': 3,\n",
        " u'last_modified': None,\n",
        " u'name': u'Al',\n",
        " u'pages': [],\n",
        " u'performances': [],\n",
        " u'samples': [],\n",
        " u'source': {u'id': 3,\n",
        "  u'name': u'Resident Advisor2',\n",
        "  u'url': u'http://www.residentadvisor.net2/'},\n",
        " u'source_id': 3}"
       ]
      }
     ],
     "prompt_number": 11
    },
    {
     "cell_type": "code",
     "collapsed": false,
     "input": [
      "ap = db.insert_dict('artist_page', {'url': 'http://', 'artist_id': a['id'], 'third_party_id': ra['id']})"
     ],
     "language": "python",
     "metadata": {},
     "outputs": [],
     "prompt_number": 13
    },
    {
     "cell_type": "code",
     "collapsed": false,
     "input": [
      "import datetime"
     ],
     "language": "python",
     "metadata": {},
     "outputs": [],
     "prompt_number": 14
    },
    {
     "cell_type": "code",
     "collapsed": false,
     "input": [
      "a = datetime.datetime(2014, 1, 1).hours"
     ],
     "language": "python",
     "metadata": {},
     "outputs": [
      {
       "ename": "AttributeError",
       "evalue": "'datetime.datetime' object has no attribute 'hours'",
       "output_type": "pyerr",
       "traceback": [
        "\u001b[1;31m---------------------------------------------------------------------------\u001b[0m\n\u001b[1;31mAttributeError\u001b[0m                            Traceback (most recent call last)",
        "\u001b[1;32m<ipython-input-27-0c387d4ac45a>\u001b[0m in \u001b[0;36m<module>\u001b[1;34m()\u001b[0m\n\u001b[1;32m----> 1\u001b[1;33m \u001b[0ma\u001b[0m \u001b[1;33m=\u001b[0m \u001b[0mdatetime\u001b[0m\u001b[1;33m.\u001b[0m\u001b[0mdatetime\u001b[0m\u001b[1;33m(\u001b[0m\u001b[1;36m2014\u001b[0m\u001b[1;33m,\u001b[0m \u001b[1;36m1\u001b[0m\u001b[1;33m,\u001b[0m \u001b[1;36m1\u001b[0m\u001b[1;33m)\u001b[0m\u001b[1;33m.\u001b[0m\u001b[0mhours\u001b[0m\u001b[1;33m\u001b[0m\u001b[0m\n\u001b[0m",
        "\u001b[1;31mAttributeError\u001b[0m: 'datetime.datetime' object has no attribute 'hours'"
       ]
      }
     ],
     "prompt_number": 27
    },
    {
     "cell_type": "code",
     "collapsed": false,
     "input": [
      "a"
     ],
     "language": "python",
     "metadata": {},
     "outputs": [
      {
       "metadata": {},
       "output_type": "pyout",
       "prompt_number": 26,
       "text": [
        "datetime.datetime(2014, 1, 1, 0, 0)"
       ]
      }
     ],
     "prompt_number": 26
    },
    {
     "cell_type": "code",
     "collapsed": false,
     "input": [
      "a + datetime.timedelta(hours=4)"
     ],
     "language": "python",
     "metadata": {},
     "outputs": [
      {
       "metadata": {},
       "output_type": "pyout",
       "prompt_number": 25,
       "text": [
        "datetime.datetime(2014, 1, 1, 4, 0)"
       ]
      }
     ],
     "prompt_number": 25
    },
    {
     "cell_type": "code",
     "collapsed": false,
     "input": [],
     "language": "python",
     "metadata": {},
     "outputs": []
    }
   ],
   "metadata": {}
  }
 ]
}